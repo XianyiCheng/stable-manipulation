{
 "cells": [
  {
   "cell_type": "code",
   "execution_count": 1,
   "id": "a5d889d7",
   "metadata": {},
   "outputs": [
    {
     "name": "stderr",
     "output_type": "stream",
     "text": [
      "\u001b[32m\u001b[1m  Activating\u001b[22m\u001b[39m environment at `~/study/16715robotsim/project/Project.toml`\n"
     ]
    }
   ],
   "source": [
    "import Pkg; Pkg.activate(joinpath(@__DIR__,\"..\")); Pkg.instantiate()"
   ]
  },
  {
   "cell_type": "code",
   "execution_count": 2,
   "id": "0eefe5e9",
   "metadata": {},
   "outputs": [],
   "source": [
    "using LinearAlgebra\n",
    "using ForwardDiff\n",
    "using OrdinaryDiffEq\n",
    "using Test\n",
    "using Plots"
   ]
  },
  {
   "cell_type": "code",
   "execution_count": 49,
   "id": "087a650c",
   "metadata": {},
   "outputs": [
    {
     "name": "stderr",
     "output_type": "stream",
     "text": [
      "WARNING: redefinition of constant M. This may fail, cause incorrect answers, or produce other errors.\n"
     ]
    },
    {
     "data": {
      "text/plain": [
       "1"
      ]
     },
     "execution_count": 49,
     "metadata": {},
     "output_type": "execute_result"
    }
   ],
   "source": [
    "const g = 9.8\n",
    "const M = [1 0; 0 1]\n",
    "μ = 0.5\n",
    "\n",
    "# set of contact modes\n",
    "modes = [0 0; # free\n",
    "        1 0; # sticking\n",
    "        1 -1; # left-slide\n",
    "        1 1] # right-slide\n",
    "\n",
    "q0 = [0;0.5]\n",
    "dq0 = [0;0]\n",
    "x0 = [q0;dq0]\n",
    "initial_mode = [0 0]\n",
    "\n",
    "n_contacts = 1\n"
   ]
  },
  {
   "cell_type": "code",
   "execution_count": 4,
   "id": "cdad32a0",
   "metadata": {},
   "outputs": [
    {
     "data": {
      "text/plain": [
       "compute_dA_tangent (generic function with 1 method)"
      ]
     },
     "execution_count": 4,
     "metadata": {},
     "output_type": "execute_result"
    }
   ],
   "source": [
    "# constraints/contacts\n",
    "function compute_a(q)\n",
    "    a = q[2]\n",
    "    return [a]\n",
    "end\n",
    "\n",
    "# constraints jacobian\n",
    "function compute_A(q)\n",
    "    A = [0 1]\n",
    "    return A\n",
    "end\n",
    "\n",
    "function compute_dA(q, dq)\n",
    "    dA = [0 0]\n",
    "    return dA\n",
    "end\n",
    "\n",
    "function compute_A_tangent(q)\n",
    "    A_t = [1 0]\n",
    "    return A_t\n",
    "end\n",
    "\n",
    "function compute_dA_tangent(q, dq)\n",
    "    dA_t = [0 0]\n",
    "    return dA_t\n",
    "end"
   ]
  },
  {
   "cell_type": "code",
   "execution_count": 7,
   "id": "df5e1d94",
   "metadata": {},
   "outputs": [
    {
     "name": "stdout",
     "output_type": "stream",
     "text": [
      "[0.5]\n",
      "[0 1]\n",
      "[0 0]\n",
      "[1 0]\n",
      "[0 0]\n"
     ]
    },
    {
     "data": {
      "text/plain": [
       "1-element Vector{Float64}:\n",
       " 0.0"
      ]
     },
     "execution_count": 7,
     "metadata": {},
     "output_type": "execute_result"
    }
   ],
   "source": [
    "println(compute_a(q0))\n",
    "println(compute_A(q0))\n",
    "println(compute_dA(q0, dq0))\n",
    "println(compute_A_tangent(q0))\n",
    "println(compute_dA_tangent(q0, dq0))"
   ]
  },
  {
   "cell_type": "code",
   "execution_count": 119,
   "id": "fd0ee10f",
   "metadata": {},
   "outputs": [
    {
     "data": {
      "text/plain": [
       "contact_mode_constraints (generic function with 1 method)"
      ]
     },
     "execution_count": 119,
     "metadata": {},
     "output_type": "execute_result"
    }
   ],
   "source": [
    "function contact_mode_constraints(x, contactMode)\n",
    "    \n",
    "    q = x[1:2]\n",
    "    dq = x[3:4]\n",
    "    \n",
    "    cs_mode = contactMode[1:n_contacts] .== 1\n",
    "    ss_mode = contactMode[n_contacts+1:end]\n",
    "    \n",
    "    A = compute_A(q)\n",
    "    A_t = compute_A_tangent(q)\n",
    "    dA = compute_dA(q, dq)\n",
    "    dA_t = compute_dA_tangent(q,dq)\n",
    "    A = A[cs_mode,:]\n",
    "    A_t = A_t[cs_mode,:]\n",
    "    dA = dA[cs_mode,:]\n",
    "    dA_t = dA_t[cs_mode,:]\n",
    "    \n",
    "    ss_active = ss_mode[cs_mode]\n",
    "    \n",
    "    A_all = zeros(0,2)\n",
    "    A_all_f = zeros(0,2)\n",
    "    dA_all = zeros(0,2)\n",
    "\n",
    "    for k = 1:length(ss_active)\n",
    "        ss = ss_active[k]\n",
    "        if ss == 0\n",
    "            A_all_f = [A_all_f; A[k,:]'; A_t[k,:]']\n",
    "            dA_all = [dA_all; dA[k,:]'; dA_t[k,:]']\n",
    "            A_all = [A_all; A[k,:]'; A_t[k,:]']\n",
    "        else\n",
    "            A_all_f = [A_all_f; A[k,:]' - ss*μ*A_t[k,:]']\n",
    "            dA_all = [dA_all; dA[k,:]']\n",
    "            A_all = [A_all; A[k,:]']\n",
    "        end\n",
    "    end\n",
    "    \n",
    "    return A_all_f, A_all, dA_all\n",
    "end"
   ]
  },
  {
   "cell_type": "code",
   "execution_count": 120,
   "id": "b0458247",
   "metadata": {},
   "outputs": [
    {
     "data": {
      "text/plain": [
       "contact_force_constraints (generic function with 1 method)"
      ]
     },
     "execution_count": 120,
     "metadata": {},
     "output_type": "execute_result"
    }
   ],
   "source": [
    "function contact_force_constraints(λ, contactMode)\n",
    "    # c > 0\n",
    "    cs_mode = contactMode[1:n_contacts] .== 1\n",
    "    ss_mode = contactMode[n_contacts+1:end]\n",
    "    \n",
    "    ss_active = ss_mode[cs_mode]\n",
    "    \n",
    "    i = 1\n",
    "    i_c = 1\n",
    "    c = zeros(sum(ss_active.==0)*3 + sum(ss_active.!=0))\n",
    "    for k = 1:length(ss_active)\n",
    "        ss = ss_active[k]\n",
    "        if ss == 0\n",
    "            c[i:i+2] = [-λ[i]; -μ*λ[i] - λ[i+1]; -μ*λ[i] + λ[i+1]]\n",
    "            i_c += 3\n",
    "            i += 2\n",
    "        else\n",
    "            c[i] = -λ[i]\n",
    "            i += 1\n",
    "            i_c += 1\n",
    "        end\n",
    "    end\n",
    "    return c\n",
    "end"
   ]
  },
  {
   "cell_type": "code",
   "execution_count": 202,
   "id": "4ac93fd9",
   "metadata": {},
   "outputs": [
    {
     "data": {
      "text/plain": [
       "sliding_velocity_constraints (generic function with 1 method)"
      ]
     },
     "execution_count": 202,
     "metadata": {},
     "output_type": "execute_result"
    }
   ],
   "source": [
    "function sliding_velocity_constraints(x, contactMode)\n",
    "    # reture A_eq, A_geq, A_eq*dq = 0, A_geq*dq >= 0\n",
    "    q = x[1:2]\n",
    "    dq = x[3:4]\n",
    "    \n",
    "    cs_mode = contactMode[1:n_contacts] .== 1\n",
    "    ss_mode = contactMode[n_contacts+1:end]\n",
    "    \n",
    "    A = compute_A(q)\n",
    "    A_t = compute_A_tangent(q)\n",
    "    dA = compute_dA(q, dq)\n",
    "    dA_t = compute_dA_tangent(q,dq)\n",
    "    A = A[cs_mode,:]\n",
    "    A_t = A_t[cs_mode,:]\n",
    "    dA = dA[cs_mode,:]\n",
    "    dA_t = dA_t[cs_mode,:]\n",
    "    \n",
    "    ss_active = ss_mode[cs_mode]\n",
    "    \n",
    "    AA_eq = zeros(0,2)\n",
    "    AA_geq = zeros(0,2)\n",
    "    dAA_eq = zeros(0,2)\n",
    "    dAA_geq = zeros(0,2)\n",
    "\n",
    "    for k = 1:length(ss_active)\n",
    "        ss = ss_active[k]\n",
    "        if ss == 0\n",
    "            AA_eq = [AA_eq; A[k,:]'; A_t[k,:]']\n",
    "            dAA_eq = [dAA_eq; dA[k,:]'; dA_t[k,:]']\n",
    "        else\n",
    "            AA_eq = [AA_eq; A[k,:]']\n",
    "            dAA_eq = [dAA_eq; dA[k,:]']\n",
    "            AA_geq = [AA_geq; ss*A_t[k,:]']\n",
    "            dAA_geq = [dAA_geq; ss*dA_t[k,:]']\n",
    "        end\n",
    "    end\n",
    "    \n",
    "    return AA_eq, AA_geq, dAA_eq, dAA_geq\n",
    "end"
   ]
  },
  {
   "cell_type": "code",
   "execution_count": 203,
   "id": "2cbc7ca2",
   "metadata": {},
   "outputs": [
    {
     "name": "stdout",
     "output_type": "stream",
     "text": [
      "[1.0, 1.5, -0.5]\n",
      "[1.0, 0.04999999999999999, 0.95]\n"
     ]
    }
   ],
   "source": [
    "println(contact_force_constraints([-1, -1],[1,0]))\n",
    "println(contact_force_constraints([-1, 0.45],[1,0]))"
   ]
  },
  {
   "cell_type": "code",
   "execution_count": 272,
   "id": "7c975417",
   "metadata": {},
   "outputs": [
    {
     "data": {
      "text/plain": [
       "solveEOM (generic function with 1 method)"
      ]
     },
     "execution_count": 272,
     "metadata": {},
     "output_type": "execute_result"
    }
   ],
   "source": [
    "function solveEOM(x, contactMode)\n",
    "    # contactMode: bool vector, indicates which constraints are active\n",
    "    q = x[1:2]\n",
    "    dq = x[3:4]\n",
    "    \n",
    "    A_f, A, dA = contact_mode_constraints(x, contactMode)\n",
    "    \n",
    "    # compute EOM matrices\n",
    "    N = [0; g]\n",
    "    C = [0 0; 0 0]\n",
    "    Y = [0;0]\n",
    "    \n",
    "    #\n",
    "    blockMat = [M A_f'; A zeros(size(A,1),size(A_f',2))] \n",
    "\n",
    "    b = [Y-N-C*dq; -dA*dq]\n",
    "    \n",
    "    z = blockMat\\b\n",
    "    \n",
    "    ddq = z[1:2]\n",
    "    if (sum(contactMode[1:n_contacts])>=1)\n",
    "        λ = z[3:end]\n",
    "    else\n",
    "        λ = []\n",
    "    end\n",
    "    \n",
    "    return ddq, λ\n",
    "end"
   ]
  },
  {
   "cell_type": "code",
   "execution_count": 273,
   "id": "47365985",
   "metadata": {},
   "outputs": [
    {
     "name": "stdout",
     "output_type": "stream",
     "text": [
      "([0.0, -9.8], Any[])\n",
      "([0.0, 0.0], [-9.8, -0.0])\n",
      "([-4.9, 0.0], [-9.8])\n",
      "([4.9, 0.0], [-9.8])\n"
     ]
    }
   ],
   "source": [
    "println(solveEOM([0;0.5;0;0],[0 0]))\n",
    "println(solveEOM([0;0;0;0], [1 0]))\n",
    "println(solveEOM([0;0.1;0;1], [1,1]))\n",
    "println(solveEOM([0;-0.1;0;1], [1,-1]))"
   ]
  },
  {
   "cell_type": "code",
   "execution_count": 274,
   "id": "727aec09",
   "metadata": {},
   "outputs": [
    {
     "data": {
      "text/plain": [
       "computeResetMap (generic function with 1 method)"
      ]
     },
     "execution_count": 274,
     "metadata": {},
     "output_type": "execute_result"
    }
   ],
   "source": [
    "function computeResetMap(x, contactMode)\n",
    "    q = x[1:2]\n",
    "    dq = x[3:4]\n",
    "\n",
    "    A_f, A, dA = contact_mode_constraints(x, contactMode)\n",
    "    \n",
    "    c = size(A, 1)\n",
    "    #\n",
    "    blockMat = [M A_f'; A zeros(size(A,1),size(A_f',2))] \n",
    "    \n",
    "    z = blockMat\\[M*dq; zeros(c)]\n",
    "    \n",
    "    dq_p = z[1:2]\n",
    "    p_hat = z[3:end]\n",
    "    return dq_p, p_hat\n",
    "end"
   ]
  },
  {
   "cell_type": "code",
   "execution_count": 275,
   "id": "1ccfad4a",
   "metadata": {},
   "outputs": [
    {
     "name": "stdout",
     "output_type": "stream",
     "text": [
      "[1.0]\n"
     ]
    }
   ],
   "source": [
    "dq_p, p_hat = computeResetMap([0;0;1;-1], [1 1])\n",
    "println(contact_force_constraints(p_hat,[1 1]))"
   ]
  },
  {
   "cell_type": "code",
   "execution_count": 276,
   "id": "127f349a",
   "metadata": {},
   "outputs": [
    {
     "data": {
      "text/plain": [
       "compute_FA (generic function with 1 method)"
      ]
     },
     "execution_count": 276,
     "metadata": {},
     "output_type": "execute_result"
    }
   ],
   "source": [
    "function compute_FA(x)\n",
    "    \n",
    "    q = x[1:2]\n",
    "    dq = x[3:4]\n",
    "    \n",
    "    a = compute_a(q)\n",
    "    \n",
    "    active_cs = abs.(a) .< 1e-6\n",
    "    inactive_cs = abs.(a) .> 1e-6\n",
    "    \n",
    "    possibleModes = zeros(Bool, 0, size(modes,2))\n",
    "    \n",
    "    contactMode = zeros(n_contacts*2)\n",
    "    \n",
    "    for k = 1:size(modes,1)\n",
    "        m_cs = modes[k, 1:n_contacts].==1\n",
    "        if length(findall(z->z==true, m_cs[inactive_cs])) == 0\n",
    "            possibleModes = [possibleModes; modes[k, :]']\n",
    "        end\n",
    "    end\n",
    "    \n",
    "    for kk = 1:size(possibleModes, 1)\n",
    "        \n",
    "        m = possibleModes[kk,:]\n",
    "        \n",
    "        separate_cs = (m[1:n_contacts].!=1) .& active_cs\n",
    "        _, A_separate, dA_separate = contact_mode_constraints(x, [separate_cs; ones(n_contacts)]) \n",
    "\n",
    "        ddq, λ = solveEOM(x, m)\n",
    "        \n",
    "        c_λ = contact_force_constraints(λ, m)\n",
    "        As_eq, As_geq, dAs_eq, dAs_geq = sliding_velocity_constraints(x, m)\n",
    "        \n",
    "        sep_vel_cond = ((A_separate*dq).>0) .| ((A_separate*ddq .+ dA_separate*dq).>=0)\n",
    "        maintain_vel_cond = all(abs.(As_eq*dq).<1e-6) & all((As_geq*dq).>1e-6)\n",
    "        if ~maintain_vel_cond\n",
    "            if all((As_geq*dq).<1e-6)\n",
    "                maintain_vel_cond = all(abs.(dAs_eq*dq + As_eq*ddq).<1e-6) & all((dAs_geq*dq + As_geq*ddq).>0)\n",
    "            end\n",
    "        end\n",
    "        \n",
    "        if all(c_λ.>=0) && all(sep_vel_cond) && maintain_vel_cond\n",
    "            contactMode = m\n",
    "            break;\n",
    "        end\n",
    "    end\n",
    "    \n",
    "    return contactMode\n",
    "end"
   ]
  },
  {
   "cell_type": "code",
   "execution_count": 277,
   "id": "54fbaea8",
   "metadata": {},
   "outputs": [
    {
     "name": "stdout",
     "output_type": "stream",
     "text": [
      "[1, 0]\n",
      "[1, 0]\n",
      "[0, 0]\n"
     ]
    }
   ],
   "source": [
    "println(compute_FA([0;0;0;0]))\n",
    "println(compute_FA([0;0;-10;0]))\n",
    "println(compute_FA([0;0;-10;10]))"
   ]
  },
  {
   "cell_type": "code",
   "execution_count": 278,
   "id": "48e9c41c",
   "metadata": {},
   "outputs": [
    {
     "data": {
      "text/plain": [
       "compute_IV (generic function with 1 method)"
      ]
     },
     "execution_count": 278,
     "metadata": {},
     "output_type": "execute_result"
    }
   ],
   "source": [
    "function compute_IV(x)\n",
    "    \n",
    "    q = x[1:2]\n",
    "    dq = x[3:4]\n",
    "    \n",
    "    a = compute_a(q)\n",
    "    \n",
    "    active_cs = abs.(a) .< 1e-6\n",
    "    inactive_cs = abs.(a) .> 1e-6\n",
    "    \n",
    "    possibleModes = zeros(Bool, 0, size(modes,2))\n",
    "    \n",
    "    contactMode = zeros(n_contacts*2)\n",
    "    \n",
    "    for k = 1:size(modes,1)\n",
    "        m_cs = modes[k, 1:n_contacts].==1\n",
    "        if length(findall(z->z==true, m_cs[inactive_cs])) == 0\n",
    "            possibleModes = [possibleModes; modes[k, :]']\n",
    "        end\n",
    "    end\n",
    "    \n",
    "    for kk = 1:size(possibleModes, 1)\n",
    "        \n",
    "        m = possibleModes[kk,:]\n",
    "        \n",
    "        separate_cs = (m[1:n_contacts].!=1) .& active_cs\n",
    "        _, A_separate, _ = contact_mode_constraints(x, [separate_cs; ones(n_contacts)]) \n",
    "\n",
    "        dq_p, p_hat = computeResetMap(x, m)\n",
    "        \n",
    "        c_p_hat = contact_force_constraints(p_hat, m)\n",
    "        As_eq, As_geq, _, _ = sliding_velocity_constraints(x, m)\n",
    "        \n",
    "        if all(c_p_hat.>=0) && all(A_separate*dq_p.>=0) && all(abs.(As_eq*dq_p).<1e-6) && all(As_geq*dq_p.>0)\n",
    "            contactMode = m\n",
    "            break;\n",
    "        end\n",
    "    end\n",
    "    \n",
    "    return contactMode\n",
    "end"
   ]
  },
  {
   "cell_type": "code",
   "execution_count": 279,
   "id": "966c8ac3",
   "metadata": {},
   "outputs": [
    {
     "name": "stdout",
     "output_type": "stream",
     "text": [
      "[0, 0]\n",
      "[1, -1]\n",
      "[1, 1]\n",
      "[1, 0]\n",
      "[0, 0]\n",
      "[0, 0]\n"
     ]
    }
   ],
   "source": [
    "println(compute_IV([0;1;0;-1]))\n",
    "println(compute_IV([0;0;-1;-1]))\n",
    "println(compute_IV([0;0;1;-1]))\n",
    "println(compute_IV([0;0;0.4;-1]))\n",
    "println(compute_IV([0;1;-1;1]))\n",
    "println(compute_IV([0;0;0;0]))"
   ]
  },
  {
   "cell_type": "code",
   "execution_count": 311,
   "id": "94260951",
   "metadata": {},
   "outputs": [
    {
     "data": {
      "text/plain": [
       "guard_conditions (generic function with 1 method)"
      ]
     },
     "execution_count": 311,
     "metadata": {},
     "output_type": "execute_result"
    }
   ],
   "source": [
    "function guard_conditions(x, contactMode)\n",
    "    q = x[1:2]\n",
    "    dq = x[3:4]\n",
    "    \n",
    "    a = compute_a(q)\n",
    "    a[contactMode[1:n_contacts] .== 1] .= 0.0\n",
    "    \n",
    "    v_all = zeros(n_contacts)\n",
    "    _, As_geq, _, _ = sliding_velocity_constraints(x, contactMode)\n",
    "    v_all[1:size(As_geq,1)] = -As_geq*dq\n",
    "    \n",
    "    ddq, λ = solveEOM(x, contactMode)\n",
    "    c_λ = contact_force_constraints(λ, contactMode)\n",
    "    c_λ_all = zeros(3*n_contacts)\n",
    "    c_λ_all[1:length(c_λ)] = c_λ\n",
    "    \n",
    "    c = [a; v_all; c_λ_all]\n",
    "    \n",
    "    dir = [-ones(Int,length(a)); ones(Int,length(v_all)); ones(Int,length(c_λ_all))]\n",
    "    \n",
    "    return c, dir\n",
    "end"
   ]
  },
  {
   "cell_type": "code",
   "execution_count": 312,
   "id": "8fdf0dd8",
   "metadata": {},
   "outputs": [
    {
     "data": {
      "text/plain": [
       "([0.0, 0.0, 9.8, 4.9, 4.9], [-1, 1, 1, 1, 1])"
      ]
     },
     "execution_count": 312,
     "metadata": {},
     "output_type": "execute_result"
    }
   ],
   "source": [
    "guard_conditions([0;0;1;0],[1 0])"
   ]
  },
  {
   "cell_type": "code",
   "execution_count": 313,
   "id": "bb81744b",
   "metadata": {},
   "outputs": [
    {
     "data": {
      "text/plain": [
       "1×2 Matrix{Int64}:\n",
       " 0  0"
      ]
     },
     "execution_count": 313,
     "metadata": {},
     "output_type": "execute_result"
    }
   ],
   "source": [
    "d = [1 2]\n",
    "d .= reshape(compute_IV([0;0;0;0]),size(d))"
   ]
  },
  {
   "cell_type": "code",
   "execution_count": 314,
   "id": "4a3267d3",
   "metadata": {},
   "outputs": [
    {
     "data": {
      "text/plain": [
       "dynamics! (generic function with 1 method)"
      ]
     },
     "execution_count": 314,
     "metadata": {},
     "output_type": "execute_result"
    }
   ],
   "source": [
    "function dynamics!(dx, x, m, t)\n",
    "    # m: vector n, contact mode\n",
    "    q = x[1:2]\n",
    "    dq = x[3:4]\n",
    "    ddq, λ = solveEOM(x, m)\n",
    "    dx .= [dq; ddq]\n",
    "end"
   ]
  },
  {
   "cell_type": "code",
   "execution_count": 315,
   "id": "a4bb2b72",
   "metadata": {},
   "outputs": [
    {
     "data": {
      "text/plain": [
       "affect_neg! (generic function with 1 method)"
      ]
     },
     "execution_count": 315,
     "metadata": {},
     "output_type": "execute_result"
    }
   ],
   "source": [
    "function conditions(out, x, t, integrator)\n",
    "    contactMode = integrator.p\n",
    "    c, dir = guard_conditions(x, contactMode)\n",
    "    out .= c\n",
    "end\n",
    "\n",
    "function affect!(integrator, idx)\n",
    "    contactMode = integrator.p\n",
    "    x = integrator.u\n",
    "    c, dir = guard_conditions(x, contactMode)\n",
    "    \n",
    "    # only consider upcrossing forces and constraints values(FA comp)\n",
    "    # forces\n",
    "    if dir[idx] > 0\n",
    "        new_contactMode = compute_FA(x)\n",
    "        integrator.p .= reshape(new_contactMode,size(integrator.p))\n",
    "    end\n",
    "    # constraints\n",
    "#     if dir[idx] < 0\n",
    "#         new_contactMode = contactMode\n",
    "#         new_contactMode[idx] = false\n",
    "#     end\n",
    "end\n",
    "\n",
    "function affect_neg!(integrator, idx)\n",
    "    contactMode = integrator.p\n",
    "    x = integrator.u\n",
    "    c, dir = guard_conditions(x, contactMode)\n",
    "    \n",
    "    # only consider down crossing constraint value(IV comp)\n",
    "    if dir[idx] < 0\n",
    "        new_contactMode = compute_IV(x)\n",
    "        dq_p, p_hat = computeResetMap(x, new_contactMode)\n",
    "        integrator.u .= [x[1:2]; dq_p]\n",
    "        integrator.p .= reshape(new_contactMode,size(integrator.p))\n",
    "    end\n",
    "end"
   ]
  },
  {
   "cell_type": "code",
   "execution_count": 329,
   "id": "50a79091",
   "metadata": {},
   "outputs": [
    {
     "data": {
      "text/plain": [
       "retcode: Success\n",
       "Interpolation: specialized 4th order \"free\" interpolation\n",
       "t: 32-element Vector{Float64}:\n",
       " 0.0\n",
       " 0.0002830825555844335\n",
       " 0.0007413150239812603\n",
       " 0.0014351248238311954\n",
       " 0.002445844892536925\n",
       " 0.0038910077521538506\n",
       " 0.0059188303376915274\n",
       " 0.0087155067590237\n",
       " 0.012511789583777046\n",
       " 0.0175913127179647\n",
       " 0.024300604147905743\n",
       " 0.033060361434814556\n",
       " 0.044382224763717525\n",
       " ⋮\n",
       " 0.24743582965269686\n",
       " 0.29969831200217667\n",
       " 0.37305654061904525\n",
       " 0.46033381229576964\n",
       " 0.5698493538437197\n",
       " 0.6983614928666017\n",
       " 0.8514294953346635\n",
       " 1.0204081632653068\n",
       " 1.0204081632653068\n",
       " 1.1962731468692982\n",
       " 2.954922982909212\n",
       " 5.0\n",
       "u: 32-element Vector{Vector{Float64}}:\n",
       " [0.0, 0.3, -5.0, 0.0]\n",
       " [-0.0014154127779221672, 0.29999960733490694, -5.0, -0.002774209044727447]\n",
       " [-0.003706575119906301, 0.2999973072149726, -5.0, -0.007264887235016349]\n",
       " [-0.007175624119155976, 0.29998990804202613, -5.0, -0.014064223273545711]\n",
       " [-0.012229224462684624, 0.2999706874295321, -5.0, -0.02396927994686186]\n",
       " [-0.01945503876076925, 0.29992581428749615, -5.0, -0.038131875971107725]\n",
       " [-0.029594151688457634, 0.2998283404924248, -5.0, -0.05800453730937695]\n",
       " [-0.043577533795118494, 0.29962779571547377, -5.0, -0.08541196623843222]\n",
       " [-0.06255894791888522, 0.29923293009491536, -5.0, -0.12261553792101501]\n",
       " [-0.0879565635898235, 0.29848367401260806, -5.0, -0.17239486463605402]\n",
       " [-0.1215030207395287, 0.2971064551264293, -5.0, -0.23814592064947623]\n",
       " [-0.16530180717407278, 0.29464436125881727, -5.0, -0.3239915420611826]\n",
       " [-0.2219111238185876, 0.2903480688126121, -5.0, -0.4349458026844316]\n",
       " ⋮\n",
       " [-1.237179148263484, 2.680792041405466e-16, -3.7875644347017863, 0.0]\n",
       " [-1.4284348183793458, 2.680792041405466e-16, -3.5314782711893353, 0.0]\n",
       " [-1.6743133059735353, 2.680792041405466e-16, -3.1720229509666793, 0.0]\n",
       " [-1.932496375559094, 2.680792041405466e-16, -2.74436431975073, 0.0]\n",
       " [-2.203662468332142, 2.680792041405466e-16, -2.207738166165775, 0.0]\n",
       " [-2.4469209662717812, 2.680792041405466e-16, -1.5780286849536533, 0.0]\n",
       " [-2.631063622135011, 2.680792041405466e-16, -0.8279954728601502, 0.0]\n",
       " [-2.701020408163267, 2.680792041405466e-16, -3.542426661915703e-15, 0.0]\n",
       " [-2.701020408163267, 2.680792041405466e-16, -3.542426661915703e-15, 0.0]\n",
       " [-2.7010204081632674, 2.680792041405466e-16, -3.542426661915703e-15, 0.0]\n",
       " [-2.7010204081632736, 2.680792041405466e-16, -3.542426661915703e-15, 0.0]\n",
       " [-2.7010204081632807, 2.680792041405466e-16, -3.542426661915703e-15, 0.0]"
      ]
     },
     "execution_count": 329,
     "metadata": {},
     "output_type": "execute_result"
    }
   ],
   "source": [
    "tspan = (0.0, 5.0)\n",
    "callback_length = 5*n_contacts\n",
    "\n",
    "x0 = [0;0.3;-5;0]\n",
    "initial_mode = [0 0]\n",
    "prob = ODEProblem(dynamics!, x0, tspan, initial_mode)\n",
    "cb = VectorContinuousCallback(conditions, affect!, affect_neg!, callback_length)\n",
    "sol = solve(prob, Tsit5(); callback = cb, abstol=1e-15,reltol=1e-15)"
   ]
  },
  {
   "cell_type": "code",
   "execution_count": 331,
   "id": "0c589a26",
   "metadata": {},
   "outputs": [
    {
     "name": "stderr",
     "output_type": "stream",
     "text": [
      "┌ Info: Saved animation to \n",
      "│   fn = /home/xianyi/study/16715robotsim/project/src/anim.gif\n",
      "└ @ Plots /home/xianyi/.julia/packages/Plots/AJMX6/src/animation.jl:114\n"
     ]
    },
    {
     "data": {
      "text/html": [
       "<img src=\"data:image/gif;base64,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\" />"
      ],
      "text/plain": [
       "Plots.AnimatedGif(\"/home/xianyi/study/16715robotsim/project/src/anim.gif\")"
      ]
     },
     "execution_count": 331,
     "metadata": {},
     "output_type": "execute_result"
    }
   ],
   "source": [
    "# animation \n",
    "n = length(sol.t)\n",
    "x = zeros(n)\n",
    "y = zeros(n)\n",
    "for k = 1:n\n",
    "    x[k] = sol.u[k][1]\n",
    "    y[k] = sol.u[k][2]\n",
    "end\n",
    "    \n",
    "plot([-10,5],[0,0], lw = 2, c=:orange, xlims=(-3,1), ylims=(-0.5,2))\n",
    "anim = @animate for i ∈ 1:n\n",
    "    \n",
    "    scatter!([x[i]], [y[i]],\n",
    "         m=:circle, c=:blue,\n",
    "         markersize=2, legend = false)\n",
    "    \n",
    "end\n",
    "gif(anim, \"anim.gif\", fps = 1/(tspan[2]/n))"
   ]
  },
  {
   "cell_type": "code",
   "execution_count": null,
   "id": "11dd2f93",
   "metadata": {},
   "outputs": [],
   "source": []
  },
  {
   "cell_type": "code",
   "execution_count": null,
   "id": "da8ee266",
   "metadata": {},
   "outputs": [],
   "source": []
  }
 ],
 "metadata": {
  "kernelspec": {
   "display_name": "Julia 1.6.2",
   "language": "julia",
   "name": "julia-1.6"
  },
  "language_info": {
   "file_extension": ".jl",
   "mimetype": "application/julia",
   "name": "julia",
   "version": "1.6.2"
  }
 },
 "nbformat": 4,
 "nbformat_minor": 5
}
