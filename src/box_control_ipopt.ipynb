{
 "cells": [
  {
   "cell_type": "code",
   "execution_count": 1,
   "id": "a5d889d7",
   "metadata": {},
   "outputs": [
    {
     "name": "stderr",
     "output_type": "stream",
     "text": [
      "\u001b[32m\u001b[1m  Activating\u001b[22m\u001b[39m environment at `~/study/16715robotsim/project/Project.toml`\n"
     ]
    }
   ],
   "source": [
    "import Pkg; Pkg.activate(joinpath(@__DIR__,\"..\")); Pkg.instantiate()"
   ]
  },
  {
   "cell_type": "code",
   "execution_count": 2,
   "id": "0eefe5e9",
   "metadata": {},
   "outputs": [],
   "source": [
    "using LinearAlgebra\n",
    "using ForwardDiff\n",
    "using OrdinaryDiffEq\n",
    "using Ipopt\n",
    "using MathOptInterface\n",
    "const MOI = MathOptInterface\n",
    "using Test\n",
    "using Test\n",
    "using Plots"
   ]
  },
  {
   "cell_type": "markdown",
   "id": "18cde540",
   "metadata": {},
   "source": [
    "## System properties"
   ]
  },
  {
   "cell_type": "code",
   "execution_count": 3,
   "id": "087a650c",
   "metadata": {},
   "outputs": [
    {
     "data": {
      "text/plain": [
       "2"
      ]
     },
     "execution_count": 3,
     "metadata": {},
     "output_type": "execute_result"
    }
   ],
   "source": [
    "# simulation step size\n",
    "Δt = 0.05\n",
    "const g = 9.81\n",
    "\n",
    "m = 1\n",
    "μ = 0.5\n",
    "\n",
    "w = 1.0 # width of the box\n",
    "h = 0.8 # height of the box\n",
    "M = [m 0 0; 0 m 0; 0 0 m*((h/2)^2+(w/2)^2)/3]\n",
    "\n",
    "# set of contact modes\n",
    "modes = [0 0 0 0; # both free\n",
    "        1 0 0 0; # sticking\n",
    "        1 0 -1 0; # left-slide\n",
    "        1 0 1 0; # right-slide\n",
    "        0 1 0 0;\n",
    "        0 1 0 -1;\n",
    "        0 1 0 1;\n",
    "        1 1 0 0;\n",
    "        1 1 -1 -1;\n",
    "        1 1 1 1]\n",
    "\n",
    "n_contacts = 2\n"
   ]
  },
  {
   "cell_type": "markdown",
   "id": "3de1e552",
   "metadata": {},
   "source": [
    "## Simulation functions"
   ]
  },
  {
   "cell_type": "code",
   "execution_count": 4,
   "id": "e297986c",
   "metadata": {},
   "outputs": [
    {
     "data": {
      "text/plain": [
       "R_2D (generic function with 1 method)"
      ]
     },
     "execution_count": 4,
     "metadata": {},
     "output_type": "execute_result"
    }
   ],
   "source": [
    "function R_2D(θ)\n",
    "    R = [cos(θ) -sin(θ); sin(θ) cos(θ)]\n",
    "    return R\n",
    "end"
   ]
  },
  {
   "cell_type": "code",
   "execution_count": 5,
   "id": "cdad32a0",
   "metadata": {},
   "outputs": [
    {
     "data": {
      "text/plain": [
       "compute_dA_tangent (generic function with 1 method)"
      ]
     },
     "execution_count": 5,
     "metadata": {},
     "output_type": "execute_result"
    }
   ],
   "source": [
    "# constraints/contacts\n",
    "function compute_a(q)\n",
    "    y = q[2]\n",
    "    θ = q[3]\n",
    "    a1 = y - 0.5*h*cos(θ) - 0.5*w*sin(θ)\n",
    "    a2 = y - 0.5*h*cos(θ) + 0.5*w*sin(θ)\n",
    "    return [a1; a2]\n",
    "end\n",
    "\n",
    "function compute_a_t(q)\n",
    "    p1 = R_2D(q[3])*[-w/2; -h/2] \n",
    "    p2 = R_2D(q[3])*[w/2; -h/2] \n",
    "    at1 = p1[1] + q[1]\n",
    "    at2 = p2[1] + q[1]\n",
    "    return [at1; at2]\n",
    "end\n",
    "\n",
    "# constraints jacobian\n",
    "function compute_A(q)\n",
    "    θ = q[3]\n",
    "    A = [0 1 0.5*h*sin(θ)-0.5*w*cos(θ); 0 1 0.5*h*sin(θ)+0.5*w*cos(θ)]\n",
    "    return A\n",
    "end\n",
    "\n",
    "function compute_dA(q, dq)\n",
    "    dA = reshape(ForwardDiff.jacobian(compute_A, q)*dq, n_contacts, 3)\n",
    "    return dA\n",
    "end\n",
    "\n",
    "function compute_A_tangent(q)\n",
    "    A_t = ForwardDiff.jacobian(compute_a_t,q)\n",
    "    return A_t\n",
    "end\n",
    "\n",
    "function compute_dA_tangent(q, dq)\n",
    "    dA_t = reshape(ForwardDiff.jacobian(compute_A_tangent, q)*dq, n_contacts, 3)\n",
    "    return dA_t\n",
    "end"
   ]
  },
  {
   "cell_type": "code",
   "execution_count": 6,
   "id": "fd0ee10f",
   "metadata": {},
   "outputs": [
    {
     "data": {
      "text/plain": [
       "contact_mode_constraints (generic function with 1 method)"
      ]
     },
     "execution_count": 6,
     "metadata": {},
     "output_type": "execute_result"
    }
   ],
   "source": [
    "function contact_mode_constraints(x, contactMode)\n",
    "    \n",
    "    q = x[1:3]\n",
    "    dq = x[4:6]\n",
    "    \n",
    "    cs_mode = contactMode[1:n_contacts] .== 1\n",
    "    ss_mode = contactMode[n_contacts+1:end]\n",
    "    \n",
    "    A = compute_A(q)\n",
    "    A_t = compute_A_tangent(q)\n",
    "    dA = compute_dA(q, dq)\n",
    "    dA_t = compute_dA_tangent(q,dq)\n",
    "    A = A[cs_mode,:]\n",
    "    A_t = A_t[cs_mode,:]\n",
    "    dA = dA[cs_mode,:]\n",
    "    dA_t = dA_t[cs_mode,:]\n",
    "    \n",
    "    ss_active = ss_mode[cs_mode]\n",
    "    \n",
    "    A_all = zeros(0,3)\n",
    "    A_all_f = zeros(0,3)\n",
    "    dA_all = zeros(0,3)\n",
    "\n",
    "    for k = 1:length(ss_active)\n",
    "        ss = ss_active[k]\n",
    "        if ss == 0\n",
    "            A_all_f = [A_all_f; A[k,:]'; A_t[k,:]']\n",
    "            dA_all = [dA_all; dA[k,:]'; dA_t[k,:]']\n",
    "            A_all = [A_all; A[k,:]'; A_t[k,:]']\n",
    "        else\n",
    "            A_all_f = [A_all_f; A[k,:]'-ss*μ*A_t[k,:]']\n",
    "            dA_all = [dA_all; dA[k,:]']\n",
    "            A_all = [A_all; A[k,:]']\n",
    "        end\n",
    "    end\n",
    "    \n",
    "    return A_all_f, A_all, dA_all\n",
    "end"
   ]
  },
  {
   "cell_type": "code",
   "execution_count": 7,
   "id": "b0458247",
   "metadata": {},
   "outputs": [
    {
     "data": {
      "text/plain": [
       "contact_force_constraints (generic function with 1 method)"
      ]
     },
     "execution_count": 7,
     "metadata": {},
     "output_type": "execute_result"
    }
   ],
   "source": [
    "function contact_force_constraints(λ, contactMode)\n",
    "    # c > 0\n",
    "    cs_mode = contactMode[1:n_contacts] .== 1\n",
    "    ss_mode = contactMode[n_contacts+1:end]\n",
    "    \n",
    "    ss_active = ss_mode[cs_mode]\n",
    "    \n",
    "    i = 1\n",
    "    ic = 1\n",
    "    c = zeros(sum(ss_active.==0)*3 + sum(ss_active.!=0))\n",
    "    for k = 1:length(ss_active)\n",
    "        ss = ss_active[k]\n",
    "        if ss == 0\n",
    "            c[ic:ic+2] = [-λ[i]; -μ*λ[i] - λ[i+1]; -μ*λ[i] + λ[i+1]]\n",
    "            ic += 3\n",
    "            i += 2\n",
    "        else\n",
    "            c[ic] = -λ[i]\n",
    "            i += 1\n",
    "            ic += 1\n",
    "        end\n",
    "    end\n",
    "    return c\n",
    "end"
   ]
  },
  {
   "cell_type": "code",
   "execution_count": 8,
   "id": "4ac93fd9",
   "metadata": {},
   "outputs": [
    {
     "data": {
      "text/plain": [
       "sliding_velocity_constraints (generic function with 1 method)"
      ]
     },
     "execution_count": 8,
     "metadata": {},
     "output_type": "execute_result"
    }
   ],
   "source": [
    "function sliding_velocity_constraints(x, contactMode)\n",
    "    # reture A_eq, A_geq, A_eq*dq = 0, A_geq*dq >= 0\n",
    "    q = x[1:3]\n",
    "    dq = x[4:6]\n",
    "    \n",
    "    cs_mode = contactMode[1:n_contacts] .== 1\n",
    "    ss_mode = contactMode[n_contacts+1:end]\n",
    "    \n",
    "    A = compute_A(q)\n",
    "    A_t = compute_A_tangent(q)\n",
    "    dA = compute_dA(q, dq)\n",
    "    dA_t = compute_dA_tangent(q,dq)\n",
    "    A = A[cs_mode,:]\n",
    "    A_t = A_t[cs_mode,:]\n",
    "    dA = dA[cs_mode,:]\n",
    "    dA_t = dA_t[cs_mode,:]\n",
    "    \n",
    "    ss_active = ss_mode[cs_mode]\n",
    "    \n",
    "    AA_eq = zeros(0,3)\n",
    "    AA_geq = zeros(0,3)\n",
    "    dAA_eq = zeros(0,3)\n",
    "    dAA_geq = zeros(0,3)\n",
    "\n",
    "    for k = 1:length(ss_active)\n",
    "        ss = ss_active[k]\n",
    "        if ss == 0\n",
    "            AA_eq = [AA_eq; A[k,:]'; A_t[k,:]']\n",
    "            dAA_eq = [dAA_eq; dA[k,:]'; dA_t[k,:]']\n",
    "        else\n",
    "            AA_eq = [AA_eq; A[k,:]']\n",
    "            dAA_eq = [dAA_eq; dA[k,:]']\n",
    "            AA_geq = [AA_geq; ss*A_t[k,:]']\n",
    "            dAA_geq = [dAA_geq; ss*dA_t[k,:]']\n",
    "        end\n",
    "    end\n",
    "    \n",
    "    return AA_eq, AA_geq, dAA_eq, dAA_geq\n",
    "end"
   ]
  },
  {
   "cell_type": "code",
   "execution_count": 9,
   "id": "7c975417",
   "metadata": {},
   "outputs": [
    {
     "data": {
      "text/plain": [
       "solveEOM (generic function with 1 method)"
      ]
     },
     "execution_count": 9,
     "metadata": {},
     "output_type": "execute_result"
    }
   ],
   "source": [
    "function solveEOM(x, contactMode, controller)\n",
    "    # contactMode: bool vector, indicates which constraints are active\n",
    "    q = x[1:3]\n",
    "    dq = x[4:6]\n",
    "    \n",
    "    A_f, A, dA = contact_mode_constraints(x, contactMode)\n",
    "    \n",
    "    # compute EOM matrices\n",
    "    N = [0; g; 0]\n",
    "    C = zeros(3,3)\n",
    "    if typeof(controller) == typeof(zeros(3))\n",
    "        Y = controller\n",
    "    else\n",
    "        Y = controller(x, contactMode)\n",
    "    end\n",
    "    \n",
    "    #\n",
    "    blockMat = [M A_f'; A zeros(size(A,1),size(A_f',2))] \n",
    "\n",
    "    b = [Y-N-C*dq; -dA*dq]\n",
    "    \n",
    "    #z = blockMat\\b\n",
    "    #println(blockMat)\n",
    "    if rank(blockMat) < length(b)\n",
    "        z =pinv(blockMat)*b\n",
    "    else\n",
    "        z = blockMat\\b\n",
    "    end\n",
    "    \n",
    "    ddq = z[1:3]\n",
    "    if (sum(contactMode[1:n_contacts])>=1)\n",
    "        λ = z[4:end]\n",
    "    else\n",
    "        λ = []\n",
    "    end\n",
    "    \n",
    "    return ddq, λ\n",
    "end"
   ]
  },
  {
   "cell_type": "code",
   "execution_count": 10,
   "id": "727aec09",
   "metadata": {},
   "outputs": [
    {
     "data": {
      "text/plain": [
       "computeResetMap (generic function with 1 method)"
      ]
     },
     "execution_count": 10,
     "metadata": {},
     "output_type": "execute_result"
    }
   ],
   "source": [
    "function computeResetMap(x, contactMode)\n",
    "    q = x[1:3]\n",
    "    dq = x[4:6]\n",
    "\n",
    "    A_f, A, dA = contact_mode_constraints(x, contactMode)\n",
    "    \n",
    "    c = size(A, 1)\n",
    "    #\n",
    "    blockMat = [M A_f'; A zeros(size(A,1),size(A_f',2))] \n",
    "    \n",
    "    if rank(blockMat) < 3+c\n",
    "        z = pinv(blockMat)*[M*dq; zeros(c)]\n",
    "    else\n",
    "        z = blockMat\\[M*dq; zeros(c)]\n",
    "    end\n",
    "        \n",
    "    dq_p = z[1:3]\n",
    "    p_hat = z[4:end]\n",
    "    return dq_p, p_hat\n",
    "end"
   ]
  },
  {
   "cell_type": "code",
   "execution_count": 11,
   "id": "127f349a",
   "metadata": {},
   "outputs": [
    {
     "data": {
      "text/plain": [
       "compute_FA (generic function with 1 method)"
      ]
     },
     "execution_count": 11,
     "metadata": {},
     "output_type": "execute_result"
    }
   ],
   "source": [
    "function compute_FA(x, controller)\n",
    "    \n",
    "    q = x[1:3]\n",
    "    dq = x[4:6]\n",
    "    \n",
    "    a = compute_a(q)\n",
    "    \n",
    "    active_cs = abs.(a) .< 1e-6\n",
    "    inactive_cs = abs.(a) .> 1e-6\n",
    "    \n",
    "    if sum(active_cs) == 0\n",
    "        return zeros(Int, 4)\n",
    "    end\n",
    "    \n",
    "    possibleModes = zeros(Bool, 0, size(modes,2))\n",
    "    \n",
    "    contactMode = zeros(n_contacts*2)\n",
    "    \n",
    "    for k = 1:size(modes,1)\n",
    "        m_cs = modes[k, 1:n_contacts].==1\n",
    "        if length(findall(z->z==true, m_cs[inactive_cs])) == 0\n",
    "            possibleModes = [possibleModes; modes[k, :]']\n",
    "        end\n",
    "    end\n",
    "\n",
    "    max_cons = 0\n",
    "    \n",
    "    for kk = 1:size(possibleModes, 1)      \n",
    "        \n",
    "        m = possibleModes[kk,:]\n",
    "        \n",
    "        separate_cs = (m[1:n_contacts].!=1) .& active_cs\n",
    "        _, A_separate, dA_separate = contact_mode_constraints(x, [separate_cs; ones(n_contacts)]) \n",
    "\n",
    "        ddq, λ = solveEOM(x, m, controller)\n",
    "        \n",
    "        c_λ = contact_force_constraints(λ, m)\n",
    "        \n",
    "        if all(c_λ.>=0)\n",
    "        \n",
    "            As_eq, As_geq, dAs_eq, dAs_geq = sliding_velocity_constraints(x, m)\n",
    "\n",
    "            sep_vel_cond = ((A_separate*dq).>0) .| ((A_separate*ddq .+ dA_separate*dq).>=0)\n",
    "            maintain_vel_cond = all(abs.(As_eq*dq).<1e-6) & all((As_geq*dq).>1e-6)\n",
    "\n",
    "            if ~maintain_vel_cond\n",
    "                if any((As_geq*dq).<1e-6)\n",
    "                    maintain_vel_cond = all(abs.(dAs_eq*dq + As_eq*ddq).<1e-6) & all((dAs_geq*dq + As_geq*ddq).>0)\n",
    "                end\n",
    "            end\n",
    "\n",
    "            if all(c_λ.>=0) && all(sep_vel_cond) && maintain_vel_cond\n",
    "                if sum(m[1:n_contacts]) > max_cons\n",
    "                    contactMode = m\n",
    "                    max_cons = sum(m[1:n_contacts])\n",
    "                end\n",
    "            end\n",
    "        end\n",
    "    end\n",
    "    \n",
    "    return contactMode\n",
    "end"
   ]
  },
  {
   "cell_type": "code",
   "execution_count": 12,
   "id": "48e9c41c",
   "metadata": {},
   "outputs": [
    {
     "data": {
      "text/plain": [
       "compute_IV (generic function with 1 method)"
      ]
     },
     "execution_count": 12,
     "metadata": {},
     "output_type": "execute_result"
    }
   ],
   "source": [
    "function compute_IV(x)\n",
    "    \n",
    "    q = x[1:3]\n",
    "    dq = x[4:6]\n",
    "    \n",
    "    a = compute_a(q)\n",
    "    \n",
    "    active_cs = abs.(a) .< 1e-6\n",
    "    inactive_cs = abs.(a) .> 1e-6\n",
    "    \n",
    "    if sum(active_cs) == 0\n",
    "        return zeros(Int, 4)\n",
    "    end\n",
    "    \n",
    "    possibleModes = zeros(Bool, 0, size(modes,2))\n",
    "    \n",
    "    contactMode = zeros(n_contacts*2)\n",
    "    \n",
    "    for k = 1:size(modes,1)\n",
    "        m_cs = modes[k, 1:n_contacts].==1\n",
    "        if length(findall(z->z==true, m_cs[inactive_cs])) == 0\n",
    "            possibleModes = [possibleModes; modes[k, :]']\n",
    "        end\n",
    "    end\n",
    "    \n",
    "    max_cons = 0\n",
    "    for kk = 1:size(possibleModes, 1)\n",
    "        \n",
    "        m = possibleModes[kk,:]\n",
    "        \n",
    "        separate_cs = (m[1:n_contacts].!=1) .& active_cs\n",
    "        _, A_separate, _ = contact_mode_constraints(x, [separate_cs; ones(n_contacts)]) \n",
    "\n",
    "        dq_p, p_hat = computeResetMap(x, m)\n",
    "        \n",
    "        c_p_hat = contact_force_constraints(p_hat, m)\n",
    "        As_eq, As_geq, _, _ = sliding_velocity_constraints(x, m)\n",
    "        \n",
    "        if all(c_p_hat.>=0) && all(A_separate*dq_p.>=0) && all(abs.(As_eq*dq_p).<1e-6) && all(As_geq*dq_p.>0)\n",
    "             if sum(m[1:n_contacts]) > max_cons\n",
    "                contactMode = m\n",
    "                max_cons = sum(m[1:n_contacts])\n",
    "            end\n",
    "        end\n",
    "    end\n",
    "    \n",
    "    return contactMode\n",
    "end"
   ]
  },
  {
   "cell_type": "code",
   "execution_count": 13,
   "id": "b562498f",
   "metadata": {},
   "outputs": [
    {
     "data": {
      "text/plain": [
       "mode (generic function with 1 method)"
      ]
     },
     "execution_count": 13,
     "metadata": {},
     "output_type": "execute_result"
    }
   ],
   "source": [
    "function mode(x, controller)\n",
    "    return compute_FA(x, controller)\n",
    "end"
   ]
  },
  {
   "cell_type": "code",
   "execution_count": 14,
   "id": "94260951",
   "metadata": {},
   "outputs": [
    {
     "data": {
      "text/plain": [
       "guard_conditions (generic function with 1 method)"
      ]
     },
     "execution_count": 14,
     "metadata": {},
     "output_type": "execute_result"
    }
   ],
   "source": [
    "function guard_conditions(x, contactMode, controller)\n",
    "    q = x[1:3]\n",
    "    dq = x[4:6]\n",
    "    \n",
    "    a = compute_a(q)\n",
    "    a[contactMode[1:n_contacts] .== 1] .= 0.0\n",
    "    \n",
    "    v_all = zeros(n_contacts)\n",
    "    _, As_geq, _, _ = sliding_velocity_constraints(x, contactMode)\n",
    "    v_all[1:size(As_geq,1)] = -As_geq*dq\n",
    "    \n",
    "    ddq, λ = solveEOM(x, contactMode, controller)\n",
    "    c_λ = contact_force_constraints(λ, contactMode)\n",
    "    c_λ_all = zeros(3*n_contacts)\n",
    "    c_λ_all[1:length(c_λ)] = c_λ\n",
    "    \n",
    "    c = [a; v_all; c_λ_all]\n",
    "    \n",
    "    dir = [-ones(Int,length(a)); ones(Int,length(v_all)); ones(Int,length(c_λ_all))]\n",
    "    \n",
    "    return c, dir\n",
    "end"
   ]
  },
  {
   "cell_type": "markdown",
   "id": "591e2342",
   "metadata": {},
   "source": [
    "## Wrappers for ODE solver"
   ]
  },
  {
   "cell_type": "code",
   "execution_count": 15,
   "id": "105a86fd",
   "metadata": {},
   "outputs": [
    {
     "data": {
      "text/plain": [
       "fixed_control (generic function with 1 method)"
      ]
     },
     "execution_count": 15,
     "metadata": {},
     "output_type": "execute_result"
    }
   ],
   "source": [
    "function fixed_control(x, contactMode)\n",
    "    return f_fixed\n",
    "end"
   ]
  },
  {
   "cell_type": "code",
   "execution_count": 16,
   "id": "4a3267d3",
   "metadata": {},
   "outputs": [
    {
     "data": {
      "text/plain": [
       "dynamics! (generic function with 1 method)"
      ]
     },
     "execution_count": 16,
     "metadata": {},
     "output_type": "execute_result"
    }
   ],
   "source": [
    "function dynamics!(dx, x, p, t)\n",
    "    # p from integrator: (contact mode, controller, t_control, h_control, u_control)\n",
    "    println(\"Dynamics evalutation \", t)\n",
    "    q = x[1:3]\n",
    "    dq = x[4:6]\n",
    "    contactMode = p[1]\n",
    "    controller = p[2]\n",
    "    t_control = p[3][1]\n",
    "    h_control = p[4]\n",
    "    u_control = p[5]\n",
    "    \n",
    "    if t > (t_control + h_control)\n",
    "        println(\"Control evaluation\")\n",
    "        p[3] .= [Float64(t)]\n",
    "        u_control = controller(x, contactMode)\n",
    "        p[5] .= u_control\n",
    "    end\n",
    "    \n",
    "    ddq, λ = solveEOM(x, contactMode, u_control)\n",
    "    dx .= [dq; ddq]\n",
    "end"
   ]
  },
  {
   "cell_type": "code",
   "execution_count": 17,
   "id": "a4bb2b72",
   "metadata": {},
   "outputs": [
    {
     "data": {
      "text/plain": [
       "affect_neg! (generic function with 1 method)"
      ]
     },
     "execution_count": 17,
     "metadata": {},
     "output_type": "execute_result"
    }
   ],
   "source": [
    "function conditions(out, x, t, integrator)\n",
    "    contactMode = integrator.p[1]\n",
    "    controller = integrator.p[2]\n",
    "    c, dir = guard_conditions(x, contactMode, controller)\n",
    "    out .= c\n",
    "end\n",
    "\n",
    "function affect!(integrator, idx)\n",
    "    contactMode = integrator.p[1]\n",
    "    x = integrator.u\n",
    "    c, dir = guard_conditions(x, contactMode, integrator.p[2])\n",
    "    \n",
    "    # only consider upcrossing forces and constraints values(FA comp)\n",
    "    # forces\n",
    "    if dir[idx] > 0\n",
    "        new_contactMode = compute_FA(x, integrator.p[2])\n",
    "        integrator.p[1] .= reshape(new_contactMode,size(integrator.p[1]))\n",
    "        println(\"New mode from FA: \", new_contactMode)\n",
    "    end\n",
    "    # constraints\n",
    "#     if dir[idx] < 0\n",
    "#         new_contactMode = contactMode\n",
    "#         new_contactMode[idx] = false\n",
    "#     end\n",
    "end\n",
    "\n",
    "function affect_neg!(integrator, idx)\n",
    "    contactMode = integrator.p[1]\n",
    "    x = integrator.u\n",
    "    c, dir = guard_conditions(x, contactMode, integrator.p[2])\n",
    "    \n",
    "    # only consider down crossing constraint value(IV comp)\n",
    "    if dir[idx] < 0\n",
    "        new_contactMode = compute_IV(x)\n",
    "        dq_p, p_hat = computeResetMap(x, new_contactMode)\n",
    "        integrator.u .= [x[1:3]; dq_p]\n",
    "        integrator.p[1] .= reshape(new_contactMode,size(integrator.p[1]))\n",
    "        println(\"New mode from IV: \", new_contactMode)\n",
    "\n",
    "    end\n",
    "end"
   ]
  },
  {
   "cell_type": "markdown",
   "id": "c31d7fb4",
   "metadata": {},
   "source": [
    "## goal specific conditions"
   ]
  },
  {
   "cell_type": "code",
   "execution_count": 18,
   "id": "cad95562",
   "metadata": {},
   "outputs": [
    {
     "data": {
      "text/plain": [
       "2-element Vector{Float64}:\n",
       " -0.5\n",
       "  0.0"
      ]
     },
     "execution_count": 18,
     "metadata": {},
     "output_type": "execute_result"
    }
   ],
   "source": [
    "# reference conditions\n",
    "xref = [0;h/2;0;1;0;0]\n",
    "uref = [μ*m*g;0]\n",
    "nominal_mode = [1 1 1 1]\n",
    "\n",
    "# pusher location\n",
    "pusher_p = [-w/2;0]"
   ]
  },
  {
   "cell_type": "markdown",
   "id": "4109cb52",
   "metadata": {},
   "source": [
    "## Basic controllers"
   ]
  },
  {
   "cell_type": "code",
   "execution_count": 19,
   "id": "51b1d816",
   "metadata": {},
   "outputs": [
    {
     "data": {
      "text/plain": [
       "pd_pusher_controller (generic function with 1 method)"
      ]
     },
     "execution_count": 19,
     "metadata": {},
     "output_type": "execute_result"
    }
   ],
   "source": [
    "function no_controller(x, contactMode)\n",
    "    return zeros(3)\n",
    "end\n",
    "\n",
    "function force_controller(x, contactMode)\n",
    "    f = zeros(3)\n",
    "    f[1] = 1.2*μ*m*g\n",
    "    return f\n",
    "end\n",
    "\n",
    "function pd_controller(x, contactMode)\n",
    "    # for sliding velocity\n",
    "    q = x[1:3]\n",
    "    dq = x[4:6]\n",
    "    k = 10\n",
    "    d = 1\n",
    "    eq = q - xref[1:3]\n",
    "    eq[1] = 0\n",
    "    f = -k.*eq .- d.*(dq - xref[4:6])\n",
    "    \n",
    "    # add sliding force compensation\n",
    "    if abs(f[1]) > 1e-3\n",
    "        f[1] += μ*m*g\n",
    "    end\n",
    "    return f\n",
    "end\n",
    "\n",
    "function pd_pusher_controller(x, contactMode)\n",
    "    # for sliding velocity\n",
    "    q = x[1:3]\n",
    "    dq = x[4:6]\n",
    "    \n",
    "    k = 10\n",
    "    d = 1\n",
    "    \n",
    "    A = [1 0; 0 1; -pusher_p[2] pusher_p[1]]\n",
    "    \n",
    "    eq = q - xref[1:3]\n",
    "    eq[1] = 0\n",
    "    fd = -k.*eq .- d.*(dq - xref[4:6])\n",
    "    \n",
    "    # add sliding force compensation\n",
    "    if abs(fd[1]) > 1e-3\n",
    "        fd[1] += μ*m*g\n",
    "    end\n",
    "    \n",
    "    c = A\\fd\n",
    "    f = A*c\n",
    "    return f\n",
    "end\n",
    "    "
   ]
  },
  {
   "cell_type": "markdown",
   "id": "0f99444a",
   "metadata": {},
   "source": [
    "## LQR \n",
    "Push the box with a pusher (a point contact)"
   ]
  },
  {
   "cell_type": "code",
   "execution_count": 20,
   "id": "99772a6d",
   "metadata": {},
   "outputs": [
    {
     "data": {
      "text/plain": [
       "riccati"
      ]
     },
     "execution_count": 20,
     "metadata": {},
     "output_type": "execute_result"
    }
   ],
   "source": [
    "\"\"\"\n",
    "    riccati(A,B,Q,R,Qf,N)\n",
    "\n",
    "Use backward riccati recursion to solve the finite-horizon time-invariant LQR problem.\n",
    "Returns vectors of the feedback gains `K` and cost-to-go matrices `P`, where `length(K) == N-1`,\n",
    "`length(P) == N`, and `size(K[i]) == (m,n)` and `size(P[i]) == (n,n)`.\n",
    "\n",
    "# Arguments:\n",
    "* `A`: `(n,n)` discrete dynamics Jacobian wrt the state\n",
    "* `B`: `(n,m)` discrete dynamics Jacobian wrt the control\n",
    "* `Q`: `(n,n)` stage-wise cost matrix for states\n",
    "* `R`: `(m,m)` stage-wise cost matrix for controls\n",
    "* `Qf`: `(n,n)` cost matrix for terminal state\n",
    "* `N`: Integer number of time steps (horizon length).\n",
    "\"\"\"\n",
    "function riccati(A,B,Q,R,Qf,N)\n",
    "    # initialize the output\n",
    "    n,m = size(B)\n",
    "    P = [zeros(n,n) for k = 1:N]\n",
    "    K = [zeros(m,n) for k = 1:N-1]\n",
    "    \n",
    "    # TODO: implement the Riccati recursion\n",
    "    P[end] .= Qf\n",
    "    for k = reverse(1:N-1) \n",
    "        K[k] .= (R + B'P[k+1]*B)\\(B'P[k+1]*A)\n",
    "        P[k] .= Q + A'P[k+1]*A - A'P[k+1]*B*K[k]\n",
    "    end\n",
    "    \n",
    "    # return the feedback gains and ctg matrices\n",
    "    return K,P\n",
    "end"
   ]
  },
  {
   "cell_type": "code",
   "execution_count": 21,
   "id": "16a5d433",
   "metadata": {},
   "outputs": [
    {
     "data": {
      "text/plain": [
       "discrete_dynamics (generic function with 1 method)"
      ]
     },
     "execution_count": 21,
     "metadata": {},
     "output_type": "execute_result"
    }
   ],
   "source": [
    "function rk4_step(f,xk,u)\n",
    "    # classic rk4 parameters\n",
    "    a21 = 0.5\n",
    "    a31 = 0\n",
    "    a32 = 0.5\n",
    "    a41 = 0\n",
    "    a42 = 0\n",
    "    a43 = 1\n",
    "    b1 = 1/6\n",
    "    b2 = 1/3\n",
    "    b3 = 1/3\n",
    "    b4 = 1/6\n",
    "    \n",
    "    f1 = f(xk,u)\n",
    "    f2 = f(xk + Δt*a21*f1,u)\n",
    "    f3 = f(xk + Δt*a31*f1 + Δt*a32*f2,u)\n",
    "    f4 = f(xk + Δt*a41*f1 + Δt*a42*f2 + Δt*a43*f3,u)\n",
    "\n",
    "    xn = xk + Δt*(b1*f1 + b2*f2 + b3*f3 + b4*f4)\n",
    "    \n",
    "    return xn\n",
    "end\n",
    "\n",
    "function continuous_dynamics(x, u, mode)\n",
    "    q = x[1:3]\n",
    "    dq = x[4:6]\n",
    "    \n",
    "    A_f, A, dA = contact_mode_constraints(x, mode)\n",
    "    \n",
    "    # contact constraints\n",
    "    Jc = [1 0; 0 1; -pusher_p[2] pusher_p[1]]\n",
    "    \n",
    "    # compute EOM matrices\n",
    "    N = [0; g; 0]\n",
    "    C = zeros(3,3)\n",
    "    Y = Jc*u\n",
    "    \n",
    "    blockMat = [M A_f'; A zeros(size(A,1),size(A_f',2))] \n",
    "\n",
    "    b = [Y-N-C*dq; -dA*dq]\n",
    "    \n",
    "    if rank(blockMat) < length(b)\n",
    "        z =pinv(blockMat)*b\n",
    "    else\n",
    "        z = blockMat\\b\n",
    "    end\n",
    "\n",
    "    ddq = z[1:3]\n",
    "    \n",
    "    return [dq;ddq]\n",
    "end\n",
    "\n",
    "function continuous_dynamics_for_lqr(x, u, mode)\n",
    "    q = x[1:3]\n",
    "    dq = x[4:6]\n",
    "    \n",
    "    A_f, A, dA = contact_mode_constraints(x, mode)\n",
    "    \n",
    "    # contact constraints\n",
    "    Jc = [1 0; 0 1; -pusher_p[2] pusher_p[1]]\n",
    "    \n",
    "    # compute EOM matrices\n",
    "    N = [0; g; 0]\n",
    "    C = zeros(3,3)\n",
    "    Y = Jc*u\n",
    "    \n",
    "    blockMat = [M A_f'; A zeros(size(A,1),size(A_f',2))] \n",
    "\n",
    "    b = [Y-N-C*dq; -dA*dq]\n",
    "    \n",
    "    z = blockMat\\b\n",
    "\n",
    "    ddq = z[1:3]\n",
    "    \n",
    "    return [dq;ddq]\n",
    "end\n",
    "\n",
    "function discrete_dynamics(x, u, mode)\n",
    "    xn = rk4_step((_x,_u)->continuous_dynamics_for_lqr(_x,_u,mode),x,u)\n",
    "    return xn\n",
    "end"
   ]
  },
  {
   "cell_type": "code",
   "execution_count": 22,
   "id": "1ec4724b",
   "metadata": {},
   "outputs": [
    {
     "data": {
      "text/plain": [
       "2×6 Matrix{Float64}:\n",
       " 0.0  0.0  0.0  2.58945  0.0  0.0\n",
       " 0.0  0.0  0.0  1.29473  0.0  0.0"
      ]
     },
     "execution_count": 22,
     "metadata": {},
     "output_type": "execute_result"
    }
   ],
   "source": [
    "# compute infinite horizon K\n",
    "A_lqr = ForwardDiff.jacobian(_x->discrete_dynamics(_x, uref, nominal_mode), xref)\n",
    "B_lqr = ForwardDiff.jacobian(_u->discrete_dynamics(xref, _u, nominal_mode), uref)\n",
    "Q_lqr = Diagonal([0;1.0;1.0;1.0;1.0;1.0])\n",
    "R_lqr = Diagonal([0.1;0.1])\n",
    "Ks, _ = riccati(A_lqr,B_lqr,Q_lqr,R_lqr,Q_lqr,50)\n",
    "K_lqr = Ks[1]"
   ]
  },
  {
   "cell_type": "code",
   "execution_count": 23,
   "id": "f06eeac1",
   "metadata": {},
   "outputs": [
    {
     "data": {
      "text/plain": [
       "pusher_lqr_controller (generic function with 1 method)"
      ]
     },
     "execution_count": 23,
     "metadata": {},
     "output_type": "execute_result"
    }
   ],
   "source": [
    "function pusher_lqr_controller(x, contactMode)\n",
    "    Jc = [1 0; 0 1; -pusher_p[2] pusher_p[1]]\n",
    "    u = uref .- K_lqr*(x .- xref)\n",
    "    f = Jc*u\n",
    "    return f\n",
    "end"
   ]
  },
  {
   "cell_type": "markdown",
   "id": "f88ed405",
   "metadata": {},
   "source": [
    "## Hybrid controller"
   ]
  },
  {
   "cell_type": "markdown",
   "id": "037b3442",
   "metadata": {},
   "source": [
    "### Hybrid system definition"
   ]
  },
  {
   "cell_type": "code",
   "execution_count": 24,
   "id": "8ce41e1e",
   "metadata": {},
   "outputs": [
    {
     "data": {
      "text/plain": [
       "domain (generic function with 1 method)"
      ]
     },
     "execution_count": 24,
     "metadata": {},
     "output_type": "execute_result"
    }
   ],
   "source": [
    "# domain\n",
    "# ineqs > 0; eqs = 0\n",
    "function domain(x, contactMode)\n",
    "    \n",
    "    cs = contactMode[1:n_contacts] .== 1\n",
    "    ss = contactMode[n_contacts+1:end]\n",
    "    \n",
    "    q = x[1:3]\n",
    "    dq = x[4:6]\n",
    "    \n",
    "    # a(q) = or > 0\n",
    "    \n",
    "    a = compute_a(q)\n",
    "    \n",
    "    eqs_a = a[cs]\n",
    "    ineqs_a = a[.~cs]\n",
    "    \n",
    "    # A_eq dq = 0; A_geq dq > 0\n",
    "    \n",
    "    A_eq, A_geq, _, _ = sliding_velocity_constraints(x, contactMode)\n",
    "    \n",
    "    eqs_A = A_eq*dq\n",
    "    ineqs_A = A_geq*dq\n",
    "    \n",
    "    # separating contacts\n",
    "    separate_cs = (cs.!=1) .& (abs.(a) .< 1e-6)\n",
    "    _, A_separate, _ = contact_mode_constraints(x, [separate_cs; ones(n_contacts)])\n",
    "    \n",
    "    ineqs_A_sep = A_separate*dq\n",
    "    \n",
    "    ineqs = [zeros(0); ineqs_a; ineqs_A]#; ineqs_A_sep]\n",
    "    eqs = [zeros(0); eqs_a; eqs_A]\n",
    "    \n",
    "    return ineqs, eqs\n",
    "end"
   ]
  },
  {
   "cell_type": "code",
   "execution_count": 25,
   "id": "b3ccb0b3",
   "metadata": {},
   "outputs": [
    {
     "data": {
      "text/plain": [
       "guard_set (generic function with 1 method)"
      ]
     },
     "execution_count": 25,
     "metadata": {},
     "output_type": "execute_result"
    }
   ],
   "source": [
    "function guard_set(x, mode_from, mode_to)\n",
    "    #Todo\n",
    "    \n",
    "    ineqs = zeros(0)\n",
    "    eqs = zeros(0)\n",
    "    \n",
    "    q = x[1:3]\n",
    "    dq = x[4:6]\n",
    "    \n",
    "    d_ineqs, d_eqs = domain(x, mode_from)\n",
    "    # c: d_ineqs > 0, d_eqs = 0\n",
    "    ineqs = [ineqs; d_ineqs]\n",
    "    eqs = [eqs; d_eqs]\n",
    "    \n",
    "    cs_mode_to = mode_to[1:n_contacts].==1\n",
    "    cs_mode_from = mode_from[1:n_contacts].==1\n",
    "    \n",
    "    A_f_new, A_new, dA_new = contact_mode_constraints(x, mode_to)\n",
    "    \n",
    "    # if there is new impact\n",
    "    new_cs = (cs_mode_from.==false).& (cs_mode_to.==true)\n",
    "    if sum(new_cs) > 0\n",
    "            a_new = compute_a(x)\n",
    "        # c: a_new[new_cs] .== 0\n",
    "        eqs = [eqs; a_new[new_cs]]\n",
    "        \n",
    "        _, A_impact, _, = contact_mode_constraints(x, [new_cs; ones(n_contacts)])\n",
    "        #c: A_impact*dq < 0\n",
    "        ineqs = [ineqs; -A_impact*dq]\n",
    "        \n",
    "        p_hat = pinv(A_new*inv(M)*A_f_new')*A_new*dq\n",
    "        #c: contact_force_constraints(p_hat, mode_to) > 0\n",
    "        ineqs = [ineqs; contact_force_constraints(p_hat, mode_to)]\n",
    "    end\n",
    "    \n",
    "    # if it is stick -> slide: do nothing, guard = domain\n",
    "    # if it is slide -> stick: A_stick dq = 0\n",
    "    ss_mode_to = mode_to[n_contacts+1:end]\n",
    "    ss_mode_from = mode_from[n_contacts+1:end]\n",
    "    ss_new_stick = (cs_mode_from.==true).& (cs_mode_to.==true) .& (ss_mode_to .== 0) .& (ss_mode_from .!=0)\n",
    "    \n",
    "    if sum(ss_new_stick) > 0    \n",
    "        A_stick, _, _, _ = sliding_velocity_constraints(x, [ss_new_stick; zeros(n_contacts)])\n",
    "        # c: A_stick*dq = 0\n",
    "        eqs = [eqs; A_stick*dq]\n",
    "    end\n",
    "        \n",
    "    return ineqs, eqs\n",
    "end"
   ]
  },
  {
   "cell_type": "code",
   "execution_count": 26,
   "id": "8e60face",
   "metadata": {},
   "outputs": [
    {
     "data": {
      "text/plain": [
       "jumpmap (generic function with 1 method)"
      ]
     },
     "execution_count": 26,
     "metadata": {},
     "output_type": "execute_result"
    }
   ],
   "source": [
    "function jumpmap(x, mode_from, mode_to)\n",
    "    dq_p, p_hat = computeResetMap(x, mode_to)\n",
    "    return [x[1:3]; dq_p]\n",
    "end"
   ]
  },
  {
   "cell_type": "code",
   "execution_count": 46,
   "id": "b379be17",
   "metadata": {},
   "outputs": [
    {
     "data": {
      "text/plain": [
       "dVdx (generic function with 1 method)"
      ]
     },
     "execution_count": 46,
     "metadata": {},
     "output_type": "execute_result"
    }
   ],
   "source": [
    "\n",
    "\n",
    "function V(x)\n",
    "    q = x[1:3] + x[4:6]\n",
    "    dq = x[4:6]\n",
    "    v = 0.5*([q;dq] .- xref)'*Q_lqr*([q;dq] .- xref)\n",
    "    return v\n",
    "end \n",
    "\n",
    "function dVdx(x)\n",
    "    res = ForwardDiff.gradient(V, x)\n",
    "    return res\n",
    "end"
   ]
  },
  {
   "cell_type": "code",
   "execution_count": 47,
   "id": "2ff49892",
   "metadata": {},
   "outputs": [
    {
     "data": {
      "text/plain": [
       "primal_bounds (generic function with 1 method)"
      ]
     },
     "execution_count": 47,
     "metadata": {},
     "output_type": "execute_result"
    }
   ],
   "source": [
    "\n",
    "# z: optimizaiton vars\n",
    "# x: system state\n",
    "function hybrid_objective(z, x, uref)\n",
    "    u = z[1:2]\n",
    "    β = z[3:end]\n",
    "    l = (u .- uref)'*(u .- uref) + β'*β\n",
    "    return l\n",
    "end\n",
    "\n",
    "function hybrid_constraints!(c,z,x)\n",
    "    \n",
    "    u = z[1:2]\n",
    "    β = z[3:end]\n",
    "    α = 0.5\n",
    "    \n",
    "    Vx = dVdx(x)\n",
    "    Vv = V(x)\n",
    "    \n",
    "    n_modes = size(modes,1)\n",
    "    \n",
    "    β_idx = 1\n",
    "    \n",
    "    cc = zeros(eltype([c;z;x]),n_modes*2-1)\n",
    "  \n",
    "    # mode dynamics\n",
    "    for k = 1:n_modes\n",
    "    \n",
    "        m = modes[k,:]\n",
    "        \n",
    "        d_ineq, d_eq = domain(x, m)\n",
    "        \n",
    "        n_ineq = size(d_ineq, 1)\n",
    "        n_eq = size(d_eq, 1)\n",
    "        \n",
    "        c_dynamics = -(Vx'*continuous_dynamics(x, u, m) + α*Vv) \n",
    "                    - β[β_idx:β_idx+n_ineq-1]'*d_ineq \n",
    "                    - β[β_idx+n_ineq:β_idx+n_ineq+n_eq-1]'*d_eq \n",
    "                    - β[β_idx+n_ineq+n_eq:β_idx+n_ineq+2*n_eq-1]'*(-d_eq)\n",
    "        \n",
    "        β_idx += n_ineq + 2*n_eq\n",
    "        \n",
    "        cc[k] = c_dynamics\n",
    "    end\n",
    "    \n",
    "    nominal_mode = modes[10,:]\n",
    "    \n",
    "    for k = 1:(n_modes-1)\n",
    "        \n",
    "        mode_from = modes[k,:]\n",
    "        \n",
    "        d_ineq, d_eq = guard_set(x, mode_from, nominal_mode)\n",
    "        \n",
    "        n_ineq = size(d_ineq, 1)\n",
    "        n_eq = size(d_eq, 1)\n",
    "\n",
    "        c_jump = -(Vx'*continuous_dynamics(jumpmap(x, mode_from, nominal_mode), u, nominal_mode) + α*Vv) \n",
    "            - β[β_idx:β_idx+n_ineq-1]'*d_ineq \n",
    "            - β[β_idx+n_ineq:β_idx+n_ineq+n_eq-1]'*d_eq \n",
    "            - β[β_idx+n_ineq+n_eq:β_idx+n_ineq+2*n_eq-1]'*(-d_eq)\n",
    "        \n",
    "        β_idx += n_ineq + 2*n_eq\n",
    "        \n",
    "        cc[n_modes+k] = c_jump\n",
    "        \n",
    "    end\n",
    "    \n",
    "    c .= cc\n",
    "        \n",
    "#     println(\"Total β: \", β_idx, \"total constraints: \", size(cc)) total β = 173\n",
    "    \n",
    "end\n",
    "\n",
    "nonnegative_constraint_indices = (1:19)\n",
    "\n",
    "function primal_bounds(n)\n",
    "    # Enforce simple bound constraints on the decision variables (e.g. positivity) here\n",
    "    # x_l ≤ [u; β] ≤ x_u\n",
    "    \n",
    "    x_l = [-Inf*ones(2);zeros(n-2)]\n",
    "    x_u = [20*ones(2);Inf*ones(n-2)]\n",
    "\n",
    "    return x_l, x_u\n",
    "end"
   ]
  },
  {
   "cell_type": "markdown",
   "id": "69d2d1d3",
   "metadata": {},
   "source": [
    "### Interface with IPOPT"
   ]
  },
  {
   "cell_type": "code",
   "execution_count": 48,
   "id": "952e9d0e",
   "metadata": {},
   "outputs": [
    {
     "data": {
      "text/plain": [
       "ipopt_solve (generic function with 1 method)"
      ]
     },
     "execution_count": 48,
     "metadata": {},
     "output_type": "execute_result"
    }
   ],
   "source": [
    "struct ProblemMOI <: MOI.AbstractNLPEvaluator\n",
    "    n_nlp::Int\n",
    "    m_nlp::Int\n",
    "    objective\n",
    "    constraint!\n",
    "    primal_bounds\n",
    "    idx_ineq\n",
    "    obj_grad::Bool\n",
    "    con_jac::Bool\n",
    "    sparsity_jac\n",
    "    sparsity_hess\n",
    "    constraint_bounds\n",
    "    hessian_lagrangian::Bool\n",
    "    params\n",
    "end\n",
    "\n",
    "function ProblemMOI(n_nlp,m_nlp,objective, constraint!, primal_bounds;\n",
    "        idx_ineq=(1:0),\n",
    "        obj_grad=true,\n",
    "        con_jac=true,\n",
    "        sparsity_jac=sparsity_jacobian(n_nlp,m_nlp),\n",
    "        sparsity_hess=sparsity_hessian(n_nlp,m_nlp),\n",
    "        constraint_bounds=constraint_bounds(m_nlp,idx_ineq=idx_ineq),\n",
    "        hessian_lagrangian=false,\n",
    "        params = (zeros(6),zeros(2)))\n",
    "\n",
    "    ProblemMOI(n_nlp,m_nlp,\n",
    "        objective, constraint!,\n",
    "        primal_bounds,\n",
    "        idx_ineq,\n",
    "        obj_grad,\n",
    "        con_jac,\n",
    "        sparsity_jac,\n",
    "        sparsity_hess,\n",
    "        constraint_bounds,\n",
    "        hessian_lagrangian,\n",
    "        params)\n",
    "end\n",
    "\n",
    "function constraint_bounds(m; idx_ineq=(1:0))\n",
    "    c_l = zeros(m)\n",
    "\n",
    "    c_u = zeros(m)\n",
    "    c_u[idx_ineq] .= Inf\n",
    "    \n",
    "    return c_l, c_u\n",
    "end\n",
    "\n",
    "function row_col!(row,col,r,c)\n",
    "    for cc in c\n",
    "        for rr in r\n",
    "            push!(row,convert(Int,rr))\n",
    "            push!(col,convert(Int,cc))\n",
    "        end\n",
    "    end\n",
    "    return row, col\n",
    "end\n",
    "\n",
    "function sparsity_jacobian(n,m)\n",
    "\n",
    "    row = []\n",
    "    col = []\n",
    "\n",
    "    r = 1:m\n",
    "    c = 1:n\n",
    "\n",
    "    row_col!(row,col,r,c)\n",
    "\n",
    "    return collect(zip(row,col))\n",
    "end\n",
    "\n",
    "function sparsity_hessian(n,m)\n",
    "\n",
    "    row = []\n",
    "    col = []\n",
    "\n",
    "    r = 1:m\n",
    "    c = 1:n\n",
    "\n",
    "    row_col!(row,col,r,c)\n",
    "\n",
    "    return collect(zip(row,col))\n",
    "end\n",
    "\n",
    "function MOI.eval_objective(prob::MOI.AbstractNLPEvaluator, x)\n",
    "    prob.objective(x, prob.params[1], prob.params[2])\n",
    "end\n",
    "\n",
    "function MOI.eval_objective_gradient(prob::MOI.AbstractNLPEvaluator, grad_f, x)\n",
    "    ForwardDiff.gradient!(grad_f,_x->prob.objective(_x,prob.params[1], prob.params[2]) ,x)\n",
    "    return nothing\n",
    "end\n",
    "\n",
    "function MOI.eval_constraint(prob::MOI.AbstractNLPEvaluator,g,x)\n",
    "    prob.constraint!(g, x, prob.params[1])\n",
    "    return nothing\n",
    "end\n",
    "\n",
    "function MOI.eval_constraint_jacobian(prob::MOI.AbstractNLPEvaluator, jac, x)\n",
    "    \n",
    "    cons! = (_c, _z)->prob.constraint!(_c, _z, prob.params[1])\n",
    "    ForwardDiff.jacobian!(reshape(jac,prob.m_nlp,prob.n_nlp), cons!, zeros(prob.m_nlp), x)\n",
    "    \n",
    "    return nothing\n",
    "end\n",
    "\n",
    "function MOI.features_available(prob::MOI.AbstractNLPEvaluator)\n",
    "    return [:Grad, :Jac]\n",
    "end\n",
    "\n",
    "MOI.initialize(prob::MOI.AbstractNLPEvaluator, features) = nothing\n",
    "MOI.jacobian_structure(prob::MOI.AbstractNLPEvaluator) = prob.sparsity_jac\n",
    "\n",
    "function ipopt_solve(x0,prob::MOI.AbstractNLPEvaluator;\n",
    "        tol=1.0e-6,c_tol=1.0e-6,max_iter=1000)\n",
    "    x_l, x_u = prob.primal_bounds\n",
    "    c_l, c_u = prob.constraint_bounds\n",
    "\n",
    "    nlp_bounds = MOI.NLPBoundsPair.(c_l,c_u)\n",
    "    block_data = MOI.NLPBlockData(nlp_bounds,prob,true)\n",
    "\n",
    "    solver = Ipopt.Optimizer()\n",
    "    solver.options[\"max_iter\"] = max_iter\n",
    "    solver.options[\"tol\"] = tol\n",
    "    solver.options[\"constr_viol_tol\"] = c_tol\n",
    "    \n",
    "    #Uncomment the following line to turn off verbose IPOPT output\n",
    "    #solver.options[\"print_level\"] = 0\n",
    "\n",
    "    x = MOI.add_variables(solver,prob.n_nlp)\n",
    "\n",
    "    for i = 1:prob.n_nlp\n",
    "        xi = MOI.SingleVariable(x[i])\n",
    "        MOI.add_constraint(solver, xi, MOI.LessThan(x_u[i]))\n",
    "        MOI.add_constraint(solver, xi, MOI.GreaterThan(x_l[i]))\n",
    "        MOI.set(solver, MOI.VariablePrimalStart(), x[i], x0[i])\n",
    "    end\n",
    "\n",
    "    # no verbose output\n",
    "    MOI.set(solver, MOI.Silent(), true)\n",
    "    \n",
    "    # Solve the problem\n",
    "    MOI.set(solver, MOI.NLPBlock(), block_data)\n",
    "    MOI.set(solver, MOI.ObjectiveSense(), MOI.MIN_SENSE)\n",
    "    MOI.optimize!(solver)\n",
    "\n",
    "    # Get the solution\n",
    "    res = MOI.get(solver, MOI.VariablePrimal(), x)\n",
    "\n",
    "    return res\n",
    "end"
   ]
  },
  {
   "cell_type": "code",
   "execution_count": 49,
   "id": "73c34b9e",
   "metadata": {},
   "outputs": [],
   "source": [
    "#TODO: global variable. define hybrid_prob\n",
    "n_nlp = 2+173\n",
    "m_nlp = 19 # total number of constraints\n",
    "hybrid_prob = ProblemMOI(n_nlp,m_nlp, hybrid_objective, hybrid_constraints!, primal_bounds(n_nlp), idx_ineq=nonnegative_constraint_indices);"
   ]
  },
  {
   "cell_type": "markdown",
   "id": "61d4461f",
   "metadata": {},
   "source": [
    "### define the controller"
   ]
  },
  {
   "cell_type": "code",
   "execution_count": 50,
   "id": "d8eabc3c",
   "metadata": {},
   "outputs": [
    {
     "data": {
      "text/plain": [
       "hybrid_reference_lqr (generic function with 1 method)"
      ]
     },
     "execution_count": 50,
     "metadata": {},
     "output_type": "execute_result"
    }
   ],
   "source": [
    "function hybrid_reference_lqr(x, contactMode)\n",
    "    Jc = [1 0; 0 1; -pusher_p[2] pusher_p[1]]\n",
    "    u = uref .- K_lqr*(x .- xref)\n",
    "    return u\n",
    "end"
   ]
  },
  {
   "cell_type": "code",
   "execution_count": 53,
   "id": "cf3e84bd",
   "metadata": {},
   "outputs": [
    {
     "data": {
      "text/plain": [
       "hybrid_controller (generic function with 1 method)"
      ]
     },
     "execution_count": 53,
     "metadata": {},
     "output_type": "execute_result"
    }
   ],
   "source": [
    "function hybrid_controller(x, contactMode)\n",
    "    \n",
    "    u_ref = hybrid_controller_reference(x, contactMode) # from reference controller\n",
    "    #println(u_ref)\n",
    "    hybrid_prob.params[1] .= x\n",
    "    hybrid_prob.params[2] .= u_ref\n",
    "    \n",
    "    z_guess = [u_ref; zeros(hybrid_prob.n_nlp-2)]\n",
    "    \n",
    "    z_sol = ipopt_solve(z_guess,hybrid_prob);\n",
    "    \n",
    "    u = z_sol[1:2]\n",
    "    #println(hybrid_objective(z_sol, x, u_ref))\n",
    "    #println(z_sol)\n",
    "    #cc = zeros(19)\n",
    "    #hybrid_constraints!(cc, z_sol, x)\n",
    "    #println(cc)\n",
    "    \n",
    "    # return space wrench\n",
    "    Jc = [1 0; 0 1; -pusher_p[2] pusher_p[1]]\n",
    "    f = Jc*u\n",
    "    \n",
    "    return f\n",
    "    \n",
    "end"
   ]
  },
  {
   "cell_type": "code",
   "execution_count": 54,
   "id": "d0ed541a",
   "metadata": {},
   "outputs": [
    {
     "name": "stdout",
     "output_type": "stream",
     "text": [
      "[7.494454027157854, 1.2947270135789266, -0.6473635067894633]\n",
      "[11.402953057464112, 1.8124203224447728, -0.9062101612223864]\n"
     ]
    }
   ],
   "source": [
    "println(pusher_lqr_controller(x0, initial_mode))\n",
    "println(hybrid_controller(x0, initial_mode))"
   ]
  },
  {
   "cell_type": "code",
   "execution_count": null,
   "id": "147853fe",
   "metadata": {},
   "outputs": [],
   "source": [
    "1.3045/7.5380 - 1.2947/7.4944540"
   ]
  },
  {
   "cell_type": "code",
   "execution_count": null,
   "id": "a19299c2",
   "metadata": {},
   "outputs": [],
   "source": [
    "xref"
   ]
  },
  {
   "cell_type": "code",
   "execution_count": null,
   "id": "e0043aa6",
   "metadata": {},
   "outputs": [],
   "source": [
    "x0"
   ]
  },
  {
   "cell_type": "markdown",
   "id": "dad42584",
   "metadata": {},
   "source": [
    "## simulate the sliding box "
   ]
  },
  {
   "cell_type": "code",
   "execution_count": 35,
   "id": "b0b7f987",
   "metadata": {},
   "outputs": [
    {
     "data": {
      "text/plain": [
       "0.05"
      ]
     },
     "execution_count": 35,
     "metadata": {},
     "output_type": "execute_result"
    }
   ],
   "source": [
    "# specify the controller\n",
    "controller = hybrid_controller\n",
    "hybrid_controller_reference = hybrid_reference_lqr\n",
    "\n",
    "\n",
    "h_control = Δt"
   ]
  },
  {
   "cell_type": "code",
   "execution_count": 38,
   "id": "ca461725",
   "metadata": {},
   "outputs": [
    {
     "data": {
      "text/plain": [
       "4-element Vector{Int64}:\n",
       " 0\n",
       " 0\n",
       " 0\n",
       " 0"
      ]
     },
     "execution_count": 38,
     "metadata": {},
     "output_type": "execute_result"
    }
   ],
   "source": [
    "# initial condition\n",
    "\n",
    "# # basic test\n",
    "# x0 = [0;h/2;0;0;0;0]\n",
    "\n",
    "# lqr fail 1\n",
    "θ0 = -0.5\n",
    "x0 = [0;h/2 - sin(θ0)*w/2;θ0;0;0;0]\n",
    "initial_mode = mode(x0, controller)\n",
    "# # lqr fail 2\n",
    "# θ0 = -0.5\n",
    "# x0 = [0;h/2 - sin(θ0)*w/2 + 0.2;θ0;0;0;0]"
   ]
  },
  {
   "cell_type": "code",
   "execution_count": null,
   "id": "50a79091",
   "metadata": {},
   "outputs": [],
   "source": [
    "\n",
    "\n",
    "\n",
    "tspan = (0.0, 1.0)\n",
    "callback_length = 5*n_contacts\n",
    "\n",
    "prob = ODEProblem(dynamics!, x0, tspan, (initial_mode, controller, [0.0], h_control, zeros(3)))\n",
    "cb = VectorContinuousCallback(conditions, affect!, affect_neg!, callback_length)\n",
    "# sol = solve(prob, Tsit5(); callback = cb, abstol=1e-15,reltol=1e-15, adaptive=false,dt=Δt)\n",
    "sol = solve(prob, Tsit5(); callback = cb, adaptive=false,dt=Δt)\n",
    "println(\"Simulation status: \", sol.retcode)"
   ]
  },
  {
   "cell_type": "code",
   "execution_count": null,
   "id": "7dbd0a2f",
   "metadata": {},
   "outputs": [],
   "source": [
    "function boxshape(q)\n",
    "    p1 = q[1:2] + R_2D(q[3])*[w/2;h/2]\n",
    "    p2 = q[1:2] + R_2D(q[3])*[w/2;-h/2]\n",
    "    p3 = q[1:2] + R_2D(q[3])*[-w/2;-h/2]\n",
    "    p4 = q[1:2] + R_2D(q[3])*[-w/2;h/2]\n",
    "    pp = [p1 p2 p3 p4]\n",
    "    return Shape(pp[1,:], pp[2,:])\n",
    "end"
   ]
  },
  {
   "cell_type": "code",
   "execution_count": null,
   "id": "88e5a971",
   "metadata": {},
   "outputs": [],
   "source": [
    "# animation \n",
    "n = length(sol.t)\n",
    "x = zeros(n)\n",
    "y = zeros(n)\n",
    "θ = zeros(n)\n",
    "for k = 1:n\n",
    "    x[k] = sol.u[k][1]\n",
    "    y[k] = sol.u[k][2]\n",
    "    θ[k] = sol.u[k][3]\n",
    "end\n",
    "    \n",
    "anim = @animate for i ∈ 1:n\n",
    "    plot([-10,5],[0,0], lw = 2, c=:black, xlims=(-3,3), ylims=(-0.5,3))\n",
    "    plot!(boxshape([x[i],y[i],θ[i]]), aspect_ratio=:equal, c=:gray, opacity=.5, legend=false)\n",
    "    \n",
    "end"
   ]
  },
  {
   "cell_type": "code",
   "execution_count": null,
   "id": "11dd2f93",
   "metadata": {},
   "outputs": [],
   "source": [
    "gif(anim, \"anim.gif\", fps = Int(floor(0.5*n/tspan[2])));"
   ]
  },
  {
   "cell_type": "code",
   "execution_count": null,
   "id": "25bbae16",
   "metadata": {},
   "outputs": [],
   "source": [
    "sol.u"
   ]
  },
  {
   "cell_type": "code",
   "execution_count": null,
   "id": "f18bad23",
   "metadata": {},
   "outputs": [],
   "source": []
  },
  {
   "cell_type": "code",
   "execution_count": null,
   "id": "aa3793e5",
   "metadata": {},
   "outputs": [],
   "source": []
  }
 ],
 "metadata": {
  "kernelspec": {
   "display_name": "Julia 1.6.2",
   "language": "julia",
   "name": "julia-1.6"
  },
  "language_info": {
   "file_extension": ".jl",
   "mimetype": "application/julia",
   "name": "julia",
   "version": "1.6.2"
  }
 },
 "nbformat": 4,
 "nbformat_minor": 5
}
