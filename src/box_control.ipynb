{
 "cells": [
  {
   "cell_type": "code",
   "execution_count": 1,
   "id": "a5d889d7",
   "metadata": {},
   "outputs": [
    {
     "name": "stderr",
     "output_type": "stream",
     "text": [
      "\u001b[32m\u001b[1m  Activating\u001b[22m\u001b[39m environment at `~/study/16715robotsim/project/Project.toml`\n"
     ]
    }
   ],
   "source": [
    "import Pkg; Pkg.activate(joinpath(@__DIR__,\"..\")); Pkg.instantiate()"
   ]
  },
  {
   "cell_type": "code",
   "execution_count": 2,
   "id": "0eefe5e9",
   "metadata": {},
   "outputs": [],
   "source": [
    "using LinearAlgebra\n",
    "using ForwardDiff\n",
    "using OrdinaryDiffEq\n",
    "using Ipopt\n",
    "using MathOptInterface\n",
    "const MOI = MathOptInterface\n",
    "using Test\n",
    "using Test\n",
    "using Plots"
   ]
  },
  {
   "cell_type": "markdown",
   "id": "18cde540",
   "metadata": {},
   "source": [
    "## System properties"
   ]
  },
  {
   "cell_type": "code",
   "execution_count": 3,
   "id": "087a650c",
   "metadata": {},
   "outputs": [
    {
     "data": {
      "text/plain": [
       "2"
      ]
     },
     "execution_count": 3,
     "metadata": {},
     "output_type": "execute_result"
    }
   ],
   "source": [
    "# simulation step size\n",
    "Δt = 0.05\n",
    "const g = 9.81\n",
    "\n",
    "m = 1\n",
    "μ = 0.5\n",
    "\n",
    "w = 1.0 # width of the box\n",
    "h = 0.8 # height of the box\n",
    "M = [m 0 0; 0 m 0; 0 0 m*((h/2)^2+(w/2)^2)/3]\n",
    "\n",
    "# set of contact modes\n",
    "modes = [0 0 0 0; # both free\n",
    "        1 0 0 0; # sticking\n",
    "        1 0 -1 0; # left-slide\n",
    "        1 0 1 0; # right-slide\n",
    "        0 1 0 0;\n",
    "        0 1 0 -1;\n",
    "        0 1 0 1;\n",
    "        1 1 0 0;\n",
    "        1 1 -1 -1;\n",
    "        1 1 1 1]\n",
    "\n",
    "n_contacts = 2\n"
   ]
  },
  {
   "cell_type": "markdown",
   "id": "3de1e552",
   "metadata": {},
   "source": [
    "## Simulation functions"
   ]
  },
  {
   "cell_type": "code",
   "execution_count": 4,
   "id": "e297986c",
   "metadata": {},
   "outputs": [
    {
     "data": {
      "text/plain": [
       "R_2D (generic function with 1 method)"
      ]
     },
     "execution_count": 4,
     "metadata": {},
     "output_type": "execute_result"
    }
   ],
   "source": [
    "function R_2D(θ)\n",
    "    R = [cos(θ) -sin(θ); sin(θ) cos(θ)]\n",
    "    return R\n",
    "end"
   ]
  },
  {
   "cell_type": "code",
   "execution_count": 5,
   "id": "cdad32a0",
   "metadata": {},
   "outputs": [
    {
     "data": {
      "text/plain": [
       "compute_dA_tangent (generic function with 1 method)"
      ]
     },
     "execution_count": 5,
     "metadata": {},
     "output_type": "execute_result"
    }
   ],
   "source": [
    "# constraints/contacts\n",
    "function compute_a(q)\n",
    "    y = q[2]\n",
    "    θ = q[3]\n",
    "    a1 = y - 0.5*h*cos(θ) - 0.5*w*sin(θ)\n",
    "    a2 = y - 0.5*h*cos(θ) + 0.5*w*sin(θ)\n",
    "    return [a1; a2]\n",
    "end\n",
    "\n",
    "function compute_a_t(q)\n",
    "    p1 = R_2D(q[3])*[-w/2; -h/2] \n",
    "    p2 = R_2D(q[3])*[w/2; -h/2] \n",
    "    at1 = p1[1] + q[1]\n",
    "    at2 = p2[1] + q[1]\n",
    "    return [at1; at2]\n",
    "end\n",
    "\n",
    "# constraints jacobian\n",
    "function compute_A(q)\n",
    "    θ = q[3]\n",
    "    A = [0 1 0.5*h*sin(θ)-0.5*w*cos(θ); 0 1 0.5*h*sin(θ)+0.5*w*cos(θ)]\n",
    "    return A\n",
    "end\n",
    "\n",
    "function compute_dA(q, dq)\n",
    "    dA = reshape(ForwardDiff.jacobian(compute_A, q)*dq, n_contacts, 3)\n",
    "    return dA\n",
    "end\n",
    "\n",
    "function compute_A_tangent(q)\n",
    "    A_t = ForwardDiff.jacobian(compute_a_t,q)\n",
    "    return A_t\n",
    "end\n",
    "\n",
    "function compute_dA_tangent(q, dq)\n",
    "    dA_t = reshape(ForwardDiff.jacobian(compute_A_tangent, q)*dq, n_contacts, 3)\n",
    "    return dA_t\n",
    "end"
   ]
  },
  {
   "cell_type": "code",
   "execution_count": 6,
   "id": "fd0ee10f",
   "metadata": {},
   "outputs": [
    {
     "data": {
      "text/plain": [
       "contact_mode_constraints (generic function with 1 method)"
      ]
     },
     "execution_count": 6,
     "metadata": {},
     "output_type": "execute_result"
    }
   ],
   "source": [
    "function contact_mode_constraints(x, contactMode)\n",
    "    \n",
    "    q = x[1:3]\n",
    "    dq = x[4:6]\n",
    "    \n",
    "    cs_mode = contactMode[1:n_contacts] .== 1\n",
    "    ss_mode = contactMode[n_contacts+1:end]\n",
    "    \n",
    "    A = compute_A(q)\n",
    "    A_t = compute_A_tangent(q)\n",
    "    dA = compute_dA(q, dq)\n",
    "    dA_t = compute_dA_tangent(q,dq)\n",
    "    A = A[cs_mode,:]\n",
    "    A_t = A_t[cs_mode,:]\n",
    "    dA = dA[cs_mode,:]\n",
    "    dA_t = dA_t[cs_mode,:]\n",
    "    \n",
    "    ss_active = ss_mode[cs_mode]\n",
    "    \n",
    "    A_all = zeros(0,3)\n",
    "    A_all_f = zeros(0,3)\n",
    "    dA_all = zeros(0,3)\n",
    "\n",
    "    for k = 1:length(ss_active)\n",
    "        ss = ss_active[k]\n",
    "        if ss == 0\n",
    "            A_all_f = [A_all_f; A[k,:]'; A_t[k,:]']\n",
    "            dA_all = [dA_all; dA[k,:]'; dA_t[k,:]']\n",
    "            A_all = [A_all; A[k,:]'; A_t[k,:]']\n",
    "        else\n",
    "            A_all_f = [A_all_f; A[k,:]'-ss*μ*A_t[k,:]']\n",
    "            dA_all = [dA_all; dA[k,:]']\n",
    "            A_all = [A_all; A[k,:]']\n",
    "        end\n",
    "    end\n",
    "    \n",
    "    return A_all_f, A_all, dA_all\n",
    "end"
   ]
  },
  {
   "cell_type": "code",
   "execution_count": 7,
   "id": "b0458247",
   "metadata": {},
   "outputs": [
    {
     "data": {
      "text/plain": [
       "contact_force_constraints (generic function with 1 method)"
      ]
     },
     "execution_count": 7,
     "metadata": {},
     "output_type": "execute_result"
    }
   ],
   "source": [
    "function contact_force_constraints(λ, contactMode)\n",
    "    # c > 0\n",
    "    cs_mode = contactMode[1:n_contacts] .== 1\n",
    "    ss_mode = contactMode[n_contacts+1:end]\n",
    "    \n",
    "    ss_active = ss_mode[cs_mode]\n",
    "    \n",
    "    i = 1\n",
    "    ic = 1\n",
    "    c = zeros(sum(ss_active.==0)*3 + sum(ss_active.!=0))\n",
    "    for k = 1:length(ss_active)\n",
    "        ss = ss_active[k]\n",
    "        if ss == 0\n",
    "            c[ic:ic+2] = [-λ[i]; -μ*λ[i] - λ[i+1]; -μ*λ[i] + λ[i+1]]\n",
    "            ic += 3\n",
    "            i += 2\n",
    "        else\n",
    "            c[ic] = -λ[i]\n",
    "            i += 1\n",
    "            ic += 1\n",
    "        end\n",
    "    end\n",
    "    return c\n",
    "end"
   ]
  },
  {
   "cell_type": "code",
   "execution_count": 8,
   "id": "4ac93fd9",
   "metadata": {},
   "outputs": [
    {
     "data": {
      "text/plain": [
       "sliding_velocity_constraints (generic function with 1 method)"
      ]
     },
     "execution_count": 8,
     "metadata": {},
     "output_type": "execute_result"
    }
   ],
   "source": [
    "function sliding_velocity_constraints(x, contactMode)\n",
    "    # reture A_eq, A_geq, A_eq*dq = 0, A_geq*dq >= 0\n",
    "    q = x[1:3]\n",
    "    dq = x[4:6]\n",
    "    \n",
    "    cs_mode = contactMode[1:n_contacts] .== 1\n",
    "    ss_mode = contactMode[n_contacts+1:end]\n",
    "    \n",
    "    A = compute_A(q)\n",
    "    A_t = compute_A_tangent(q)\n",
    "    dA = compute_dA(q, dq)\n",
    "    dA_t = compute_dA_tangent(q,dq)\n",
    "    A = A[cs_mode,:]\n",
    "    A_t = A_t[cs_mode,:]\n",
    "    dA = dA[cs_mode,:]\n",
    "    dA_t = dA_t[cs_mode,:]\n",
    "    \n",
    "    ss_active = ss_mode[cs_mode]\n",
    "    \n",
    "    AA_eq = zeros(0,3)\n",
    "    AA_geq = zeros(0,3)\n",
    "    dAA_eq = zeros(0,3)\n",
    "    dAA_geq = zeros(0,3)\n",
    "\n",
    "    for k = 1:length(ss_active)\n",
    "        ss = ss_active[k]\n",
    "        if ss == 0\n",
    "            AA_eq = [AA_eq; A[k,:]'; A_t[k,:]']\n",
    "            dAA_eq = [dAA_eq; dA[k,:]'; dA_t[k,:]']\n",
    "        else\n",
    "            AA_eq = [AA_eq; A[k,:]']\n",
    "            dAA_eq = [dAA_eq; dA[k,:]']\n",
    "            AA_geq = [AA_geq; ss*A_t[k,:]']\n",
    "            dAA_geq = [dAA_geq; ss*dA_t[k,:]']\n",
    "        end\n",
    "    end\n",
    "    \n",
    "    return AA_eq, AA_geq, dAA_eq, dAA_geq\n",
    "end"
   ]
  },
  {
   "cell_type": "code",
   "execution_count": 9,
   "id": "7c975417",
   "metadata": {},
   "outputs": [
    {
     "data": {
      "text/plain": [
       "solveEOM (generic function with 1 method)"
      ]
     },
     "execution_count": 9,
     "metadata": {},
     "output_type": "execute_result"
    }
   ],
   "source": [
    "function solveEOM(x, contactMode, controller)\n",
    "    # contactMode: bool vector, indicates which constraints are active\n",
    "    q = x[1:3]\n",
    "    dq = x[4:6]\n",
    "    \n",
    "    A_f, A, dA = contact_mode_constraints(x, contactMode)\n",
    "    \n",
    "    # compute EOM matrices\n",
    "    N = [0; g; 0]\n",
    "    C = zeros(3,3)\n",
    "    if typeof(controller) == typeof(zeros(3))\n",
    "        Y = controller\n",
    "    else\n",
    "        Y = controller(x, contactMode)\n",
    "    end\n",
    "    \n",
    "    #\n",
    "    blockMat = [M A_f'; A zeros(size(A,1),size(A_f',2))] \n",
    "\n",
    "    b = [Y-N-C*dq; -dA*dq]\n",
    "    \n",
    "    #z = blockMat\\b\n",
    "    #println(blockMat)\n",
    "    if rank(blockMat) < length(b)\n",
    "        z =pinv(blockMat)*b\n",
    "    else\n",
    "        z = blockMat\\b\n",
    "    end\n",
    "    \n",
    "    ddq = z[1:3]\n",
    "    if (sum(contactMode[1:n_contacts])>=1)\n",
    "        λ = z[4:end]\n",
    "    else\n",
    "        λ = []\n",
    "    end\n",
    "    \n",
    "    return ddq, λ\n",
    "end"
   ]
  },
  {
   "cell_type": "code",
   "execution_count": 10,
   "id": "727aec09",
   "metadata": {},
   "outputs": [
    {
     "data": {
      "text/plain": [
       "computeResetMap (generic function with 1 method)"
      ]
     },
     "execution_count": 10,
     "metadata": {},
     "output_type": "execute_result"
    }
   ],
   "source": [
    "function computeResetMap(x, contactMode)\n",
    "    q = x[1:3]\n",
    "    dq = x[4:6]\n",
    "\n",
    "    A_f, A, dA = contact_mode_constraints(x, contactMode)\n",
    "    \n",
    "    c = size(A, 1)\n",
    "    #\n",
    "    blockMat = [M A_f'; A zeros(size(A,1),size(A_f',2))] \n",
    "    \n",
    "    if rank(blockMat) < 3+c\n",
    "        z = pinv(blockMat)*[M*dq; zeros(c)]\n",
    "    else\n",
    "        z = blockMat\\[M*dq; zeros(c)]\n",
    "    end\n",
    "        \n",
    "    dq_p = z[1:3]\n",
    "    p_hat = z[4:end]\n",
    "    return dq_p, p_hat\n",
    "end"
   ]
  },
  {
   "cell_type": "code",
   "execution_count": 11,
   "id": "127f349a",
   "metadata": {},
   "outputs": [
    {
     "data": {
      "text/plain": [
       "compute_FA (generic function with 1 method)"
      ]
     },
     "execution_count": 11,
     "metadata": {},
     "output_type": "execute_result"
    }
   ],
   "source": [
    "function compute_FA(x, u_control)\n",
    "    \n",
    "    q = x[1:3]\n",
    "    dq = x[4:6]\n",
    "    \n",
    "    a = compute_a(q)\n",
    "    \n",
    "    active_cs = abs.(a) .< 1e-6\n",
    "    inactive_cs = abs.(a) .> 1e-6\n",
    "    \n",
    "    if sum(active_cs) == 0\n",
    "        return zeros(Int, 4)\n",
    "    end\n",
    "    \n",
    "    possibleModes = zeros(Bool, 0, size(modes,2))\n",
    "    \n",
    "    contactMode = zeros(n_contacts*2)\n",
    "    \n",
    "    for k = 1:size(modes,1)\n",
    "        m_cs = modes[k, 1:n_contacts].==1\n",
    "        if length(findall(z->z==true, m_cs[inactive_cs])) == 0\n",
    "            possibleModes = [possibleModes; modes[k, :]']\n",
    "        end\n",
    "    end\n",
    "\n",
    "    max_cons = 0\n",
    "    \n",
    "    for kk = 1:size(possibleModes, 1)      \n",
    "        \n",
    "        m = possibleModes[kk,:]\n",
    "        \n",
    "        separate_cs = (m[1:n_contacts].!=1) .& active_cs\n",
    "        _, A_separate, dA_separate = contact_mode_constraints(x, [separate_cs; ones(n_contacts)]) \n",
    "\n",
    "        ddq, λ = solveEOM(x, m, u_control)\n",
    "        \n",
    "        c_λ = contact_force_constraints(λ, m)\n",
    "        \n",
    "        if all(c_λ.>=0)\n",
    "        \n",
    "            As_eq, As_geq, dAs_eq, dAs_geq = sliding_velocity_constraints(x, m)\n",
    "\n",
    "            sep_vel_cond = ((A_separate*dq).>0) .| ((A_separate*ddq .+ dA_separate*dq).>=0)\n",
    "            maintain_vel_cond = all(abs.(As_eq*dq).<1e-6) & all((As_geq*dq).>1e-6)\n",
    "\n",
    "            if ~maintain_vel_cond\n",
    "                if any((As_geq*dq).<1e-6)\n",
    "                    maintain_vel_cond = all(abs.(dAs_eq*dq + As_eq*ddq).<1e-6) & all((dAs_geq*dq + As_geq*ddq).>0)\n",
    "                end\n",
    "            end\n",
    "\n",
    "            if all(c_λ.>=0) && all(sep_vel_cond) && maintain_vel_cond\n",
    "                if sum(m[1:n_contacts]) > max_cons\n",
    "                    contactMode = m\n",
    "                    max_cons = sum(m[1:n_contacts])\n",
    "                end\n",
    "            end\n",
    "        end\n",
    "    end\n",
    "    \n",
    "    return contactMode\n",
    "end"
   ]
  },
  {
   "cell_type": "code",
   "execution_count": 346,
   "id": "48e9c41c",
   "metadata": {},
   "outputs": [
    {
     "data": {
      "text/plain": [
       "compute_IV (generic function with 1 method)"
      ]
     },
     "execution_count": 346,
     "metadata": {},
     "output_type": "execute_result"
    }
   ],
   "source": [
    "function compute_IV(x)\n",
    "    \n",
    "    q = x[1:3]\n",
    "    dq = x[4:6]\n",
    "    \n",
    "    a = compute_a(q)\n",
    "    \n",
    "    active_cs = abs.(a) .< 1e-6\n",
    "    inactive_cs = abs.(a) .> 1e-6\n",
    "    \n",
    "    if sum(active_cs) == 0\n",
    "        return zeros(Int, 4)\n",
    "    end\n",
    "    \n",
    "    possibleModes = zeros(Bool, 0, size(modes,2))\n",
    "    \n",
    "    contactMode = zeros(n_contacts*2)\n",
    "    \n",
    "    for k = 1:size(modes,1)\n",
    "        m_cs = modes[k, 1:n_contacts].==1\n",
    "        if length(findall(z->z==true, m_cs[inactive_cs])) == 0\n",
    "            possibleModes = [possibleModes; modes[k, :]']\n",
    "        end\n",
    "    end\n",
    "    \n",
    "    max_cons = 0\n",
    "    \n",
    "    for kk = 1:size(possibleModes, 1)\n",
    "        \n",
    "        m = possibleModes[kk,:]\n",
    "        \n",
    "        separate_cs = (m[1:n_contacts].!=1) .& active_cs\n",
    "        _, A_separate, _ = contact_mode_constraints(x, [separate_cs; ones(n_contacts)]) \n",
    "\n",
    "        dq_p, p_hat = computeResetMap(x, m)\n",
    "        \n",
    "        \n",
    "        c_p_hat = contact_force_constraints(p_hat, m)\n",
    "        As_eq, As_geq, _, _ = sliding_velocity_constraints(x, m)\n",
    "        \n",
    "        if all(c_p_hat.>=0) && all(A_separate*dq_p.>=0) && all(abs.(As_eq*dq_p).<1e-6) && all(As_geq*dq_p.>0)\n",
    "            if sum(m[1:n_contacts]) > max_cons\n",
    "                contactMode = m\n",
    "                max_cons = sum(m[1:n_contacts])\n",
    "            end\n",
    "        end\n",
    "    end\n",
    "    \n",
    "    return contactMode\n",
    "end"
   ]
  },
  {
   "cell_type": "code",
   "execution_count": 347,
   "id": "cb088864",
   "metadata": {},
   "outputs": [
    {
     "data": {
      "text/plain": [
       "4-element Vector{Float64}:\n",
       " 0.0\n",
       " 0.0\n",
       " 0.0\n",
       " 0.0"
      ]
     },
     "execution_count": 347,
     "metadata": {},
     "output_type": "execute_result"
    }
   ],
   "source": [
    "compute_IV([0.22255005046785503, 0.38677043395819793, -0.02618782016434627, 0.740094362882769, -0.6333034672851269, -1.2410358415191969])"
   ]
  },
  {
   "cell_type": "code",
   "execution_count": 336,
   "id": "f3546437",
   "metadata": {},
   "outputs": [
    {
     "data": {
      "text/plain": [
       "true"
      ]
     },
     "execution_count": 336,
     "metadata": {},
     "output_type": "execute_result"
    }
   ],
   "source": [
    "eltype([0.0 0.0]) == Float64"
   ]
  },
  {
   "cell_type": "code",
   "execution_count": 13,
   "id": "b562498f",
   "metadata": {},
   "outputs": [
    {
     "data": {
      "text/plain": [
       "mode (generic function with 1 method)"
      ]
     },
     "execution_count": 13,
     "metadata": {},
     "output_type": "execute_result"
    }
   ],
   "source": [
    "function mode(x, u_control)\n",
    "    return compute_FA(x, u_control)\n",
    "end"
   ]
  },
  {
   "cell_type": "code",
   "execution_count": 550,
   "id": "94260951",
   "metadata": {},
   "outputs": [
    {
     "data": {
      "text/plain": [
       "guard_conditions (generic function with 1 method)"
      ]
     },
     "execution_count": 550,
     "metadata": {},
     "output_type": "execute_result"
    }
   ],
   "source": [
    "function guard_conditions(x, contactMode, u_control)\n",
    "    q = x[1:3]\n",
    "    dq = x[4:6]\n",
    "    \n",
    "    a = compute_a(q)\n",
    "    a[contactMode[1:n_contacts] .== 1] .= 0.0\n",
    "    \n",
    "    v_all = zeros(n_contacts)\n",
    "    _, As_geq, _, _ = sliding_velocity_constraints(x, contactMode)\n",
    "    v_all[1:size(As_geq,1)] = -As_geq*dq\n",
    "    \n",
    "    ddq, λ = solveEOM(x, contactMode, u_control)\n",
    "    c_λ = contact_force_constraints(λ, contactMode)\n",
    "    c_λ_all = zeros(3*n_contacts)\n",
    "    c_λ_all[1:length(c_λ)] = c_λ\n",
    "    \n",
    "    c = [a; v_all; c_λ_all]\n",
    "    \n",
    "    dir = [-ones(Int,length(a)); ones(Int,length(v_all)); ones(Int,length(c_λ_all))]\n",
    "    \n",
    "    return c, dir\n",
    "end"
   ]
  },
  {
   "cell_type": "markdown",
   "id": "591e2342",
   "metadata": {},
   "source": [
    "## Wrappers for ODE solver"
   ]
  },
  {
   "cell_type": "code",
   "execution_count": 529,
   "id": "4a3267d3",
   "metadata": {},
   "outputs": [
    {
     "data": {
      "text/plain": [
       "dynamics! (generic function with 1 method)"
      ]
     },
     "execution_count": 529,
     "metadata": {},
     "output_type": "execute_result"
    }
   ],
   "source": [
    "function dynamics!(dx, x, p, t)\n",
    "    # p from integrator: (contact mode, controller, t_control, h_control, u_control)\n",
    "    print(\"Dynamics evalutation \", t)\n",
    "    q = x[1:3]\n",
    "    dq = x[4:6]\n",
    "    contactMode = p[1]\n",
    "    controller = p[2]\n",
    "    t_control = p[3][1]\n",
    "    h_control = p[4]\n",
    "    u_control = p[5]\n",
    "    \n",
    "    if t > (t_control + h_control)\n",
    "        print(\"Control evaluation \", controller)\n",
    "        p[3] .= [Float64(t)]\n",
    "        u_control = controller(x, contactMode)\n",
    "        p[5] .= u_control\n",
    "        println(u_control)\n",
    "    end\n",
    "    \n",
    "    ddq, λ = solveEOM(x, contactMode, u_control)\n",
    "    \n",
    "    c_λ = contact_force_constraints(λ, contactMode)\n",
    "    if(sum(c_λ.<0) > 0)\n",
    "        new_contactMode = compute_FA(x, u_control)\n",
    "        p[1] .= reshape(new_contactMode,size(p[1]))\n",
    "    end\n",
    "    \n",
    "    println(ddq)\n",
    "    dx .= [dq; ddq]\n",
    "end"
   ]
  },
  {
   "cell_type": "code",
   "execution_count": 463,
   "id": "a4bb2b72",
   "metadata": {},
   "outputs": [
    {
     "data": {
      "text/plain": [
       "affect_neg! (generic function with 1 method)"
      ]
     },
     "execution_count": 463,
     "metadata": {},
     "output_type": "execute_result"
    }
   ],
   "source": [
    "function conditions(out, x, t, integrator)\n",
    "    contactMode = integrator.p[1]\n",
    "    u_control = integrator.p[5]\n",
    "    c, dir = guard_conditions(x, contactMode, u_control)\n",
    "    out .= c\n",
    "end\n",
    "\n",
    "function affect!(integrator, idx)\n",
    "    contactMode = integrator.p[1]\n",
    "    x = integrator.u\n",
    "    u_control = integrator.p[5]\n",
    "    c, dir = guard_conditions(x, contactMode, u_control)\n",
    "    \n",
    "    # only consider upcrossing forces and constraints values(FA comp)\n",
    "    # forces\n",
    "    if dir[idx] > 0\n",
    "        new_contactMode = compute_FA(x, u_control)\n",
    "        integrator.p[1] .= reshape(new_contactMode,size(integrator.p[1]))\n",
    "        println(\"New mode from FA: \", new_contactMode)\n",
    "    end\n",
    "    # constraints\n",
    "#     if dir[idx] < 0\n",
    "#         new_contactMode = contactMode\n",
    "#         new_contactMode[idx] = false\n",
    "#     end\n",
    "end\n",
    "\n",
    "function affect_neg!(integrator, idx)\n",
    "    contactMode = integrator.p[1]\n",
    "    x = integrator.u\n",
    "    u_control = integrator.p[5]\n",
    "    c, dir = guard_conditions(x, contactMode, u_control)\n",
    "    \n",
    "    # only consider down crossing constraint value(IV comp)\n",
    "    if dir[idx] < 0\n",
    "        new_contactMode = compute_IV(x)\n",
    "        if (all(new_contactMode .==0))\n",
    "            return\n",
    "        end\n",
    "        dq_p, p_hat = computeResetMap(x, new_contactMode)\n",
    "        integrator.u .= [x[1:3]; dq_p]\n",
    "        integrator.p[1] .= reshape(new_contactMode,size(integrator.p[1]))\n",
    "        println(\"New mode from IV: \", new_contactMode)\n",
    "        println(x)\n",
    "\n",
    "    end\n",
    "end"
   ]
  },
  {
   "cell_type": "markdown",
   "id": "c31d7fb4",
   "metadata": {},
   "source": [
    "## goal specific conditions"
   ]
  },
  {
   "cell_type": "code",
   "execution_count": 464,
   "id": "cad95562",
   "metadata": {},
   "outputs": [
    {
     "data": {
      "text/plain": [
       "2-element Vector{Float64}:\n",
       " -0.5\n",
       "  0.0"
      ]
     },
     "execution_count": 464,
     "metadata": {},
     "output_type": "execute_result"
    }
   ],
   "source": [
    "# reference conditions\n",
    "xref = [0;h/2;0;1;0;0]\n",
    "uref = [μ*m*g;0]\n",
    "nominal_mode = [1 1 1 1]\n",
    "\n",
    "# pusher location\n",
    "pusher_p = [-w/2;0]"
   ]
  },
  {
   "cell_type": "markdown",
   "id": "4109cb52",
   "metadata": {},
   "source": [
    "## Basic controllers"
   ]
  },
  {
   "cell_type": "code",
   "execution_count": 350,
   "id": "51b1d816",
   "metadata": {},
   "outputs": [
    {
     "data": {
      "text/plain": [
       "pd_pusher_controller (generic function with 1 method)"
      ]
     },
     "execution_count": 350,
     "metadata": {},
     "output_type": "execute_result"
    }
   ],
   "source": [
    "function no_controller(x, contactMode)\n",
    "    return zeros(3)\n",
    "end\n",
    "\n",
    "function force_controller(x, contactMode)\n",
    "    f = zeros(3)\n",
    "    f[1] = 2*μ*m*g\n",
    "    return f\n",
    "end\n",
    "\n",
    "function pd_controller(x, contactMode)\n",
    "    # for sliding velocity\n",
    "    q = x[1:3]\n",
    "    dq = x[4:6]\n",
    "    k = 10\n",
    "    d = 1\n",
    "    eq = q - xref[1:3]\n",
    "    eq[1] = 0\n",
    "    f = -k.*eq .- d.*(dq - xref[4:6])\n",
    "    \n",
    "    # add sliding force compensation\n",
    "    if abs(f[1]) > 1e-3\n",
    "        f[1] += μ*m*g\n",
    "    end\n",
    "    return f\n",
    "end\n",
    "\n",
    "function pd_pusher_controller(x, contactMode)\n",
    "    # for sliding velocity\n",
    "    q = x[1:3]\n",
    "    dq = x[4:6]\n",
    "    \n",
    "    k = 10\n",
    "    d = 1\n",
    "    \n",
    "    A = [1 0; 0 1; -pusher_p[2] pusher_p[1]]\n",
    "    \n",
    "    eq = q - xref[1:3]\n",
    "    eq[1] = 0\n",
    "    fd = -k.*eq .- d.*(dq - xref[4:6])\n",
    "    \n",
    "    # add sliding force compensation\n",
    "    if abs(fd[1]) > 1e-3\n",
    "        fd[1] += μ*m*g\n",
    "    end\n",
    "    \n",
    "    c = A\\fd\n",
    "    f = A*c\n",
    "    return f\n",
    "end\n",
    "    "
   ]
  },
  {
   "cell_type": "markdown",
   "id": "0f99444a",
   "metadata": {},
   "source": [
    "## LQR \n",
    "Push the box with a pusher (a point contact)"
   ]
  },
  {
   "cell_type": "code",
   "execution_count": 351,
   "id": "99772a6d",
   "metadata": {},
   "outputs": [
    {
     "data": {
      "text/plain": [
       "riccati"
      ]
     },
     "execution_count": 351,
     "metadata": {},
     "output_type": "execute_result"
    }
   ],
   "source": [
    "\"\"\"\n",
    "    riccati(A,B,Q,R,Qf,N)\n",
    "\n",
    "Use backward riccati recursion to solve the finite-horizon time-invariant LQR problem.\n",
    "Returns vectors of the feedback gains `K` and cost-to-go matrices `P`, where `length(K) == N-1`,\n",
    "`length(P) == N`, and `size(K[i]) == (m,n)` and `size(P[i]) == (n,n)`.\n",
    "\n",
    "# Arguments:\n",
    "* `A`: `(n,n)` discrete dynamics Jacobian wrt the state\n",
    "* `B`: `(n,m)` discrete dynamics Jacobian wrt the control\n",
    "* `Q`: `(n,n)` stage-wise cost matrix for states\n",
    "* `R`: `(m,m)` stage-wise cost matrix for controls\n",
    "* `Qf`: `(n,n)` cost matrix for terminal state\n",
    "* `N`: Integer number of time steps (horizon length).\n",
    "\"\"\"\n",
    "function riccati(A,B,Q,R,Qf,N)\n",
    "    # initialize the output\n",
    "    n,m = size(B)\n",
    "    P = [zeros(n,n) for k = 1:N]\n",
    "    K = [zeros(m,n) for k = 1:N-1]\n",
    "    \n",
    "    # TODO: implement the Riccati recursion\n",
    "    P[end] .= Qf\n",
    "    for k = reverse(1:N-1) \n",
    "        K[k] .= (R + B'P[k+1]*B)\\(B'P[k+1]*A)\n",
    "        P[k] .= Q + A'P[k+1]*A - A'P[k+1]*B*K[k]\n",
    "    end\n",
    "    \n",
    "    # return the feedback gains and ctg matrices\n",
    "    return K,P\n",
    "end"
   ]
  },
  {
   "cell_type": "code",
   "execution_count": 352,
   "id": "16a5d433",
   "metadata": {},
   "outputs": [
    {
     "data": {
      "text/plain": [
       "discrete_dynamics (generic function with 1 method)"
      ]
     },
     "execution_count": 352,
     "metadata": {},
     "output_type": "execute_result"
    }
   ],
   "source": [
    "function rk4_step(f,xk,u)\n",
    "    # classic rk4 parameters\n",
    "    a21 = 0.5\n",
    "    a31 = 0\n",
    "    a32 = 0.5\n",
    "    a41 = 0\n",
    "    a42 = 0\n",
    "    a43 = 1\n",
    "    b1 = 1/6\n",
    "    b2 = 1/3\n",
    "    b3 = 1/3\n",
    "    b4 = 1/6\n",
    "    \n",
    "    f1 = f(xk,u)\n",
    "    f2 = f(xk + Δt*a21*f1,u)\n",
    "    f3 = f(xk + Δt*a31*f1 + Δt*a32*f2,u)\n",
    "    f4 = f(xk + Δt*a41*f1 + Δt*a42*f2 + Δt*a43*f3,u)\n",
    "\n",
    "    xn = xk + Δt*(b1*f1 + b2*f2 + b3*f3 + b4*f4)\n",
    "    \n",
    "    return xn\n",
    "end\n",
    "\n",
    "function continuous_dynamics(x, u, mode)\n",
    "    q = x[1:3]\n",
    "    dq = x[4:6]\n",
    "    \n",
    "    A_f, A, dA = contact_mode_constraints(x, mode)\n",
    "    \n",
    "    # contact constraints\n",
    "    Jc = [1 0; 0 1; -pusher_p[2] pusher_p[1]]\n",
    "    \n",
    "    # compute EOM matrices\n",
    "    N = [0; g; 0]\n",
    "    C = zeros(3,3)\n",
    "    Y = Jc*u\n",
    "    \n",
    "    blockMat = [M A_f'; A zeros(size(A,1),size(A_f',2))] \n",
    "\n",
    "    b = [Y-N-C*dq; -dA*dq]\n",
    "    \n",
    "    if rank(blockMat) < length(b)\n",
    "        z =pinv(blockMat)*b\n",
    "    else\n",
    "        z = blockMat\\b\n",
    "    end\n",
    "\n",
    "    ddq = z[1:3]\n",
    "    \n",
    "    return [dq;ddq]\n",
    "end\n",
    "\n",
    "function continuous_dynamics_differentiable(x, u, mode)\n",
    "    q = x[1:3]\n",
    "    dq = x[4:6]\n",
    "    \n",
    "    A_f, A, dA = contact_mode_constraints(x, mode)\n",
    "    \n",
    "    # contact constraints\n",
    "    Jc = [1 0; 0 1; -pusher_p[2] pusher_p[1]]\n",
    "    \n",
    "    # compute EOM matrices\n",
    "    N = [0; g; 0]\n",
    "    C = zeros(3,3)\n",
    "    Y = Jc*u\n",
    "    \n",
    "    blockMat = [M A_f'; A zeros(size(A,1),size(A_f',2))] \n",
    "\n",
    "    b = [Y-N-C*dq; -dA*dq]\n",
    "    \n",
    "    H = [zeros(3,size(blockMat,2)); zeros(size(blockMat,1)-3,3) 1e-6*I]\n",
    "    z =(blockMat.+H)\\b\n",
    "\n",
    "\n",
    "    ddq = z[1:3]\n",
    "    \n",
    "    return [dq;ddq]\n",
    "end\n",
    "\n",
    "function discrete_dynamics(x, u, mode)\n",
    "    xn = rk4_step((_x,_u)->continuous_dynamics_differentiable(_x,_u,mode),x,u)\n",
    "    return xn\n",
    "end"
   ]
  },
  {
   "cell_type": "code",
   "execution_count": 54,
   "id": "1ec4724b",
   "metadata": {},
   "outputs": [
    {
     "data": {
      "text/plain": [
       "2×6 Matrix{Float64}:\n",
       " 0.0   4.88068e-6  -5.22899e-6  2.58945   8.85062e-6  -1.5144e-5\n",
       " 0.0  -1.25659e-5   1.53925e-5  1.29473  -2.16825e-5   3.69867e-5"
      ]
     },
     "execution_count": 54,
     "metadata": {},
     "output_type": "execute_result"
    }
   ],
   "source": [
    "# compute infinite horizon K\n",
    "A_lqr = ForwardDiff.jacobian(_x->discrete_dynamics(_x, uref, nominal_mode), xref)\n",
    "B_lqr = ForwardDiff.jacobian(_u->discrete_dynamics(xref, _u, nominal_mode), uref)\n",
    "Q_lqr = Diagonal([0;1.0;1.0;1.0;0.1;1.0])\n",
    "R_lqr = Diagonal([0.1;0.1])\n",
    "Ks, _ = riccati(A_lqr,B_lqr,Q_lqr,R_lqr,Q_lqr,50)\n",
    "K_lqr = Ks[1]"
   ]
  },
  {
   "cell_type": "code",
   "execution_count": 55,
   "id": "f06eeac1",
   "metadata": {},
   "outputs": [
    {
     "data": {
      "text/plain": [
       "pusher_lqr_controller (generic function with 1 method)"
      ]
     },
     "execution_count": 55,
     "metadata": {},
     "output_type": "execute_result"
    }
   ],
   "source": [
    "function pusher_lqr_controller(x, contactMode)\n",
    "    Jc = [1 0; 0 1; -pusher_p[2] pusher_p[1]]\n",
    "    u = uref .- K_lqr*(x .- xref)\n",
    "    f = Jc*u\n",
    "    return f\n",
    "end"
   ]
  },
  {
   "cell_type": "markdown",
   "id": "f88ed405",
   "metadata": {},
   "source": [
    "## Hybrid controller"
   ]
  },
  {
   "cell_type": "markdown",
   "id": "037b3442",
   "metadata": {},
   "source": [
    "### Hybrid system definition"
   ]
  },
  {
   "cell_type": "code",
   "execution_count": 56,
   "id": "8ce41e1e",
   "metadata": {},
   "outputs": [
    {
     "data": {
      "text/plain": [
       "domain (generic function with 1 method)"
      ]
     },
     "execution_count": 56,
     "metadata": {},
     "output_type": "execute_result"
    }
   ],
   "source": [
    "# domain\n",
    "# ineqs > 0; eqs = 0\n",
    "function domain(x, contactMode)\n",
    "    \n",
    "    cs = contactMode[1:n_contacts] .== 1\n",
    "    ss = contactMode[n_contacts+1:end]\n",
    "    \n",
    "    q = x[1:3]\n",
    "    dq = x[4:6]\n",
    "    \n",
    "    # a(q) = or > 0\n",
    "    \n",
    "    a = compute_a(q)\n",
    "    \n",
    "    eqs_a = a[cs]\n",
    "    ineqs_a = a[.~cs]\n",
    "    \n",
    "    # A_eq dq = 0; A_geq dq > 0\n",
    "    \n",
    "    A_eq, A_geq, _, _ = sliding_velocity_constraints(x, contactMode)\n",
    "    \n",
    "    eqs_A = A_eq*dq\n",
    "    ineqs_A = A_geq*dq\n",
    "    \n",
    "    # separating contacts\n",
    "    separate_cs = (cs.!=1) .& (abs.(a) .< 1e-6)\n",
    "    _, A_separate, _ = contact_mode_constraints(x, [separate_cs; ones(n_contacts)])\n",
    "    \n",
    "    ineqs_A_sep = A_separate*dq\n",
    "    \n",
    "    ineqs = [zeros(0); ineqs_a; ineqs_A]#; ineqs_A_sep]\n",
    "    eqs = [zeros(0); eqs_a; eqs_A]\n",
    "    \n",
    "    return ineqs, eqs\n",
    "end"
   ]
  },
  {
   "cell_type": "code",
   "execution_count": 57,
   "id": "b3ccb0b3",
   "metadata": {},
   "outputs": [
    {
     "data": {
      "text/plain": [
       "guard_set (generic function with 1 method)"
      ]
     },
     "execution_count": 57,
     "metadata": {},
     "output_type": "execute_result"
    }
   ],
   "source": [
    "function guard_set(x, mode_from, mode_to)\n",
    "    #Todo\n",
    "    \n",
    "    ineqs = zeros(0)\n",
    "    eqs = zeros(0)\n",
    "    \n",
    "    q = x[1:3]\n",
    "    dq = x[4:6]\n",
    "    \n",
    "    d_ineqs, d_eqs = domain(x, mode_from)\n",
    "    # c: d_ineqs > 0, d_eqs = 0\n",
    "    ineqs = [ineqs; d_ineqs]\n",
    "    eqs = [eqs; d_eqs]\n",
    "    \n",
    "    cs_mode_to = mode_to[1:n_contacts].==1\n",
    "    cs_mode_from = mode_from[1:n_contacts].==1\n",
    "    \n",
    "    A_f_new, A_new, dA_new = contact_mode_constraints(x, mode_to)\n",
    "    \n",
    "    # if there is new impact\n",
    "    new_cs = (cs_mode_from.==false).& (cs_mode_to.==true)\n",
    "    if sum(new_cs) > 0\n",
    "            a_new = compute_a(x)\n",
    "        # c: a_new[new_cs] .== 0\n",
    "        eqs = [eqs; a_new[new_cs]]\n",
    "        \n",
    "        _, A_impact, _, = contact_mode_constraints(x, [new_cs; ones(n_contacts)])\n",
    "        #c: A_impact*dq < 0\n",
    "        ineqs = [ineqs; -A_impact*dq]\n",
    "        \n",
    "        p_hat = pinv(A_new*inv(M)*A_f_new')*A_new*dq\n",
    "        #c: contact_force_constraints(p_hat, mode_to) > 0\n",
    "        ineqs = [ineqs; contact_force_constraints(p_hat, mode_to)]\n",
    "    end\n",
    "    \n",
    "    # if it is stick -> slide: do nothing, guard = domain\n",
    "    # if it is slide -> stick: A_stick dq = 0\n",
    "    ss_mode_to = mode_to[n_contacts+1:end]\n",
    "    ss_mode_from = mode_from[n_contacts+1:end]\n",
    "    ss_new_stick = (cs_mode_from.==true).& (cs_mode_to.==true) .& (ss_mode_to .== 0) .& (ss_mode_from .!=0)\n",
    "    \n",
    "    if sum(ss_new_stick) > 0    \n",
    "        A_stick, _, _, _ = sliding_velocity_constraints(x, [ss_new_stick; zeros(n_contacts)])\n",
    "        # c: A_stick*dq = 0\n",
    "        eqs = [eqs; A_stick*dq]\n",
    "    end\n",
    "        \n",
    "    return ineqs, eqs\n",
    "end"
   ]
  },
  {
   "cell_type": "code",
   "execution_count": 58,
   "id": "8e60face",
   "metadata": {},
   "outputs": [
    {
     "data": {
      "text/plain": [
       "jumpmap (generic function with 1 method)"
      ]
     },
     "execution_count": 58,
     "metadata": {},
     "output_type": "execute_result"
    }
   ],
   "source": [
    "function jumpmap(x, mode_from, mode_to)\n",
    "    \n",
    "    q = x[1:3]\n",
    "    dq = x[4:6]\n",
    "\n",
    "    A_f, A, dA = contact_mode_constraints(x, mode_to)\n",
    "    \n",
    "    c = size(A, 1)\n",
    "    #\n",
    "    blockMat = [M A_f'; A zeros(size(A,1),size(A_f',2))] \n",
    "    \n",
    "    b = [M*dq; zeros(c)]\n",
    "\n",
    "    H = [zeros(3,size(blockMat,2)); zeros(size(blockMat,1)-3,3) 1e-6*I]\n",
    "    z =(blockMat.+H)\\b\n",
    "        \n",
    "    dq_p = z[1:3]\n",
    "    p_hat = z[4:end]\n",
    "    \n",
    "    return [x[1:3]; dq_p]\n",
    "end"
   ]
  },
  {
   "cell_type": "code",
   "execution_count": 59,
   "id": "b379be17",
   "metadata": {},
   "outputs": [
    {
     "data": {
      "text/plain": [
       "dVdx (generic function with 1 method)"
      ]
     },
     "execution_count": 59,
     "metadata": {},
     "output_type": "execute_result"
    }
   ],
   "source": [
    "\n",
    "\n",
    "function V(x)\n",
    "    q = x[1:3] + x[4:6]\n",
    "    dq = x[4:6]\n",
    "    v = 0.5*([q;dq] .- xref)'*Q_lqr*([q;dq] .- xref)\n",
    "    return v\n",
    "end \n",
    "\n",
    "function dVdx(x)\n",
    "    res = ForwardDiff.gradient(V, x)\n",
    "    return res\n",
    "end"
   ]
  },
  {
   "cell_type": "code",
   "execution_count": 382,
   "id": "ee9e5ce1",
   "metadata": {},
   "outputs": [
    {
     "data": {
      "text/plain": [
       "hybrid_constraints_matrix (generic function with 1 method)"
      ]
     },
     "execution_count": 382,
     "metadata": {},
     "output_type": "execute_result"
    }
   ],
   "source": [
    "function hybrid_constraints_matrix(x, u_ref)\n",
    "    # A*z + b>= 0\n",
    "    # u = z[1:2]\n",
    "    # β = z[3:175]\n",
    "    # α = z[176:end]\n",
    "    \n",
    "    n = 2+173+19\n",
    "    m = 19 \n",
    "    A = zeros(m, n)\n",
    "    b = zeros(m)\n",
    "\n",
    "    # α = 10\n",
    "    \n",
    "    Vx = dVdx(x)\n",
    "    Vv = V(x)\n",
    "    \n",
    "    n_modes = size(modes,1)\n",
    "    \n",
    "    β_idx = 1\n",
    "    \n",
    "    nominal_mode = modes[10,:] # [1 1 1 1]\n",
    "    \n",
    "\n",
    "    # mode dynamics\n",
    "    \n",
    "    for k = 1:n_modes\n",
    "    \n",
    "        m = modes[k,:]\n",
    "        \n",
    "        d_ineq, d_eq = domain(x, m)\n",
    "        \n",
    "        if sum(d_ineq.<0)>0 || sum(abs.(d_eq) .> 1e-6)>0\n",
    "            b[k] = 0.1\n",
    "            continue\n",
    "        end\n",
    "        \n",
    "        n_ineq = size(d_ineq, 1)\n",
    "        n_eq = size(d_eq, 1)\n",
    "        \n",
    "        dfdu = ForwardDiff.jacobian(_u->continuous_dynamics_differentiable(x, _u, m), u_ref)\n",
    "        \n",
    "        b[k] = -Vx'*continuous_dynamics_differentiable(x, u_ref, m)\n",
    "        # α\n",
    "        A[k, 175+k] = -Vv\n",
    "        A[k, 1:2] = -Vx'*dfdu\n",
    "        A[k, β_idx:β_idx+n_ineq-1] .= -d_ineq\n",
    "        A[k, β_idx+n_ineq:β_idx+n_ineq+n_eq-1] .= -d_eq \n",
    "        A[k, β_idx+n_ineq+n_eq:β_idx+n_ineq+2*n_eq-1] .= d_eq \n",
    "        \n",
    "        β_idx += n_ineq + 2*n_eq\n",
    "        \n",
    "    end\n",
    "    \n",
    "    nominal_mode = modes[10,:]\n",
    "    \n",
    "    for k = 1:(n_modes-1)\n",
    "        \n",
    "        mode_from = modes[k,:]\n",
    "        \n",
    "        d_ineq, d_eq = guard_set(x, mode_from, nominal_mode)\n",
    "        \n",
    "        if sum(d_ineq.<0)>0 || sum(abs.(d_eq) .> 1e-6)>0\n",
    "            b[k] = 0.1\n",
    "            continue\n",
    "        end\n",
    "        \n",
    "        n_ineq = size(d_ineq, 1)\n",
    "        n_eq = size(d_eq, 1)\n",
    "        \n",
    "        xp = jumpmap(x, mode_from, nominal_mode)\n",
    "        \n",
    "        dfdu = ForwardDiff.jacobian(_u->continuous_dynamics_differentiable(xp, _u, nominal_mode), u_ref)\n",
    "        \n",
    "        b[n_modes+k] = -Vx'*continuous_dynamics_differentiable(xp, u_ref, nominal_mode)\n",
    "        A[k, 175+n_modes+k] = -Vv\n",
    "        A[n_modes+k, 1:2] = -Vx'*dfdu\n",
    "        A[n_modes+k, β_idx:β_idx+n_ineq-1] .= -d_ineq\n",
    "        A[n_modes+k, β_idx+n_ineq:β_idx+n_ineq+n_eq-1] .= -d_eq \n",
    "        A[n_modes+k, β_idx+n_ineq+n_eq:β_idx+n_ineq+2*n_eq-1] .= d_eq \n",
    "        \n",
    "        β_idx += n_ineq + 2*n_eq\n",
    "        \n",
    "    end\n",
    "    \n",
    "    return A, b\n",
    "    \n",
    "end"
   ]
  },
  {
   "cell_type": "code",
   "execution_count": null,
   "id": "b4c82c31",
   "metadata": {},
   "outputs": [],
   "source": [
    "hybrid_constraints_matrix"
   ]
  },
  {
   "cell_type": "code",
   "execution_count": 383,
   "id": "0bf510b6",
   "metadata": {},
   "outputs": [],
   "source": [
    "using Convex, SCS"
   ]
  },
  {
   "cell_type": "code",
   "execution_count": 384,
   "id": "1f253803",
   "metadata": {},
   "outputs": [
    {
     "name": "stdout",
     "output_type": "stream",
     "text": [
      "----------------------------------------------------------------------------\n",
      "\tSCS v2.1.4 - Splitting Conic Solver\n",
      "\t(c) Brendan O'Donoghue, Stanford University, 2012\n",
      "----------------------------------------------------------------------------\n",
      "Lin-sys: sparse-indirect, nnz in A = 394, CG tol ~ 1/iter^(2.00)\n",
      "eps = 1.00e-05, alpha = 1.50, max_iters = 5000, normalize = 1, scale = 1.00\n",
      "acceleration_lookback = 10, rho_x = 1.00e-03\n",
      "Variables n = 197, constraints m = 413\n",
      "Cones:\tprimal zero / dual free vars: 1\n",
      "\tlinear vars: 214\n",
      "\tsoc vars: 198, soc blks: 2\n",
      "Setup time: 7.68e-05s\n",
      "----------------------------------------------------------------------------\n",
      " Iter | pri res | dua res | rel gap | pri obj | dua obj | kap/tau | time (s)\n",
      "----------------------------------------------------------------------------\n",
      "     0| 1.40e+20  8.78e+19  1.00e+00 -5.54e+21  2.12e+21  4.15e+21  3.21e-05 \n",
      "    80| 1.41e-10  1.84e-11  3.49e-10  1.73e-10 -1.76e-10  3.22e-15  3.35e-03 \n",
      "----------------------------------------------------------------------------\n",
      "Status: Solved\n",
      "Timing: Solve time: 3.35e-03s\n",
      "\tLin-sys: avg # CG iterations: 1.54, avg solve time: 4.54e-06s\n",
      "\tCones: avg projection time: 2.71e-07s\n",
      "\tAcceleration: avg step time: 3.01e-05s\n",
      "----------------------------------------------------------------------------\n",
      "Error metrics:\n",
      "dist(s, K) = 3.5689e-15, dist(y, K*) = 0.0000e+00, s'y/|s||y| = 4.5331e-17\n",
      "primal res: |Ax + s - b|_2 / (1 + |b|_2) = 1.4144e-10\n",
      "dual res:   |A'y + c|_2 / (1 + |c|_2) = 1.8424e-11\n",
      "rel gap:    |c'x + b'y| / (1 + |c'x| + |b'y|) = 3.4865e-10\n",
      "----------------------------------------------------------------------------\n",
      "c'x = 0.0000, -b'y = -0.0000\n",
      "============================================================================\n"
     ]
    },
    {
     "data": {
      "text/plain": [
       "OPTIMAL::TerminationStatusCode = 1"
      ]
     },
     "execution_count": 384,
     "metadata": {},
     "output_type": "execute_result"
    }
   ],
   "source": [
    "\n",
    "z = Variable(194)\n",
    "A, b = hybrid_constraints_matrix(zeros(6), zeros(2))\n",
    "\n",
    "problem = minimize(sumsquares(z - [zeros(175); 10*ones(19)]))\n",
    "problem.constraints += A*z + b >= 0\n",
    "problem.constraints += z[3:end] >= 0\n",
    "problem.constraints += z[1:2] <= 20\n",
    "\n",
    "Convex.solve!(problem, () -> SCS.Optimizer(verbose=true))\n",
    "problem.status"
   ]
  },
  {
   "cell_type": "markdown",
   "id": "69d2d1d3",
   "metadata": {},
   "source": [
    "### Interface with Convex.jl"
   ]
  },
  {
   "cell_type": "code",
   "execution_count": 180,
   "id": "73c34b9e",
   "metadata": {},
   "outputs": [],
   "source": [
    "\n",
    "# n_control_var = 2+173\n",
    "# n_control_constraints = 19 # total number of constraints"
   ]
  },
  {
   "cell_type": "markdown",
   "id": "61d4461f",
   "metadata": {},
   "source": [
    "### define the controller"
   ]
  },
  {
   "cell_type": "code",
   "execution_count": 136,
   "id": "d8eabc3c",
   "metadata": {},
   "outputs": [
    {
     "data": {
      "text/plain": [
       "hybrid_reference_lqr (generic function with 1 method)"
      ]
     },
     "execution_count": 136,
     "metadata": {},
     "output_type": "execute_result"
    }
   ],
   "source": [
    "function hybrid_reference_lqr(x, contactMode)\n",
    "    Jc = [1 0; 0 1; -pusher_p[2] pusher_p[1]]\n",
    "    u = uref .- K_lqr*(x .- xref)\n",
    "    return u\n",
    "end"
   ]
  },
  {
   "cell_type": "code",
   "execution_count": 213,
   "id": "cf3e84bd",
   "metadata": {},
   "outputs": [
    {
     "data": {
      "text/plain": [
       "hybrid_controller (generic function with 1 method)"
      ]
     },
     "execution_count": 213,
     "metadata": {},
     "output_type": "execute_result"
    }
   ],
   "source": [
    "function hybrid_controller(x, contactMode)\n",
    "    \n",
    "    u_ref = hybrid_controller_reference(x, contactMode) # from reference controller\n",
    "    \n",
    "    α_ref = 10\n",
    "\n",
    "    z = Variable(194)\n",
    "    A, b = hybrid_constraints_matrix(x, u_ref)\n",
    "    \n",
    "    μ_mnp = 0.8\n",
    "    FC = [1 0; μ_mnp -1; μ_mnp 1]\n",
    "\n",
    "    problem = minimize(sumsquares(z - [zeros(175); α_ref*ones(19)]))\n",
    "    problem.constraints += A*z + b >= 0\n",
    "    problem.constraints += z[3:end] >= 0\n",
    "    #problem.constraints += FC*(z[1:2]+u_ref) >= 0\n",
    "    problem.constraints += z[1:2] <= 20\n",
    "    problem.constraints += z[1:2] >= -20\n",
    "\n",
    "\n",
    "    Convex.solve!(problem, () -> SCS.Optimizer(verbose=false))\n",
    "    \n",
    "    z_sol = evaluate(z)\n",
    "    if(any(isnan.(z_sol))) # infeasible\n",
    "        z_sol = zeros(175)\n",
    "        println(\"Infeasible: \")\n",
    "        println(x)\n",
    "        println(contactMode)\n",
    "    end\n",
    "    \n",
    "    u = z_sol[1:2] .+ u_ref\n",
    "    \n",
    "    # return space wrench\n",
    "    Jc = [1 0; 0 1; -pusher_p[2] pusher_p[1]]\n",
    "    f = Jc*u\n",
    "    \n",
    "    return f\n",
    "    \n",
    "end"
   ]
  },
  {
   "cell_type": "code",
   "execution_count": 293,
   "id": "d0ed541a",
   "metadata": {},
   "outputs": [
    {
     "name": "stdout",
     "output_type": "stream",
     "text": [
      "[7.494451455551681, 1.2947339945530971, -0.6473669972765486]\n",
      "[3.2968616499119303, 1.0554388987223589, -0.5277194493611794]\n"
     ]
    }
   ],
   "source": [
    "θ0 = -0.3\n",
    "x0 = [0;h/2 - sin(θ0)*w/2;θ0;0;0;0]\n",
    "initial_mode = mode(x0, controller)\n",
    "\n",
    "println(pusher_lqr_controller(x0, initial_mode))\n",
    "println(hybrid_controller(x0, initial_mode))"
   ]
  },
  {
   "cell_type": "markdown",
   "id": "dad42584",
   "metadata": {},
   "source": [
    "## simulate the sliding box "
   ]
  },
  {
   "cell_type": "code",
   "execution_count": 544,
   "id": "b0b7f987",
   "metadata": {},
   "outputs": [
    {
     "data": {
      "text/plain": [
       "0.05"
      ]
     },
     "execution_count": 544,
     "metadata": {},
     "output_type": "execute_result"
    }
   ],
   "source": [
    "# specify the controller\n",
    "controller = hybrid_controller\n",
    "hybrid_controller_reference = hybrid_reference_lqr\n",
    "\n",
    "h_control = Δt"
   ]
  },
  {
   "cell_type": "code",
   "execution_count": 545,
   "id": "ca461725",
   "metadata": {},
   "outputs": [
    {
     "data": {
      "text/plain": [
       "6-element Vector{Float64}:\n",
       "  0.0\n",
       "  1.0947091711543253\n",
       " -0.4\n",
       "  0.0\n",
       "  0.0\n",
       "  0.0"
      ]
     },
     "execution_count": 545,
     "metadata": {},
     "output_type": "execute_result"
    }
   ],
   "source": [
    "# initial condition\n",
    "\n",
    "# # basic test\n",
    "# x0 = [0;h/2;0;0;0;0]\n",
    "\n",
    "# # lqr fail 1\n",
    "# θ0 = -0.3\n",
    "# x0 = [0;h/2 - sin(θ0)*w/2;θ0;0;0;0]\n",
    "\n",
    "# # lqr success 2\n",
    "# θ0 = -0.3\n",
    "# x0 = [0;h/2 - sin(θ0)*w/2 + 0.2;θ0;0;0;0]\n",
    "\n",
    "# # lqr fail 3\n",
    "# θ0 = -0.5\n",
    "# x0 = [0;h/2 - sin(θ0)*w/2;θ0;0;0;0]\n",
    "\n",
    "# # lqr fail 4\n",
    "# θ0 = -0.4\n",
    "# x0 = [0;h/2 - sin(θ0)*w/2;θ0;0;0;0]\n",
    "\n",
    "# lqr fail 5\n",
    "θ0 = -0.4\n",
    "x0 = [0;h/2 - sin(θ0)*w/2 + 0.5;θ0;0;0;0]"
   ]
  },
  {
   "cell_type": "code",
   "execution_count": 551,
   "id": "50a79091",
   "metadata": {},
   "outputs": [
    {
     "name": "stdout",
     "output_type": "stream",
     "text": [
      "Dynamics evalutation 0.0[-1.0891287871572786e-15, 6.807054919732992e-16, 5.445643935786393e-16]\n",
      "Dynamics evalutation 0.00805[-1.0891287871572786e-15, 6.807054919732992e-16, 5.445643935786393e-16]\n",
      "Dynamics evalutation 0.01635[-1.0891287871572786e-15, 6.807054919732992e-16, 5.445643935786393e-16]\n",
      "Dynamics evalutation 0.045000000000000005[-1.0891287871572786e-15, 6.807054919732992e-16, 5.445643935786393e-16]\n",
      "Dynamics evalutation 0.049001277045225486[-1.0891287871572786e-15, 6.807054919732992e-16, 5.445643935786393e-16]\n",
      "Dynamics evalutation 0.05[-1.0891287871572786e-15, 6.807054919732992e-16, 5.445643935786393e-16]\n",
      "Dynamics evalutation 0.05[-1.0891287871572786e-15, 6.807054919732992e-16, 5.445643935786393e-16]\n",
      "Dynamics evalutation 0.058050000000000004Control evaluation hybrid_controller[3.3555909710977154, -1.0941165370034076, 0.5470582685017038]\n",
      "[-2.172331547867062e-15, 9.104971051447099e-16, 4.149616320458071e-16]\n",
      "Dynamics evalutation 0.06635[3.3555909710977154, -10.904116537003407, 4.002865379280759]\n",
      "Dynamics evalutation 0.095[3.3555909710977154, -10.904116537003407, 4.002865379280759]\n",
      "Dynamics evalutation 0.09900127704522549[3.3555909710977154, -10.904116537003407, 4.002865379280759]\n",
      "Dynamics evalutation 0.1[3.3555909710977154, -10.904116537003407, 4.002865379280759]\n",
      "Dynamics evalutation 0.1[3.3555909710977154, -10.904116537003407, 4.002865379280759]\n",
      "Dynamics evalutation 0.10805000000000001[3.3555909710977154, -10.904116537003407, 4.002865379280759]\n",
      "Dynamics evalutation 0.11635000000000001Control evaluation hybrid_controller[4.231471824319811, -0.5365988199044962, 0.2682994099522481]\n",
      "[4.231471824319811, -10.346598819904496, 1.963166414284742]\n",
      "Dynamics evalutation 0.14500000000000002[4.231471824319811, -10.346598819904496, 1.963166414284742]\n",
      "Dynamics evalutation 0.14900127704522548[4.231471824319811, -10.346598819904496, 1.963166414284742]\n",
      "Dynamics evalutation 0.15000000000000002[4.231471824319811, -10.346598819904496, 1.963166414284742]\n",
      "Dynamics evalutation 0.15000000000000002[4.231471824319811, -10.346598819904496, 1.963166414284742]\n",
      "Dynamics evalutation 0.15805000000000002[4.231471824319811, -10.346598819904496, 1.963166414284742]\n",
      "Dynamics evalutation 0.16635000000000003Control evaluation hybrid_controller[3.1888051616281348, -1.0517960279898044, 0.5258980139949022]\n",
      "[3.1888051616281348, -10.861796027989804, 3.8480342487431862]\n",
      "Dynamics evalutation 0.19500000000000003[3.1888051616281348, -10.861796027989804, 3.8480342487431862]\n",
      "Dynamics evalutation 0.1990012770452255[3.1888051616281348, -10.861796027989804, 3.8480342487431862]\n",
      "Dynamics evalutation 0.2[3.1888051616281348, -10.861796027989804, 3.8480342487431862]\n",
      "Dynamics evalutation 0.2[3.1888051616281348, -10.861796027989804, 3.8480342487431862]\n",
      "Dynamics evalutation 0.20805[3.1888051616281348, -10.861796027989804, 3.8480342487431862]\n",
      "Dynamics evalutation 0.21635000000000001[3.1888051616281348, -10.861796027989804, 3.8480342487431862]\n",
      "Dynamics evalutation 0.24500000000000002Control evaluation hybrid_controller[2.419499107500242, -1.3016527519045709, 0.6508263759522854]\n",
      "[2.419499107500242, -11.111652751904572, 4.762144214285015]\n",
      "Dynamics evalutation 0.24900127704522548[2.419499107500242, -11.111652751904572, 4.762144214285015]\n",
      "Dynamics evalutation 0.25[2.419499107500242, -11.111652751904572, 4.762144214285015]\n",
      "Dynamics evalutation 0.25[2.419499107500242, -11.111652751904572, 4.762144214285015]\n",
      "Dynamics evalutation 0.25805[2.419499107500242, -11.111652751904572, 4.762144214285015]\n",
      "Dynamics evalutation 0.26635[2.419499107500242, -11.111652751904572, 4.762144214285015]\n",
      "Dynamics evalutation 0.295[2.419499107500242, -11.111652751904572, 4.762144214285015]\n",
      "Dynamics evalutation 0.2990012770452255Control evaluation hybrid_controller[3.9870537464616165, -0.3949581354352572, 0.1974790677176286]\n",
      "[3.9870537464616165, -10.204958135435257, 1.44496878817777]\n",
      "Dynamics evalutation 0.3[3.9870537464616165, -10.204958135435257, 1.44496878817777]\n",
      "Dynamics evalutation 0.3[3.9870537464616165, -10.204958135435257, 1.44496878817777]\n",
      "Dynamics evalutation 0.30805[3.9870537464616165, -10.204958135435257, 1.44496878817777]\n",
      "Dynamics evalutation 0.31634999999999996[3.9870537464616165, -10.204958135435257, 1.44496878817777]\n",
      "Dynamics evalutation 0.345[3.9870537464616165, -10.204958135435257, 1.44496878817777]\n",
      "Dynamics evalutation 0.3490012770452255[3.9870537464616165, -10.204958135435257, 1.44496878817777]\n",
      "Dynamics evalutation 0.35Control evaluation hybrid_controller[4.551572784828677, -0.07764008436709104, 0.03882004218354552]\n",
      "[4.551572784828677, -9.887640084367092, 0.284049089147894]\n",
      "Dynamics evalutation 0.35[4.551572784828677, -9.887640084367092, 0.284049089147894]\n",
      "Dynamics evalutation 0.35805[4.551572784828677, -9.887640084367092, 0.284049089147894]\n",
      "Dynamics evalutation 0.36634999999999995[4.551572784828677, -9.887640084367092, 0.284049089147894]\n",
      "Dynamics evalutation 0.39499999999999996[4.551572784828677, -9.887640084367092, 0.284049089147894]\n",
      "Dynamics evalutation 0.3990012770452255[4.551572784828677, -9.887640084367092, 0.284049089147894]\n",
      "Dynamics evalutation 0.39999999999999997[4.551572784828677, -9.887640084367092, 0.284049089147894]\n",
      "Dynamics evalutation 0.39999999999999997[4.551572784828677, -9.887640084367092, 0.284049089147894]\n",
      "Dynamics evalutation 0.35641063665140876[4.551572784828677, -9.887640084367092, 0.284049089147894]\n",
      "Dynamics evalutation 0.3630203613975818[4.551572784828677, -9.887640084367092, 0.284049089147894]\n",
      "Dynamics evalutation 0.3858358570575646[4.551572784828677, -9.887640084367092, 0.284049089147894]\n",
      "Dynamics evalutation 0.389022283551796[4.551572784828677, -9.887640084367092, 0.284049089147894]\n",
      "Dynamics evalutation 0.38981761895284955[4.551572784828677, -9.887640084367092, 0.284049089147894]\n",
      "Dynamics evalutation 0.38981761895284955[4.551572784828677, -9.887640084367092, 0.284049089147894]\n",
      "New mode from IV: [0, 1, 0, 1]\n",
      "[0.18691594616190932, 0.49129193648027725, -0.19983107924505944, 0.10719063659396699, -1.4631333924085825, 3.562981984864806]\n",
      "Dynamics evalutation 0.35641063665140876[1.262332102446016, -3.30915871960177, 7.07521212060753]\n",
      "Dynamics evalutation 0.3630203613975818[1.3363714046842583, -3.457237324078255, 7.144994649094501]\n",
      "Dynamics evalutation 0.3858358570575646[1.3932196689928156, -3.5709338526953696, 8.285446701086297]\n",
      "Dynamics evalutation 0.389022283551796[1.449759646943177, -3.6840138085960925, 8.662512590057505]\n",
      "Dynamics evalutation 0.38981761895284955[1.4806303697201595, -3.7457552541500574, 8.7058917963629]\n",
      "Dynamics evalutation 0.38981761895284955[1.5791267342376178, -3.942747983184974, 7.597208424949359]\n",
      "Dynamics evalutation 0.38981761895284955[3.3702167515010464, -7.524928017711831, 3.136636372281467]\n",
      "Dynamics evalutation 0.39786761895284956[3.4096851438826494, -7.603864802475037, 3.3740359521752943]\n",
      "Dynamics evalutation 0.40616761895284953Control evaluation hybrid_controller[7.072555217275734, 1.0835790173867488, -0.5417895086933744]\n",
      "[5.759192931635857, -6.099696411333499, -0.013244304778358926]\n",
      "Dynamics evalutation 0.43481761895284954[5.297970891219089, -5.177252330499962, 3.223006877391617]\n",
      "Dynamics evalutation 0.43881889599807505[5.03298298717918, -4.647276522420143, 4.66883950050876]\n",
      "Dynamics evalutation 0.43981761895284954[4.9893368044822815, -4.5599841570263475, 4.951551133433335]\n",
      "Dynamics evalutation 0.43981761895284954[5.759842051475994, -6.100994651013773, 1.5413754980567655]\n",
      "Dynamics evalutation 0.44786761895284954[5.771217824379925, -6.123746196821635, 1.854289041442659]\n",
      "Dynamics evalutation 0.4561676189528495[5.784752563252784, -6.150815674567353, 2.1591391901265524]\n",
      "Dynamics evalutation 0.4848176189528495Control evaluation hybrid_controller[5.833031027053179, 0.46379299358449627, -0.23189649679224814]\n",
      "[4.704912034927427, -7.089969022164, 4.75040509530352]\n",
      "Dynamics evalutation 0.48881889599807504[4.704718212523156, -7.089581377355458, 4.9031575363117765]\n",
      "Dynamics evalutation 0.48981761895284953[4.705226215538167, -7.090597383385479, 4.93781967821063]\n",
      "Dynamics evalutation 0.48981761895284953[4.7250732054534454, -7.1302913632160365, 4.812486110614002]\n",
      "Dynamics evalutation 0.44073439650579893[4.643683781635704, -6.9675125155805535, 3.3292259391130523]\n",
      "Dynamics evalutation 0.44167964541132443[4.6476333574412605, -6.975411667191667, 3.3513051723258673]\n",
      "Dynamics evalutation 0.44494246241654184[4.6365140584101106, -6.953173069129367, 3.534337722195527]\n",
      "Dynamics evalutation 0.4453981494945784[4.62109426528378, -6.922333482876707, 3.6215874305003757]\n",
      "Dynamics evalutation 0.4455118894680632[4.617766157673952, -6.915677267657049, 3.6411517541943]\n",
      "Dynamics evalutation 0.4455118894680632[4.65760812630503, -6.995361204919207, 3.4644764828787054]\n",
      "New mode from IV: [1, 0, 0, 0]\n",
      "[0.20107247812256812, 0.4000266471922414, 5.3295520672918155e-5, 0.42031641423533245, -0.5253381191012336, -1.0507210386745571]\n",
      "Dynamics evalutation 0.44073439650579893[-1.4161914295890812, -11.824331130748682, -13.264613450938667]\n",
      "Dynamics evalutation 0.44167964541132443[5.833031027053179, -9.346207006415504, -1.69680363506523]\n",
      "Dynamics evalutation 0.44494246241654184[5.833031027053179, -9.346207006415504, -1.69680363506523]\n",
      "Dynamics evalutation 0.4453981494945784[5.833031027053179, -9.346207006415504, -1.69680363506523]\n",
      "Dynamics evalutation 0.4455118894680632[5.833031027053179, -9.346207006415504, -1.69680363506523]\n",
      "Dynamics evalutation 0.4455118894680632[5.833031027053179, -9.346207006415504, -1.69680363506523]\n",
      "Dynamics evalutation 0.4455118894680632[5.833031027053179, -9.346207006415504, -1.69680363506523]\n",
      "Dynamics evalutation 0.4535618894680632[5.833031027053179, -9.346207006415504, -1.69680363506523]\n",
      "Dynamics evalutation 0.46186188946806317[5.833031027053179, -9.346207006415504, -1.69680363506523]\n",
      "Dynamics evalutation 0.4905118894680632[5.833031027053179, -9.346207006415504, -1.69680363506523]\n",
      "Dynamics evalutation 0.4945131665132887[5.833031027053179, -9.346207006415504, -1.69680363506523]\n",
      "Dynamics evalutation 0.4955118894680632[5.833031027053179, -9.346207006415504, -1.69680363506523]\n",
      "Dynamics evalutation 0.4955118894680632[5.833031027053179, -9.346207006415504, -1.69680363506523]\n",
      "Dynamics evalutation 0.4455200539184894[5.833031027053179, -9.346207006415504, -1.69680363506523]\n"
     ]
    },
    {
     "name": "stdout",
     "output_type": "stream",
     "text": [
      "Dynamics evalutation 0.4455284719232767[5.833031027053179, -9.346207006415504, -1.69680363506523]\n",
      "Dynamics evalutation 0.4455575292530545[5.833031027053179, -9.346207006415504, -1.69680363506523]\n",
      "Dynamics evalutation 0.44556158741803303[5.833031027053179, -9.346207006415504, -1.69680363506523]\n",
      "Dynamics evalutation 0.4455626003402757[5.833031027053179, -9.346207006415504, -1.69680363506523]\n",
      "Dynamics evalutation 0.4455626003402757[5.833031027053179, -9.346207006415504, -1.69680363506523]\n",
      "New mode from IV: [1, 1, 1, 1]\n",
      "[0.20109380023462883, 0.3999999948206971, 1.0358605869593693e-8, 0.1577061756211532, 2.2551405187698492e-17, -4.51028100016352e-17]\n",
      "Dynamics evalutation 0.4455200539184894[1.3807362867798472, -0.44161752586883996, 4.9369484010485534e-5]\n",
      "Dynamics evalutation 0.4455284719232767[1.380730157160279, -0.4416052666297037, 3.960288476767615e-5]\n",
      "Dynamics evalutation 0.4455575292530545[1.3808352530282633, -0.44181545836567215, 5.9042755923238435e-6]\n",
      "Dynamics evalutation 0.44556158741803303[1.3809231183041857, -0.441991188917517, 1.2006026812809095e-6]\n",
      "Dynamics evalutation 0.4455626003402757[1.3809424971090525, -0.4420299465272506, 2.5949204075423465e-8]\n",
      "Dynamics evalutation 0.4455626003402757[1.38073395201195, -0.4416128563330455, 1.3380292299858076e-8]\n",
      "Dynamics evalutation 0.4455626003402757[1.159927523845427, 4.440892098500626e-16, -8.881784123398931e-16]\n",
      "Dynamics evalutation 0.45361260034027573[1.159927523845427, 4.440892098500626e-16, -8.881784123398931e-16]\n",
      "Dynamics evalutation 0.4619126003402757[1.159927523845427, 4.440892098500626e-16, -8.881784123398931e-16]\n",
      "Dynamics evalutation 0.4905626003402757[1.159927523845427, 4.440892098500626e-16, -8.881784123398931e-16]\n",
      "Dynamics evalutation 0.4945638773855012[1.159927523845427, 4.440892098500626e-16, -8.881784123398931e-16]\n",
      "Dynamics evalutation 0.4955626003402757[1.159927523845427, 4.440892098500626e-16, -8.881784123398931e-16]\n",
      "Dynamics evalutation 0.4955626003402757[1.159927523845427, 4.440892098500626e-16, -8.881784123398931e-16]\n",
      "Dynamics evalutation 0.5036126003402757[1.159927523845427, 4.440892098500626e-16, -8.881784123398931e-16]\n",
      "Dynamics evalutation 0.5119126003402757[1.159927523845427, 4.440892098500626e-16, -8.881784123398931e-16]\n",
      "Dynamics evalutation 0.5405626003402757Control evaluation hybrid_controller[5.625157568568742, -0.227712419771966, 0.113856209885983]\n",
      "[0.6063013586827588, -8.881784197001252e-16, 1.7763568246797863e-15]\n",
      "Dynamics evalutation 0.5445638773855012[0.6063013586827588, -8.881784197001252e-16, 1.7763568246797863e-15]\n",
      "Dynamics evalutation 0.5455626003402757[0.6063013586827588, -8.881784197001252e-16, 1.7763568246797863e-15]\n",
      "Dynamics evalutation 0.5455626003402757[0.6063013586827588, -8.881784197001252e-16, 1.7763568246797863e-15]\n",
      "Dynamics evalutation 0.5536126003402757[0.6063013586827588, -8.881784197001252e-16, 1.7763568246797863e-15]\n",
      "Dynamics evalutation 0.5619126003402757[0.6063013586827588, -8.881784197001252e-16, 1.7763568246797863e-15]\n",
      "Dynamics evalutation 0.5905626003402757[0.6063013586827588, -8.881784197001252e-16, 1.7763568246797863e-15]\n",
      "Dynamics evalutation 0.5945638773855012Control evaluation hybrid_controller[5.6323211679404075, -0.18939923926378655, 0.09469961963189327]\n",
      "[0.6326215483085129, 1.3322676295501878e-15, -2.6645352370196793e-15]\n",
      "Dynamics evalutation 0.5955626003402757[0.6326215483085129, 1.3322676295501878e-15, -2.6645352370196793e-15]\n",
      "Dynamics evalutation 0.5955626003402757[0.6326215483085129, 1.3322676295501878e-15, -2.6645352370196793e-15]\n",
      "Dynamics evalutation 0.6036126003402758[0.6326215483085129, 1.3322676295501878e-15, -2.6645352370196793e-15]\n",
      "Dynamics evalutation 0.6119126003402757[0.6326215483085129, 1.3322676295501878e-15, -2.6645352370196793e-15]\n",
      "Dynamics evalutation 0.6405626003402758[0.6326215483085129, 1.3322676295501878e-15, -2.6645352370196793e-15]\n",
      "Dynamics evalutation 0.6445638773855012[0.6326215483085129, 1.3322676295501878e-15, -2.6645352370196793e-15]\n",
      "Dynamics evalutation 0.6455626003402758Control evaluation hybrid_controller[9.537898302565832, -3.1550803375308423, 1.5775401687654211]\n",
      "[3.055358133800411, -8.881784197001252e-16, 1.7763568246797863e-15]\n",
      "Dynamics evalutation 0.6455626003402758[3.055358133800411, -8.881784197001252e-16, 1.7763568246797863e-15]\n",
      "Dynamics evalutation 0.6536126003402758[3.055358133800411, -8.881784197001252e-16, 1.7763568246797863e-15]\n",
      "Dynamics evalutation 0.6619126003402758[3.055358133800411, -8.881784197001252e-16, 1.7763568246797863e-15]\n",
      "Dynamics evalutation 0.6905626003402758[3.055358133800411, -8.881784197001252e-16, 1.7763568246797863e-15]\n",
      "Dynamics evalutation 0.6945638773855013[3.055358133800411, -8.881784197001252e-16, 1.7763568246797863e-15]\n",
      "Dynamics evalutation 0.6955626003402758[3.055358133800411, -8.881784197001252e-16, 1.7763568246797863e-15]\n",
      "Dynamics evalutation 0.6955626003402758[3.055358133800411, -8.881784197001252e-16, 1.7763568246797863e-15]\n",
      "Dynamics evalutation 0.7036126003402758Control evaluation hybrid_controller[5.774520293651918, 0.4347604958135469, -0.21738024790677346]\n",
      "[1.0869005415586912, 0.0, 0.0]\n",
      "Dynamics evalutation 0.7119126003402758[1.0869005415586912, 0.0, 0.0]\n",
      "Dynamics evalutation 0.7405626003402759[1.0869005415586912, 0.0, 0.0]\n",
      "Dynamics evalutation 0.7445638773855013[1.0869005415586912, 0.0, 0.0]\n",
      "Dynamics evalutation 0.7455626003402759[1.0869005415586912, 0.0, 0.0]\n",
      "Dynamics evalutation 0.7455626003402759[1.0869005415586912, 0.0, 0.0]\n",
      "Dynamics evalutation 0.7536126003402759[1.0869005415586912, 0.0, 0.0]\n",
      "Dynamics evalutation 0.7619126003402759Control evaluation hybrid_controller[5.548189742749024, 0.32159058813207303, -0.16079529406603651]\n",
      "[0.8039850368150601, 4.440892098500626e-16, -8.881784123398931e-16]\n",
      "Dynamics evalutation 0.7905626003402759[0.8039850368150601, 4.440892098500626e-16, -8.881784123398931e-16]\n",
      "Dynamics evalutation 0.7945638773855014[0.8039850368150601, 4.440892098500626e-16, -8.881784123398931e-16]\n",
      "Dynamics evalutation 0.7955626003402759[0.8039850368150601, 4.440892098500626e-16, -8.881784123398931e-16]\n",
      "Dynamics evalutation 0.7955626003402759[0.8039850368150601, 4.440892098500626e-16, -8.881784123398931e-16]\n",
      "Dynamics evalutation 0.8036126003402759[0.8039850368150601, 4.440892098500626e-16, -8.881784123398931e-16]\n",
      "Dynamics evalutation 0.8119126003402759[0.8039850368150601, 4.440892098500626e-16, -8.881784123398931e-16]\n",
      "Dynamics evalutation 0.840562600340276Control evaluation hybrid_controller[5.30858401218917, 0.2017970977360394, -0.1008985488680197]\n",
      "[0.504482561057189, 8.881784197001252e-16, -1.7763568246797863e-15]\n",
      "Dynamics evalutation 0.8445638773855014[0.504482561057189, 8.881784197001252e-16, -1.7763568246797863e-15]\n",
      "Dynamics evalutation 0.845562600340276[0.504482561057189, 8.881784197001252e-16, -1.7763568246797863e-15]\n",
      "Dynamics evalutation 0.845562600340276[0.504482561057189, 8.881784197001252e-16, -1.7763568246797863e-15]\n",
      "Dynamics evalutation 0.853612600340276[0.504482561057189, 8.881784197001252e-16, -1.7763568246797863e-15]\n",
      "Dynamics evalutation 0.861912600340276[0.504482561057189, 8.881784197001252e-16, -1.7763568246797863e-15]\n",
      "Dynamics evalutation 0.890562600340276[0.504482561057189, 8.881784197001252e-16, -1.7763568246797863e-15]\n",
      "Dynamics evalutation 0.8945638773855015Control evaluation hybrid_controller[5.218591482759981, 0.15679078800612023, -0.07839539400306011]\n",
      "[0.39198687676304034, 1.3322676295501878e-15, -2.6645352370196793e-15]\n",
      "Dynamics evalutation 0.895562600340276[0.39198687676304034, 1.3322676295501878e-15, -2.6645352370196793e-15]\n",
      "Dynamics evalutation 0.895562600340276[0.39198687676304034, 1.3322676295501878e-15, -2.6645352370196793e-15]\n",
      "Dynamics evalutation 0.903612600340276[0.39198687676304034, 1.3322676295501878e-15, -2.6645352370196793e-15]\n",
      "Dynamics evalutation 0.911912600340276[0.39198687676304034, 1.3322676295501878e-15, -2.6645352370196793e-15]\n",
      "Dynamics evalutation 0.9405626003402761[0.39198687676304034, 1.3322676295501878e-15, -2.6645352370196793e-15]\n",
      "Dynamics evalutation 0.9445638773855015[0.39198687676304034, 1.3322676295501878e-15, -2.6645352370196793e-15]\n",
      "Dynamics evalutation 0.9455626003402761Control evaluation hybrid_controller[5.116550095262584, 0.10577547262201843, -0.052887736311009216]\n",
      "[0.26443783157359313, 0.0, 0.0]\n",
      "Dynamics evalutation 0.9455626003402761[0.26443783157359313, 0.0, 0.0]\n",
      "Dynamics evalutation 0.9536126003402761[0.264437831573594, -1.7763568394002505e-15, 3.5527136493595718e-15]\n",
      "Dynamics evalutation 0.961912600340276[0.264437831573594, -1.7763568394002505e-15, 3.5527136493595718e-15]\n",
      "Dynamics evalutation 0.9905626003402761[0.264437831573594, -1.7763568394002505e-15, 3.5527136493595718e-15]\n",
      "Dynamics evalutation 0.9945638773855016[0.264437831573594, -1.7763568394002505e-15, 3.5527136493595718e-15]\n",
      "Dynamics evalutation 0.9955626003402761[0.264437831573594, -1.7763568394002505e-15, 3.5527136493595718e-15]\n",
      "Dynamics evalutation 0.9955626003402761[0.264437831573594, -1.7763568394002505e-15, 3.5527136493595718e-15]\n",
      "Dynamics evalutation 1.003612600340276Control evaluation hybrid_controller[5.114451230633259, 0.10472565919129043, -0.05236282959564521]\n",
      "[0.2618140602289043, -8.881784197001252e-16, 1.7763568246797859e-15]\n",
      "Dynamics evalutation 1.011912600340276[0.2618140602289043, -8.881784197001252e-16, 1.7763568246797859e-15]\n",
      "Dynamics evalutation 1.0405626003402761[0.26181406022890474, -1.7763568394002505e-15, 3.5527136493595718e-15]\n",
      "Dynamics evalutation 1.0445638773855015[0.26181406022890474, -1.7763568394002505e-15, 3.5527136493595718e-15]\n",
      "Dynamics evalutation 1.045562600340276[0.26181406022890474, -1.7763568394002505e-15, 3.5527136493595718e-15]\n",
      "Dynamics evalutation 1.045562600340276[0.26181406022890474, -1.7763568394002505e-15, 3.5527136493595718e-15]\n",
      "Dynamics evalutation 1.053612600340276[0.26181406022890474, -1.7763568394002505e-15, 3.5527136493595718e-15]\n",
      "Dynamics evalutation 1.0619126003402761Control evaluation hybrid_controller[5.053479011050262, 0.0742342485239121, -0.03711712426195605]\n",
      "[0.18559613531221775, 0.0, 0.0]\n",
      "Dynamics evalutation 1.090562600340276[0.18559613531221775, 0.0, 0.0]\n",
      "Dynamics evalutation 1.0945638773855015[0.18559613531221775, 0.0, 0.0]\n",
      "Dynamics evalutation 1.095562600340276[0.18559613531221775, 0.0, 0.0]\n",
      "Dynamics evalutation 1.095562600340276[0.18559613531221775, 0.0, 0.0]\n",
      "Dynamics evalutation 1.103612600340276[0.18559613531221775, 0.0, 0.0]\n",
      "Dynamics evalutation 1.1119126003402762[0.18559613531221775, 0.0, 0.0]\n",
      "Dynamics evalutation 1.140562600340276Control evaluation hybrid_controller[4.965551844064972, 0.030280767683322513, -0.015140383841661257]\n",
      "[0.07569222790663277, 8.881784197001252e-16, -1.7763568246797859e-15]\n",
      "Dynamics evalutation 1.1445638773855016[0.07569222790663277, 8.881784197001252e-16, -1.7763568246797859e-15]\n",
      "Dynamics evalutation 1.1455626003402761[0.07569222790663277, 8.881784197001252e-16, -1.7763568246797859e-15]\n",
      "Dynamics evalutation 1.1455626003402761[0.07569222790663277, 8.881784197001252e-16, -1.7763568246797859e-15]\n",
      "Dynamics evalutation 1.153612600340276[0.07569222790663277, 8.881784197001252e-16, -1.7763568246797859e-15]\n",
      "Dynamics evalutation 1.1619126003402762[0.07569222790663277, 8.881784197001252e-16, -1.7763568246797859e-15]\n",
      "Dynamics evalutation 1.190562600340276[0.07569222790663344, -4.440892098500626e-16, 8.881784123398929e-16]\n",
      "Dynamics evalutation 1.1945638773855016Control evaluation hybrid_controller[4.959369212467526, 0.027183547063145266, -0.013591773531572633]\n",
      "[0.06796098599909794, 1.3322676295501878e-15, -2.6645352370196785e-15]\n",
      "Dynamics evalutation 1.1955626003402762[0.06796098599909794, 1.3322676295501878e-15, -2.6645352370196785e-15]\n",
      "Dynamics evalutation 1.1955626003402762[0.06796098599909794, 1.3322676295501878e-15, -2.6645352370196785e-15]\n",
      "Dynamics evalutation 1.203612600340276[0.06796098599909794, 1.3322676295501878e-15, -2.6645352370196785e-15]\n",
      "Dynamics evalutation 1.2119126003402763[0.06796098599909794, 1.3322676295501878e-15, -2.6645352370196785e-15]\n",
      "Dynamics evalutation 1.240562600340276[0.06796098599909883, -4.440892098500626e-16, 8.881784123398927e-16]\n",
      "Dynamics evalutation 1.2445638773855017[0.06796098599909883, -4.440892098500626e-16, 8.881784123398927e-16]\n",
      "Dynamics evalutation 1.2455626003402762Control evaluation hybrid_controller[4.973599533478545, 0.03429977362461909, -0.017149886812309546]\n",
      "[0.08574942029085442, 0.0, 0.0]\n",
      "Dynamics evalutation 1.2455626003402762[0.08574942029085442, 0.0, 0.0]\n",
      "Dynamics evalutation 1.253612600340276[0.08574942029085442, 0.0, 0.0]\n",
      "Dynamics evalutation 1.2619126003402763[0.08574942029085442, 0.0, 0.0]\n",
      "Dynamics evalutation 1.2905626003402761[0.08574942029085442, 0.0, 0.0]\n",
      "Dynamics evalutation 1.2945638773855017[0.08574942029085442, 0.0, 0.0]\n",
      "Dynamics evalutation 1.2955626003402763[0.08574942029085442, 0.0, 0.0]\n",
      "Dynamics evalutation 1.2955626003402763[0.08574942029085442, 0.0, 0.0]\n",
      "Dynamics evalutation 1.3036126003402762Control evaluation hybrid_controller[4.931191050000766, 0.013098689562760607, -0.006549344781380304]\n",
      "[0.03274039478214541, 1.3322676295501878e-15, -2.664535237019678e-15]\n",
      "Dynamics evalutation 1.3119126003402763[0.03274039478214541, 1.3322676295501878e-15, -2.664535237019678e-15]\n",
      "Dynamics evalutation 1.3405626003402762[0.03274039478214541, 1.3322676295501878e-15, -2.664535237019678e-15]\n",
      "Dynamics evalutation 1.3445638773855018[0.03274039478214541, 1.3322676295501878e-15, -2.664535237019678e-15]\n",
      "Dynamics evalutation 1.3455626003402763[0.03274039478214541, 1.3322676295501878e-15, -2.664535237019678e-15]\n",
      "Dynamics evalutation 1.3455626003402763[0.03274039478214541, 1.3322676295501878e-15, -2.664535237019678e-15]\n"
     ]
    },
    {
     "name": "stdout",
     "output_type": "stream",
     "text": [
      "Dynamics evalutation 1.3536126003402762[0.03274039478214541, 1.3322676295501878e-15, -2.664535237019678e-15]\n",
      "Dynamics evalutation 1.3619126003402764Control evaluation hybrid_controller[4.93846697802307, 0.016732776352317274, -0.008366388176158637]\n",
      "[0.04183336619922784, 0.0, 0.0]\n",
      "Dynamics evalutation 1.3905626003402762[0.04183336619922784, 0.0, 0.0]\n",
      "Dynamics evalutation 1.3945638773855018[0.04183336619922784, 0.0, 0.0]\n",
      "Dynamics evalutation 1.3955626003402763[0.04183336619922784, 0.0, 0.0]\n",
      "Dynamics evalutation 1.3955626003402763[0.04183336619922784, 0.0, 0.0]\n",
      "Dynamics evalutation 1.4036126003402762[0.04183336619922784, 0.0, 0.0]\n",
      "Dynamics evalutation 1.4119126003402764[0.04183336619922784, 0.0, 0.0]\n",
      "Dynamics evalutation 1.4405626003402763Control evaluation hybrid_controller[4.917886382737717, 0.0064429029749566566, -0.0032214514874783283]\n",
      "[0.016107834225194795, 1.3322676295501878e-15, -2.664535237019678e-15]\n",
      "Dynamics evalutation 1.4445638773855018[0.016107834225194795, 1.3322676295501878e-15, -2.664535237019678e-15]\n",
      "Dynamics evalutation 1.4455626003402764[0.016107834225194795, 1.3322676295501878e-15, -2.664535237019678e-15]\n",
      "Dynamics evalutation 1.4455626003402764[0.016107834225194795, 1.3322676295501878e-15, -2.664535237019678e-15]\n",
      "Dynamics evalutation 1.4536126003402763[0.016107834225194795, 1.3322676295501878e-15, -2.664535237019678e-15]\n",
      "Dynamics evalutation 1.4619126003402765[0.016107834225195017, 8.881784197001252e-16, -1.7763568246797855e-15]\n",
      "Dynamics evalutation 1.4905626003402763[0.016107834225195017, 8.881784197001252e-16, -1.7763568246797855e-15]\n",
      "Dynamics evalutation 1.494563877385502Control evaluation hybrid_controller[4.9166778887715274, 0.005839245550108973, -0.0029196227750544865]\n",
      "[0.014597511546581066, 4.440892098500626e-16, -8.881784123398927e-16]\n",
      "Dynamics evalutation 1.4955626003402764[0.014597511546581066, 4.440892098500626e-16, -8.881784123398927e-16]\n",
      "Dynamics evalutation 1.4955626003402764[0.014597511546581066, 4.440892098500626e-16, -8.881784123398927e-16]\n",
      "Dynamics evalutation 1.5036126003402763[0.014597511546581066, 4.440892098500626e-16, -8.881784123398927e-16]\n",
      "Dynamics evalutation 1.5119126003402765[0.014597511546581066, 4.440892098500626e-16, -8.881784123398927e-16]\n",
      "Dynamics evalutation 1.5405626003402764[0.014597511546581066, 4.440892098500626e-16, -8.881784123398927e-16]\n",
      "Dynamics evalutation 1.544563877385502[0.014597511546581066, 4.440892098500626e-16, -8.881784123398927e-16]\n",
      "Dynamics evalutation 1.5455626003402765Control evaluation hybrid_controller[4.914566304464714, 0.004772389499558574, -0.002386194749779287]\n",
      "[0.011952499214492596, 4.440892098500626e-16, -8.881784123398927e-16]\n",
      "Dynamics evalutation 1.5455626003402765[0.011952499214492596, 4.440892098500626e-16, -8.881784123398927e-16]\n",
      "Dynamics evalutation 1.5536126003402764[0.011952499214492596, 4.440892098500626e-16, -8.881784123398927e-16]\n",
      "Dynamics evalutation 1.5619126003402766[0.011952499214492596, 4.440892098500626e-16, -8.881784123398927e-16]\n",
      "Dynamics evalutation 1.5905626003402764[0.011952499214493484, -1.3322676295501878e-15, 2.6645352370196774e-15]\n",
      "Dynamics evalutation 1.594563877385502[0.011952499214493484, -1.3322676295501878e-15, 2.6645352370196774e-15]\n",
      "Dynamics evalutation 1.5955626003402765[0.011952499214493484, -1.3322676295501878e-15, 2.6645352370196774e-15]\n",
      "Dynamics evalutation 1.5955626003402765[0.011952499214493484, -1.3322676295501878e-15, 2.6645352370196774e-15]\n",
      "Dynamics evalutation 1.6036126003402764Control evaluation hybrid_controller[4.913556618379976, 0.004295970158223863, -0.0021479850791119317]\n",
      "[0.010704603459087636, 0.0, 0.0]\n",
      "Dynamics evalutation 1.6119126003402766[0.010704603459087636, 0.0, 0.0]\n",
      "Dynamics evalutation 1.6405626003402765[0.010704603459087636, 0.0, 0.0]\n",
      "Dynamics evalutation 1.644563877385502[0.010704603459087636, 0.0, 0.0]\n",
      "Dynamics evalutation 1.6455626003402766[0.010704603459087636, 0.0, 0.0]\n",
      "Dynamics evalutation 1.6455626003402766[0.010704603459087636, 0.0, 0.0]\n",
      "Dynamics evalutation 1.6536126003402765[0.010704603459087636, 0.0, 0.0]\n",
      "Dynamics evalutation 1.6619126003402767Control evaluation hybrid_controller[4.911949597274837, 0.00347116863412293, -0.001735584317061465]\n",
      "[0.008685181591898017, -4.440892098500626e-16, 8.881784123398926e-16]\n",
      "Dynamics evalutation 1.6905626003402765[0.008685181591897573, 4.440892098500626e-16, -8.881784123398926e-16]\n",
      "Dynamics evalutation 1.694563877385502[0.008685181591897573, 4.440892098500626e-16, -8.881784123398926e-16]\n",
      "Dynamics evalutation 1.6955626003402766[0.008685181591897573, 4.440892098500626e-16, -8.881784123398926e-16]\n",
      "Dynamics evalutation 1.6955626003402766[0.008685181591897573, 4.440892098500626e-16, -8.881784123398926e-16]\n",
      "Dynamics evalutation 1.7036126003402765[0.008685181591897573, 4.440892098500626e-16, -8.881784123398926e-16]\n",
      "Dynamics evalutation 1.7119126003402767[0.008685181591897573, 4.440892098500626e-16, -8.881784123398926e-16]\n",
      "Dynamics evalutation 1.7405626003402765Control evaluation hybrid_controller[4.910249178505449, 0.0026298462361018433, -0.0013149231180509216]\n",
      "[0.00656410162349963, 4.440892098500626e-16, -8.881784123398926e-16]\n",
      "Dynamics evalutation 1.7445638773855021[0.00656410162349963, 4.440892098500626e-16, -8.881784123398926e-16]\n",
      "Dynamics evalutation 1.7455626003402767[0.00656410162349963, 4.440892098500626e-16, -8.881784123398926e-16]\n",
      "Dynamics evalutation 1.7455626003402767[0.00656410162349963, 4.440892098500626e-16, -8.881784123398926e-16]\n",
      "Dynamics evalutation 1.7536126003402766[0.00656410162349963, 4.440892098500626e-16, -8.881784123398926e-16]\n",
      "Dynamics evalutation 1.7619126003402767[0.00656410162349963, 4.440892098500626e-16, -8.881784123398926e-16]\n",
      "Dynamics evalutation 1.7905626003402766[0.00656410162349963, 4.440892098500626e-16, -8.881784123398926e-16]\n",
      "Dynamics evalutation 1.7945638773855022Control evaluation hybrid_controller[4.909408262736365, 0.002204397969828768, -0.001102198984914384]\n",
      "[0.005510461721279114, 0.0, 0.0]\n",
      "Dynamics evalutation 1.7955626003402767[0.005510461721279114, 0.0, 0.0]\n",
      "Dynamics evalutation 1.7955626003402767[0.005510461721279114, 0.0, 0.0]\n",
      "Dynamics evalutation 1.8036126003402766[0.005510461721279114, 0.0, 0.0]\n",
      "Dynamics evalutation 1.8119126003402768[0.005510461721279114, 0.0, 0.0]\n",
      "Dynamics evalutation 1.8405626003402766[0.005510461721279114, 0.0, 0.0]\n",
      "Dynamics evalutation 1.8445638773855022[0.005510461721279114, 0.0, 0.0]\n",
      "Dynamics evalutation 1.8455626003402767Control evaluation hybrid_controller[4.9085462440043335, 0.001773245342413415, -0.0008866226712067075]\n",
      "[0.0044328666755397705, 0.0, 0.0]\n",
      "Dynamics evalutation 1.8455626003402767[0.0044328666755397705, 0.0, 0.0]\n",
      "Dynamics evalutation 1.8536126003402766[0.0044328666755397705, 0.0, 0.0]\n",
      "Dynamics evalutation 1.8619126003402768[0.0044328666755397705, 0.0, 0.0]\n",
      "Dynamics evalutation 1.8905626003402767[0.0044328666755397705, 0.0, 0.0]\n",
      "Dynamics evalutation 1.8945638773855022[0.0044328666755397705, 0.0, 0.0]\n",
      "Dynamics evalutation 1.8955626003402768[0.0044328666755397705, 0.0, 0.0]\n",
      "Dynamics evalutation 1.8955626003402768[0.0044328666755397705, 0.0, 0.0]\n",
      "Dynamics evalutation 1.9036126003402767Control evaluation hybrid_controller[4.9082049878224945, 0.0016018244156382811, -0.0008009122078191406]\n",
      "[0.004005900030313869, -4.440892098500626e-16, 8.881784123398926e-16]\n",
      "Dynamics evalutation 1.9119126003402769[0.004005900030313869, -4.440892098500626e-16, 8.881784123398926e-16]\n",
      "Dynamics evalutation 1.9405626003402767[0.004005900030313203, 8.881784197001252e-16, -1.7763568246797851e-15]\n",
      "Dynamics evalutation 1.9445638773855023[0.004005900030313203, 8.881784197001252e-16, -1.7763568246797851e-15]\n",
      "Dynamics evalutation 1.9455626003402768[0.004005900030313203, 8.881784197001252e-16, -1.7763568246797851e-15]\n",
      "Dynamics evalutation 1.9455626003402768[0.004005900030313203, 8.881784197001252e-16, -1.7763568246797851e-15]\n",
      "Dynamics evalutation 1.9536126003402767[0.004005900030313203, 8.881784197001252e-16, -1.7763568246797851e-15]\n",
      "Dynamics evalutation 1.961912600340277Control evaluation hybrid_controller[4.9076030487677125, 0.0013018776107481974, -0.0006509388053740987]\n",
      "[0.0032539875730854817, 1.7763568394002505e-15, -3.5527136493595702e-15]\n",
      "Dynamics evalutation 1.9905626003402768[0.0032539875730854817, 1.7763568394002505e-15, -3.5527136493595702e-15]\n",
      "Dynamics evalutation 1.9945638773855023[0.0032539875730854817, 1.7763568394002505e-15, -3.5527136493595702e-15]\n",
      "Dynamics evalutation 1.9955626003402769[0.0032539875730854817, 1.7763568394002505e-15, -3.5527136493595702e-15]\n",
      "Dynamics evalutation 1.9955626003402769[0.0032539875730854817, 1.7763568394002505e-15, -3.5527136493595702e-15]\n",
      "Dynamics evalutation 2.003612600340277[0.0032539875730854817, 1.7763568394002505e-15, -3.5527136493595702e-15]\n",
      "Dynamics evalutation 2.0119126003402767[0.0032539875730854817, 1.7763568394002505e-15, -3.5527136493595702e-15]\n",
      "Dynamics evalutation 2.040562600340277Control evaluation hybrid_controller[4.906961852219944, 0.0009814004492680248, -0.0004907002246340124]\n",
      "[0.0024525524445779823, 0.0, 0.0]\n",
      "Dynamics evalutation 2.044563877385502[0.0024525524445779823, 0.0, 0.0]\n",
      "Dynamics evalutation 2.045562600340277[0.0024525524445779823, 0.0, 0.0]\n",
      "Dynamics evalutation 2.045562600340277[0.0024525524445779823, 0.0, 0.0]\n",
      "Dynamics evalutation 2.053612600340277[0.0024525524445779823, 0.0, 0.0]\n",
      "Dynamics evalutation 2.061912600340277[0.0024525524445779823, 0.0, 0.0]\n",
      "Dynamics evalutation 2.090562600340277[0.0024525524445779823, 0.0, 0.0]\n",
      "Dynamics evalutation 2.0945638773855024Control evaluation hybrid_controller[4.906651440569181, 0.0008256997743143849, -0.00041284988715719245]\n",
      "[0.002064290456337936, 0.0, 0.0]\n",
      "Dynamics evalutation 2.0955626003402767[0.002064290456337936, 0.0, 0.0]\n",
      "Dynamics evalutation 2.0955626003402767[0.002064290456337936, 0.0, 0.0]\n",
      "Dynamics evalutation 2.1036126003402766[0.002064290456337936, 0.0, 0.0]\n",
      "Dynamics evalutation 2.111912600340277[0.002064290456337936, 0.0, 0.0]\n",
      "Dynamics evalutation 2.1405626003402767[0.0020642904563388242, -1.7763568394002505e-15, 3.5527136493595694e-15]\n",
      "Dynamics evalutation 2.1445638773855022[0.0020642904563388242, -1.7763568394002505e-15, 3.5527136493595694e-15]\n",
      "Dynamics evalutation 2.1455626003402766Control evaluation hybrid_controller[4.906329299712372, 0.0006674650952740975, -0.00033373254763704877]\n",
      "[0.0016630322600084124, 4.440892098500626e-16, -8.881784123398924e-16]\n",
      "Dynamics evalutation 2.1455626003402766[0.0016630322600084124, 4.440892098500626e-16, -8.881784123398924e-16]\n",
      "Dynamics evalutation 2.1536126003402765[0.0016630322600084124, 4.440892098500626e-16, -8.881784123398924e-16]\n",
      "Dynamics evalutation 2.1619126003402767[0.0016630322600084124, 4.440892098500626e-16, -8.881784123398924e-16]\n",
      "Dynamics evalutation 2.1905626003402765[0.0016630322600084124, 4.440892098500626e-16, -8.881784123398926e-16]\n",
      "Dynamics evalutation 2.194563877385502[0.0016630322600084124, 4.440892098500626e-16, -8.881784123398926e-16]\n",
      "Dynamics evalutation 2.1955626003402764[0.0016630322600084124, 4.440892098500626e-16, -8.881784123398926e-16]\n",
      "Dynamics evalutation 2.1955626003402764[0.0016630322600084124, 4.440892098500626e-16, -8.881784123398926e-16]\n",
      "Dynamics evalutation 2.2036126003402763Control evaluation hybrid_controller[4.906200073857412, 0.0006012104658886205, -0.00030060523294431023]\n",
      "[0.001500679090355117, 8.881784197001252e-16, -1.7763568246797851e-15]\n",
      "Dynamics evalutation 2.2119126003402765[0.001500679090355117, 8.881784197001252e-16, -1.7763568246797851e-15]\n",
      "Dynamics evalutation 2.2405626003402763[0.001500679090355117, 8.881784197001252e-16, -1.7763568246797851e-15]\n",
      "Dynamics evalutation 2.244563877385502[0.001500679090355117, 8.881784197001252e-16, -1.7763568246797851e-15]\n",
      "Dynamics evalutation 2.245562600340276[0.001500679090355117, 8.881784197001252e-16, -1.7763568246797851e-15]\n",
      "Dynamics evalutation 2.245562600340276[0.001500679090355117, 8.881784197001252e-16, -1.7763568246797851e-15]\n",
      "Dynamics evalutation 2.253612600340276[0.001500679090355117, 8.881784197001252e-16, -1.7763568246797851e-15]\n",
      "Dynamics evalutation 2.2619126003402763Control evaluation hybrid_controller[4.905974893431014, 0.00048705385528853307, -0.00024352692764426654]\n",
      "[0.0012184203586569353, 1.7763568394002505e-15, -3.5527136493595702e-15]\n",
      "Dynamics evalutation 2.290562600340276[0.0012184203586569353, 1.7763568394002505e-15, -3.5527136493595702e-15]\n",
      "Dynamics evalutation 2.2945638773855017[0.0012184203586569353, 1.7763568394002505e-15, -3.5527136493595702e-15]\n",
      "Dynamics evalutation 2.295562600340276[0.0012184203586569353, 1.7763568394002505e-15, -3.5527136493595702e-15]\n",
      "Dynamics evalutation 2.295562600340276[0.0012184203586569353, 1.7763568394002505e-15, -3.5527136493595702e-15]\n",
      "Dynamics evalutation 2.303612600340276[0.0012184203586569353, 1.7763568394002505e-15, -3.5527136493595702e-15]\n",
      "Dynamics evalutation 2.311912600340276[0.0012184203586569353, 1.7763568394002505e-15, -3.5527136493595702e-15]\n",
      "Dynamics evalutation 2.340562600340276Control evaluation hybrid_controller[4.905734804058878, 0.00036753644550809636, -0.00018376822275404818]\n",
      "[0.0009185722816318354, -8.881784197001252e-16, 1.7763568246797851e-15]\n",
      "Dynamics evalutation 2.3445638773855015[0.0009185722816318354, -8.881784197001252e-16, 1.7763568246797851e-15]\n",
      "Dynamics evalutation 2.345562600340276[0.0009185722816318354, -8.881784197001252e-16, 1.7763568246797851e-15]\n",
      "Dynamics evalutation 2.345562600340276[0.0009185722816318354, -8.881784197001252e-16, 1.7763568246797851e-15]\n",
      "Dynamics evalutation 2.3536126003402758[0.0009185722816316133, -4.440892098500626e-16, 8.881784123398926e-16]\n",
      "Dynamics evalutation 2.361912600340276[0.0009185722816316133, -4.440892098500626e-16, 8.881784123398926e-16]\n",
      "Dynamics evalutation 2.390562600340276[0.0009185722816316133, -4.440892098500626e-16, 8.881784123398926e-16]\n",
      "Dynamics evalutation 2.3945638773855014Control evaluation hybrid_controller[4.905618533053965, 0.00030930099107701243, -0.00015465049553850622]\n",
      "[0.0007731835495035089, -4.440892098500626e-16, 8.881784123398926e-16]\n",
      "Dynamics evalutation 2.3955626003402757[0.0007731835495035089, -4.440892098500626e-16, 8.881784123398926e-16]\n",
      "Dynamics evalutation 2.3955626003402757[0.0007731835495035089, -4.440892098500626e-16, 8.881784123398926e-16]\n",
      "Dynamics evalutation 2.4036126003402756[0.0007731835495035089, -4.440892098500626e-16, 8.881784123398926e-16]\n",
      "Dynamics evalutation 2.4119126003402758[0.0007731835495035089, -4.440892098500626e-16, 8.881784123398926e-16]\n",
      "Dynamics evalutation 2.4405626003402756[0.0007731835495035089, -4.440892098500626e-16, 8.881784123398926e-16]\n",
      "Dynamics evalutation 2.444563877385501[0.0007731835495035089, -4.440892098500626e-16, 8.881784123398926e-16]\n",
      "Dynamics evalutation 2.4455626003402755Control evaluation hybrid_controller[4.9054978797361874, 0.0002489854512362059, -0.00012449272561810296]\n",
      "[0.0006223724618055204, -4.440892098500626e-16, 8.881784123398926e-16]\n",
      "Dynamics evalutation 2.4455626003402755[0.0006223724618055204, -4.440892098500626e-16, 8.881784123398926e-16]\n",
      "Dynamics evalutation 2.4536126003402754[0.0006223724618055204, -4.440892098500626e-16, 8.881784123398926e-16]\n",
      "Dynamics evalutation 2.4619126003402756[0.0006223724618055204, -4.440892098500626e-16, 8.881784123398926e-16]\n",
      "Dynamics evalutation 2.4905626003402754[0.0006223724618055204, -4.440892098500626e-16, 8.881784123398926e-16]\n",
      "Dynamics evalutation 2.494563877385501[0.0006223724618055204, -4.440892098500626e-16, 8.881784123398926e-16]\n",
      "Dynamics evalutation 2.4955626003402753[0.0006223724618055204, -4.440892098500626e-16, 8.881784123398926e-16]\n",
      "Dynamics evalutation 2.4955626003402753[0.0006223724618055204, -4.440892098500626e-16, 8.881784123398926e-16]\n",
      "Dynamics evalutation 2.503612600340275Control evaluation hybrid_controller[4.905449718090427, 0.00022489082588138267, -0.00011244541294069134]\n",
      "[0.0005621635033674632, 4.440892098500626e-16, -8.881784123398926e-16]\n",
      "Dynamics evalutation 2.5119126003402754[0.0005621635033674632, 4.440892098500626e-16, -8.881784123398926e-16]\n",
      "Dynamics evalutation 2.5405626003402753[0.0005621635033674632, 4.440892098500626e-16, -8.881784123398926e-16]\n",
      "Dynamics evalutation 2.544563877385501[0.0005621635033674632, 4.440892098500626e-16, -8.881784123398926e-16]\n",
      "Dynamics evalutation 2.545562600340275[0.0005621635033674632, 4.440892098500626e-16, -8.881784123398926e-16]\n",
      "Dynamics evalutation 2.545562600340275[0.0005621635033674632, 4.440892098500626e-16, -8.881784123398926e-16]\n",
      "Dynamics evalutation 2.553612600340275[0.0005621635033674632, 4.440892098500626e-16, -8.881784123398926e-16]\n",
      "Dynamics evalutation 2.5619126003402752Control evaluation hybrid_controller[4.905365353915205, 0.00018268261958245482, -9.134130979122741e-5]\n",
      "[0.000456695224997139, -1.3322676295501878e-15, 2.6645352370196774e-15]\n",
      "Dynamics evalutation 2.590562600340275[0.000456695224997139, -1.3322676295501878e-15, 2.6645352370196774e-15]\n",
      "Dynamics evalutation 2.5945638773855006[0.000456695224997139, -1.3322676295501878e-15, 2.6645352370196774e-15]\n",
      "Dynamics evalutation 2.595562600340275[0.000456695224997139, -1.3322676295501878e-15, 2.6645352370196774e-15]\n",
      "Dynamics evalutation 2.595562600340275[0.000456695224997139, -1.3322676295501878e-15, 2.6645352370196774e-15]\n",
      "Dynamics evalutation 2.603612600340275[0.000456695224997139, -1.3322676295501878e-15, 2.6645352370196774e-15]\n",
      "Dynamics evalutation 2.611912600340275[0.000456695224997139, -1.3322676295501878e-15, 2.6645352370196774e-15]\n"
     ]
    },
    {
     "name": "stdout",
     "output_type": "stream",
     "text": [
      "Dynamics evalutation 2.640562600340275Control evaluation hybrid_controller[4.905275354626048, 0.0001376689771587414, -6.88344885793707e-5]\n",
      "[0.0003441891146278575, -1.3322676295501878e-15, 2.6645352370196774e-15]\n",
      "Dynamics evalutation 2.6445638773855005[0.0003441891146278575, -1.3322676295501878e-15, 2.6645352370196774e-15]\n",
      "Dynamics evalutation 2.645562600340275[0.0003441891146278575, -1.3322676295501878e-15, 2.6645352370196774e-15]\n",
      "Dynamics evalutation 2.645562600340275[0.0003441891146278575, -1.3322676295501878e-15, 2.6645352370196774e-15]\n",
      "Dynamics evalutation 2.6536126003402747[0.0003441891146278575, -1.3322676295501878e-15, 2.6645352370196774e-15]\n",
      "Dynamics evalutation 2.661912600340275[0.0003441891146278575, -1.3322676295501878e-15, 2.6645352370196774e-15]\n",
      "Dynamics evalutation 2.6905626003402747[0.0003441891146278575, -1.3322676295501878e-15, 2.6645352370196774e-15]\n",
      "Dynamics evalutation 2.6945638773855003Control evaluation hybrid_controller[4.905231794102689, 0.00011588801939882783, -5.794400969941391e-5]\n",
      "[0.00028973811238852676, 0.0, 0.0]\n",
      "Dynamics evalutation 2.6955626003402746[0.00028973811238852676, 0.0, 0.0]\n",
      "Dynamics evalutation 2.6955626003402746[0.00028973811238852676, 0.0, 0.0]\n",
      "Dynamics evalutation 2.7036126003402745[0.00028973811238852676, 0.0, 0.0]\n",
      "Dynamics evalutation 2.7119126003402747[0.00028973811238852676, 0.0, 0.0]\n",
      "Dynamics evalutation 2.7405626003402745[0.00028973811238852676, 0.0, 0.0]\n",
      "Dynamics evalutation 2.7445638773855[0.00028973811238852676, 0.0, 0.0]\n",
      "Dynamics evalutation 2.7455626003402744Control evaluation hybrid_controller[4.905186585108188, 9.328347003337756e-5, -4.664173501668878e-5]\n",
      "[0.00023322684320503662, -1.3322676295501878e-15, 2.6645352370196774e-15]\n",
      "Dynamics evalutation 2.7455626003402744[0.00023322684320503662, -1.3322676295501878e-15, 2.6645352370196774e-15]\n",
      "Dynamics evalutation 2.7536126003402743[0.00023322684320503662, -1.3322676295501878e-15, 2.6645352370196774e-15]\n",
      "Dynamics evalutation 2.7619126003402745[0.00023322684320503662, -1.3322676295501878e-15, 2.6645352370196774e-15]\n",
      "Dynamics evalutation 2.7905626003402744[0.00023322684320503662, -1.3322676295501878e-15, 2.6645352370196774e-15]\n",
      "Dynamics evalutation 2.7945638773855[0.00023322684320503662, -1.3322676295501878e-15, 2.6645352370196774e-15]\n",
      "Dynamics evalutation 2.7955626003402743[0.00023322684320503662, -1.3322676295501878e-15, 2.6645352370196774e-15]\n",
      "Dynamics evalutation 2.7955626003402743[0.00023322684320503662, -1.3322676295501878e-15, 2.6645352370196774e-15]\n",
      "Dynamics evalutation 2.803612600340274Control evaluation hybrid_controller[4.905168536091182, 8.425993148891943e-5, -4.212996574445971e-5]\n",
      "[0.00021066605692565687, 8.881784197001252e-16, -1.7763568246797851e-15]\n",
      "Dynamics evalutation 2.8119126003402743[0.00021066605692565687, 8.881784197001252e-16, -1.7763568246797851e-15]\n",
      "Dynamics evalutation 2.840562600340274[0.00021066605692565687, 8.881784197001252e-16, -1.7763568246797851e-15]\n",
      "Dynamics evalutation 2.8445638773854998[0.00021066605692565687, 8.881784197001252e-16, -1.7763568246797851e-15]\n",
      "Dynamics evalutation 2.845562600340274[0.00021066605692565687, 8.881784197001252e-16, -1.7763568246797851e-15]\n",
      "Dynamics evalutation 2.845562600340274[0.00021066605692565687, 8.881784197001252e-16, -1.7763568246797851e-15]\n",
      "Dynamics evalutation 2.853612600340274[0.00021066605692565687, 8.881784197001252e-16, -1.7763568246797851e-15]\n",
      "Dynamics evalutation 2.861912600340274Control evaluation hybrid_controller[4.905136921372596, 6.845122530329966e-5, -3.422561265164983e-5]\n",
      "[0.000171146985247006, 0.0, 0.0]\n",
      "Dynamics evalutation 2.890562600340274[0.000171146985247006, 0.0, 0.0]\n",
      "Dynamics evalutation 2.8945638773854996[0.000171146985247006, 0.0, 0.0]\n",
      "Dynamics evalutation 2.895562600340274[0.000171146985247006, 0.0, 0.0]\n",
      "Dynamics evalutation 2.895562600340274[0.000171146985247006, 0.0, 0.0]\n",
      "Dynamics evalutation 2.903612600340274[0.000171146985247006, 0.0, 0.0]\n",
      "Dynamics evalutation 2.911912600340274[0.000171146985247006, 0.0, 0.0]\n",
      "Dynamics evalutation 2.940562600340274Control evaluation hybrid_controller[4.905103193902923, 5.158497447253701e-5, -2.5792487236268506e-5]\n",
      "[0.0001289863901590138, 0.0, 0.0]\n",
      "Dynamics evalutation 2.9445638773854994[0.0001289863901590138, 0.0, 0.0]\n",
      "Dynamics evalutation 2.9455626003402737[0.0001289863901590138, 0.0, 0.0]\n",
      "Dynamics evalutation 2.9455626003402737[0.0001289863901590138, 0.0, 0.0]\n",
      "Dynamics evalutation 2.9536126003402736[0.0001289863901590138, 0.0, 0.0]\n",
      "Dynamics evalutation 2.961912600340274[0.0001289863901590138, 0.0, 0.0]\n",
      "Dynamics evalutation 2.9905626003402737[0.0001289863901590138, 0.0, 0.0]\n",
      "Dynamics evalutation 2.9945638773854992Control evaluation hybrid_controller[4.905086869345691, 4.342236599337115e-5, -2.1711182996685574e-5]\n",
      "[0.00010858052868734092, 0.0, 0.0]\n",
      "Dynamics evalutation 2.9955626003402736[0.00010858052868734092, 0.0, 0.0]\n",
      "Dynamics evalutation 2.9955626003402736[0.00010858052868734092, 0.0, 0.0]\n",
      "Dynamics evalutation 3.0036126003402734[0.00010858052868734092, 0.0, 0.0]\n",
      "Dynamics evalutation 3.0119126003402736[0.00010858052868734092, 0.0, 0.0]\n",
      "Dynamics evalutation 3.0405626003402735[0.00010858052868734092, 0.0, 0.0]\n",
      "Dynamics evalutation 3.044563877385499[0.00010858052868734092, 0.0, 0.0]\n",
      "Dynamics evalutation 3.0455626003402734Control evaluation hybrid_controller[4.905069927074336, 3.495165997917823e-5, -1.7475829989589116e-5]\n",
      "[8.740290432429632e-5, 8.881784197001252e-16, -1.7763568246797851e-15]\n",
      "Dynamics evalutation 3.0455626003402734[8.740290432429632e-5, 8.881784197001252e-16, -1.7763568246797851e-15]\n",
      "Dynamics evalutation 3.0536126003402733[8.740290432429632e-5, 8.881784197001252e-16, -1.7763568246797851e-15]\n",
      "Dynamics evalutation 3.0619126003402735[8.740290432429632e-5, 8.881784197001252e-16, -1.7763568246797851e-15]\n",
      "Dynamics evalutation 3.0905626003402733[8.740290432429632e-5, 8.881784197001252e-16, -1.7763568246797851e-15]\n",
      "Dynamics evalutation 3.094563877385499[8.740290432429632e-5, 8.881784197001252e-16, -1.7763568246797851e-15]\n",
      "Dynamics evalutation 3.095562600340273[8.740290432429632e-5, 8.881784197001252e-16, -1.7763568246797851e-15]\n",
      "Dynamics evalutation 3.095562600340273[8.740290432429632e-5, 8.881784197001252e-16, -1.7763568246797851e-15]\n",
      "Dynamics evalutation 3.103612600340273Control evaluation hybrid_controller[4.90506316304217, 3.157003231788327e-5, -1.5785016158941636e-5]\n",
      "[7.894805832830976e-5, 1.3322676295501878e-15, -2.6645352370196774e-15]\n",
      "Dynamics evalutation 3.1119126003402733[7.894805832830976e-5, 1.3322676295501878e-15, -2.6645352370196774e-15]\n",
      "Dynamics evalutation 3.140562600340273[7.894805832875385e-5, 4.440892098500626e-16, -8.881784123398926e-16]\n",
      "Dynamics evalutation 3.1445638773854987[7.894805832875385e-5, 4.440892098500626e-16, -8.881784123398926e-16]\n",
      "Dynamics evalutation 3.145562600340273[7.894805832875385e-5, 4.440892098500626e-16, -8.881784123398926e-16]\n",
      "Dynamics evalutation 3.145562600340273[7.894805832830976e-5, 1.3322676295501878e-15, -2.6645352370196774e-15]\n",
      "Dynamics evalutation 3.153612600340273[7.894805832830976e-5, 1.3322676295501878e-15, -2.6645352370196774e-15]\n",
      "Dynamics evalutation 3.161912600340273Control evaluation hybrid_controller[4.905051315285485, 2.5647470532947746e-5, -1.2823735266473873e-5]\n",
      "[6.41390207509751e-5, 8.881784197001252e-16, -1.7763568246797851e-15]\n",
      "Dynamics evalutation 3.190562600340273[6.41390207509751e-5, 8.881784197001252e-16, -1.7763568246797851e-15]\n",
      "Dynamics evalutation 3.1945638773854985[6.413902075164124e-5, -4.440892098500626e-16, 8.881784123398926e-16]\n",
      "Dynamics evalutation 3.195562600340273[6.413902075164124e-5, -4.440892098500626e-16, 8.881784123398926e-16]\n",
      "Dynamics evalutation 3.195562600340273[6.41390207509751e-5, 8.881784197001252e-16, -1.7763568246797851e-15]\n",
      "Dynamics evalutation 3.2036126003402727[6.413902075164124e-5, -4.440892098500626e-16, 8.881784123398926e-16]\n",
      "Dynamics evalutation 3.211912600340273[6.413902075164124e-5, -4.440892098500626e-16, 8.881784123398926e-16]\n",
      "Dynamics evalutation 3.2405626003402728Control evaluation hybrid_controller[4.905038675552367, 1.933080948540609e-5, -9.665404742703045e-6]\n",
      "[4.834095710992692e-5, -1.3322676295501878e-15, 2.6645352370196774e-15]\n",
      "Dynamics evalutation 3.2445638773854983[4.8340957109260785e-5, 0.0, 0.0]\n",
      "Dynamics evalutation 3.2455626003402727[4.8340957109260785e-5, 0.0, 0.0]\n",
      "Dynamics evalutation 3.2455626003402727[4.834095710992692e-5, -1.3322676295501878e-15, 2.6645352370196774e-15]\n",
      "Dynamics evalutation 3.2536126003402726[4.834095710992692e-5, -1.3322676295501878e-15, 2.6645352370196774e-15]\n",
      "Dynamics evalutation 3.2619126003402727[4.834095710992692e-5, -1.3322676295501878e-15, 2.6645352370196774e-15]\n",
      "Dynamics evalutation 3.2905626003402726[4.834095710992692e-5, -1.3322676295501878e-15, 2.6645352370196774e-15]\n",
      "Dynamics evalutation 3.294563877385498Control evaluation hybrid_controller[4.905032557396588, 1.6273691634645665e-5, -8.136845817322832e-6]\n",
      "[4.069424240449315e-5, 1.3322676295501878e-15, -2.6645352370196774e-15]\n",
      "Dynamics evalutation 3.2955626003402725[4.069424240449315e-5, 1.3322676295501878e-15, -2.6645352370196774e-15]\n",
      "Dynamics evalutation 3.2955626003402725[4.069424240449315e-5, 1.3322676295501878e-15, -2.6645352370196774e-15]\n",
      "Dynamics evalutation 3.3036126003402724[4.069424240449315e-5, 1.3322676295501878e-15, -2.6645352370196774e-15]\n",
      "Dynamics evalutation 3.3119126003402726[4.06942424047152e-5, 8.881784197001252e-16, -1.7763568246797851e-15]\n",
      "Dynamics evalutation 3.3405626003402724[4.06942424047152e-5, 8.881784197001252e-16, -1.7763568246797851e-15]\n",
      "Dynamics evalutation 3.344563877385498[4.06942424047152e-5, 8.881784197001252e-16, -1.7763568246797851e-15]\n"
     ]
    },
    {
     "name": "stdout",
     "output_type": "stream",
     "text": [
      "Dynamics evalutation 3.3455626003402723Control evaluation hybrid_controller[4.905026207842137, 1.3100238638680758e-5, -6.550119319340379e-6]\n",
      "[3.2757961454299434e-5, 2.220446049250313e-15, -4.440892061699463e-15]\n",
      "Dynamics evalutation 3.3455626003402723[3.2757961454299434e-5, 2.220446049250313e-15, -4.440892061699463e-15]\n",
      "Dynamics evalutation 3.353612600340272[3.2757961454299434e-5, 2.220446049250313e-15, -4.440892061699463e-15]\n",
      "Dynamics evalutation 3.3619126003402724[3.2757961454299434e-5, 2.220446049250313e-15, -4.440892061699463e-15]\n",
      "Dynamics evalutation 3.3905626003402722[3.2757961454299434e-5, 2.220446049250313e-15, -4.440892061699463e-15]\n",
      "Dynamics evalutation 3.394563877385498[3.2757961454299434e-5, 2.220446049250313e-15, -4.440892061699463e-15]\n",
      "Dynamics evalutation 3.395562600340272[3.2757961454299434e-5, 2.220446049250313e-15, -4.440892061699463e-15]\n",
      "Dynamics evalutation 3.395562600340272[3.2757961454299434e-5, 2.220446049250313e-15, -4.440892061699463e-15]\n",
      "Dynamics evalutation 3.403612600340272Control evaluation hybrid_controller[4.905023672451354, 1.1832322650917985e-5, -5.916161325458992e-6]\n",
      "[2.958861267821078e-5, 1.7763568394002505e-15, -3.5527136493595702e-15]\n",
      "Dynamics evalutation 3.411912600340272[2.958861267821078e-5, 1.7763568394002505e-15, -3.5527136493595702e-15]\n",
      "Dynamics evalutation 3.440562600340272[2.9588612678876913e-5, 4.440892098500626e-16, -8.881784123398926e-16]\n",
      "Dynamics evalutation 3.4445638773854976[2.9588612678876913e-5, 4.440892098500626e-16, -8.881784123398926e-16]\n",
      "Dynamics evalutation 3.445562600340272[2.9588612678876913e-5, 4.440892098500626e-16, -8.881784123398926e-16]\n",
      "Dynamics evalutation 3.445562600340272[2.9588612678876913e-5, 4.440892098500626e-16, -8.881784123398926e-16]\n",
      "Dynamics evalutation 3.453612600340272[2.9588612678876913e-5, 4.440892098500626e-16, -8.881784123398926e-16]\n",
      "Dynamics evalutation 3.461912600340272Control evaluation hybrid_controller[4.905019232085214, 9.610880522697496e-6, -4.805440261348748e-6]\n",
      "[2.4037525475195665e-5, 1.3322676295501878e-15, -2.6645352370196774e-15]\n",
      "Dynamics evalutation 3.490562600340272[2.4037525475195665e-5, 1.3322676295501878e-15, -2.6645352370196774e-15]\n",
      "Dynamics evalutation 3.4945638773854975[2.4037525475195665e-5, 1.3322676295501878e-15, -2.6645352370196774e-15]\n",
      "Dynamics evalutation 3.4955626003402718[2.4037525475195665e-5, 1.3322676295501878e-15, -2.6645352370196774e-15]\n",
      "Dynamics evalutation 3.4955626003402718[2.4037525475195665e-5, 1.3322676295501878e-15, -2.6645352370196774e-15]\n",
      "Dynamics evalutation 3.5036126003402717[2.4037525475195665e-5, 1.3322676295501878e-15, -2.6645352370196774e-15]\n",
      "Dynamics evalutation 3.511912600340272[2.4037525475195665e-5, 1.3322676295501878e-15, -2.6645352370196774e-15]\n",
      "Dynamics evalutation 3.5405626003402717Control evaluation hybrid_controller[4.90501449509438, 7.245973544251045e-6, -3.6229867721255224e-6]\n",
      "[1.81180811518189e-5, 0.0, 0.0]\n",
      "Dynamics evalutation 3.5445638773854973[1.81180811518189e-5, 0.0, 0.0]\n",
      "Dynamics evalutation 3.5455626003402716[1.81180811518189e-5, 0.0, 0.0]\n",
      "Dynamics evalutation 3.5455626003402716[1.81180811518189e-5, 0.0, 0.0]\n",
      "Dynamics evalutation 3.5536126003402715[1.81180811518189e-5, 0.0, 0.0]\n",
      "Dynamics evalutation 3.5619126003402717[1.81180811518189e-5, 0.0, 0.0]\n",
      "Dynamics evalutation 3.5905626003402715[1.81180811518189e-5, 0.0, 0.0]\n",
      "Dynamics evalutation 3.594563877385497Control evaluation hybrid_controller[4.905012201957403, 6.101400520763895e-6, -3.0507002603819474e-6]\n",
      "[1.5252657662889746e-5, 4.440892098500626e-16, -8.881784123398926e-16]\n",
      "Dynamics evalutation 3.5955626003402714[1.5252657662889746e-5, 4.440892098500626e-16, -8.881784123398926e-16]\n",
      "Dynamics evalutation 3.5955626003402714[1.5252657662889746e-5, 4.440892098500626e-16, -8.881784123398926e-16]\n",
      "Dynamics evalutation 3.6036126003402713[1.5252657662889746e-5, 4.440892098500626e-16, -8.881784123398926e-16]\n",
      "Dynamics evalutation 3.6119126003402715[1.5252657662889746e-5, 4.440892098500626e-16, -8.881784123398926e-16]\n",
      "Dynamics evalutation 3.6405626003402713[1.5252657662889746e-5, 4.440892098500626e-16, -8.881784123398926e-16]\n",
      "Dynamics evalutation 3.644563877385497[1.5252657662889746e-5, 4.440892098500626e-16, -8.881784123398926e-16]\n",
      "Dynamics evalutation 3.6455626003402712Control evaluation hybrid_controller[4.905009822156312, 4.910630164807432e-6, -2.455315082403716e-6]\n",
      "[1.2277471393540296e-5, 1.3322676295501878e-15, -2.6645352370196774e-15]\n",
      "Dynamics evalutation 3.6455626003402712[1.2277471393540296e-5, 1.3322676295501878e-15, -2.6645352370196774e-15]\n",
      "Dynamics evalutation 3.653612600340271[1.2277471393540296e-5, 1.3322676295501878e-15, -2.6645352370196774e-15]\n",
      "Dynamics evalutation 3.6619126003402713[1.2277471393540296e-5, 1.3322676295501878e-15, -2.6645352370196774e-15]\n",
      "Dynamics evalutation 3.690562600340271[1.227747139420643e-5, 0.0, 0.0]\n",
      "Dynamics evalutation 3.6945638773854967[1.227747139420643e-5, 0.0, 0.0]\n",
      "Dynamics evalutation 3.695562600340271[1.227747139420643e-5, 0.0, 0.0]\n",
      "Dynamics evalutation 3.695562600340271[1.227747139420643e-5, 0.0, 0.0]\n",
      "Dynamics evalutation 3.703612600340271Control evaluation hybrid_controller[4.905008872125738, 4.436168183604515e-6, -2.2180840918022575e-6]\n",
      "[1.109020983025566e-5, -1.3322676295501878e-15, 2.6645352370196774e-15]\n",
      "Dynamics evalutation 3.711912600340271[1.109020983025566e-5, -1.3322676295501878e-15, 2.6645352370196774e-15]\n",
      "Dynamics evalutation 3.740562600340271[1.109020983025566e-5, -1.3322676295501878e-15, 2.6645352370196774e-15]\n",
      "Dynamics evalutation 3.7445638773854966[1.109020983025566e-5, -1.3322676295501878e-15, 2.6645352370196774e-15]\n",
      "Dynamics evalutation 3.745562600340271[1.109020983025566e-5, -1.3322676295501878e-15, 2.6645352370196774e-15]\n",
      "Dynamics evalutation 3.745562600340271[1.109020983025566e-5, -1.3322676295501878e-15, 2.6645352370196774e-15]\n",
      "Dynamics evalutation 3.7536126003402708[1.109020983025566e-5, -1.3322676295501878e-15, 2.6645352370196774e-15]\n",
      "Dynamics evalutation 3.761912600340271Control evaluation hybrid_controller[4.905007207810452, 3.603910299464131e-6, -1.8019551497320655e-6]\n",
      "[9.009765600920261e-6, 4.440892098500626e-16, -8.881784123398926e-16]\n",
      "Dynamics evalutation 3.790562600340271[9.009765600920261e-6, 4.440892098500626e-16, -8.881784123398927e-16]\n",
      "Dynamics evalutation 3.7945638773854964[9.009765600920261e-6, 4.440892098500626e-16, -8.881784123398927e-16]\n",
      "Dynamics evalutation 3.7955626003402707[9.009765600920261e-6, 4.440892098500626e-16, -8.881784123398927e-16]\n",
      "Dynamics evalutation 3.7955626003402707[9.009765600920261e-6, 4.440892098500626e-16, -8.881784123398927e-16]\n",
      "Dynamics evalutation 3.8036126003402706[9.009765600920261e-6, 4.440892098500626e-16, -8.881784123398927e-16]\n",
      "Dynamics evalutation 3.811912600340271[9.009765600920261e-6, 4.440892098500626e-16, -8.881784123398927e-16]\n",
      "Dynamics evalutation 3.8405626003402706Control evaluation hybrid_controller[4.905005432281391, 2.7161524313719485e-6, -1.3580762156859743e-6]\n",
      "[6.790357606645259e-6, 4.440892098500626e-16, -8.881784123398927e-16]\n",
      "Dynamics evalutation 3.844563877385496[6.790357606645259e-6, 4.440892098500626e-16, -8.881784123398927e-16]\n",
      "Dynamics evalutation 3.8455626003402705[6.790357606645259e-6, 4.440892098500626e-16, -8.881784123398927e-16]\n",
      "Dynamics evalutation 3.8455626003402705[6.790357606645259e-6, 4.440892098500626e-16, -8.881784123398927e-16]\n",
      "Dynamics evalutation 3.8536126003402704[6.790357606645259e-6, 4.440892098500626e-16, -8.881784123398927e-16]\n",
      "Dynamics evalutation 3.8619126003402706[6.7903576073113925e-6, -8.881784197001252e-16, 1.7763568246797855e-15]\n",
      "Dynamics evalutation 3.8905626003402705[6.7903576073113925e-6, -8.881784197001252e-16, 1.7763568246797855e-15]\n",
      "Dynamics evalutation 3.894563877385496Control evaluation hybrid_controller[4.905004572887856, 2.2864363903282447e-6, -1.1432181951641223e-6]\n",
      "[5.7161060511568e-6, -8.881784197001252e-16, 1.7763568246797855e-15]\n",
      "Dynamics evalutation 3.8955626003402704[5.7161060511568e-6, -8.881784197001252e-16, 1.7763568246797855e-15]\n",
      "Dynamics evalutation 3.8955626003402704[5.7161060511568e-6, -8.881784197001252e-16, 1.7763568246797855e-15]\n",
      "Dynamics evalutation 3.9036126003402702[5.7161060511568e-6, -8.881784197001252e-16, 1.7763568246797855e-15]\n",
      "Dynamics evalutation 3.9119126003402704[5.7161060511568e-6, -8.881784197001252e-16, 1.7763568246797855e-15]\n",
      "Dynamics evalutation 3.9405626003402703[5.7161060511568e-6, -8.881784197001252e-16, 1.7763568246797855e-15]\n",
      "Dynamics evalutation 3.944563877385496[5.7161060511568e-6, -8.881784197001252e-16, 1.7763568246797855e-15]\n",
      "Dynamics evalutation 3.94556260034027Control evaluation hybrid_controller[4.9050036809792195, 1.856009466760801e-6, -9.280047333804006e-7]\n",
      "[4.608983952936185e-6, -4.440892098500626e-16, 8.881784123398927e-16]\n",
      "Dynamics evalutation 3.94556260034027[4.608983952936185e-6, -4.440892098500626e-16, 8.881784123398927e-16]\n",
      "Dynamics evalutation 3.95361260034027[4.608983952936185e-6, -4.440892098500626e-16, 8.881784123398927e-16]\n",
      "Dynamics evalutation 3.9619126003402703[4.608983952936185e-6, -4.440892098500626e-16, 8.881784123398927e-16]\n",
      "Dynamics evalutation 3.99056260034027[4.608983952936185e-6, -4.440892098500626e-16, 8.881784123398927e-16]\n",
      "Dynamics evalutation 3.9945638773854957[4.608983952936185e-6, -4.440892098500626e-16, 8.881784123398927e-16]\n",
      "Dynamics evalutation 3.99556260034027[4.608983952936185e-6, -4.440892098500626e-16, 8.881784123398927e-16]\n",
      "Dynamics evalutation 3.99556260034027[4.608983952936185e-6, -4.440892098500626e-16, 8.881784123398927e-16]\n"
     ]
    },
    {
     "name": "stdout",
     "output_type": "stream",
     "text": [
      "Dynamics evalutation 4.00361260034027Control evaluation hybrid_controller[4.905003321395806, 1.66031058969551e-6, -8.30155294847755e-7]\n",
      "[4.151551099784712e-6, 8.881784197001252e-16, -1.7763568246797855e-15]\n",
      "Dynamics evalutation 4.01191260034027[4.151551099784712e-6, 8.881784197001252e-16, -1.7763568246797855e-15]\n",
      "Dynamics evalutation 4.04056260034027[4.151551100450845e-6, -4.440892098500626e-16, 8.881784123398927e-16]\n",
      "Dynamics evalutation 4.044563877385495[4.151551100450845e-6, -4.440892098500626e-16, 8.881784123398927e-16]\n",
      "Dynamics evalutation 4.04556260034027[4.151551100450845e-6, -4.440892098500626e-16, 8.881784123398927e-16]\n",
      "Dynamics evalutation 4.04556260034027[4.151551099784712e-6, 8.881784197001252e-16, -1.7763568246797855e-15]\n",
      "Dynamics evalutation 4.05361260034027[4.151551100450845e-6, -4.440892098500626e-16, 8.881784123398927e-16]\n",
      "Dynamics evalutation 4.06191260034027Control evaluation hybrid_controller[4.905002698478596, 1.3485454509806098e-6, -6.742727254903049e-7]\n",
      "[3.3727513222281402e-6, -8.881784197001252e-16, 1.7763568246797855e-15]\n",
      "Dynamics evalutation 4.09056260034027[3.3727513222281402e-6, -8.881784197001252e-16, 1.7763568246797855e-15]\n",
      "Dynamics evalutation 4.094563877385496[3.3727513222281402e-6, -8.881784197001252e-16, 1.7763568246797855e-15]\n",
      "Dynamics evalutation 4.09556260034027[3.3727513222281402e-6, -8.881784197001252e-16, 1.7763568246797855e-15]\n",
      "Dynamics evalutation 4.09556260034027[3.3727513222281402e-6, -8.881784197001252e-16, 1.7763568246797855e-15]\n",
      "Dynamics evalutation 4.10361260034027[3.3727513222281402e-6, -8.881784197001252e-16, 1.7763568246797855e-15]\n",
      "Dynamics evalutation 4.11191260034027[3.3727513222281402e-6, -8.881784197001252e-16, 1.7763568246797855e-15]\n",
      "Dynamics evalutation 4.14056260034027Control evaluation hybrid_controller[4.905002033819947, 1.0155781750002033e-6, -5.077890875001016e-7]\n",
      "[2.541609034123482e-6, 4.440892098500626e-16, -8.881784123398927e-16]\n",
      "Dynamics evalutation 4.144563877385496[2.541609034123482e-6, 4.440892098500626e-16, -8.881784123398927e-16]\n",
      "Dynamics evalutation 4.14556260034027[2.541609034123482e-6, 4.440892098500626e-16, -8.881784123398927e-16]\n",
      "Dynamics evalutation 4.14556260034027[2.541609034123482e-6, 4.440892098500626e-16, -8.881784123398927e-16]\n",
      "Dynamics evalutation 4.15361260034027[2.541609034123482e-6, 4.440892098500626e-16, -8.881784123398927e-16]\n",
      "Dynamics evalutation 4.16191260034027[2.541609034123482e-6, 4.440892098500626e-16, -8.881784123398929e-16]\n",
      "Dynamics evalutation 4.19056260034027[2.541609034123482e-6, 4.440892098500626e-16, -8.881784123398929e-16]\n",
      "Dynamics evalutation 4.194563877385495Control evaluation hybrid_controller[4.905001712168985, 8.508733601739134e-7, -4.254366800869567e-7]\n",
      "[2.13760566336596e-6, 1.3322676295501878e-15, -2.6645352370196785e-15]\n",
      "Dynamics evalutation 4.19556260034027[2.13760566336596e-6, 1.3322676295501878e-15, -2.6645352370196785e-15]\n",
      "Dynamics evalutation 4.19556260034027[2.13760566336596e-6, 1.3322676295501878e-15, -2.6645352370196785e-15]\n",
      "Dynamics evalutation 4.20361260034027[2.13760566336596e-6, 1.3322676295501878e-15, -2.6645352370196785e-15]\n",
      "Dynamics evalutation 4.21191260034027[2.13760566336596e-6, 1.3322676295501878e-15, -2.6645352370196785e-15]\n",
      "Dynamics evalutation 4.24056260034027[2.13760566336596e-6, 1.3322676295501878e-15, -2.6645352370196785e-15]\n",
      "Dynamics evalutation 4.244563877385495[2.13760566336596e-6, 1.3322676295501878e-15, -2.6645352370196785e-15]\n",
      "Dynamics evalutation 4.2455626003402696Control evaluation hybrid_controller[4.905001378339032, 6.872494285539866e-7, -3.436247142769933e-7]\n",
      "[1.7219637453713688e-6, 8.881784197001252e-16, -1.7763568246797859e-15]\n",
      "Dynamics evalutation 4.2455626003402696[1.7219637453713688e-6, 8.881784197001252e-16, -1.7763568246797859e-15]\n",
      "Dynamics evalutation 4.2536126003402694[1.7219637453713688e-6, 8.881784197001252e-16, -1.7763568246797859e-15]\n",
      "Dynamics evalutation 4.26191260034027[1.7219637453713688e-6, 8.881784197001252e-16, -1.7763568246797859e-15]\n",
      "Dynamics evalutation 4.2905626003402695[1.7219637460375026e-6, -4.440892098500626e-16, 8.881784123398929e-16]\n",
      "Dynamics evalutation 4.294563877385495[1.7219637460375026e-6, -4.440892098500626e-16, 8.881784123398929e-16]\n",
      "Dynamics evalutation 4.295562600340269[1.7219637460375026e-6, -4.440892098500626e-16, 8.881784123398929e-16]\n",
      "Dynamics evalutation 4.295562600340269[1.7219637460375026e-6, -4.440892098500626e-16, 8.881784123398929e-16]\n",
      "Dynamics evalutation 4.303612600340269Control evaluation hybrid_controller[4.905001244599862, 6.210329748433436e-7, -3.105164874216718e-7]\n",
      "[1.5551163481397623e-6, 8.881784197001252e-16, -1.7763568246797859e-15]\n",
      "Dynamics evalutation 4.3119126003402695[1.5551163481397623e-6, 8.881784197001252e-16, -1.7763568246797859e-15]\n",
      "Dynamics evalutation 4.340562600340269[1.5551163481397623e-6, 8.881784197001252e-16, -1.7763568246797859e-15]\n",
      "Dynamics evalutation 4.344563877385495[1.5551163481397623e-6, 8.881784197001252e-16, -1.7763568246797859e-15]\n",
      "Dynamics evalutation 4.345562600340269[1.5551163481397623e-6, 8.881784197001252e-16, -1.7763568246797859e-15]\n",
      "Dynamics evalutation 4.345562600340269[1.5551163481397623e-6, 8.881784197001252e-16, -1.7763568246797859e-15]\n",
      "Dynamics evalutation 4.353612600340269[1.5551163481397623e-6, 8.881784197001252e-16, -1.7763568246797859e-15]\n",
      "Dynamics evalutation 4.361912600340269Control evaluation hybrid_controller[4.905001011225672, 5.044612681687059e-7, -2.5223063408435294e-7]\n",
      "[1.2634563049118697e-6, 1.7763568394002505e-15, -3.5527136493595718e-15]\n",
      "Dynamics evalutation 4.390562600340269[1.2634563049118697e-6, 1.7763568394002505e-15, -3.5527136493595718e-15]\n",
      "Dynamics evalutation 4.394563877385495[1.2634563049118697e-6, 1.7763568394002505e-15, -3.5527136493595718e-15]\n",
      "Dynamics evalutation 4.395562600340269[1.2634563049118697e-6, 1.7763568394002505e-15, -3.5527136493595718e-15]\n",
      "Dynamics evalutation 4.395562600340269[1.2634563049118697e-6, 1.7763568394002505e-15, -3.5527136493595718e-15]\n",
      "Dynamics evalutation 4.403612600340269[1.2634563049118697e-6, 1.7763568394002505e-15, -3.5527136493595718e-15]\n",
      "Dynamics evalutation 4.411912600340269[1.2634563049118697e-6, 1.7763568394002505e-15, -3.5527136493595718e-15]\n",
      "Dynamics evalutation 4.440562600340269Control evaluation hybrid_controller[4.905000762237486, 3.7990810033259194e-7, -1.8995405016629597e-7]\n",
      "[9.52191536063296e-7, -1.3322676295501878e-15, 2.6645352370196785e-15]\n",
      "Dynamics evalutation 4.4445638773854945[9.521915356192068e-7, -4.440892098500626e-16, 8.881784123398929e-16]\n",
      "Dynamics evalutation 4.445562600340269[9.521915356192068e-7, -4.440892098500626e-16, 8.881784123398929e-16]\n",
      "Dynamics evalutation 4.445562600340269[9.521915356192068e-7, -4.440892098500626e-16, 8.881784123398929e-16]\n",
      "Dynamics evalutation 4.453612600340269[9.521915356192068e-7, -4.440892098500626e-16, 8.881784123398929e-16]\n",
      "Dynamics evalutation 4.461912600340269[9.521915356192068e-7, -4.440892098500626e-16, 8.881784123398929e-16]\n",
      "Dynamics evalutation 4.490562600340269[9.521915356192068e-7, -4.440892098500626e-16, 8.881784123398929e-16]\n",
      "Dynamics evalutation 4.494563877385494Control evaluation hybrid_controller[4.905000641729075, 3.2752294953892663e-7, -1.6376147476946332e-7]\n",
      "[8.054905500376464e-7, -2.220446049250313e-15, 4.440892061699464e-15]\n",
      "Dynamics evalutation 4.495562600340269[8.054905500376464e-7, -2.220446049250313e-15, 4.440892061699464e-15]\n",
      "Dynamics evalutation 4.495562600340269[8.054905500376464e-7, -2.220446049250313e-15, 4.440892061699464e-15]\n",
      "Dynamics evalutation 4.503612600340269[8.054905500376464e-7, -2.220446049250313e-15, 4.440892061699464e-15]\n",
      "Dynamics evalutation 4.511912600340269[8.054905500376464e-7, -2.220446049250313e-15, 4.440892061699464e-15]\n",
      "Dynamics evalutation 4.540562600340269[8.054905482612895e-7, 1.3322676295501878e-15, -2.6645352370196793e-15]\n",
      "Dynamics evalutation 4.544563877385494[8.054905482612895e-7, 1.3322676295501878e-15, -2.6645352370196793e-15]\n",
      "Dynamics evalutation 4.5455626003402685Control evaluation hybrid_controller[4.905000516641742, 2.6572883382515264e-7, -1.3286441691257632e-7]\n",
      "[6.49506159078328e-7, 0.0, 0.0]\n",
      "Dynamics evalutation 4.5455626003402685[6.49506159078328e-7, 0.0, 0.0]\n",
      "Dynamics evalutation 4.553612600340268[6.49506159078328e-7, 0.0, 0.0]\n",
      "Dynamics evalutation 4.561912600340269[6.49506159078328e-7, 0.0, 0.0]\n",
      "Dynamics evalutation 4.590562600340268[6.49506159078328e-7, 0.0, 0.0]\n",
      "Dynamics evalutation 4.594563877385494[6.49506159078328e-7, 0.0, 0.0]\n",
      "Dynamics evalutation 4.595562600340268[6.49506159078328e-7, 0.0, 0.0]\n",
      "Dynamics evalutation 4.595562600340268[6.49506159078328e-7, 0.0, 0.0]\n",
      "Dynamics evalutation 4.603612600340268Control evaluation hybrid_controller[4.905000465958618, 2.4063932345637653e-7, -1.2031966172818826e-7]\n",
      "[5.862782790355681e-7, 4.440892098500626e-16, -8.881784123398931e-16]\n",
      "Dynamics evalutation 4.611912600340268[5.862782790355681e-7, 4.440892098500626e-16, -8.881784123398931e-16]\n",
      "Dynamics evalutation 4.640562600340268[5.862782792576127e-7, 0.0, 0.0]\n",
      "Dynamics evalutation 4.644563877385494[5.862782792576127e-7, 0.0, 0.0]\n",
      "Dynamics evalutation 4.645562600340268[5.862782792576127e-7, 0.0, 0.0]\n",
      "Dynamics evalutation 4.645562600340268[5.862782792576127e-7, 0.0, 0.0]\n",
      "Dynamics evalutation 4.653612600340268[5.862782792576127e-7, 0.0, 0.0]\n",
      "Dynamics evalutation 4.661912600340268Control evaluation hybrid_controller[4.905000377979357, 1.9706147553173192e-7, -9.853073776586596e-8]\n",
      "[4.765100942716316e-7, 4.440892098500626e-16, -8.881784123398931e-16]\n",
      "Dynamics evalutation 4.690562600340268[4.765100942716316e-7, 4.440892098500626e-16, -8.881784123398931e-16]\n",
      "Dynamics evalutation 4.694563877385494[4.765100942716316e-7, 4.440892098500626e-16, -8.881784123398931e-16]\n",
      "Dynamics evalutation 4.695562600340268[4.765100942716316e-7, 4.440892098500626e-16, -8.881784123398931e-16]\n",
      "Dynamics evalutation 4.695562600340268[4.765100942716316e-7, 4.440892098500626e-16, -8.881784123398931e-16]\n",
      "Dynamics evalutation 4.703612600340268[4.765100942716316e-7, 4.440892098500626e-16, -8.881784123398931e-16]\n",
      "Dynamics evalutation 4.711912600340268[4.765100942716316e-7, 4.440892098500626e-16, -8.881784123398931e-16]\n"
     ]
    },
    {
     "name": "stdout",
     "output_type": "stream",
     "text": [
      "Dynamics evalutation 4.740562600340268Control evaluation hybrid_controller[4.905000284067355, 1.5060304574755112e-7, -7.530152287377556e-8]\n",
      "[3.5936887754495217e-7, 4.440892098500626e-16, -8.881784123398931e-16]\n",
      "Dynamics evalutation 4.7445638773854935[3.5936887754495217e-7, 4.440892098500626e-16, -8.881784123398931e-16]\n",
      "Dynamics evalutation 4.745562600340268[3.5936887754495217e-7, 4.440892098500626e-16, -8.881784123398931e-16]\n",
      "Dynamics evalutation 4.745562600340268[3.5936887754495217e-7, 4.440892098500626e-16, -8.881784123398931e-16]\n",
      "Dynamics evalutation 4.753612600340268[3.5936887754495217e-7, 4.440892098500626e-16, -8.881784123398931e-16]\n",
      "Dynamics evalutation 4.761912600340268[3.5936887754495217e-7, 4.440892098500626e-16, -8.881784123398931e-16]\n",
      "Dynamics evalutation 4.790562600340268[3.5936887754495217e-7, 4.440892098500626e-16, -8.881784123398931e-16]\n",
      "Dynamics evalutation 4.794563877385493Control evaluation hybrid_controller[4.905000238572427, 1.2813879818880403e-7, -6.406939909440201e-8]\n",
      "[3.026418249341134e-7, 8.881784197001252e-16, -1.7763568246797863e-15]\n",
      "Dynamics evalutation 4.795562600340268[3.026418249341134e-7, 8.881784197001252e-16, -1.7763568246797863e-15]\n",
      "Dynamics evalutation 4.795562600340268[3.026418249341134e-7, 8.881784197001252e-16, -1.7763568246797863e-15]\n",
      "Dynamics evalutation 4.8036126003402675[3.026418249341134e-7, 8.881784197001252e-16, -1.7763568246797863e-15]\n",
      "Dynamics evalutation 4.811912600340268[3.026418249341134e-7, 8.881784197001252e-16, -1.7763568246797863e-15]\n",
      "Dynamics evalutation 4.8405626003402675[3.026418256002472e-7, -4.440892098500626e-16, 8.881784123398931e-16]\n",
      "Dynamics evalutation 4.844563877385493[3.026418256002472e-7, -4.440892098500626e-16, 8.881784123398931e-16]\n",
      "Dynamics evalutation 4.845562600340267Control evaluation hybrid_controller[4.905000191367397, 9.568267086963327e-8, -4.7841335434816637e-8]\n",
      "[2.392087321556602e-7, -4.440892098500626e-16, 8.881784123398931e-16]\n",
      "Dynamics evalutation 4.845562600340267[2.392087321556602e-7, -4.440892098500626e-16, 8.881784123398931e-16]\n",
      "Dynamics evalutation 4.853612600340267[2.392087321556602e-7, -4.440892098500626e-16, 8.881784123398931e-16]\n",
      "Dynamics evalutation 4.8619126003402675[2.392087321556602e-7, -4.440892098500626e-16, 8.881784123398931e-16]\n",
      "Dynamics evalutation 4.890562600340267[2.392087321556602e-7, -4.440892098500626e-16, 8.881784123398931e-16]\n",
      "Dynamics evalutation 4.894563877385493[2.392087321556602e-7, -4.440892098500626e-16, 8.881784123398931e-16]\n",
      "Dynamics evalutation 4.895562600340267[2.392087321556602e-7, -4.440892098500626e-16, 8.881784123398931e-16]\n",
      "Dynamics evalutation 4.895562600340267[2.392087321556602e-7, -4.440892098500626e-16, 8.881784123398931e-16]\n",
      "Dynamics evalutation 4.903612600340267Control evaluation hybrid_controller[4.905000174502709, 8.725038978168683e-8, -4.3625194890843414e-8]\n",
      "[2.1812790418351824e-7, 0.0, 0.0]\n",
      "Dynamics evalutation 4.911912600340267[2.1812790418351824e-7, 0.0, 0.0]\n",
      "Dynamics evalutation 4.940562600340267[2.1812790329533982e-7, 1.7763568394002505e-15, -3.5527136493595734e-15]\n",
      "Dynamics evalutation 4.944563877385493[2.1812790329533982e-7, 1.7763568394002505e-15, -3.5527136493595734e-15]\n",
      "Dynamics evalutation 4.945562600340267[2.1812790329533982e-7, 1.7763568394002505e-15, -3.5527136493595734e-15]\n",
      "Dynamics evalutation 4.945562600340267[2.1812790329533982e-7, 1.7763568394002505e-15, -3.5527136493595734e-15]\n",
      "Dynamics evalutation 4.953612600340267[2.1812790329533982e-7, 1.7763568394002505e-15, -3.5527136493595734e-15]\n",
      "Dynamics evalutation 4.961912600340267Control evaluation hybrid_controller[4.905000141749414, 7.087386653798062e-8, -3.543693326899031e-8]\n",
      "[1.771863473720714e-7, 0.0, 0.0]\n",
      "Dynamics evalutation 4.990562600340267[1.771863473720714e-7, 0.0, 0.0]\n",
      "Dynamics evalutation 4.994563877385493[1.771863473720714e-7, 0.0, 0.0]\n",
      "Dynamics evalutation 4.995562600340267[1.771863473720714e-7, 0.0, 0.0]\n",
      "Dynamics evalutation 4.995562600340267[1.771863473720714e-7, 0.0, 0.0]\n",
      "Dynamics evalutation 4.996277021685484[1.771863473720714e-7, 0.0, 0.0]\n",
      "Dynamics evalutation 4.997013630029[1.771863473720714e-7, 0.0, 0.0]\n",
      "Dynamics evalutation 4.999556260034026[1.771863473720714e-7, 0.0, 0.0]\n",
      "Dynamics evalutation 4.999911365342006[1.771863473720714e-7, 0.0, 0.0]\n",
      "Dynamics evalutation 5.0[1.771863473720714e-7, 0.0, 0.0]\n",
      "Dynamics evalutation 5.0[1.771863473720714e-7, 0.0, 0.0]\n",
      "Simulation status: Success\n"
     ]
    }
   ],
   "source": [
    "\n",
    "initial_mode = mode(x0, controller)\n",
    "initial_mode = [1 1 0 0]\n",
    "tspan = (0.0, 5.0)\n",
    "callback_length = 5*n_contacts\n",
    "\n",
    "prob = ODEProblem(dynamics!, x0, tspan, (initial_mode, controller, [0.0], h_control, zeros(3)))\n",
    "cb = VectorContinuousCallback(conditions, affect!, affect_neg!, callback_length)\n",
    "sol = solve(prob, Tsit5(); callback = cb, abstol=1e-15,reltol=1e-15, adaptive=false,dt=Δt)\n",
    "# sol = solve(prob, Tsit5(); callback = cb, abstol=1e-9,reltol=1e-9, adaptive=false,dt=Δt)\n",
    "# sol = solve(prob, Tsit5(); callback = cb, adaptive=false,dt=Δt)\n",
    "println(\"Simulation status: \", sol.retcode)"
   ]
  },
  {
   "cell_type": "code",
   "execution_count": 552,
   "id": "7dbd0a2f",
   "metadata": {},
   "outputs": [
    {
     "data": {
      "text/plain": [
       "boxshape (generic function with 1 method)"
      ]
     },
     "execution_count": 552,
     "metadata": {},
     "output_type": "execute_result"
    }
   ],
   "source": [
    "function boxshape(q)\n",
    "    p1 = q[1:2] + R_2D(q[3])*[w/2;h/2]\n",
    "    p2 = q[1:2] + R_2D(q[3])*[w/2;-h/2]\n",
    "    p3 = q[1:2] + R_2D(q[3])*[-w/2;-h/2]\n",
    "    p4 = q[1:2] + R_2D(q[3])*[-w/2;h/2]\n",
    "    pp = [p1 p2 p3 p4]\n",
    "    return Shape(pp[1,:], pp[2,:])\n",
    "end"
   ]
  },
  {
   "cell_type": "code",
   "execution_count": 553,
   "id": "88e5a971",
   "metadata": {},
   "outputs": [
    {
     "data": {
      "text/plain": [
       "Animation(\"/tmp/jl_BmvIY7\", [\"000001.png\", \"000002.png\", \"000003.png\", \"000004.png\", \"000005.png\", \"000006.png\", \"000007.png\", \"000008.png\", \"000009.png\", \"000010.png\"  …  \"000098.png\", \"000099.png\", \"000100.png\", \"000101.png\", \"000102.png\", \"000103.png\", \"000104.png\", \"000105.png\", \"000106.png\", \"000107.png\"])"
      ]
     },
     "execution_count": 553,
     "metadata": {},
     "output_type": "execute_result"
    }
   ],
   "source": [
    "# animation \n",
    "n = length(sol.t)\n",
    "# n = Int(floor(0.77/Δt))\n",
    "x = zeros(n)\n",
    "y = zeros(n)\n",
    "θ = zeros(n)\n",
    "for k = 1:n\n",
    "    x[k] = sol.u[k][1]\n",
    "    y[k] = sol.u[k][2]\n",
    "    θ[k] = sol.u[k][3]\n",
    "end\n",
    "    \n",
    "anim = @animate for i ∈ 1:n\n",
    "    plot([-10,5],[0,0], lw = 2, c=:black, xlims=(-3,3), ylims=(-0.5,3))\n",
    "    plot!(boxshape([x[i],y[i],θ[i]]), aspect_ratio=:equal, c=:gray, opacity=.5, legend=false)\n",
    "    \n",
    "end"
   ]
  },
  {
   "cell_type": "code",
   "execution_count": 554,
   "id": "11dd2f93",
   "metadata": {},
   "outputs": [
    {
     "name": "stderr",
     "output_type": "stream",
     "text": [
      "┌ Info: Saved animation to \n",
      "│   fn = /home/xianyi/study/16715robotsim/project/src/anim.gif\n",
      "└ @ Plots /home/xianyi/.julia/packages/Plots/AJMX6/src/animation.jl:114\n"
     ]
    }
   ],
   "source": [
    "gif(anim, \"anim.gif\", fps = Int(floor(n/tspan[2])));"
   ]
  },
  {
   "cell_type": "code",
   "execution_count": null,
   "id": "aa3793e5",
   "metadata": {},
   "outputs": [],
   "source": []
  }
 ],
 "metadata": {
  "kernelspec": {
   "display_name": "Julia 1.6.2",
   "language": "julia",
   "name": "julia-1.6"
  },
  "language_info": {
   "file_extension": ".jl",
   "mimetype": "application/julia",
   "name": "julia",
   "version": "1.6.2"
  }
 },
 "nbformat": 4,
 "nbformat_minor": 5
}
