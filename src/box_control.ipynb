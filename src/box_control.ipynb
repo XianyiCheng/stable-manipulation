{
 "cells": [
  {
   "cell_type": "code",
   "execution_count": 1,
   "id": "a5d889d7",
   "metadata": {},
   "outputs": [
    {
     "name": "stderr",
     "output_type": "stream",
     "text": [
      "\u001b[32m\u001b[1m  Activating\u001b[22m\u001b[39m environment at `~/study/16715robotsim/project/Project.toml`\n"
     ]
    }
   ],
   "source": [
    "import Pkg; Pkg.activate(joinpath(@__DIR__,\"..\")); Pkg.instantiate()"
   ]
  },
  {
   "cell_type": "code",
   "execution_count": 2,
   "id": "0eefe5e9",
   "metadata": {},
   "outputs": [],
   "source": [
    "using LinearAlgebra\n",
    "using ForwardDiff\n",
    "using OrdinaryDiffEq\n",
    "using Test\n",
    "using Plots"
   ]
  },
  {
   "cell_type": "markdown",
   "id": "18cde540",
   "metadata": {},
   "source": [
    "## System properties"
   ]
  },
  {
   "cell_type": "code",
   "execution_count": 38,
   "id": "087a650c",
   "metadata": {},
   "outputs": [
    {
     "data": {
      "text/plain": [
       "2"
      ]
     },
     "execution_count": 38,
     "metadata": {},
     "output_type": "execute_result"
    }
   ],
   "source": [
    "# simulation step size\n",
    "Δt = 0.05\n",
    "const g = 9.81\n",
    "\n",
    "m = 1\n",
    "μ = 0.5\n",
    "\n",
    "w = 1.0 # width of the box\n",
    "h = 0.8 # height of the box\n",
    "M = [m 0 0; 0 m 0; 0 0 m*((h/2)^2+(w/2)^2)/3]\n",
    "\n",
    "# set of contact modes\n",
    "modes = [0 0 0 0; # both free\n",
    "        1 0 0 0; # sticking\n",
    "        1 0 -1 0; # left-slide\n",
    "        1 0 1 0; # right-slide\n",
    "        0 1 0 0;\n",
    "        0 1 0 -1;\n",
    "        0 1 0 1;\n",
    "        1 1 0 0;\n",
    "        1 1 -1 -1;\n",
    "        1 1 1 1]\n",
    "\n",
    "n_contacts = 2\n"
   ]
  },
  {
   "cell_type": "markdown",
   "id": "3de1e552",
   "metadata": {},
   "source": [
    "## Simulation functions"
   ]
  },
  {
   "cell_type": "code",
   "execution_count": 4,
   "id": "e297986c",
   "metadata": {},
   "outputs": [
    {
     "data": {
      "text/plain": [
       "R_2D (generic function with 1 method)"
      ]
     },
     "execution_count": 4,
     "metadata": {},
     "output_type": "execute_result"
    }
   ],
   "source": [
    "function R_2D(θ)\n",
    "    R = [cos(θ) -sin(θ); sin(θ) cos(θ)]\n",
    "    return R\n",
    "end"
   ]
  },
  {
   "cell_type": "code",
   "execution_count": 5,
   "id": "cdad32a0",
   "metadata": {},
   "outputs": [
    {
     "data": {
      "text/plain": [
       "compute_dA_tangent (generic function with 1 method)"
      ]
     },
     "execution_count": 5,
     "metadata": {},
     "output_type": "execute_result"
    }
   ],
   "source": [
    "# constraints/contacts\n",
    "function compute_a(q)\n",
    "    y = q[2]\n",
    "    θ = q[3]\n",
    "    a1 = y - 0.5*h*cos(θ) - 0.5*w*sin(θ)\n",
    "    a2 = y - 0.5*h*cos(θ) + 0.5*w*sin(θ)\n",
    "    return [a1; a2]\n",
    "end\n",
    "\n",
    "function compute_a_t(q)\n",
    "    p1 = R_2D(q[3])*[-w/2; -h/2] \n",
    "    p2 = R_2D(q[3])*[w/2; -h/2] \n",
    "    at1 = p1[1] + q[1]\n",
    "    at2 = p2[1] + q[1]\n",
    "    return [at1; at2]\n",
    "end\n",
    "\n",
    "# constraints jacobian\n",
    "function compute_A(q)\n",
    "    θ = q[3]\n",
    "    A = [0 1 0.5*h*sin(θ)-0.5*w*cos(θ); 0 1 0.5*h*sin(θ)+0.5*w*cos(θ)]\n",
    "    return A\n",
    "end\n",
    "\n",
    "function compute_dA(q, dq)\n",
    "    dA = reshape(ForwardDiff.jacobian(compute_A, q)*dq, n_contacts, 3)\n",
    "    return dA\n",
    "end\n",
    "\n",
    "function compute_A_tangent(q)\n",
    "    A_t = ForwardDiff.jacobian(compute_a_t,q)\n",
    "    return A_t\n",
    "end\n",
    "\n",
    "function compute_dA_tangent(q, dq)\n",
    "    dA_t = reshape(ForwardDiff.jacobian(compute_A_tangent, q)*dq, n_contacts, 3)\n",
    "    return dA_t\n",
    "end"
   ]
  },
  {
   "cell_type": "code",
   "execution_count": 6,
   "id": "fd0ee10f",
   "metadata": {},
   "outputs": [
    {
     "data": {
      "text/plain": [
       "contact_mode_constraints (generic function with 1 method)"
      ]
     },
     "execution_count": 6,
     "metadata": {},
     "output_type": "execute_result"
    }
   ],
   "source": [
    "function contact_mode_constraints(x, contactMode)\n",
    "    \n",
    "    q = x[1:3]\n",
    "    dq = x[4:6]\n",
    "    \n",
    "    cs_mode = contactMode[1:n_contacts] .== 1\n",
    "    ss_mode = contactMode[n_contacts+1:end]\n",
    "    \n",
    "    A = compute_A(q)\n",
    "    A_t = compute_A_tangent(q)\n",
    "    dA = compute_dA(q, dq)\n",
    "    dA_t = compute_dA_tangent(q,dq)\n",
    "    A = A[cs_mode,:]\n",
    "    A_t = A_t[cs_mode,:]\n",
    "    dA = dA[cs_mode,:]\n",
    "    dA_t = dA_t[cs_mode,:]\n",
    "    \n",
    "    ss_active = ss_mode[cs_mode]\n",
    "    \n",
    "    A_all = zeros(0,3)\n",
    "    A_all_f = zeros(0,3)\n",
    "    dA_all = zeros(0,3)\n",
    "\n",
    "    for k = 1:length(ss_active)\n",
    "        ss = ss_active[k]\n",
    "        if ss == 0\n",
    "            A_all_f = [A_all_f; A[k,:]'; A_t[k,:]']\n",
    "            dA_all = [dA_all; dA[k,:]'; dA_t[k,:]']\n",
    "            A_all = [A_all; A[k,:]'; A_t[k,:]']\n",
    "        else\n",
    "            A_all_f = [A_all_f; A[k,:]'-ss*μ*A_t[k,:]']\n",
    "            dA_all = [dA_all; dA[k,:]']\n",
    "            A_all = [A_all; A[k,:]']\n",
    "        end\n",
    "    end\n",
    "    \n",
    "    return A_all_f, A_all, dA_all\n",
    "end"
   ]
  },
  {
   "cell_type": "code",
   "execution_count": 7,
   "id": "b0458247",
   "metadata": {},
   "outputs": [
    {
     "data": {
      "text/plain": [
       "contact_force_constraints (generic function with 1 method)"
      ]
     },
     "execution_count": 7,
     "metadata": {},
     "output_type": "execute_result"
    }
   ],
   "source": [
    "function contact_force_constraints(λ, contactMode)\n",
    "    # c > 0\n",
    "    cs_mode = contactMode[1:n_contacts] .== 1\n",
    "    ss_mode = contactMode[n_contacts+1:end]\n",
    "    \n",
    "    ss_active = ss_mode[cs_mode]\n",
    "    \n",
    "    i = 1\n",
    "    ic = 1\n",
    "    c = zeros(sum(ss_active.==0)*3 + sum(ss_active.!=0))\n",
    "    for k = 1:length(ss_active)\n",
    "        ss = ss_active[k]\n",
    "        if ss == 0\n",
    "            c[ic:ic+2] = [-λ[i]; -μ*λ[i] - λ[i+1]; -μ*λ[i] + λ[i+1]]\n",
    "            ic += 3\n",
    "            i += 2\n",
    "        else\n",
    "            c[ic] = -λ[i]\n",
    "            i += 1\n",
    "            ic += 1\n",
    "        end\n",
    "    end\n",
    "    return c\n",
    "end"
   ]
  },
  {
   "cell_type": "code",
   "execution_count": 8,
   "id": "4ac93fd9",
   "metadata": {},
   "outputs": [
    {
     "data": {
      "text/plain": [
       "sliding_velocity_constraints (generic function with 1 method)"
      ]
     },
     "execution_count": 8,
     "metadata": {},
     "output_type": "execute_result"
    }
   ],
   "source": [
    "function sliding_velocity_constraints(x, contactMode)\n",
    "    # reture A_eq, A_geq, A_eq*dq = 0, A_geq*dq >= 0\n",
    "    q = x[1:3]\n",
    "    dq = x[4:6]\n",
    "    \n",
    "    cs_mode = contactMode[1:n_contacts] .== 1\n",
    "    ss_mode = contactMode[n_contacts+1:end]\n",
    "    \n",
    "    A = compute_A(q)\n",
    "    A_t = compute_A_tangent(q)\n",
    "    dA = compute_dA(q, dq)\n",
    "    dA_t = compute_dA_tangent(q,dq)\n",
    "    A = A[cs_mode,:]\n",
    "    A_t = A_t[cs_mode,:]\n",
    "    dA = dA[cs_mode,:]\n",
    "    dA_t = dA_t[cs_mode,:]\n",
    "    \n",
    "    ss_active = ss_mode[cs_mode]\n",
    "    \n",
    "    AA_eq = zeros(0,3)\n",
    "    AA_geq = zeros(0,3)\n",
    "    dAA_eq = zeros(0,3)\n",
    "    dAA_geq = zeros(0,3)\n",
    "\n",
    "    for k = 1:length(ss_active)\n",
    "        ss = ss_active[k]\n",
    "        if ss == 0\n",
    "            AA_eq = [AA_eq; A[k,:]'; A_t[k,:]']\n",
    "            dAA_eq = [dAA_eq; dA[k,:]'; dA_t[k,:]']\n",
    "        else\n",
    "            AA_eq = [AA_eq; A[k,:]']\n",
    "            dAA_eq = [dAA_eq; dA[k,:]']\n",
    "            AA_geq = [AA_geq; ss*A_t[k,:]']\n",
    "            dAA_geq = [dAA_geq; ss*dA_t[k,:]']\n",
    "        end\n",
    "    end\n",
    "    \n",
    "    return AA_eq, AA_geq, dAA_eq, dAA_geq\n",
    "end"
   ]
  },
  {
   "cell_type": "code",
   "execution_count": 9,
   "id": "7c975417",
   "metadata": {},
   "outputs": [
    {
     "data": {
      "text/plain": [
       "solveEOM (generic function with 1 method)"
      ]
     },
     "execution_count": 9,
     "metadata": {},
     "output_type": "execute_result"
    }
   ],
   "source": [
    "function solveEOM(x, contactMode, controller)\n",
    "    # contactMode: bool vector, indicates which constraints are active\n",
    "    q = x[1:3]\n",
    "    dq = x[4:6]\n",
    "    \n",
    "    A_f, A, dA = contact_mode_constraints(x, contactMode)\n",
    "    \n",
    "    # compute EOM matrices\n",
    "    N = [0; g; 0]\n",
    "    C = zeros(3,3)\n",
    "    Y = controller(x, contactMode)\n",
    "    \n",
    "    #\n",
    "    blockMat = [M A_f'; A zeros(size(A,1),size(A_f',2))] \n",
    "\n",
    "    b = [Y-N-C*dq; -dA*dq]\n",
    "    \n",
    "    #z = blockMat\\b\n",
    "    #println(blockMat)\n",
    "    if rank(blockMat) < length(b)\n",
    "        z =pinv(blockMat)*b\n",
    "    else\n",
    "        z = blockMat\\b\n",
    "    end\n",
    "    \n",
    "    ddq = z[1:3]\n",
    "    if (sum(contactMode[1:n_contacts])>=1)\n",
    "        λ = z[4:end]\n",
    "    else\n",
    "        λ = []\n",
    "    end\n",
    "    \n",
    "    return ddq, λ\n",
    "end"
   ]
  },
  {
   "cell_type": "code",
   "execution_count": 10,
   "id": "727aec09",
   "metadata": {},
   "outputs": [
    {
     "data": {
      "text/plain": [
       "computeResetMap (generic function with 1 method)"
      ]
     },
     "execution_count": 10,
     "metadata": {},
     "output_type": "execute_result"
    }
   ],
   "source": [
    "function computeResetMap(x, contactMode)\n",
    "    q = x[1:3]\n",
    "    dq = x[4:6]\n",
    "\n",
    "    A_f, A, dA = contact_mode_constraints(x, contactMode)\n",
    "    \n",
    "    c = size(A, 1)\n",
    "    #\n",
    "    blockMat = [M A_f'; A zeros(size(A,1),size(A_f',2))] \n",
    "    \n",
    "    if rank(blockMat) < 3+c\n",
    "        z = pinv(blockMat)*[M*dq; zeros(c)]\n",
    "    else\n",
    "        z = blockMat\\[M*dq; zeros(c)]\n",
    "    end\n",
    "        \n",
    "    dq_p = z[1:3]\n",
    "    p_hat = z[4:end]\n",
    "    return dq_p, p_hat\n",
    "end"
   ]
  },
  {
   "cell_type": "code",
   "execution_count": 11,
   "id": "127f349a",
   "metadata": {},
   "outputs": [
    {
     "data": {
      "text/plain": [
       "compute_FA (generic function with 1 method)"
      ]
     },
     "execution_count": 11,
     "metadata": {},
     "output_type": "execute_result"
    }
   ],
   "source": [
    "function compute_FA(x, controller)\n",
    "    \n",
    "    q = x[1:3]\n",
    "    dq = x[4:6]\n",
    "    \n",
    "    a = compute_a(q)\n",
    "    \n",
    "    active_cs = abs.(a) .< 1e-6\n",
    "    inactive_cs = abs.(a) .> 1e-6\n",
    "    \n",
    "    if sum(active_cs) == 0\n",
    "        return zeros(Int, 4)\n",
    "    end\n",
    "    \n",
    "    possibleModes = zeros(Bool, 0, size(modes,2))\n",
    "    \n",
    "    contactMode = zeros(n_contacts*2)\n",
    "    \n",
    "    for k = 1:size(modes,1)\n",
    "        m_cs = modes[k, 1:n_contacts].==1\n",
    "        if length(findall(z->z==true, m_cs[inactive_cs])) == 0\n",
    "            possibleModes = [possibleModes; modes[k, :]']\n",
    "        end\n",
    "    end\n",
    "\n",
    "    max_cons = 0\n",
    "    \n",
    "    for kk = 1:size(possibleModes, 1)      \n",
    "        \n",
    "        m = possibleModes[kk,:]\n",
    "        \n",
    "        separate_cs = (m[1:n_contacts].!=1) .& active_cs\n",
    "        _, A_separate, dA_separate = contact_mode_constraints(x, [separate_cs; ones(n_contacts)]) \n",
    "\n",
    "        ddq, λ = solveEOM(x, m, controller)\n",
    "        \n",
    "        c_λ = contact_force_constraints(λ, m)\n",
    "        \n",
    "        if all(c_λ.>=0)\n",
    "        \n",
    "            As_eq, As_geq, dAs_eq, dAs_geq = sliding_velocity_constraints(x, m)\n",
    "\n",
    "            sep_vel_cond = ((A_separate*dq).>0) .| ((A_separate*ddq .+ dA_separate*dq).>=0)\n",
    "            maintain_vel_cond = all(abs.(As_eq*dq).<1e-6) & all((As_geq*dq).>1e-6)\n",
    "\n",
    "            if ~maintain_vel_cond\n",
    "                if any((As_geq*dq).<1e-6)\n",
    "                    maintain_vel_cond = all(abs.(dAs_eq*dq + As_eq*ddq).<1e-6) & all((dAs_geq*dq + As_geq*ddq).>0)\n",
    "                end\n",
    "            end\n",
    "\n",
    "            if all(c_λ.>=0) && all(sep_vel_cond) && maintain_vel_cond\n",
    "                if sum(m[1:n_contacts]) > max_cons\n",
    "                    contactMode = m\n",
    "                    max_cons = sum(m[1:n_contacts])\n",
    "                end\n",
    "            end\n",
    "        end\n",
    "    end\n",
    "    \n",
    "    return contactMode\n",
    "end"
   ]
  },
  {
   "cell_type": "code",
   "execution_count": 12,
   "id": "48e9c41c",
   "metadata": {},
   "outputs": [
    {
     "data": {
      "text/plain": [
       "compute_IV (generic function with 1 method)"
      ]
     },
     "execution_count": 12,
     "metadata": {},
     "output_type": "execute_result"
    }
   ],
   "source": [
    "function compute_IV(x)\n",
    "    \n",
    "    q = x[1:3]\n",
    "    dq = x[4:6]\n",
    "    \n",
    "    a = compute_a(q)\n",
    "    \n",
    "    active_cs = abs.(a) .< 1e-6\n",
    "    inactive_cs = abs.(a) .> 1e-6\n",
    "    \n",
    "    if sum(active_cs) == 0\n",
    "        return zeros(Int, 4)\n",
    "    end\n",
    "    \n",
    "    possibleModes = zeros(Bool, 0, size(modes,2))\n",
    "    \n",
    "    contactMode = zeros(n_contacts*2)\n",
    "    \n",
    "    for k = 1:size(modes,1)\n",
    "        m_cs = modes[k, 1:n_contacts].==1\n",
    "        if length(findall(z->z==true, m_cs[inactive_cs])) == 0\n",
    "            possibleModes = [possibleModes; modes[k, :]']\n",
    "        end\n",
    "    end\n",
    "    \n",
    "    max_cons = 0\n",
    "    for kk = 1:size(possibleModes, 1)\n",
    "        \n",
    "        m = possibleModes[kk,:]\n",
    "        \n",
    "        separate_cs = (m[1:n_contacts].!=1) .& active_cs\n",
    "        _, A_separate, _ = contact_mode_constraints(x, [separate_cs; ones(n_contacts)]) \n",
    "\n",
    "        dq_p, p_hat = computeResetMap(x, m)\n",
    "        \n",
    "        c_p_hat = contact_force_constraints(p_hat, m)\n",
    "        As_eq, As_geq, _, _ = sliding_velocity_constraints(x, m)\n",
    "        \n",
    "        if all(c_p_hat.>=0) && all(A_separate*dq_p.>=0) && all(abs.(As_eq*dq_p).<1e-6) && all(As_geq*dq_p.>0)\n",
    "             if sum(m[1:n_contacts]) > max_cons\n",
    "                contactMode = m\n",
    "                max_cons = sum(m[1:n_contacts])\n",
    "            end\n",
    "        end\n",
    "    end\n",
    "    \n",
    "    return contactMode\n",
    "end"
   ]
  },
  {
   "cell_type": "code",
   "execution_count": 13,
   "id": "b562498f",
   "metadata": {},
   "outputs": [
    {
     "data": {
      "text/plain": [
       "mode (generic function with 1 method)"
      ]
     },
     "execution_count": 13,
     "metadata": {},
     "output_type": "execute_result"
    }
   ],
   "source": [
    "function mode(x, controller)\n",
    "    return compute_FA(x, controller)\n",
    "end"
   ]
  },
  {
   "cell_type": "code",
   "execution_count": 14,
   "id": "94260951",
   "metadata": {},
   "outputs": [
    {
     "data": {
      "text/plain": [
       "guard_conditions (generic function with 1 method)"
      ]
     },
     "execution_count": 14,
     "metadata": {},
     "output_type": "execute_result"
    }
   ],
   "source": [
    "function guard_conditions(x, contactMode, controller)\n",
    "    q = x[1:3]\n",
    "    dq = x[4:6]\n",
    "    \n",
    "    a = compute_a(q)\n",
    "    a[contactMode[1:n_contacts] .== 1] .= 0.0\n",
    "    \n",
    "    v_all = zeros(n_contacts)\n",
    "    _, As_geq, _, _ = sliding_velocity_constraints(x, contactMode)\n",
    "    v_all[1:size(As_geq,1)] = -As_geq*dq\n",
    "    \n",
    "    ddq, λ = solveEOM(x, contactMode, controller)\n",
    "    c_λ = contact_force_constraints(λ, contactMode)\n",
    "    c_λ_all = zeros(3*n_contacts)\n",
    "    c_λ_all[1:length(c_λ)] = c_λ\n",
    "    \n",
    "    c = [a; v_all; c_λ_all]\n",
    "    \n",
    "    dir = [-ones(Int,length(a)); ones(Int,length(v_all)); ones(Int,length(c_λ_all))]\n",
    "    \n",
    "    return c, dir\n",
    "end"
   ]
  },
  {
   "cell_type": "markdown",
   "id": "591e2342",
   "metadata": {},
   "source": [
    "## Wrappers for ODE solver"
   ]
  },
  {
   "cell_type": "code",
   "execution_count": 15,
   "id": "4a3267d3",
   "metadata": {},
   "outputs": [
    {
     "data": {
      "text/plain": [
       "dynamics! (generic function with 1 method)"
      ]
     },
     "execution_count": 15,
     "metadata": {},
     "output_type": "execute_result"
    }
   ],
   "source": [
    "function dynamics!(dx, x, p, t)\n",
    "    # p from integrator: (vector n, contact mode, controller)\n",
    "    q = x[1:3]\n",
    "    dq = x[4:6]\n",
    "    ddq, λ = solveEOM(x, p[1], p[2])\n",
    "    dx .= [dq; ddq]\n",
    "end"
   ]
  },
  {
   "cell_type": "code",
   "execution_count": 73,
   "id": "a4bb2b72",
   "metadata": {},
   "outputs": [
    {
     "data": {
      "text/plain": [
       "affect_neg! (generic function with 1 method)"
      ]
     },
     "execution_count": 73,
     "metadata": {},
     "output_type": "execute_result"
    }
   ],
   "source": [
    "function conditions(out, x, t, integrator)\n",
    "    contactMode = integrator.p[1]\n",
    "    controller = integrator.p[2]\n",
    "    c, dir = guard_conditions(x, contactMode, controller)\n",
    "    out .= c\n",
    "end\n",
    "\n",
    "function affect!(integrator, idx)\n",
    "    contactMode = integrator.p[1]\n",
    "    x = integrator.u\n",
    "    c, dir = guard_conditions(x, contactMode, integrator.p[2])\n",
    "    \n",
    "    # only consider upcrossing forces and constraints values(FA comp)\n",
    "    # forces\n",
    "    if dir[idx] > 0\n",
    "        new_contactMode = compute_FA(x, integrator.p[2])\n",
    "        integrator.p[1] .= reshape(new_contactMode,size(integrator.p[1]))\n",
    "        println(\"New mode from FA: \", new_contactMode)\n",
    "    end\n",
    "    # constraints\n",
    "#     if dir[idx] < 0\n",
    "#         new_contactMode = contactMode\n",
    "#         new_contactMode[idx] = false\n",
    "#     end\n",
    "end\n",
    "\n",
    "function affect_neg!(integrator, idx)\n",
    "    contactMode = integrator.p[1]\n",
    "    x = integrator.u\n",
    "    c, dir = guard_conditions(x, contactMode, integrator.p[2])\n",
    "    \n",
    "    # only consider down crossing constraint value(IV comp)\n",
    "    if dir[idx] < 0\n",
    "        new_contactMode = compute_IV(x)\n",
    "        dq_p, p_hat = computeResetMap(x, new_contactMode)\n",
    "        integrator.u .= [x[1:3]; dq_p]\n",
    "        integrator.p[1] .= reshape(new_contactMode,size(integrator.p[1]))\n",
    "        println(\"New mode from IV: \", new_contactMode)\n",
    "\n",
    "    end\n",
    "end"
   ]
  },
  {
   "cell_type": "markdown",
   "id": "c31d7fb4",
   "metadata": {},
   "source": [
    "## goal specific conditions"
   ]
  },
  {
   "cell_type": "code",
   "execution_count": 74,
   "id": "cad95562",
   "metadata": {},
   "outputs": [
    {
     "data": {
      "text/plain": [
       "2-element Vector{Float64}:\n",
       " -0.5\n",
       "  0.0"
      ]
     },
     "execution_count": 74,
     "metadata": {},
     "output_type": "execute_result"
    }
   ],
   "source": [
    "# reference conditions\n",
    "xref = [0;h/2;0;1;0;0]\n",
    "uref = [μ*m*g;0]\n",
    "nominal_mode = [1 1 1 1]\n",
    "\n",
    "# pusher location\n",
    "pusher_p = [-w/2;0]"
   ]
  },
  {
   "cell_type": "markdown",
   "id": "4109cb52",
   "metadata": {},
   "source": [
    "## Basic controllers"
   ]
  },
  {
   "cell_type": "code",
   "execution_count": 75,
   "id": "51b1d816",
   "metadata": {},
   "outputs": [
    {
     "data": {
      "text/plain": [
       "pd_pusher_controller (generic function with 1 method)"
      ]
     },
     "execution_count": 75,
     "metadata": {},
     "output_type": "execute_result"
    }
   ],
   "source": [
    "function no_controller(x, contactMode)\n",
    "    return zeros(3)\n",
    "end\n",
    "\n",
    "function force_controller(x, contactMode)\n",
    "    f = zeros(3)\n",
    "    f[1] = 1.2*μ*m*g\n",
    "    return f\n",
    "end\n",
    "\n",
    "function pd_controller(x, contactMode)\n",
    "    # for sliding velocity\n",
    "    q = x[1:3]\n",
    "    dq = x[4:6]\n",
    "    k = 10\n",
    "    d = 1\n",
    "    eq = q - xref[1:3]\n",
    "    eq[1] = 0\n",
    "    f = -k.*eq .- d.*(dq - xref[4:6])\n",
    "    \n",
    "    # add sliding force compensation\n",
    "    if abs(f[1]) > 1e-3\n",
    "        f[1] += μ*m*g\n",
    "    end\n",
    "    return f\n",
    "end\n",
    "\n",
    "function pd_pusher_controller(x, contactMode)\n",
    "    # for sliding velocity\n",
    "    q = x[1:3]\n",
    "    dq = x[4:6]\n",
    "    \n",
    "    k = 10\n",
    "    d = 1\n",
    "    \n",
    "    A = [1 0; 0 1; -pusher_p[2] pusher_p[1]]\n",
    "    \n",
    "    eq = q - xref[1:3]\n",
    "    eq[1] = 0\n",
    "    fd = -k.*eq .- d.*(dq - xref[4:6])\n",
    "    \n",
    "    # add sliding force compensation\n",
    "    if abs(fd[1]) > 1e-3\n",
    "        fd[1] += μ*m*g\n",
    "    end\n",
    "    \n",
    "    c = A\\fd\n",
    "    f = A*c\n",
    "    return f\n",
    "end\n",
    "\n",
    "    "
   ]
  },
  {
   "cell_type": "markdown",
   "id": "0f99444a",
   "metadata": {},
   "source": [
    "## LQR \n",
    "Push the box with a pusher (a point contact)"
   ]
  },
  {
   "cell_type": "code",
   "execution_count": 19,
   "id": "99772a6d",
   "metadata": {},
   "outputs": [
    {
     "data": {
      "text/plain": [
       "riccati"
      ]
     },
     "execution_count": 19,
     "metadata": {},
     "output_type": "execute_result"
    }
   ],
   "source": [
    "\"\"\"\n",
    "    riccati(A,B,Q,R,Qf,N)\n",
    "\n",
    "Use backward riccati recursion to solve the finite-horizon time-invariant LQR problem.\n",
    "Returns vectors of the feedback gains `K` and cost-to-go matrices `P`, where `length(K) == N-1`,\n",
    "`length(P) == N`, and `size(K[i]) == (m,n)` and `size(P[i]) == (n,n)`.\n",
    "\n",
    "# Arguments:\n",
    "* `A`: `(n,n)` discrete dynamics Jacobian wrt the state\n",
    "* `B`: `(n,m)` discrete dynamics Jacobian wrt the control\n",
    "* `Q`: `(n,n)` stage-wise cost matrix for states\n",
    "* `R`: `(m,m)` stage-wise cost matrix for controls\n",
    "* `Qf`: `(n,n)` cost matrix for terminal state\n",
    "* `N`: Integer number of time steps (horizon length).\n",
    "\"\"\"\n",
    "function riccati(A,B,Q,R,Qf,N)\n",
    "    # initialize the output\n",
    "    n,m = size(B)\n",
    "    P = [zeros(n,n) for k = 1:N]\n",
    "    K = [zeros(m,n) for k = 1:N-1]\n",
    "    \n",
    "    # TODO: implement the Riccati recursion\n",
    "    P[end] .= Qf\n",
    "    for k = reverse(1:N-1) \n",
    "        K[k] .= (R + B'P[k+1]*B)\\(B'P[k+1]*A)\n",
    "        P[k] .= Q + A'P[k+1]*A - A'P[k+1]*B*K[k]\n",
    "    end\n",
    "    \n",
    "    # return the feedback gains and ctg matrices\n",
    "    return K,P\n",
    "end"
   ]
  },
  {
   "cell_type": "code",
   "execution_count": 36,
   "id": "16a5d433",
   "metadata": {},
   "outputs": [
    {
     "data": {
      "text/plain": [
       "discrete_dynamics (generic function with 1 method)"
      ]
     },
     "execution_count": 36,
     "metadata": {},
     "output_type": "execute_result"
    }
   ],
   "source": [
    "function rk4_step(f,xk,u)\n",
    "    # classic rk4 parameters\n",
    "    a21 = 0.5\n",
    "    a31 = 0\n",
    "    a32 = 0.5\n",
    "    a41 = 0\n",
    "    a42 = 0\n",
    "    a43 = 1\n",
    "    b1 = 1/6\n",
    "    b2 = 1/3\n",
    "    b3 = 1/3\n",
    "    b4 = 1/6\n",
    "    \n",
    "    f1 = f(xk,u)\n",
    "    f2 = f(xk + Δt*a21*f1,u)\n",
    "    f3 = f(xk + Δt*a31*f1 + Δt*a32*f2,u)\n",
    "    f4 = f(xk + Δt*a41*f1 + Δt*a42*f2 + Δt*a43*f3,u)\n",
    "\n",
    "    xn = xk + Δt*(b1*f1 + b2*f2 + b3*f3 + b4*f4)\n",
    "    \n",
    "    return xn\n",
    "end\n",
    "\n",
    "function continuous_dynamics(x, u)\n",
    "    q = x[1:3]\n",
    "    dq = x[4:6]\n",
    "    \n",
    "    A_f, A, dA = contact_mode_constraints(x, nominal_mode)\n",
    "    \n",
    "    # contact constraints\n",
    "    Jc = [1 0; 0 1; -pusher_p[2] pusher_p[1]]\n",
    "    \n",
    "    # compute EOM matrices\n",
    "    N = [0; g; 0]\n",
    "    C = zeros(3,3)\n",
    "    Y = Jc*u\n",
    "    \n",
    "    blockMat = [M A_f'; A zeros(size(A,1),size(A_f',2))] \n",
    "\n",
    "    b = [Y-N-C*dq; -dA*dq]\n",
    "    \n",
    "    z =blockMat\\b\n",
    "\n",
    "    ddq = z[1:3]\n",
    "    \n",
    "    return [dq;ddq]\n",
    "end\n",
    "\n",
    "function discrete_dynamics(x, u)\n",
    "    xn = rk4_step(continuous_dynamics,x,u)\n",
    "    return xn\n",
    "end"
   ]
  },
  {
   "cell_type": "code",
   "execution_count": 46,
   "id": "1ec4724b",
   "metadata": {},
   "outputs": [
    {
     "data": {
      "text/plain": [
       "2×6 Matrix{Float64}:\n",
       " 0.0  0.0  0.0  2.58945  0.0  0.0\n",
       " 0.0  0.0  0.0  1.29473  0.0  0.0"
      ]
     },
     "execution_count": 46,
     "metadata": {},
     "output_type": "execute_result"
    }
   ],
   "source": [
    "# compute infinite horizon K\n",
    "A_lqr = ForwardDiff.jacobian(_x->discrete_dynamics(_x, uref), xref)\n",
    "B_lqr = ForwardDiff.jacobian(_u->discrete_dynamics(xref, _u), uref)\n",
    "Q_lqr = Diagonal([0;1.0;1.0;1.0;1.0;1.0])\n",
    "R_lqr = Diagonal([0.1;0.1])\n",
    "Ks, _ = riccati(A_lqr,B_lqr,Q_lqr,R_lqr,Q_lqr,50)\n",
    "K_lqr = Ks[1]"
   ]
  },
  {
   "cell_type": "code",
   "execution_count": 54,
   "id": "f06eeac1",
   "metadata": {},
   "outputs": [
    {
     "data": {
      "text/plain": [
       "pusher_lqr_controller (generic function with 1 method)"
      ]
     },
     "execution_count": 54,
     "metadata": {},
     "output_type": "execute_result"
    }
   ],
   "source": [
    "function pusher_lqr_controller(x, contactMode)\n",
    "    Jc = [1 0; 0 1; -pusher_p[2] pusher_p[1]]\n",
    "    u = uref .- K_lqr*(x .- xref)\n",
    "    f = Jc*u\n",
    "    return f\n",
    "end"
   ]
  },
  {
   "cell_type": "markdown",
   "id": "dad42584",
   "metadata": {},
   "source": [
    "## simulate the sliding box "
   ]
  },
  {
   "cell_type": "code",
   "execution_count": null,
   "id": "b0b7f987",
   "metadata": {},
   "outputs": [],
   "source": [
    "# specify the controller\n",
    "controller = pusher_lqr_controller"
   ]
  },
  {
   "cell_type": "code",
   "execution_count": null,
   "id": "ca461725",
   "metadata": {},
   "outputs": [],
   "source": [
    "# initial condition\n",
    "\n",
    "# basic test\n",
    "x0 = [0;h/2;0;0;0;0]\n",
    "\n",
    "# # lqr fail 1\n",
    "# θ0 = -0.5\n",
    "# x0 = [0;h/2 - sin(θ0)*w/2;θ0;0;0;0]\n",
    "\n",
    "# # lqr fail 2\n",
    "# θ0 = -0.5\n",
    "# x0 = [0;h/2 - sin(θ0)*w/2 + 0.2;θ0;0;0;0]"
   ]
  },
  {
   "cell_type": "code",
   "execution_count": 93,
   "id": "50a79091",
   "metadata": {},
   "outputs": [
    {
     "name": "stdout",
     "output_type": "stream",
     "text": [
      "New mode from IV: [0, 1, 0, 0]\n",
      "New mode from FA: [0.0, 0.0, 0.0, 0.0]\n",
      "New mode from IV: [1, 0, 0, 0]\n",
      "New mode from FA: [0.0, 0.0, 0.0, 0.0]\n",
      "New mode from IV: [1, 0, 0, 0]\n",
      "New mode from FA: [1, 0, -1, 0]\n",
      "New mode from FA: [1, 0, 0, 0]\n",
      "Simulation status: Success\n"
     ]
    }
   ],
   "source": [
    "\n",
    "initial_mode = mode(x0, controller)\n",
    "\n",
    "tspan = (0.0, 3.0)\n",
    "callback_length = 5*n_contacts\n",
    "\n",
    "prob = ODEProblem(dynamics!, x0, tspan, (initial_mode, controller))\n",
    "cb = VectorContinuousCallback(conditions, affect!, affect_neg!, callback_length)\n",
    "sol = solve(prob, Tsit5(); callback = cb, abstol=1e-15,reltol=1e-15, adaptive=false,dt=Δt)\n",
    "println(\"Simulation status: \", sol.retcode)"
   ]
  },
  {
   "cell_type": "code",
   "execution_count": 94,
   "id": "7dbd0a2f",
   "metadata": {},
   "outputs": [
    {
     "data": {
      "text/plain": [
       "boxshape (generic function with 1 method)"
      ]
     },
     "execution_count": 94,
     "metadata": {},
     "output_type": "execute_result"
    }
   ],
   "source": [
    "function boxshape(q)\n",
    "    p1 = q[1:2] + R_2D(q[3])*[w/2;h/2]\n",
    "    p2 = q[1:2] + R_2D(q[3])*[w/2;-h/2]\n",
    "    p3 = q[1:2] + R_2D(q[3])*[-w/2;-h/2]\n",
    "    p4 = q[1:2] + R_2D(q[3])*[-w/2;h/2]\n",
    "    pp = [p1 p2 p3 p4]\n",
    "    return Shape(pp[1,:], pp[2,:])\n",
    "end"
   ]
  },
  {
   "cell_type": "code",
   "execution_count": 95,
   "id": "88e5a971",
   "metadata": {},
   "outputs": [
    {
     "data": {
      "text/plain": [
       "Animation(\"/tmp/jl_MKLILX\", [\"000001.png\", \"000002.png\", \"000003.png\", \"000004.png\", \"000005.png\", \"000006.png\", \"000007.png\", \"000008.png\", \"000009.png\", \"000010.png\"  …  \"000069.png\", \"000070.png\", \"000071.png\", \"000072.png\", \"000073.png\", \"000074.png\", \"000075.png\", \"000076.png\", \"000077.png\", \"000078.png\"])"
      ]
     },
     "execution_count": 95,
     "metadata": {},
     "output_type": "execute_result"
    }
   ],
   "source": [
    "# animation \n",
    "n = length(sol.t)\n",
    "x = zeros(n)\n",
    "y = zeros(n)\n",
    "θ = zeros(n)\n",
    "for k = 1:n\n",
    "    x[k] = sol.u[k][1]\n",
    "    y[k] = sol.u[k][2]\n",
    "    θ[k] = sol.u[k][3]\n",
    "end\n",
    "    \n",
    "anim = @animate for i ∈ 1:n\n",
    "    plot([-10,5],[0,0], lw = 2, c=:black, xlims=(-3,3), ylims=(-0.5,3))\n",
    "    plot!(boxshape([x[i],y[i],θ[i]]), aspect_ratio=:equal, c=:gray, opacity=.5, legend=false)\n",
    "    \n",
    "end"
   ]
  },
  {
   "cell_type": "code",
   "execution_count": 96,
   "id": "11dd2f93",
   "metadata": {},
   "outputs": [
    {
     "name": "stderr",
     "output_type": "stream",
     "text": [
      "┌ Info: Saved animation to \n",
      "│   fn = /home/xianyi/study/16715robotsim/project/src/anim.gif\n",
      "└ @ Plots /home/xianyi/.julia/packages/Plots/AJMX6/src/animation.jl:114\n"
     ]
    }
   ],
   "source": [
    "gif(anim, \"anim.gif\", fps = Int(floor(0.5*n/tspan[2])));"
   ]
  },
  {
   "cell_type": "code",
   "execution_count": null,
   "id": "25bbae16",
   "metadata": {},
   "outputs": [],
   "source": []
  },
  {
   "cell_type": "code",
   "execution_count": null,
   "id": "f18bad23",
   "metadata": {},
   "outputs": [],
   "source": []
  },
  {
   "cell_type": "code",
   "execution_count": null,
   "id": "aa3793e5",
   "metadata": {},
   "outputs": [],
   "source": []
  }
 ],
 "metadata": {
  "kernelspec": {
   "display_name": "Julia 1.6.2",
   "language": "julia",
   "name": "julia-1.6"
  },
  "language_info": {
   "file_extension": ".jl",
   "mimetype": "application/julia",
   "name": "julia",
   "version": "1.6.2"
  }
 },
 "nbformat": 4,
 "nbformat_minor": 5
}
