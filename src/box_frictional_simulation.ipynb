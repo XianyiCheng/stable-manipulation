{
 "cells": [
  {
   "cell_type": "code",
   "execution_count": 1,
   "id": "a5d889d7",
   "metadata": {},
   "outputs": [
    {
     "name": "stderr",
     "output_type": "stream",
     "text": [
      "\u001b[32m\u001b[1m  Activating\u001b[22m\u001b[39m environment at `~/study/16715robotsim/project/Project.toml`\n"
     ]
    }
   ],
   "source": [
    "import Pkg; Pkg.activate(joinpath(@__DIR__,\"..\")); Pkg.instantiate()"
   ]
  },
  {
   "cell_type": "code",
   "execution_count": 2,
   "id": "0eefe5e9",
   "metadata": {},
   "outputs": [],
   "source": [
    "using LinearAlgebra\n",
    "using ForwardDiff\n",
    "using OrdinaryDiffEq\n",
    "using Test\n",
    "using Plots"
   ]
  },
  {
   "cell_type": "code",
   "execution_count": 136,
   "id": "087a650c",
   "metadata": {},
   "outputs": [
    {
     "data": {
      "text/plain": [
       "2"
      ]
     },
     "execution_count": 136,
     "metadata": {},
     "output_type": "execute_result"
    }
   ],
   "source": [
    "const g = 9.8\n",
    "const m = 1\n",
    "μ = 0.5\n",
    "\n",
    "w = 1.0 # width of the box\n",
    "h = 0.8 # height of the box\n",
    "M = [m 0 0; 0 m 0; 0 0 m*((h/2)^2+(w/2)^2)/3]\n",
    "\n",
    "# set of contact modes\n",
    "modes = [0 0 0 0; # both free\n",
    "        1 0 0 0; # sticking\n",
    "        1 0 -1 0; # left-slide\n",
    "        1 0 1 0; # right-slide\n",
    "        0 1 0 0;\n",
    "        0 1 0 -1;\n",
    "        0 1 0 1;\n",
    "        1 1 0 0;\n",
    "        1 1 -1 -1;\n",
    "        1 1 1 1]\n",
    "\n",
    "q0 = [0;0.5;0] # x y θ\n",
    "dq0 = [0;0;0]\n",
    "x0 = [q0;dq0]\n",
    "initial_mode = [0 0 0 0]\n",
    "\n",
    "n_contacts = 2\n"
   ]
  },
  {
   "cell_type": "code",
   "execution_count": 137,
   "id": "e297986c",
   "metadata": {},
   "outputs": [
    {
     "data": {
      "text/plain": [
       "R_2D (generic function with 1 method)"
      ]
     },
     "execution_count": 137,
     "metadata": {},
     "output_type": "execute_result"
    }
   ],
   "source": [
    "function R_2D(θ)\n",
    "    R = [cos(θ) -sin(θ); sin(θ) cos(θ)]\n",
    "    return R\n",
    "end"
   ]
  },
  {
   "cell_type": "code",
   "execution_count": 138,
   "id": "cdad32a0",
   "metadata": {},
   "outputs": [
    {
     "data": {
      "text/plain": [
       "compute_dA_tangent (generic function with 1 method)"
      ]
     },
     "execution_count": 138,
     "metadata": {},
     "output_type": "execute_result"
    }
   ],
   "source": [
    "# constraints/contacts\n",
    "function compute_a(q)\n",
    "    y = q[2]\n",
    "    θ = q[3]\n",
    "    a1 = y - 0.5*h*cos(θ) - 0.5*w*sin(θ)\n",
    "    a2 = y - 0.5*h*cos(θ) + 0.5*w*sin(θ)\n",
    "    return [a1; a2]\n",
    "end\n",
    "\n",
    "function compute_a_t(q)\n",
    "    p1 = R_2D(q[3])*[-w/2; -h/2] \n",
    "    p2 = R_2D(q[3])*[w/2; -h/2] \n",
    "    at1 = p1[1] + q[1]\n",
    "    at2 = p2[1] + q[1]\n",
    "    return [at1; at2]\n",
    "end\n",
    "\n",
    "# constraints jacobian\n",
    "function compute_A(q)\n",
    "    θ = q[3]\n",
    "    A = [0 1 0.5*h*sin(θ)-0.5*w*cos(θ); 0 1 0.5*h*sin(θ)+0.5*w*cos(θ)]\n",
    "    return A\n",
    "end\n",
    "\n",
    "function compute_dA(q, dq)\n",
    "    dA = reshape(ForwardDiff.jacobian(compute_A, q)*dq, n_contacts, 3)\n",
    "    return dA\n",
    "end\n",
    "\n",
    "function compute_A_tangent(q)\n",
    "    A_t = ForwardDiff.jacobian(compute_a_t,q)\n",
    "    return A_t\n",
    "end\n",
    "\n",
    "function compute_dA_tangent(q, dq)\n",
    "    dA_t = reshape(ForwardDiff.jacobian(compute_A_tangent, q)*dq, n_contacts, 3)\n",
    "    return dA_t\n",
    "end"
   ]
  },
  {
   "cell_type": "code",
   "execution_count": 139,
   "id": "df5e1d94",
   "metadata": {},
   "outputs": [
    {
     "name": "stdout",
     "output_type": "stream",
     "text": [
      "[0.09999999999999998, 0.09999999999999998]\n",
      "[0.0 1.0 -0.5; 0.0 1.0 0.5]\n",
      "[0.0 0.0 0.0; 0.0 0.0 0.0]\n",
      "[1.0 0.0 0.4; 1.0 0.0 0.4]\n",
      "[0.0 0.0 0.0; 0.0 0.0 0.0]\n"
     ]
    }
   ],
   "source": [
    "println(compute_a(q0))\n",
    "println(compute_A(q0))\n",
    "println(compute_dA(q0, dq0))\n",
    "println(compute_A_tangent(q0))\n",
    "println(compute_dA_tangent(q0, dq0))"
   ]
  },
  {
   "cell_type": "code",
   "execution_count": 140,
   "id": "fd0ee10f",
   "metadata": {},
   "outputs": [
    {
     "data": {
      "text/plain": [
       "contact_mode_constraints (generic function with 1 method)"
      ]
     },
     "execution_count": 140,
     "metadata": {},
     "output_type": "execute_result"
    }
   ],
   "source": [
    "function contact_mode_constraints(x, contactMode)\n",
    "    \n",
    "    q = x[1:3]\n",
    "    dq = x[4:6]\n",
    "    \n",
    "    cs_mode = contactMode[1:n_contacts] .== 1\n",
    "    ss_mode = contactMode[n_contacts+1:end]\n",
    "    \n",
    "    A = compute_A(q)\n",
    "    A_t = compute_A_tangent(q)\n",
    "    dA = compute_dA(q, dq)\n",
    "    dA_t = compute_dA_tangent(q,dq)\n",
    "    A = A[cs_mode,:]\n",
    "    A_t = A_t[cs_mode,:]\n",
    "    dA = dA[cs_mode,:]\n",
    "    dA_t = dA_t[cs_mode,:]\n",
    "    \n",
    "    ss_active = ss_mode[cs_mode]\n",
    "    \n",
    "    A_all = zeros(0,3)\n",
    "    A_all_f = zeros(0,3)\n",
    "    dA_all = zeros(0,3)\n",
    "\n",
    "    for k = 1:length(ss_active)\n",
    "        ss = ss_active[k]\n",
    "        if ss == 0\n",
    "            A_all_f = [A_all_f; A[k,:]'; A_t[k,:]']\n",
    "            dA_all = [dA_all; dA[k,:]'; dA_t[k,:]']\n",
    "            A_all = [A_all; A[k,:]'; A_t[k,:]']\n",
    "        else\n",
    "            A_all_f = [A_all_f; A[k,:]'-ss*μ*A_t[k,:]']\n",
    "            dA_all = [dA_all; dA[k,:]']\n",
    "            A_all = [A_all; A[k,:]']\n",
    "        end\n",
    "    end\n",
    "    \n",
    "    return A_all_f, A_all, dA_all\n",
    "end"
   ]
  },
  {
   "cell_type": "code",
   "execution_count": 141,
   "id": "3849d1fe",
   "metadata": {},
   "outputs": [
    {
     "data": {
      "text/plain": [
       "([-0.5 1.0 -0.7; -0.5 1.0 0.3], [0.0 1.0 -0.5; 0.0 1.0 0.5], [0.0 0.0 0.0; 0.0 0.0 0.0])"
      ]
     },
     "execution_count": 141,
     "metadata": {},
     "output_type": "execute_result"
    }
   ],
   "source": [
    "contact_mode_constraints([0;0;0;0;0;0], [1 1 1 1])"
   ]
  },
  {
   "cell_type": "code",
   "execution_count": 142,
   "id": "b0458247",
   "metadata": {},
   "outputs": [
    {
     "data": {
      "text/plain": [
       "contact_force_constraints (generic function with 1 method)"
      ]
     },
     "execution_count": 142,
     "metadata": {},
     "output_type": "execute_result"
    }
   ],
   "source": [
    "function contact_force_constraints(λ, contactMode)\n",
    "    # c > 0\n",
    "    cs_mode = contactMode[1:n_contacts] .== 1\n",
    "    ss_mode = contactMode[n_contacts+1:end]\n",
    "    \n",
    "    ss_active = ss_mode[cs_mode]\n",
    "    \n",
    "    i = 1\n",
    "    ic = 1\n",
    "    c = zeros(sum(ss_active.==0)*3 + sum(ss_active.!=0))\n",
    "    for k = 1:length(ss_active)\n",
    "        ss = ss_active[k]\n",
    "        if ss == 0\n",
    "            c[ic:ic+2] = [-λ[i]; -μ*λ[i] - λ[i+1]; -μ*λ[i] + λ[i+1]]\n",
    "            ic += 3\n",
    "            i += 2\n",
    "        else\n",
    "            c[ic] = -λ[i]\n",
    "            i += 1\n",
    "            ic += 1\n",
    "        end\n",
    "    end\n",
    "    return c\n",
    "end"
   ]
  },
  {
   "cell_type": "code",
   "execution_count": 143,
   "id": "ade3e643",
   "metadata": {},
   "outputs": [
    {
     "name": "stdout",
     "output_type": "stream",
     "text": [
      "[10.0, 13.0, -3.0, 10.0, 11.0, -1.0]\n"
     ]
    }
   ],
   "source": [
    "println(contact_force_constraints([-10;-8;-10;-6], [1 1 0 0]))"
   ]
  },
  {
   "cell_type": "code",
   "execution_count": 144,
   "id": "4ac93fd9",
   "metadata": {},
   "outputs": [
    {
     "data": {
      "text/plain": [
       "sliding_velocity_constraints (generic function with 1 method)"
      ]
     },
     "execution_count": 144,
     "metadata": {},
     "output_type": "execute_result"
    }
   ],
   "source": [
    "function sliding_velocity_constraints(x, contactMode)\n",
    "    # reture A_eq, A_geq, A_eq*dq = 0, A_geq*dq >= 0\n",
    "    q = x[1:3]\n",
    "    dq = x[4:6]\n",
    "    \n",
    "    cs_mode = contactMode[1:n_contacts] .== 1\n",
    "    ss_mode = contactMode[n_contacts+1:end]\n",
    "    \n",
    "    A = compute_A(q)\n",
    "    A_t = compute_A_tangent(q)\n",
    "    dA = compute_dA(q, dq)\n",
    "    dA_t = compute_dA_tangent(q,dq)\n",
    "    A = A[cs_mode,:]\n",
    "    A_t = A_t[cs_mode,:]\n",
    "    dA = dA[cs_mode,:]\n",
    "    dA_t = dA_t[cs_mode,:]\n",
    "    \n",
    "    ss_active = ss_mode[cs_mode]\n",
    "    \n",
    "    AA_eq = zeros(0,3)\n",
    "    AA_geq = zeros(0,3)\n",
    "    dAA_eq = zeros(0,3)\n",
    "    dAA_geq = zeros(0,3)\n",
    "\n",
    "    for k = 1:length(ss_active)\n",
    "        ss = ss_active[k]\n",
    "        if ss == 0\n",
    "            AA_eq = [AA_eq; A[k,:]'; A_t[k,:]']\n",
    "            dAA_eq = [dAA_eq; dA[k,:]'; dA_t[k,:]']\n",
    "        else\n",
    "            AA_eq = [AA_eq; A[k,:]']\n",
    "            dAA_eq = [dAA_eq; dA[k,:]']\n",
    "            AA_geq = [AA_geq; ss*A_t[k,:]']\n",
    "            dAA_geq = [dAA_geq; ss*dA_t[k,:]']\n",
    "        end\n",
    "    end\n",
    "    \n",
    "    return AA_eq, AA_geq, dAA_eq, dAA_geq\n",
    "end"
   ]
  },
  {
   "cell_type": "code",
   "execution_count": 145,
   "id": "7c975417",
   "metadata": {},
   "outputs": [
    {
     "data": {
      "text/plain": [
       "solveEOM (generic function with 1 method)"
      ]
     },
     "execution_count": 145,
     "metadata": {},
     "output_type": "execute_result"
    }
   ],
   "source": [
    "function solveEOM(x, contactMode)\n",
    "    # contactMode: bool vector, indicates which constraints are active\n",
    "    q = x[1:3]\n",
    "    dq = x[4:6]\n",
    "    \n",
    "    A_f, A, dA = contact_mode_constraints(x, contactMode)\n",
    "    \n",
    "    # compute EOM matrices\n",
    "    N = [0; g; 0]\n",
    "    C = zeros(3,3)\n",
    "    Y = [0;0;0]\n",
    "    \n",
    "    #\n",
    "    blockMat = [M A_f'; A zeros(size(A,1),size(A_f',2))] \n",
    "\n",
    "    b = [Y-N-C*dq; -dA*dq]\n",
    "    \n",
    "    #z = blockMat\\b\n",
    "    #println(blockMat)\n",
    "    if rank(blockMat) < length(b)\n",
    "        z =pinv(blockMat)*b\n",
    "    else\n",
    "        z = blockMat\\b\n",
    "    end\n",
    "    \n",
    "    ddq = z[1:3]\n",
    "    if (sum(contactMode[1:n_contacts])>=1)\n",
    "        λ = z[4:end]\n",
    "    else\n",
    "        λ = []\n",
    "    end\n",
    "    \n",
    "    return ddq, λ\n",
    "end"
   ]
  },
  {
   "cell_type": "code",
   "execution_count": 146,
   "id": "47365985",
   "metadata": {},
   "outputs": [
    {
     "name": "stdout",
     "output_type": "stream",
     "text": [
      "([0.0, -9.8, 0.0], Any[])\n",
      "([1.5338137800938238e-15, -5.440092820663239e-16, -2.475581045774359e-18], [-4.900000000000005, -4.2815550134741735e-14, -4.900000000000002, 3.965841918331751e-14])\n",
      "([4.9, 0.0, -0.0], [-6.860000000000001, -2.9399999999999995])\n"
     ]
    }
   ],
   "source": [
    "println(solveEOM([0;1;0;0;0;0],[0 0 0 0]))\n",
    "println(solveEOM([0;0.5;0;0;0;0],[1 1 0 0]))\n",
    "println(solveEOM([0;0.5;0;-1;0;0],[1 1 -1 -1]))"
   ]
  },
  {
   "cell_type": "code",
   "execution_count": 147,
   "id": "727aec09",
   "metadata": {},
   "outputs": [
    {
     "data": {
      "text/plain": [
       "computeResetMap (generic function with 1 method)"
      ]
     },
     "execution_count": 147,
     "metadata": {},
     "output_type": "execute_result"
    }
   ],
   "source": [
    "function computeResetMap(x, contactMode)\n",
    "    q = x[1:3]\n",
    "    dq = x[4:6]\n",
    "\n",
    "    A_f, A, dA = contact_mode_constraints(x, contactMode)\n",
    "    \n",
    "    c = size(A, 1)\n",
    "    #\n",
    "    blockMat = [M A_f'; A zeros(size(A,1),size(A_f',2))] \n",
    "    \n",
    "    if rank(blockMat) < 3+c\n",
    "        z = pinv(blockMat)*[M*dq; zeros(c)]\n",
    "    else\n",
    "        z = blockMat\\[M*dq; zeros(c)]\n",
    "    end\n",
    "        \n",
    "    dq_p = z[1:3]\n",
    "    p_hat = z[4:end]\n",
    "    return dq_p, p_hat\n",
    "end"
   ]
  },
  {
   "cell_type": "code",
   "execution_count": 148,
   "id": "1ccfad4a",
   "metadata": {},
   "outputs": [
    {
     "data": {
      "text/plain": [
       "([0.5, 0.0, -0.0], [-0.30000000000000004, -0.7])"
      ]
     },
     "execution_count": 148,
     "metadata": {},
     "output_type": "execute_result"
    }
   ],
   "source": [
    "dq_p, p_hat = computeResetMap([0;0;0;1;-1;0],[1 1 1 1])"
   ]
  },
  {
   "cell_type": "code",
   "execution_count": 149,
   "id": "127f349a",
   "metadata": {},
   "outputs": [
    {
     "data": {
      "text/plain": [
       "compute_FA (generic function with 1 method)"
      ]
     },
     "execution_count": 149,
     "metadata": {},
     "output_type": "execute_result"
    }
   ],
   "source": [
    "function compute_FA(x)\n",
    "    \n",
    "    q = x[1:3]\n",
    "    dq = x[4:6]\n",
    "    \n",
    "    a = compute_a(q)\n",
    "    \n",
    "    active_cs = abs.(a) .< 1e-6\n",
    "    inactive_cs = abs.(a) .> 1e-6\n",
    "    \n",
    "    if sum(active_cs) == 0\n",
    "        return zeros(Int, 4)\n",
    "    end\n",
    "    \n",
    "    possibleModes = zeros(Bool, 0, size(modes,2))\n",
    "    \n",
    "    contactMode = zeros(n_contacts*2)\n",
    "    \n",
    "    for k = 1:size(modes,1)\n",
    "        m_cs = modes[k, 1:n_contacts].==1\n",
    "        if length(findall(z->z==true, m_cs[inactive_cs])) == 0\n",
    "            possibleModes = [possibleModes; modes[k, :]']\n",
    "        end\n",
    "    end\n",
    "\n",
    "    max_cons = 0\n",
    "    \n",
    "    for kk = 1:size(possibleModes, 1)      \n",
    "        \n",
    "        m = possibleModes[kk,:]\n",
    "        \n",
    "        separate_cs = (m[1:n_contacts].!=1) .& active_cs\n",
    "        _, A_separate, dA_separate = contact_mode_constraints(x, [separate_cs; ones(n_contacts)]) \n",
    "\n",
    "        ddq, λ = solveEOM(x, m)\n",
    "        \n",
    "        c_λ = contact_force_constraints(λ, m)\n",
    "        \n",
    "        if all(c_λ.>=0)\n",
    "        \n",
    "            As_eq, As_geq, dAs_eq, dAs_geq = sliding_velocity_constraints(x, m)\n",
    "\n",
    "            sep_vel_cond = ((A_separate*dq).>0) .| ((A_separate*ddq .+ dA_separate*dq).>=0)\n",
    "            maintain_vel_cond = all(abs.(As_eq*dq).<1e-6) & all((As_geq*dq).>1e-6)\n",
    "\n",
    "            if ~maintain_vel_cond\n",
    "                if any((As_geq*dq).<1e-6)\n",
    "                    maintain_vel_cond = all(abs.(dAs_eq*dq + As_eq*ddq).<1e-6) & all((dAs_geq*dq + As_geq*ddq).>0)\n",
    "                end\n",
    "            end\n",
    "\n",
    "            if all(c_λ.>=0) && all(sep_vel_cond) && maintain_vel_cond\n",
    "                if sum(m[1:n_contacts]) > max_cons\n",
    "                    contactMode = m\n",
    "                    max_cons = sum(m[1:n_contacts])\n",
    "                end\n",
    "            end\n",
    "        end\n",
    "    end\n",
    "    \n",
    "    return contactMode\n",
    "end"
   ]
  },
  {
   "cell_type": "code",
   "execution_count": 150,
   "id": "54fbaea8",
   "metadata": {},
   "outputs": [
    {
     "name": "stdout",
     "output_type": "stream",
     "text": [
      "[0, 0, 0, 0]\n",
      "[0, 0, 0, 0]\n",
      "[0, 0, 0, 0]\n",
      "[0, 0, 0, 0]\n"
     ]
    }
   ],
   "source": [
    "println(compute_FA([0;0.5;0;1;0;0]))\n",
    "println(compute_FA([0;0.5;0;-1;0;0]))\n",
    "println(compute_FA([0;0.5;0;0;0;0]))\n",
    "println(compute_FA([0;1;0;0;0;0]))"
   ]
  },
  {
   "cell_type": "code",
   "execution_count": 151,
   "id": "48e9c41c",
   "metadata": {},
   "outputs": [
    {
     "data": {
      "text/plain": [
       "compute_IV (generic function with 1 method)"
      ]
     },
     "execution_count": 151,
     "metadata": {},
     "output_type": "execute_result"
    }
   ],
   "source": [
    "function compute_IV(x)\n",
    "    \n",
    "    q = x[1:3]\n",
    "    dq = x[4:6]\n",
    "    \n",
    "    a = compute_a(q)\n",
    "    \n",
    "    active_cs = abs.(a) .< 1e-6\n",
    "    inactive_cs = abs.(a) .> 1e-6\n",
    "    \n",
    "    if sum(active_cs) == 0\n",
    "        return zeros(Int, 4)\n",
    "    end\n",
    "    \n",
    "    possibleModes = zeros(Bool, 0, size(modes,2))\n",
    "    \n",
    "    contactMode = zeros(n_contacts*2)\n",
    "    \n",
    "    for k = 1:size(modes,1)\n",
    "        m_cs = modes[k, 1:n_contacts].==1\n",
    "        if length(findall(z->z==true, m_cs[inactive_cs])) == 0\n",
    "            possibleModes = [possibleModes; modes[k, :]']\n",
    "        end\n",
    "    end\n",
    "    \n",
    "    max_cons = 0\n",
    "    for kk = 1:size(possibleModes, 1)\n",
    "        \n",
    "        m = possibleModes[kk,:]\n",
    "        \n",
    "        separate_cs = (m[1:n_contacts].!=1) .& active_cs\n",
    "        _, A_separate, _ = contact_mode_constraints(x, [separate_cs; ones(n_contacts)]) \n",
    "\n",
    "        dq_p, p_hat = computeResetMap(x, m)\n",
    "        \n",
    "        c_p_hat = contact_force_constraints(p_hat, m)\n",
    "        As_eq, As_geq, _, _ = sliding_velocity_constraints(x, m)\n",
    "        \n",
    "        if all(c_p_hat.>=0) && all(A_separate*dq_p.>=0) && all(abs.(As_eq*dq_p).<1e-6) && all(As_geq*dq_p.>0)\n",
    "             if sum(m[1:n_contacts]) > max_cons\n",
    "                contactMode = m\n",
    "                max_cons = sum(m[1:n_contacts])\n",
    "            end\n",
    "        end\n",
    "    end\n",
    "    \n",
    "    return contactMode\n",
    "end"
   ]
  },
  {
   "cell_type": "code",
   "execution_count": 152,
   "id": "966c8ac3",
   "metadata": {},
   "outputs": [
    {
     "name": "stdout",
     "output_type": "stream",
     "text": [
      "[0, 0, 0, 0]\n",
      "[0, 0, 0, 0]\n",
      "[0, 0, 0, 0]\n",
      "[0, 0, 0, 0]\n"
     ]
    }
   ],
   "source": [
    "println(compute_IV([0;0.5;0;0;-1;0]))\n",
    "println(compute_IV([0;0.5;0;-1;-1;0]))\n",
    "println(compute_IV([0;0.5;0;1;-1;0]))\n",
    "println(compute_IV([0;0.5;0;0;0;0.5]))"
   ]
  },
  {
   "cell_type": "code",
   "execution_count": 153,
   "id": "94260951",
   "metadata": {},
   "outputs": [
    {
     "data": {
      "text/plain": [
       "guard_conditions (generic function with 1 method)"
      ]
     },
     "execution_count": 153,
     "metadata": {},
     "output_type": "execute_result"
    }
   ],
   "source": [
    "function guard_conditions(x, contactMode)\n",
    "    q = x[1:3]\n",
    "    dq = x[4:6]\n",
    "    \n",
    "    a = compute_a(q)\n",
    "    a[contactMode[1:n_contacts] .== 1] .= 0.0\n",
    "    \n",
    "    v_all = zeros(n_contacts)\n",
    "    _, As_geq, _, _ = sliding_velocity_constraints(x, contactMode)\n",
    "    v_all[1:size(As_geq,1)] = -As_geq*dq\n",
    "    \n",
    "    ddq, λ = solveEOM(x, contactMode)\n",
    "    c_λ = contact_force_constraints(λ, contactMode)\n",
    "    c_λ_all = zeros(3*n_contacts)\n",
    "    c_λ_all[1:length(c_λ)] = c_λ\n",
    "    \n",
    "    c = [a; v_all; c_λ_all]\n",
    "    \n",
    "    dir = [-ones(Int,length(a)); ones(Int,length(v_all)); ones(Int,length(c_λ_all))]\n",
    "    \n",
    "    return c, dir\n",
    "end"
   ]
  },
  {
   "cell_type": "code",
   "execution_count": 154,
   "id": "8fdf0dd8",
   "metadata": {},
   "outputs": [
    {
     "data": {
      "text/plain": [
       "([0.0, 0.0, 0.0, 0.0, 4.900000000000005, 2.450000000000045, 2.4499999999999598, 4.900000000000002, 2.4499999999999615, 2.4500000000000406], [-1, -1, 1, 1, 1, 1, 1, 1, 1, 1])"
      ]
     },
     "execution_count": 154,
     "metadata": {},
     "output_type": "execute_result"
    }
   ],
   "source": [
    "guard_conditions([0;0.5;0;0;0;0],[1 1 0 0])"
   ]
  },
  {
   "cell_type": "code",
   "execution_count": 155,
   "id": "4a3267d3",
   "metadata": {},
   "outputs": [
    {
     "data": {
      "text/plain": [
       "dynamics! (generic function with 1 method)"
      ]
     },
     "execution_count": 155,
     "metadata": {},
     "output_type": "execute_result"
    }
   ],
   "source": [
    "function dynamics!(dx, x, m, t)\n",
    "    # m: vector n, contact mode\n",
    "    q = x[1:3]\n",
    "    dq = x[4:6]\n",
    "    ddq, λ = solveEOM(x, m)\n",
    "    dx .= [dq; ddq]\n",
    "end"
   ]
  },
  {
   "cell_type": "code",
   "execution_count": 164,
   "id": "a4bb2b72",
   "metadata": {},
   "outputs": [
    {
     "data": {
      "text/plain": [
       "affect_neg! (generic function with 1 method)"
      ]
     },
     "execution_count": 164,
     "metadata": {},
     "output_type": "execute_result"
    }
   ],
   "source": [
    "function conditions(out, x, t, integrator)\n",
    "    contactMode = integrator.p\n",
    "    c, dir = guard_conditions(x, contactMode)\n",
    "    out .= c\n",
    "end\n",
    "\n",
    "function affect!(integrator, idx)\n",
    "    contactMode = integrator.p\n",
    "    x = integrator.u\n",
    "    c, dir = guard_conditions(x, contactMode)\n",
    "    \n",
    "    # only consider upcrossing forces and constraints values(FA comp)\n",
    "    # forces\n",
    "    if dir[idx] > 0\n",
    "        new_contactMode = compute_FA(x)\n",
    "        integrator.p .= reshape(new_contactMode,size(integrator.p))\n",
    "        println(\"New mode from FA: \", new_contactMode)\n",
    "    end\n",
    "    # constraints\n",
    "#     if dir[idx] < 0\n",
    "#         new_contactMode = contactMode\n",
    "#         new_contactMode[idx] = false\n",
    "#     end\n",
    "end\n",
    "\n",
    "function affect_neg!(integrator, idx)\n",
    "    contactMode = integrator.p\n",
    "    x = integrator.u\n",
    "    c, dir = guard_conditions(x, contactMode)\n",
    "    \n",
    "    # only consider down crossing constraint value(IV comp)\n",
    "    if dir[idx] < 0\n",
    "        new_contactMode = compute_IV(x)\n",
    "        dq_p, p_hat = computeResetMap(x, new_contactMode)\n",
    "        integrator.u .= [x[1:3]; dq_p]\n",
    "        integrator.p .= reshape(new_contactMode,size(integrator.p))\n",
    "        println(\"New mode from IV: \", new_contactMode)\n",
    "\n",
    "    end\n",
    "end"
   ]
  },
  {
   "cell_type": "code",
   "execution_count": 165,
   "id": "50a79091",
   "metadata": {},
   "outputs": [
    {
     "name": "stdout",
     "output_type": "stream",
     "text": [
      "New mode from IV: [1, 0, 0, 0]\n",
      "New mode from IV: [1, 1, 1, 1]\n",
      "New mode from FA: [1, 1, 0, 0]\n"
     ]
    },
    {
     "data": {
      "text/plain": [
       "retcode: Success\n",
       "Interpolation: specialized 4th order \"free\" interpolation\n",
       "t: 151-element Vector{Float64}:\n",
       " 0.0\n",
       " 0.00030169624850661715\n",
       " 0.0007998652732074697\n",
       " 0.0015672035404869365\n",
       " 0.0026907095618956133\n",
       " 0.004306495077333731\n",
       " 0.006586337915122843\n",
       " 0.009747695149637954\n",
       " 0.014062300172284856\n",
       " 0.019866652163287465\n",
       " 0.02757546702282971\n",
       " 0.03769842675659535\n",
       " 0.05086067193706908\n",
       " ⋮\n",
       " 0.6084862946412378\n",
       " 0.6260768845699644\n",
       " 0.6489289112007489\n",
       " 0.6779444169404357\n",
       " 0.6809471963273143\n",
       " 0.6809471963273143\n",
       " 0.7170410855705089\n",
       " 1.0779799780024555\n",
       " 1.286839028016251\n",
       " 3.3754295281542044\n",
       " 4.273556526320733\n",
       " 5.0\n",
       "u: 151-element Vector{Vector{Float64}}:\n",
       " [0.0, 1.6477601033306697, 0.3, 0.0, 0.0, 0.0]\n",
       " [0.0, 1.6477596573296005, 0.3, 0.0, -0.002956623235364847, 0.0]\n",
       " [0.0, 1.6477569683868387, 0.3, 0.0, -0.007838679677433201, 0.0]\n",
       " [0.0, 1.6477480683086767, 0.3, 0.0, -0.015358594696771973, 0.0]\n",
       " [0.0, 1.6477246277327318, 0.3, 0.0, -0.026368953706577002, 0.0]\n",
       " [0.0, 1.6476692284213992, 0.3, 0.0, -0.04220365175787055, 0.0]\n",
       " [0.0, 1.6475475420797219, 0.3, 0.0, -0.06454611156820385, 0.0]\n",
       " [0.0, 1.6472945172830913, 0.3, 0.0, -0.09552741246645192, 0.0]\n",
       " [0.0, 1.6467911367286059, 0.3, 0.0, -0.13781054168839157, 0.0]\n",
       " [0.0, 1.645826152376602, 0.3, 0.0, -0.1946931912002171, 0.0]\n",
       " [0.0, 1.6440341120611865, 0.3, 0.0, -0.27023957682373106, 0.0]\n",
       " [0.0, 1.64079636356905, 0.3, 0.0, -0.3694445822146343, 0.0]\n",
       " [0.0, 1.6350847443762078, 0.3, 0.0, -0.4984345849832768, 0.0]\n",
       " ⋮\n",
       " [0.16011841854181702, 0.4000000000000007, -1.051670427992385e-15, 0.3550584182617746, 4.163336342344337e-17, 8.326672684688667e-17]\n",
       " [0.16560600488580265, 0.4000000000000007, -1.0502057171457142e-15, 0.2688645276110147, 4.163336342344337e-17, 8.326672684688667e-17]\n",
       " [0.17047067718406436, 0.4000000000000007, -1.048302903686351e-15, 0.1568895971201704, 4.163336342344337e-17, 8.326672684688667e-17]\n",
       " [0.17296025423514383, 0.4000000000000007, -1.0458868774956002e-15, 0.014713618995705224, 4.163336342344337e-17, 8.326672684688667e-17]\n",
       " [0.17298234511105717, 0.4000000000000007, -1.0456368458846116e-15, 3.6793873240969697e-16, 4.163336342344337e-17, 8.326672684688667e-17]\n",
       " [0.17298234511105717, 0.4000000000000007, -1.0456368458846116e-15, 3.6793873240969697e-16, 4.163336342344337e-17, 8.326672684688667e-17]\n",
       " [0.17298234511105717, 0.4000000000000007, -1.042254069255568e-15, 3.538978101316139e-16, 1.2017500652013077e-16, 1.0417644982221726e-16]\n",
       " [0.17298234511105734, 0.4000000000000006, -9.746366381689523e-16, 1.3602427840466222e-15, -2.6379350497535485e-15, -2.374569930188922e-16]\n",
       " [0.17298234511105762, 0.39999999999999997, -1.0082419146174084e-15, 1.3699098804739672e-15, -2.9787988353067277e-15, -8.434162136948272e-17]\n",
       " [0.17298234511106134, 0.3999999999999905, -1.0038027500367863e-15, 6.5984145326622894e-15, -4.476867544625736e-15, 2.1439714289805213e-15]\n",
       " [0.1729823451110666, 0.39999999999998664, 2.149356202614798e-15, 1.0671059793760109e-15, -7.303618351513895e-15, 1.0296911009563569e-14]\n",
       " [0.17298234511106733, 0.39999999999998076, 9.293406757661306e-15, 2.6167505089535106e-15, -7.19913231328007e-15, 9.501473004150529e-15]"
      ]
     },
     "execution_count": 165,
     "metadata": {},
     "output_type": "execute_result"
    }
   ],
   "source": [
    "tspan = (0.0, 5.0)\n",
    "callback_length = 5*n_contacts\n",
    "\n",
    "x0 = [0;sin(0.3)*w/2+1.5;0.3;0;0;0]\n",
    "initial_mode = [0 0 0 0]\n",
    "prob = ODEProblem(dynamics!, x0, tspan, initial_mode)\n",
    "cb = VectorContinuousCallback(conditions, affect!, affect_neg!, callback_length)\n",
    "sol = solve(prob, Tsit5(); callback = cb, abstol=1e-15,reltol=1e-15)"
   ]
  },
  {
   "cell_type": "code",
   "execution_count": 161,
   "id": "7dbd0a2f",
   "metadata": {},
   "outputs": [
    {
     "data": {
      "text/plain": [
       "boxshape (generic function with 1 method)"
      ]
     },
     "execution_count": 161,
     "metadata": {},
     "output_type": "execute_result"
    }
   ],
   "source": [
    "function boxshape(q)\n",
    "    p1 = q[1:2] + R_2D(q[3])*[w/2;h/2]\n",
    "    p2 = q[1:2] + R_2D(q[3])*[w/2;-h/2]\n",
    "    p3 = q[1:2] + R_2D(q[3])*[-w/2;-h/2]\n",
    "    p4 = q[1:2] + R_2D(q[3])*[-w/2;h/2]\n",
    "    pp = [p1 p2 p3 p4]\n",
    "    return Shape(pp[1,:], pp[2,:])\n",
    "end"
   ]
  },
  {
   "cell_type": "code",
   "execution_count": 167,
   "id": "88e5a971",
   "metadata": {},
   "outputs": [
    {
     "data": {
      "text/plain": [
       "Animation(\"/tmp/jl_deaRYv\", [\"000001.png\", \"000002.png\", \"000003.png\", \"000004.png\", \"000005.png\", \"000006.png\", \"000007.png\", \"000008.png\", \"000009.png\", \"000010.png\"  …  \"000142.png\", \"000143.png\", \"000144.png\", \"000145.png\", \"000146.png\", \"000147.png\", \"000148.png\", \"000149.png\", \"000150.png\", \"000151.png\"])"
      ]
     },
     "execution_count": 167,
     "metadata": {},
     "output_type": "execute_result"
    }
   ],
   "source": [
    "# animation \n",
    "n = length(sol.t)\n",
    "x = zeros(n)\n",
    "y = zeros(n)\n",
    "θ = zeros(n)\n",
    "for k = 1:n\n",
    "    x[k] = sol.u[k][1]\n",
    "    y[k] = sol.u[k][2]\n",
    "    θ[k] = sol.u[k][3]\n",
    "end\n",
    "    \n",
    "anim = @animate for i ∈ 1:n\n",
    "    plot([-10,5],[0,0], lw = 2, c=:black, xlims=(-3,3), ylims=(-0.5,3))\n",
    "    plot!(boxshape([x[i],y[i],θ[i]]), aspect_ratio=:equal, c=:gray, opacity=.5, legend=false)\n",
    "    \n",
    "end"
   ]
  },
  {
   "cell_type": "code",
   "execution_count": 170,
   "id": "11dd2f93",
   "metadata": {},
   "outputs": [
    {
     "name": "stderr",
     "output_type": "stream",
     "text": [
      "┌ Info: Saved animation to \n",
      "│   fn = /home/xianyi/study/16715robotsim/project/src/anim.gif\n",
      "└ @ Plots /home/xianyi/.julia/packages/Plots/AJMX6/src/animation.jl:114\n"
     ]
    }
   ],
   "source": [
    "gif(anim, \"anim.gif\", fps = 1000);"
   ]
  },
  {
   "cell_type": "code",
   "execution_count": null,
   "id": "da8ee266",
   "metadata": {},
   "outputs": [],
   "source": []
  }
 ],
 "metadata": {
  "kernelspec": {
   "display_name": "Julia 1.6.2",
   "language": "julia",
   "name": "julia-1.6"
  },
  "language_info": {
   "file_extension": ".jl",
   "mimetype": "application/julia",
   "name": "julia",
   "version": "1.6.2"
  }
 },
 "nbformat": 4,
 "nbformat_minor": 5
}
