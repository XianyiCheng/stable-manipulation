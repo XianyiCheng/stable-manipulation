{
 "cells": [
  {
   "cell_type": "code",
   "execution_count": 1,
   "id": "a5d889d7",
   "metadata": {},
   "outputs": [
    {
     "name": "stderr",
     "output_type": "stream",
     "text": [
      "\u001b[32m\u001b[1m  Activating\u001b[22m\u001b[39m environment at `~/study/16715robotsim/project/Project.toml`\n"
     ]
    }
   ],
   "source": [
    "import Pkg; Pkg.activate(joinpath(@__DIR__,\"..\")); Pkg.instantiate()"
   ]
  },
  {
   "cell_type": "code",
   "execution_count": 2,
   "id": "0eefe5e9",
   "metadata": {},
   "outputs": [],
   "source": [
    "using LinearAlgebra\n",
    "using ForwardDiff\n",
    "using OrdinaryDiffEq\n",
    "using Ipopt\n",
    "using MathOptInterface\n",
    "const MOI = MathOptInterface\n",
    "using Test\n",
    "using Test\n",
    "using Plots\n",
    "using Convex, SCS\n",
    "using JLD"
   ]
  },
  {
   "cell_type": "markdown",
   "id": "18cde540",
   "metadata": {},
   "source": [
    "## System properties"
   ]
  },
  {
   "cell_type": "code",
   "execution_count": 3,
   "id": "087a650c",
   "metadata": {},
   "outputs": [
    {
     "data": {
      "text/plain": [
       "2"
      ]
     },
     "execution_count": 3,
     "metadata": {},
     "output_type": "execute_result"
    }
   ],
   "source": [
    "\n",
    "const g = 9.81\n",
    "\n",
    "const m = 1\n",
    "const μ = 0.5\n",
    "\n",
    "const w = 1.0 # width of the box\n",
    "const h = 0.8 # height of the box\n",
    "const M = [m 0 0; 0 m 0; 0 0 m*((h/2)^2+(w/2)^2)/3]\n",
    "\n",
    "# set of contact modes\n",
    "const modes = [0 0 0 0; # both free\n",
    "        1 0 0 0; # sticking\n",
    "        1 0 -1 0; # left-slide\n",
    "        1 0 1 0; # right-slide\n",
    "        0 1 0 0;\n",
    "        0 1 0 -1;\n",
    "        0 1 0 1;\n",
    "        1 1 0 0;\n",
    "        1 1 -1 -1;\n",
    "        1 1 1 1]\n",
    "\n",
    "const n_contacts = 2\n"
   ]
  },
  {
   "cell_type": "code",
   "execution_count": 4,
   "id": "39e25353",
   "metadata": {},
   "outputs": [
    {
     "data": {
      "text/plain": [
       "1.0e-5"
      ]
     },
     "execution_count": 4,
     "metadata": {},
     "output_type": "execute_result"
    }
   ],
   "source": [
    "# simulation step size\n",
    "const Δt = 0.05\n",
    "# tolerance for contacts\n",
    "const tol_c = 1e-5"
   ]
  },
  {
   "cell_type": "markdown",
   "id": "3de1e552",
   "metadata": {},
   "source": [
    "## Simulation functions"
   ]
  },
  {
   "cell_type": "code",
   "execution_count": 5,
   "id": "e297986c",
   "metadata": {},
   "outputs": [
    {
     "data": {
      "text/plain": [
       "R_2D (generic function with 1 method)"
      ]
     },
     "execution_count": 5,
     "metadata": {},
     "output_type": "execute_result"
    }
   ],
   "source": [
    "function R_2D(θ)\n",
    "    R = [cos(θ) -sin(θ); sin(θ) cos(θ)]\n",
    "    return R\n",
    "end"
   ]
  },
  {
   "cell_type": "code",
   "execution_count": 6,
   "id": "cdad32a0",
   "metadata": {},
   "outputs": [
    {
     "data": {
      "text/plain": [
       "compute_dA_tangent (generic function with 1 method)"
      ]
     },
     "execution_count": 6,
     "metadata": {},
     "output_type": "execute_result"
    }
   ],
   "source": [
    "# constraints/contacts\n",
    "function compute_a(q)\n",
    "    y = q[2]\n",
    "    θ = q[3]\n",
    "    a1 = y - 0.5*h*cos(θ) - 0.5*w*sin(θ)\n",
    "    a2 = y - 0.5*h*cos(θ) + 0.5*w*sin(θ)\n",
    "    return [a1; a2]\n",
    "end\n",
    "\n",
    "function compute_a_t(q)\n",
    "    p1 = R_2D(q[3])*[-w/2; -h/2] \n",
    "    p2 = R_2D(q[3])*[w/2; -h/2] \n",
    "    at1 = p1[1] + q[1]\n",
    "    at2 = p2[1] + q[1]\n",
    "    return [at1; at2]\n",
    "end\n",
    "\n",
    "# constraints jacobian\n",
    "function compute_A(q)\n",
    "    θ = q[3]\n",
    "    A = [0 1 0.5*h*sin(θ)-0.5*w*cos(θ); 0 1 0.5*h*sin(θ)+0.5*w*cos(θ)]\n",
    "    return A\n",
    "end\n",
    "\n",
    "function compute_dA(q, dq)\n",
    "    dA = reshape(ForwardDiff.jacobian(compute_A, q)*dq, n_contacts, 3)\n",
    "    return dA\n",
    "end\n",
    "\n",
    "function compute_A_tangent(q)\n",
    "    A_t = ForwardDiff.jacobian(compute_a_t,q)\n",
    "    return A_t\n",
    "end\n",
    "\n",
    "function compute_dA_tangent(q, dq)\n",
    "    dA_t = reshape(ForwardDiff.jacobian(compute_A_tangent, q)*dq, n_contacts, 3)\n",
    "    return dA_t\n",
    "end"
   ]
  },
  {
   "cell_type": "code",
   "execution_count": 7,
   "id": "fd0ee10f",
   "metadata": {},
   "outputs": [
    {
     "data": {
      "text/plain": [
       "contact_mode_constraints (generic function with 1 method)"
      ]
     },
     "execution_count": 7,
     "metadata": {},
     "output_type": "execute_result"
    }
   ],
   "source": [
    "function contact_mode_constraints(x, contactMode)\n",
    "    \n",
    "    q = x[1:3]\n",
    "    dq = x[4:6]\n",
    "    \n",
    "    cs_mode = contactMode[1:n_contacts] .== 1\n",
    "    ss_mode = contactMode[n_contacts+1:end]\n",
    "    \n",
    "    A = compute_A(q)\n",
    "    A_t = compute_A_tangent(q)\n",
    "    dA = compute_dA(q, dq)\n",
    "    dA_t = compute_dA_tangent(q,dq)\n",
    "    A = A[cs_mode,:]\n",
    "    A_t = A_t[cs_mode,:]\n",
    "    dA = dA[cs_mode,:]\n",
    "    dA_t = dA_t[cs_mode,:]\n",
    "    \n",
    "    ss_active = ss_mode[cs_mode]\n",
    "    \n",
    "    A_all = zeros(0,3)\n",
    "    A_all_f = zeros(0,3)\n",
    "    dA_all = zeros(0,3)\n",
    "\n",
    "    for k = 1:length(ss_active)\n",
    "        ss = ss_active[k]\n",
    "        if ss == 0\n",
    "            A_all_f = [A_all_f; A[k,:]'; A_t[k,:]']\n",
    "            dA_all = [dA_all; dA[k,:]'; dA_t[k,:]']\n",
    "            A_all = [A_all; A[k,:]'; A_t[k,:]']\n",
    "        else\n",
    "            A_all_f = [A_all_f; A[k,:]'-ss*μ*A_t[k,:]']\n",
    "            dA_all = [dA_all; dA[k,:]']\n",
    "            A_all = [A_all; A[k,:]']\n",
    "        end\n",
    "    end\n",
    "    \n",
    "    return A_all_f, A_all, dA_all\n",
    "end"
   ]
  },
  {
   "cell_type": "code",
   "execution_count": 8,
   "id": "b0458247",
   "metadata": {},
   "outputs": [
    {
     "data": {
      "text/plain": [
       "contact_force_constraints (generic function with 1 method)"
      ]
     },
     "execution_count": 8,
     "metadata": {},
     "output_type": "execute_result"
    }
   ],
   "source": [
    "function contact_force_constraints(λ, contactMode)\n",
    "    # c > 0\n",
    "    cs_mode = contactMode[1:n_contacts] .== 1\n",
    "    ss_mode = contactMode[n_contacts+1:end]\n",
    "    \n",
    "    ss_active = ss_mode[cs_mode]\n",
    "    \n",
    "    i = 1\n",
    "    ic = 1\n",
    "    c = zeros(sum(ss_active.==0)*3 + sum(ss_active.!=0))\n",
    "    for k = 1:length(ss_active)\n",
    "        ss = ss_active[k]\n",
    "        if ss == 0\n",
    "            c[ic:ic+2] = [-λ[i]; -μ*λ[i] - λ[i+1]; -μ*λ[i] + λ[i+1]]\n",
    "            ic += 3\n",
    "            i += 2\n",
    "        else\n",
    "            c[ic] = -λ[i]\n",
    "            i += 1\n",
    "            ic += 1\n",
    "        end\n",
    "    end\n",
    "    return c\n",
    "end"
   ]
  },
  {
   "cell_type": "code",
   "execution_count": 9,
   "id": "4ac93fd9",
   "metadata": {},
   "outputs": [
    {
     "data": {
      "text/plain": [
       "sliding_velocity_constraints (generic function with 1 method)"
      ]
     },
     "execution_count": 9,
     "metadata": {},
     "output_type": "execute_result"
    }
   ],
   "source": [
    "function sliding_velocity_constraints(x, contactMode)\n",
    "    # reture A_eq, A_geq, A_eq*dq = 0, A_geq*dq >= 0\n",
    "    q = x[1:3]\n",
    "    dq = x[4:6]\n",
    "    \n",
    "    cs_mode = contactMode[1:n_contacts] .== 1\n",
    "    ss_mode = contactMode[n_contacts+1:end]\n",
    "    \n",
    "    A = compute_A(q)\n",
    "    A_t = compute_A_tangent(q)\n",
    "    dA = compute_dA(q, dq)\n",
    "    dA_t = compute_dA_tangent(q,dq)\n",
    "    A = A[cs_mode,:]\n",
    "    A_t = A_t[cs_mode,:]\n",
    "    dA = dA[cs_mode,:]\n",
    "    dA_t = dA_t[cs_mode,:]\n",
    "    \n",
    "    ss_active = ss_mode[cs_mode]\n",
    "    \n",
    "    AA_eq = zeros(0,3)\n",
    "    AA_geq = zeros(0,3)\n",
    "    dAA_eq = zeros(0,3)\n",
    "    dAA_geq = zeros(0,3)\n",
    "\n",
    "    for k = 1:length(ss_active)\n",
    "        ss = ss_active[k]\n",
    "        if ss == 0\n",
    "            AA_eq = [AA_eq; A[k,:]'; A_t[k,:]']\n",
    "            dAA_eq = [dAA_eq; dA[k,:]'; dA_t[k,:]']\n",
    "        else\n",
    "            AA_eq = [AA_eq; A[k,:]']\n",
    "            dAA_eq = [dAA_eq; dA[k,:]']\n",
    "            AA_geq = [AA_geq; ss*A_t[k,:]']\n",
    "            dAA_geq = [dAA_geq; ss*dA_t[k,:]']\n",
    "        end\n",
    "    end\n",
    "    \n",
    "    return AA_eq, AA_geq, dAA_eq, dAA_geq\n",
    "end"
   ]
  },
  {
   "cell_type": "code",
   "execution_count": 10,
   "id": "08d5d6ca",
   "metadata": {},
   "outputs": [
    {
     "data": {
      "text/plain": [
       "contact_tangent_velocity_constraints (generic function with 1 method)"
      ]
     },
     "execution_count": 10,
     "metadata": {},
     "output_type": "execute_result"
    }
   ],
   "source": [
    "function contact_tangent_velocity_constraints(x, contactMode)\n",
    "    # reture A_eq, A_geq, A_eq*dq = 0, A_geq*dq >= 0\n",
    "    q = x[1:3]\n",
    "    dq = x[4:6]\n",
    "    \n",
    "    cs_mode = contactMode[1:n_contacts] .== 1\n",
    "    ss_mode = contactMode[n_contacts+1:end]\n",
    "    \n",
    "    A = compute_A(q)\n",
    "    A_t = compute_A_tangent(q)\n",
    "    dA = compute_dA(q, dq)\n",
    "    dA_t = compute_dA_tangent(q,dq)\n",
    "    A = A[cs_mode,:]\n",
    "    A_t = A_t[cs_mode,:]\n",
    "    dA = dA[cs_mode,:]\n",
    "    dA_t = dA_t[cs_mode,:]\n",
    "    \n",
    "    ss_active = ss_mode[cs_mode]\n",
    "    \n",
    "    AA_eq = zeros(0,3)\n",
    "    AA_geq = zeros(0,3)\n",
    "    dAA_eq = zeros(0,3)\n",
    "    dAA_geq = zeros(0,3)\n",
    "\n",
    "    for k = 1:length(ss_active)\n",
    "        ss = ss_active[k]\n",
    "        if ss == 0\n",
    "            AA_eq = [AA_eq; A_t[k,:]']\n",
    "            dAA_eq = [dAA_eq; dA_t[k,:]']\n",
    "        else\n",
    "            AA_geq = [AA_geq; ss*A_t[k,:]']\n",
    "            dAA_geq = [dAA_geq; ss*dA_t[k,:]']\n",
    "        end\n",
    "    end\n",
    "    \n",
    "    return AA_eq, AA_geq, dAA_eq, dAA_geq\n",
    "end"
   ]
  },
  {
   "cell_type": "code",
   "execution_count": 11,
   "id": "7c975417",
   "metadata": {},
   "outputs": [
    {
     "data": {
      "text/plain": [
       "solveEOM (generic function with 1 method)"
      ]
     },
     "execution_count": 11,
     "metadata": {},
     "output_type": "execute_result"
    }
   ],
   "source": [
    "function solveEOM(x, contactMode, u_control)\n",
    "    # contactMode: bool vector, indicates which constraints are active\n",
    "    q = x[1:3]\n",
    "    dq = x[4:6]\n",
    "    \n",
    "    A_f, A, dA = contact_mode_constraints(x, contactMode)\n",
    "    \n",
    "    # compute EOM matrices\n",
    "    N = [0; g; 0]\n",
    "    C = zeros(3,3)\n",
    "    Y = zeros(3)\n",
    "    Y .= u_control\n",
    "    #\n",
    "    blockMat = [M A_f'; A zeros(size(A,1),size(A_f',2))] \n",
    "\n",
    "    b = [Y-N-C*dq; -dA*dq]\n",
    "    \n",
    "    #z = blockMat\\b\n",
    "    #println(blockMat)\n",
    "    if rank(blockMat) < length(b)\n",
    "#         z =pinv(blockMat)*b\n",
    "        H = [zeros(3,size(blockMat,2)); zeros(size(blockMat,1)-3,3) 1e-6*I]\n",
    "        z =(blockMat.+H)\\b\n",
    "    else\n",
    "        z = blockMat\\b\n",
    "    end\n",
    "    \n",
    "    ddq = z[1:3]\n",
    "    if (sum(contactMode[1:n_contacts])>=1)\n",
    "        λ = z[4:end]\n",
    "    else\n",
    "        λ = []\n",
    "    end\n",
    "    \n",
    "    return ddq, λ\n",
    "end"
   ]
  },
  {
   "cell_type": "code",
   "execution_count": 12,
   "id": "727aec09",
   "metadata": {},
   "outputs": [
    {
     "data": {
      "text/plain": [
       "computeResetMap (generic function with 1 method)"
      ]
     },
     "execution_count": 12,
     "metadata": {},
     "output_type": "execute_result"
    }
   ],
   "source": [
    "function computeResetMap(x, contactMode)\n",
    "    q = x[1:3]\n",
    "    dq = x[4:6]\n",
    "\n",
    "    A_f, A, dA = contact_mode_constraints(x, contactMode)\n",
    "    \n",
    "    c = size(A, 1)\n",
    "    #\n",
    "    blockMat = [M A_f'; A zeros(size(A,1),size(A_f',2))] \n",
    "    \n",
    "    if rank(blockMat) < 3+c\n",
    "        z = pinv(blockMat)*[M*dq; zeros(c)]\n",
    "        p_hat = z[4:end]\n",
    "        dq_p = z[1:3]\n",
    "#         dq_p = z[1:3] .+ A\\(-A*z[1:3])\n",
    "    else\n",
    "        z = blockMat\\[M*dq; zeros(c)]\n",
    "        dq_p = z[1:3]\n",
    "        p_hat = z[4:end]\n",
    "    end\n",
    "        \n",
    "\n",
    "    return dq_p, p_hat\n",
    "end"
   ]
  },
  {
   "cell_type": "code",
   "execution_count": 13,
   "id": "127f349a",
   "metadata": {},
   "outputs": [
    {
     "data": {
      "text/plain": [
       "compute_FA (generic function with 1 method)"
      ]
     },
     "execution_count": 13,
     "metadata": {},
     "output_type": "execute_result"
    }
   ],
   "source": [
    "function compute_FA(x, u_control)\n",
    "    \n",
    "    q = x[1:3]\n",
    "    dq = x[4:6]\n",
    "    \n",
    "    a = compute_a(q)\n",
    "    \n",
    "    active_cs = abs.(a) .< tol_c\n",
    "    inactive_cs = abs.(a) .> tol_c\n",
    "    \n",
    "    if sum(active_cs) == 0\n",
    "        return zeros(4)\n",
    "    end\n",
    "    \n",
    "    possibleModes = zeros(Int, 0, size(modes,2))\n",
    "    \n",
    "    contactMode = zeros(n_contacts*2)\n",
    "    \n",
    "    for k = 1:size(modes,1)\n",
    "        m_cs = modes[k, 1:n_contacts].==1\n",
    "        if length(findall(z->z==true, m_cs[inactive_cs])) == 0\n",
    "            possibleModes = [possibleModes; modes[k, :]']\n",
    "        end\n",
    "    end\n",
    "\n",
    "    max_cons = 0\n",
    "    \n",
    "    \n",
    "    for kk = 1:size(possibleModes, 1)      \n",
    "        \n",
    "        m = possibleModes[kk,:]\n",
    "        \n",
    "        separate_cs = (m[1:n_contacts].!=1) .& active_cs\n",
    "        _, A_separate, dA_separate = contact_mode_constraints(x, [separate_cs; ones(n_contacts)]) \n",
    "\n",
    "        ddq, λ = solveEOM(x, m, u_control)\n",
    "        \n",
    "        c_λ = contact_force_constraints(λ, m)\n",
    "        \n",
    "        if all(c_λ.>=0)\n",
    "        \n",
    "            As_eq, As_geq, dAs_eq, dAs_geq = sliding_velocity_constraints(x, m)\n",
    "\n",
    "            sep_vel_cond = ((A_separate*dq).>0) .| ((A_separate*ddq .+ dA_separate*dq).>=0)\n",
    "            maintain_vel_cond = all(abs.(As_eq*dq).<tol_c) & all((As_geq*dq).>tol_c)\n",
    "\n",
    "            if ~maintain_vel_cond\n",
    "                if any((As_geq*dq).<tol_c)\n",
    "                    maintain_vel_cond = all(abs.(dAs_eq*dq + As_eq*ddq).<tol_c) & all((dAs_geq*dq + As_geq*ddq).>0)\n",
    "                end\n",
    "            end\n",
    "\n",
    "            if all(c_λ.>=0) && all(sep_vel_cond) && maintain_vel_cond\n",
    "    \n",
    "                if sum(m[1:n_contacts]) > max_cons\n",
    "                    contactMode = m\n",
    "                    max_cons = sum(m[1:n_contacts])\n",
    "                end\n",
    "            end\n",
    "        end\n",
    "    end\n",
    "    \n",
    "    return contactMode\n",
    "end"
   ]
  },
  {
   "cell_type": "code",
   "execution_count": 14,
   "id": "48e9c41c",
   "metadata": {},
   "outputs": [
    {
     "data": {
      "text/plain": [
       "compute_IV (generic function with 1 method)"
      ]
     },
     "execution_count": 14,
     "metadata": {},
     "output_type": "execute_result"
    }
   ],
   "source": [
    "function compute_IV(x)\n",
    "    \n",
    "    q = x[1:3]\n",
    "    dq = x[4:6]\n",
    "    \n",
    "    a = compute_a(q)\n",
    "    \n",
    "    active_cs = abs.(a) .< tol_c\n",
    "    inactive_cs = abs.(a) .> tol_c\n",
    "    \n",
    "    if sum(active_cs) == 0\n",
    "        return zeros(Int, 4)\n",
    "    end\n",
    "    \n",
    "    possibleModes = zeros(Bool, 0, size(modes,2))\n",
    "    \n",
    "    contactMode = zeros(n_contacts*2)\n",
    "    \n",
    "    for k = 1:size(modes,1)\n",
    "        m_cs = modes[k, 1:n_contacts].==1\n",
    "        if length(findall(z->z==true, m_cs[inactive_cs])) == 0\n",
    "            possibleModes = [possibleModes; modes[k, :]']\n",
    "        end\n",
    "    end\n",
    "    \n",
    "    max_cons = 0\n",
    "    \n",
    "    for kk = 1:size(possibleModes, 1)\n",
    "        \n",
    "        m = possibleModes[kk,:]\n",
    "        \n",
    "        separate_cs = (m[1:n_contacts].!=1) .& active_cs\n",
    "        _, A_separate, _ = contact_mode_constraints(x, [separate_cs; ones(n_contacts)]) \n",
    "\n",
    "        dq_p, p_hat = computeResetMap(x, m)\n",
    "        \n",
    "        c_p_hat = contact_force_constraints(p_hat, m)\n",
    "        \n",
    "        As_eq, As_geq, _, _ = sliding_velocity_constraints(x, m)\n",
    "        \n",
    "        if all(c_p_hat.>=0) && all(A_separate*dq_p.>=0) && all(abs.(As_eq*dq_p).<tol_c) && all(As_geq*dq_p.>0)\n",
    "            if sum(m[1:n_contacts]) > max_cons\n",
    "                contactMode = m\n",
    "                max_cons = sum(m[1:n_contacts])\n",
    "            end\n",
    "        end\n",
    "    end\n",
    "    \n",
    "    return contactMode\n",
    "end"
   ]
  },
  {
   "cell_type": "code",
   "execution_count": 15,
   "id": "b562498f",
   "metadata": {},
   "outputs": [
    {
     "data": {
      "text/plain": [
       "mode (generic function with 1 method)"
      ]
     },
     "execution_count": 15,
     "metadata": {},
     "output_type": "execute_result"
    }
   ],
   "source": [
    "function mode(x, u_control)\n",
    "    return Vector{Int}(compute_FA(x, u_control))\n",
    "end"
   ]
  },
  {
   "cell_type": "code",
   "execution_count": 16,
   "id": "94260951",
   "metadata": {},
   "outputs": [
    {
     "data": {
      "text/plain": [
       "guard_conditions (generic function with 1 method)"
      ]
     },
     "execution_count": 16,
     "metadata": {},
     "output_type": "execute_result"
    }
   ],
   "source": [
    "function guard_conditions(x, contactMode, u_control)\n",
    "    q = x[1:3]\n",
    "    dq = x[4:6]\n",
    "    \n",
    "    a = compute_a(q)\n",
    "#     a[contactMode[1:n_contacts] .== 1] .= 0.0\n",
    "    \n",
    "    # for sliding->sticking transition\n",
    "    v_all = zeros(n_contacts)\n",
    "#     _, As_geq, _, _ = sliding_velocity_constraints(x, contactMode)\n",
    "#     v_all[1:size(As_geq,1)] = -As_geq*dq\n",
    "    At_eq, At_geq, _, _ = contact_tangent_velocity_constraints(x, contactMode)\n",
    "    v_all[1:size(At_geq,1)] = -At_geq*dq\n",
    "    \n",
    "    ddq, λ = solveEOM(x, contactMode, u_control)\n",
    "    c_λ = contact_force_constraints(λ, contactMode)\n",
    "    c_λ_all = zeros(3*n_contacts)\n",
    "    c_λ_all[1:length(c_λ)] = c_λ\n",
    "    \n",
    "    c = [a; v_all; c_λ_all]\n",
    "    if debug == true     \n",
    "#         println(\"guard_conditions \", c)\n",
    "    end\n",
    "    \n",
    "    dir = [-ones(Int,length(a)); ones(Int,length(v_all)); ones(Int,length(c_λ_all))]\n",
    "    \n",
    "    return c, dir\n",
    "end"
   ]
  },
  {
   "cell_type": "markdown",
   "id": "591e2342",
   "metadata": {},
   "source": [
    "## Wrappers for ODE solver"
   ]
  },
  {
   "cell_type": "code",
   "execution_count": 17,
   "id": "4a3267d3",
   "metadata": {},
   "outputs": [
    {
     "data": {
      "text/plain": [
       "dynamics! (generic function with 1 method)"
      ]
     },
     "execution_count": 17,
     "metadata": {},
     "output_type": "execute_result"
    }
   ],
   "source": [
    "function dynamics!(dx, x, p, t)\n",
    "    # p from integrator: (contact mode, controller, t_control, h_control, u_control)\n",
    "    \n",
    "    if debug == true\n",
    "        println(\"Dynamics evalutation \", t, \"x \", x)\n",
    "    end\n",
    "    \n",
    "    # bound the simulation\n",
    "    if any(abs.(x[1:3]).>10) || any(abs.(x).>50) || (x[2] < -0.2)\n",
    "        dx .= [x[4:6]; zeros(3)]\n",
    "        return\n",
    "    end\n",
    "\n",
    "    q = x[1:3]\n",
    "    dq = x[4:6]\n",
    "    contactMode = p[1]\n",
    "    controller = p[2]\n",
    "    t_control = p[3][1]\n",
    "    h_control = p[4]\n",
    "    u_control = zeros(3)\n",
    "    u_control .= p[5]\n",
    "    \n",
    "    if t > (t_control + h_control)\n",
    "        \n",
    "        p[3] .= [Float64(t)]\n",
    "        u_control = controller(x, contactMode)\n",
    "        p[5] .= u_control\n",
    "        if debug == true\n",
    "            println(\"Control evaluation \", u_control)\n",
    "        end\n",
    "    end\n",
    "    \n",
    "    ddq, λ = solveEOM(x, contactMode, u_control)\n",
    "    \n",
    "    #println(\"acceleration \", ddq)\n",
    "    \n",
    "    dx .= [dq; ddq]\n",
    "    c_λ = contact_force_constraints(λ, contactMode)\n",
    "    if(sum(c_λ.<-tol_c) > 0)\n",
    "#         println(c_λ)\n",
    "        new_contactMode = compute_FA(x, u_control)\n",
    "        if (all(new_contactMode .==0))\n",
    "            return\n",
    "        end\n",
    "        p[1] .= reshape(new_contactMode,size(p[1]))\n",
    "        if debug == true\n",
    "            println(\"New mode from constraints \", new_contactMode)\n",
    "            println(λ)\n",
    "        end\n",
    "    end\n",
    "end"
   ]
  },
  {
   "cell_type": "code",
   "execution_count": 18,
   "id": "a4bb2b72",
   "metadata": {},
   "outputs": [
    {
     "data": {
      "text/plain": [
       "affect_neg! (generic function with 1 method)"
      ]
     },
     "execution_count": 18,
     "metadata": {},
     "output_type": "execute_result"
    }
   ],
   "source": [
    "function conditions(out, x, t, integrator)\n",
    "    contactMode = integrator.p[1]\n",
    "    u_control = integrator.p[5]\n",
    "    c, dir = guard_conditions(x, contactMode, u_control)\n",
    "    out .= c\n",
    "end\n",
    "\n",
    "function affect!(integrator, idx)\n",
    "    if debug == true\n",
    "        println(\"upper crossing.\")\n",
    "    end\n",
    "    contactMode = integrator.p[1]\n",
    "    x = integrator.u\n",
    "    u_control = integrator.p[5]\n",
    "    c, dir = guard_conditions(x, contactMode, u_control)\n",
    "    \n",
    "    # only consider upcrossing forces and constraints values(FA comp)\n",
    "    # forces\n",
    "    if dir[idx] > 0\n",
    "        new_contactMode = compute_FA(x, u_control)\n",
    "        controller = integrator.p[2]\n",
    "        u_control = controller(x, new_contactMode)\n",
    "        integrator.p[5] .= u_control\n",
    "        if (eltype(new_contactMode)==Float64)\n",
    "            return\n",
    "        end\n",
    "        integrator.p[1] .= reshape(new_contactMode,size(integrator.p[1]))\n",
    "        if debug == true\n",
    "            println(\"New mode from FA: \", new_contactMode)\n",
    "            println(x, u_control)\n",
    "        end\n",
    "    end\n",
    "    # constraints\n",
    "#     if dir[idx] < 0\n",
    "#         new_contactMode = contactMode\n",
    "#         new_contactMode[idx] = false\n",
    "#     end\n",
    "end\n",
    "\n",
    "function affect_neg!(integrator, idx)\n",
    "    if debug == true\n",
    "        println(\"down crossing.\")\n",
    "    end\n",
    "    contactMode = integrator.p[1]\n",
    "    x = integrator.u\n",
    "    u_control = integrator.p[5]\n",
    "    c, dir = guard_conditions(x, contactMode, u_control)\n",
    "    \n",
    "    # only consider down crossing constraint value(IV comp)\n",
    "    if dir[idx] < 0\n",
    "        new_contactMode = compute_IV(x)\n",
    "        if (all(new_contactMode .==0))\n",
    "            return\n",
    "        end\n",
    "        controller = integrator.p[2]\n",
    "        u_control = controller(x, new_contactMode)\n",
    "        integrator.p[5] .= u_control\n",
    "        \n",
    "        dq_p, p_hat = computeResetMap(x, new_contactMode)\n",
    "        integrator.u .= [x[1:3]; dq_p]\n",
    "        integrator.p[1] .= reshape(new_contactMode,size(integrator.p[1]))\n",
    "        \n",
    "        if debug == true\n",
    "            println(\"New mode from IV: \", new_contactMode)\n",
    "            println(x)\n",
    "        end\n",
    "\n",
    "    end\n",
    "end"
   ]
  },
  {
   "cell_type": "markdown",
   "id": "c31d7fb4",
   "metadata": {},
   "source": [
    "## goal specific conditions"
   ]
  },
  {
   "cell_type": "code",
   "execution_count": 19,
   "id": "cad95562",
   "metadata": {},
   "outputs": [
    {
     "data": {
      "text/plain": [
       "2-element Vector{Float64}:\n",
       " -0.5\n",
       "  0.0"
      ]
     },
     "execution_count": 19,
     "metadata": {},
     "output_type": "execute_result"
    }
   ],
   "source": [
    "# reference conditions\n",
    "xref = [0;h/2;0;1;0;0]\n",
    "uref = [μ*m*g;0]\n",
    "nominal_mode = [1 1 1 1]\n",
    "\n",
    "# pusher location\n",
    "pusher_p = [-w/2;0]"
   ]
  },
  {
   "cell_type": "markdown",
   "id": "0f99444a",
   "metadata": {},
   "source": [
    "## LQR \n",
    "Push the box with a pusher (a point contact)"
   ]
  },
  {
   "cell_type": "code",
   "execution_count": 20,
   "id": "99772a6d",
   "metadata": {},
   "outputs": [
    {
     "data": {
      "text/plain": [
       "riccati"
      ]
     },
     "execution_count": 20,
     "metadata": {},
     "output_type": "execute_result"
    }
   ],
   "source": [
    "\"\"\"\n",
    "    riccati(A,B,Q,R,Qf,N)\n",
    "\n",
    "Use backward riccati recursion to solve the finite-horizon time-invariant LQR problem.\n",
    "Returns vectors of the feedback gains `K` and cost-to-go matrices `P`, where `length(K) == N-1`,\n",
    "`length(P) == N`, and `size(K[i]) == (m,n)` and `size(P[i]) == (n,n)`.\n",
    "\n",
    "# Arguments:\n",
    "* `A`: `(n,n)` discrete dynamics Jacobian wrt the state\n",
    "* `B`: `(n,m)` discrete dynamics Jacobian wrt the control\n",
    "* `Q`: `(n,n)` stage-wise cost matrix for states\n",
    "* `R`: `(m,m)` stage-wise cost matrix for controls\n",
    "* `Qf`: `(n,n)` cost matrix for terminal state\n",
    "* `N`: Integer number of time steps (horizon length).\n",
    "\"\"\"\n",
    "function riccati(A,B,Q,R,Qf,N)\n",
    "    # initialize the output\n",
    "    n,m = size(B)\n",
    "    P = [zeros(n,n) for k = 1:N]\n",
    "    K = [zeros(m,n) for k = 1:N-1]\n",
    "    \n",
    "    P[end] .= Qf\n",
    "    for k = reverse(1:N-1) \n",
    "        K[k] .= (R + B'P[k+1]*B)\\(B'P[k+1]*A)\n",
    "        P[k] .= Q + A'P[k+1]*A - A'P[k+1]*B*K[k]\n",
    "    end\n",
    "    \n",
    "    # return the feedback gains and ctg matrices\n",
    "    return K,P\n",
    "end"
   ]
  },
  {
   "cell_type": "code",
   "execution_count": 21,
   "id": "16a5d433",
   "metadata": {},
   "outputs": [
    {
     "data": {
      "text/plain": [
       "discrete_dynamics (generic function with 1 method)"
      ]
     },
     "execution_count": 21,
     "metadata": {},
     "output_type": "execute_result"
    }
   ],
   "source": [
    "function rk4_step(f,xk,u)\n",
    "    # classic rk4 parameters\n",
    "    a21 = 0.5\n",
    "    a31 = 0\n",
    "    a32 = 0.5\n",
    "    a41 = 0\n",
    "    a42 = 0\n",
    "    a43 = 1\n",
    "    b1 = 1/6\n",
    "    b2 = 1/3\n",
    "    b3 = 1/3\n",
    "    b4 = 1/6\n",
    "    \n",
    "    f1 = f(xk,u)\n",
    "    f2 = f(xk + Δt*a21*f1,u)\n",
    "    f3 = f(xk + Δt*a31*f1 + Δt*a32*f2,u)\n",
    "    f4 = f(xk + Δt*a41*f1 + Δt*a42*f2 + Δt*a43*f3,u)\n",
    "\n",
    "    xn = xk + Δt*(b1*f1 + b2*f2 + b3*f3 + b4*f4)\n",
    "    \n",
    "    return xn\n",
    "end\n",
    "\n",
    "function continuous_dynamics(x, u, mode)\n",
    "    q = x[1:3]\n",
    "    dq = x[4:6]\n",
    "    \n",
    "    A_f, A, dA = contact_mode_constraints(x, mode)\n",
    "    \n",
    "    # contact constraints\n",
    "    Jc = [1 0; 0 1; -pusher_p[2] pusher_p[1]]\n",
    "    \n",
    "    # compute EOM matrices\n",
    "    N = [0; g; 0]\n",
    "    C = zeros(3,3)\n",
    "    Y = Jc*u\n",
    "    \n",
    "    blockMat = [M A_f'; A zeros(size(A,1),size(A_f',2))] \n",
    "\n",
    "    b = [Y-N-C*dq; -dA*dq]\n",
    "    \n",
    "    if rank(blockMat) < length(b)\n",
    "        z =pinv(blockMat)*b\n",
    "    else\n",
    "        z = blockMat\\b\n",
    "    end\n",
    "\n",
    "    ddq = z[1:3]\n",
    "    \n",
    "    return [dq;ddq]\n",
    "end\n",
    "\n",
    "function continuous_dynamics_differentiable(x, u, mode)\n",
    "    q = x[1:3]\n",
    "    dq = x[4:6]\n",
    "    \n",
    "    A_f, A, dA = contact_mode_constraints(x, mode)\n",
    "    \n",
    "    # contact constraints\n",
    "    Jc = [1 0; 0 1; -pusher_p[2] pusher_p[1]]\n",
    "    \n",
    "    # compute EOM matrices\n",
    "    N = [0; g; 0]\n",
    "    C = zeros(3,3)\n",
    "    Y = Jc*u\n",
    "    \n",
    "    blockMat = [M A_f'; A zeros(size(A,1),size(A_f',2))] \n",
    "\n",
    "    b = [Y-N-C*dq; -dA*dq]\n",
    "    \n",
    "    H = [zeros(3,size(blockMat,2)); zeros(size(blockMat,1)-3,3) 1e-6*I]\n",
    "    z =(blockMat.+H)\\b\n",
    "\n",
    "\n",
    "    ddq = z[1:3]\n",
    "    \n",
    "    return [dq;ddq]\n",
    "end\n",
    "\n",
    "function discrete_dynamics(x, u, mode)\n",
    "    xn = rk4_step((_x,_u)->continuous_dynamics_differentiable(_x,_u,mode),x,u)\n",
    "    return xn\n",
    "end"
   ]
  },
  {
   "cell_type": "code",
   "execution_count": 22,
   "id": "1ec4724b",
   "metadata": {},
   "outputs": [
    {
     "data": {
      "text/plain": [
       "2×6 Matrix{Float64}:\n",
       " 0.0   4.88068e-6  -5.22899e-6  2.58945   8.85062e-6  -1.5144e-5\n",
       " 0.0  -1.25659e-5   1.53925e-5  1.29473  -2.16825e-5   3.69867e-5"
      ]
     },
     "execution_count": 22,
     "metadata": {},
     "output_type": "execute_result"
    }
   ],
   "source": [
    "# compute infinite horizon K\n",
    "A_lqr = ForwardDiff.jacobian(_x->discrete_dynamics(_x, uref, nominal_mode), xref)\n",
    "B_lqr = ForwardDiff.jacobian(_u->discrete_dynamics(xref, _u, nominal_mode), uref)\n",
    "Q_lqr = Diagonal([0;1.0;1.0;1.0;0.1;1.0])\n",
    "R_lqr = Diagonal([0.1;0.1])\n",
    "Ks, _ = riccati(A_lqr,B_lqr,Q_lqr,R_lqr,Q_lqr,50)\n",
    "K_lqr = Ks[1]"
   ]
  },
  {
   "cell_type": "code",
   "execution_count": 23,
   "id": "f06eeac1",
   "metadata": {},
   "outputs": [
    {
     "data": {
      "text/plain": [
       "pusher_lqr_controller (generic function with 1 method)"
      ]
     },
     "execution_count": 23,
     "metadata": {},
     "output_type": "execute_result"
    }
   ],
   "source": [
    "function pusher_lqr_controller(x, contactMode)\n",
    "    Jc = [1 0; 0 1; -pusher_p[2] pusher_p[1]]\n",
    "    u = uref .- K_lqr*(x .- xref)\n",
    "    u[u .> 20] .= 20\n",
    "    u[u .< -20] .= -20\n",
    "    f = Jc*u\n",
    "    return f\n",
    "end"
   ]
  },
  {
   "cell_type": "markdown",
   "id": "f88ed405",
   "metadata": {},
   "source": [
    "## Hybrid controller"
   ]
  },
  {
   "cell_type": "markdown",
   "id": "037b3442",
   "metadata": {},
   "source": [
    "### Hybrid system definition"
   ]
  },
  {
   "cell_type": "code",
   "execution_count": 24,
   "id": "8ce41e1e",
   "metadata": {},
   "outputs": [
    {
     "data": {
      "text/plain": [
       "domain (generic function with 1 method)"
      ]
     },
     "execution_count": 24,
     "metadata": {},
     "output_type": "execute_result"
    }
   ],
   "source": [
    "# domain\n",
    "# ineqs > 0; eqs = 0\n",
    "function domain(x, contactMode)\n",
    "    \n",
    "    cs = contactMode[1:n_contacts] .== 1\n",
    "    ss = contactMode[n_contacts+1:end]\n",
    "    \n",
    "    q = x[1:3]\n",
    "    dq = x[4:6]\n",
    "    \n",
    "    # a(q) = or > 0\n",
    "    \n",
    "    a = compute_a(q)\n",
    "    \n",
    "    eqs_a = a[cs]\n",
    "    ineqs_a = a[.~cs]\n",
    "    \n",
    "    # A_eq*dq = 0; A_geq*dq > 0\n",
    "    \n",
    "    A_eq, A_geq, _, _ = sliding_velocity_constraints(x, contactMode)\n",
    "    \n",
    "    eqs_A = A_eq*dq\n",
    "    ineqs_A = A_geq*dq\n",
    "    \n",
    "    # separating contacts\n",
    "    separate_cs = (cs.!=1) .& (abs.(a) .< tol_c)\n",
    "    _, A_separate, _ = contact_mode_constraints(x, [separate_cs; ones(n_contacts)])\n",
    "    \n",
    "    ineqs_A_sep = A_separate*dq\n",
    "    \n",
    "    ineqs = [zeros(0); ineqs_a; ineqs_A]#; ineqs_A_sep]\n",
    "    eqs = [zeros(0); eqs_a; eqs_A]\n",
    "    \n",
    "    return ineqs, eqs\n",
    "end"
   ]
  },
  {
   "cell_type": "code",
   "execution_count": 25,
   "id": "b3ccb0b3",
   "metadata": {},
   "outputs": [
    {
     "data": {
      "text/plain": [
       "guard_set (generic function with 1 method)"
      ]
     },
     "execution_count": 25,
     "metadata": {},
     "output_type": "execute_result"
    }
   ],
   "source": [
    "function guard_set(x, mode_from, mode_to)\n",
    "    \n",
    "    ineqs = zeros(0)\n",
    "    eqs = zeros(0)\n",
    "    \n",
    "    q = x[1:3]\n",
    "    dq = x[4:6]\n",
    "    \n",
    "    d_ineqs, d_eqs = domain(x, mode_from)\n",
    "    # c: d_ineqs > 0, d_eqs = 0\n",
    "    ineqs = [ineqs; d_ineqs]\n",
    "    eqs = [eqs; d_eqs]\n",
    "    \n",
    "    cs_mode_to = mode_to[1:n_contacts].==1\n",
    "    cs_mode_from = mode_from[1:n_contacts].==1\n",
    "    \n",
    "    A_f_new, A_new, dA_new = contact_mode_constraints(x, mode_to)\n",
    "    \n",
    "    # if there is new impact\n",
    "    new_cs = (cs_mode_from.==false).& (cs_mode_to.==true)\n",
    "    if sum(new_cs) > 0\n",
    "            a_new = compute_a(x)\n",
    "        # c: a_new[new_cs] .== 0\n",
    "        eqs = [eqs; a_new[new_cs]]\n",
    "        \n",
    "        _, A_impact, _, = contact_mode_constraints(x, [new_cs; ones(n_contacts)])\n",
    "        #c: A_impact*dq < 0\n",
    "        ineqs = [ineqs; -A_impact*dq]\n",
    "        \n",
    "        p_hat = pinv(A_new*inv(M)*A_f_new')*A_new*dq\n",
    "        #c: contact_force_constraints(p_hat, mode_to) > 0\n",
    "        ineqs = [ineqs; contact_force_constraints(p_hat, mode_to)]\n",
    "    end\n",
    "    \n",
    "    # if it is stick -> slide: do nothing, guard = domain\n",
    "    # if it is slide -> stick: A_stick dq = 0\n",
    "    ss_mode_to = mode_to[n_contacts+1:end]\n",
    "    ss_mode_from = mode_from[n_contacts+1:end]\n",
    "    ss_new_stick = (cs_mode_from.==true).& (cs_mode_to.==true) .& (ss_mode_to .== 0) .& (ss_mode_from .!=0)\n",
    "    \n",
    "    if sum(ss_new_stick) > 0    \n",
    "        A_stick, _, _, _ = sliding_velocity_constraints(x, [ss_new_stick; zeros(n_contacts)])\n",
    "        # c: A_stick*dq = 0\n",
    "        eqs = [eqs; A_stick*dq]\n",
    "    end\n",
    "        \n",
    "    return ineqs, eqs\n",
    "end"
   ]
  },
  {
   "cell_type": "code",
   "execution_count": 26,
   "id": "8e60face",
   "metadata": {},
   "outputs": [
    {
     "data": {
      "text/plain": [
       "jumpmap (generic function with 1 method)"
      ]
     },
     "execution_count": 26,
     "metadata": {},
     "output_type": "execute_result"
    }
   ],
   "source": [
    "function jumpmap(x, mode_from, mode_to)\n",
    "    \n",
    "    q = x[1:3]\n",
    "    dq = x[4:6]\n",
    "\n",
    "    A_f, A, dA = contact_mode_constraints(x, mode_to)\n",
    "    \n",
    "    c = size(A, 1)\n",
    "    #\n",
    "    blockMat = [M A_f'; A zeros(size(A,1),size(A_f',2))] \n",
    "    \n",
    "    b = [M*dq; zeros(c)]\n",
    "\n",
    "    H = [zeros(3,size(blockMat,2)); zeros(size(blockMat,1)-3,3) 1e-6*I]\n",
    "    z =(blockMat.+H)\\b\n",
    "        \n",
    "    dq_p = z[1:3]\n",
    "    p_hat = z[4:end]\n",
    "    \n",
    "    return [x[1:3]; dq_p]\n",
    "end"
   ]
  },
  {
   "cell_type": "code",
   "execution_count": 27,
   "id": "b379be17",
   "metadata": {},
   "outputs": [
    {
     "data": {
      "text/plain": [
       "dVdx (generic function with 1 method)"
      ]
     },
     "execution_count": 27,
     "metadata": {},
     "output_type": "execute_result"
    }
   ],
   "source": [
    "function V(x)\n",
    "    q = x[1:3] + x[4:6]\n",
    "    dq = x[4:6]\n",
    "    v = 0.5*([q;dq] .- xref)'*Q_lqr*([q;dq] .- xref)\n",
    "    return v\n",
    "end \n",
    "\n",
    "function dVdx(x)\n",
    "    res = ForwardDiff.gradient(V, x)\n",
    "    return res\n",
    "end"
   ]
  },
  {
   "cell_type": "code",
   "execution_count": 28,
   "id": "ee9e5ce1",
   "metadata": {},
   "outputs": [
    {
     "data": {
      "text/plain": [
       "hybrid_constraints_matrix (generic function with 1 method)"
      ]
     },
     "execution_count": 28,
     "metadata": {},
     "output_type": "execute_result"
    }
   ],
   "source": [
    "function hybrid_constraints_matrix(x, u_ref)\n",
    "    # A*z + b>= 0\n",
    "    # u = z[1:2]\n",
    "    # β = z[3:175]\n",
    "    # α = z[176:end]\n",
    "    \n",
    "    n = 2+173+19\n",
    "    m = 19 \n",
    "    A = zeros(m, n)\n",
    "    b = zeros(m)\n",
    "\n",
    "    # α = 10\n",
    "    \n",
    "    Vx = dVdx(x)\n",
    "    Vv = V(x)\n",
    "    \n",
    "    n_modes = size(modes,1)\n",
    "    \n",
    "    β_idx = 1\n",
    "    \n",
    "    nominal_mode = modes[10,:] # [1 1 1 1]\n",
    "    \n",
    "\n",
    "    # mode dynamics\n",
    "    \n",
    "    for k = 1:n_modes\n",
    "    \n",
    "        m = modes[k,:]\n",
    "        \n",
    "        d_ineq, d_eq = domain(x, m)\n",
    "        \n",
    "        # TODO: debug this!!!\n",
    "        if sum(d_ineq.<0)>0 || sum(abs.(d_eq) .> tol_c)>0\n",
    "            b[k] = 0.1\n",
    "            continue\n",
    "        end\n",
    "        \n",
    "        n_ineq = size(d_ineq, 1)\n",
    "        n_eq = size(d_eq, 1)\n",
    "        \n",
    "        dfdu = ForwardDiff.jacobian(_u->continuous_dynamics_differentiable(x, _u, m), u_ref)\n",
    "        \n",
    "        b[k] = -Vx'*continuous_dynamics_differentiable(x, u_ref, m)\n",
    "        # α\n",
    "        A[k, 175+k] = -Vv\n",
    "        A[k, 1:2] = -Vx'*dfdu\n",
    "        A[k, β_idx:β_idx+n_ineq-1] .= -d_ineq\n",
    "        A[k, β_idx+n_ineq:β_idx+n_ineq+n_eq-1] .= -d_eq \n",
    "        A[k, β_idx+n_ineq+n_eq:β_idx+n_ineq+2*n_eq-1] .= d_eq \n",
    "        \n",
    "        β_idx += n_ineq + 2*n_eq\n",
    "        \n",
    "    end\n",
    "    \n",
    "    nominal_mode = modes[10,:]\n",
    "    \n",
    "    for k = 1:(n_modes-1)\n",
    "        \n",
    "        mode_from = modes[k,:]\n",
    "        \n",
    "        d_ineq, d_eq = guard_set(x, mode_from, nominal_mode)\n",
    "        \n",
    "        if sum(d_ineq.<0)>0 || sum(abs.(d_eq) .> tol_c)>0\n",
    "            b[k] = 0.1\n",
    "            continue\n",
    "        end\n",
    "        \n",
    "        n_ineq = size(d_ineq, 1)\n",
    "        n_eq = size(d_eq, 1)\n",
    "        \n",
    "        xp = jumpmap(x, mode_from, nominal_mode)\n",
    "        \n",
    "        dfdu = ForwardDiff.jacobian(_u->continuous_dynamics_differentiable(xp, _u, nominal_mode), u_ref)\n",
    "        \n",
    "        b[n_modes+k] = -Vx'*continuous_dynamics_differentiable(xp, u_ref, nominal_mode)\n",
    "        A[k, 175+n_modes+k] = -Vv\n",
    "        A[n_modes+k, 1:2] = -Vx'*dfdu\n",
    "        A[n_modes+k, β_idx:β_idx+n_ineq-1] .= -d_ineq\n",
    "        A[n_modes+k, β_idx+n_ineq:β_idx+n_ineq+n_eq-1] .= -d_eq \n",
    "        A[n_modes+k, β_idx+n_ineq+n_eq:β_idx+n_ineq+2*n_eq-1] .= d_eq \n",
    "        \n",
    "        β_idx += n_ineq + 2*n_eq\n",
    "        \n",
    "    end\n",
    "    \n",
    "    return A, b\n",
    "    \n",
    "end"
   ]
  },
  {
   "cell_type": "markdown",
   "id": "69d2d1d3",
   "metadata": {},
   "source": [
    "### Interface with Convex.jl"
   ]
  },
  {
   "cell_type": "code",
   "execution_count": 29,
   "id": "73c34b9e",
   "metadata": {},
   "outputs": [],
   "source": [
    "# n_control_var = 2+173+19\n",
    "# n_control_constraints = 19 # total number of constraints"
   ]
  },
  {
   "cell_type": "markdown",
   "id": "61d4461f",
   "metadata": {},
   "source": [
    "### define the controller"
   ]
  },
  {
   "cell_type": "code",
   "execution_count": 30,
   "id": "d8eabc3c",
   "metadata": {},
   "outputs": [
    {
     "data": {
      "text/plain": [
       "hybrid_reference_lqr (generic function with 1 method)"
      ]
     },
     "execution_count": 30,
     "metadata": {},
     "output_type": "execute_result"
    }
   ],
   "source": [
    "function hybrid_reference_lqr(x, contactMode)\n",
    "    Jc = [1 0; 0 1; -pusher_p[2] pusher_p[1]]\n",
    "    u = uref .- K_lqr*(x .- xref)\n",
    "    u[u .> 20] .= 20\n",
    "    u[u .< -20] .= -20\n",
    "    return u\n",
    "end"
   ]
  },
  {
   "cell_type": "code",
   "execution_count": 102,
   "id": "cf3e84bd",
   "metadata": {},
   "outputs": [
    {
     "data": {
      "text/plain": [
       "hybrid_controller (generic function with 1 method)"
      ]
     },
     "execution_count": 102,
     "metadata": {},
     "output_type": "execute_result"
    }
   ],
   "source": [
    "function hybrid_controller(x, contactMode)\n",
    "    \n",
    "    u_ref = hybrid_controller_reference(x, contactMode) # from reference controller\n",
    "    \n",
    "    α_ref = 15\n",
    "\n",
    "    z = Variable(194)\n",
    "    A, b = hybrid_constraints_matrix(x, u_ref)\n",
    "    \n",
    "    μ_mnp = 0.8\n",
    "    FC = [1 0; μ_mnp -1; μ_mnp 1]\n",
    "\n",
    "    problem = minimize(sumsquares(z - [zeros(175); α_ref*ones(19)]))\n",
    "    problem.constraints += A*z + b >= 0\n",
    "    problem.constraints += z[3:end] >= 0\n",
    "    #problem.constraints += FC*(z[1:2]+u_ref) >= 0\n",
    "    problem.constraints += z[1:2] <= 20\n",
    "    problem.constraints += z[1:2] >= -20\n",
    "\n",
    "\n",
    "    Convex.solve!(problem, () -> SCS.Optimizer(verbose=false))\n",
    "    \n",
    "    z_sol = evaluate(z)\n",
    "    if any(isnan.(z_sol)) || sum(sol) == Inf # infeasible\n",
    "        z_sol = zeros(175)\n",
    "#         println(\"Infeasible: \")\n",
    "#         println(x)\n",
    "#         println(contactMode)\n",
    "    end\n",
    "    \n",
    "    u = z_sol[1:2] .+ u_ref\n",
    "    \n",
    "    # return space wrench\n",
    "    Jc = [1 0; 0 1; -pusher_p[2] pusher_p[1]]\n",
    "    f = Jc*u\n",
    "    \n",
    "    return f\n",
    "    \n",
    "end"
   ]
  },
  {
   "cell_type": "markdown",
   "id": "dad42584",
   "metadata": {},
   "source": [
    "## simulate the sliding box "
   ]
  },
  {
   "cell_type": "code",
   "execution_count": 103,
   "id": "b0b7f987",
   "metadata": {},
   "outputs": [
    {
     "data": {
      "text/plain": [
       "0.05"
      ]
     },
     "execution_count": 103,
     "metadata": {},
     "output_type": "execute_result"
    }
   ],
   "source": [
    "# specify the controller\n",
    "hybrid_controller_reference = hybrid_reference_lqr\n",
    "h_control = Δt"
   ]
  },
  {
   "cell_type": "code",
   "execution_count": 139,
   "id": "ca461725",
   "metadata": {},
   "outputs": [
    {
     "data": {
      "text/plain": [
       "hybrid_controller (generic function with 1 method)"
      ]
     },
     "execution_count": 139,
     "metadata": {},
     "output_type": "execute_result"
    }
   ],
   "source": [
    "# You can change the initial conditions \n",
    "\n",
    "θ0 = -0.4\n",
    "x0 = [0;h/2 - sin(θ0)*w/2 + 0.1;θ0;0;0;0]\n",
    "\n",
    "# You can change this to compare different controllers\n",
    "controller = hybrid_controller # our approach\n",
    "# controller = pusher_lqr_controller\n"
   ]
  },
  {
   "cell_type": "code",
   "execution_count": 140,
   "id": "50a79091",
   "metadata": {},
   "outputs": [
    {
     "name": "stderr",
     "output_type": "stream",
     "text": [
      "┌ Warning: Problem status INFEASIBLE; solution may be inaccurate.\n",
      "└ @ Convex /home/xianyi/.julia/packages/Convex/uI27T/src/solution.jl:263\n",
      "┌ Warning: Problem status ALMOST_OPTIMAL; solution may be inaccurate.\n",
      "└ @ Convex /home/xianyi/.julia/packages/Convex/uI27T/src/solution.jl:263\n"
     ]
    },
    {
     "name": "stdout",
     "output_type": "stream",
     "text": [
      "Simulation status: Success\n"
     ]
    }
   ],
   "source": [
    "debug = false\n",
    "initial_mode = mode(x0, zeros(3))\n",
    "\n",
    "tspan = (0.0, 2.0)\n",
    "callback_length = 5*n_contacts\n",
    "\n",
    "prob = ODEProblem(dynamics!, x0, tspan, (initial_mode, controller, [0.0], h_control, zeros(3)))\n",
    "cb = VectorContinuousCallback(conditions, affect!, affect_neg!, callback_length)\n",
    "sol = solve(prob, Tsit5(); callback = cb, abstol=1e-15,reltol=1e-15, adaptive=false,dt=Δt)\n",
    "println(\"Simulation status: \", sol.retcode)"
   ]
  },
  {
   "cell_type": "code",
   "execution_count": 141,
   "id": "7dbd0a2f",
   "metadata": {},
   "outputs": [
    {
     "data": {
      "text/plain": [
       "boxshape (generic function with 1 method)"
      ]
     },
     "execution_count": 141,
     "metadata": {},
     "output_type": "execute_result"
    }
   ],
   "source": [
    "function boxshape(q)\n",
    "    p1 = q[1:2] + R_2D(q[3])*[w/2;h/2]\n",
    "    p2 = q[1:2] + R_2D(q[3])*[w/2;-h/2]\n",
    "    p3 = q[1:2] + R_2D(q[3])*[-w/2;-h/2]\n",
    "    p4 = q[1:2] + R_2D(q[3])*[-w/2;h/2]\n",
    "    pp = [p1 p2 p3 p4]\n",
    "    return Shape(pp[1,:], pp[2,:])\n",
    "end"
   ]
  },
  {
   "cell_type": "code",
   "execution_count": 142,
   "id": "88e5a971",
   "metadata": {},
   "outputs": [
    {
     "data": {
      "text/plain": [
       "Animation(\"/tmp/jl_VfPTEy\", [\"000001.png\", \"000002.png\", \"000003.png\", \"000004.png\", \"000005.png\", \"000006.png\", \"000007.png\", \"000008.png\", \"000009.png\", \"000010.png\"  …  \"000061.png\", \"000062.png\", \"000063.png\", \"000064.png\", \"000065.png\", \"000066.png\", \"000067.png\", \"000068.png\", \"000069.png\", \"000070.png\"])"
      ]
     },
     "execution_count": 142,
     "metadata": {},
     "output_type": "execute_result"
    }
   ],
   "source": [
    "# animation \n",
    "n = length(sol.t)\n",
    "# n = Int(floor(0.77/Δt))\n",
    "x = zeros(n)\n",
    "y = zeros(n)\n",
    "θ = zeros(n)\n",
    "for k = 1:n\n",
    "    x[k] = sol.u[k][1]\n",
    "    y[k] = sol.u[k][2]\n",
    "    θ[k] = sol.u[k][3]\n",
    "end\n",
    "anim = @animate for i ∈ 1:n\n",
    "    plot([-10,5],[0,0], lw = 2, c=:black, xlims=(-3,3), ylims=(-0.5,3))\n",
    "    plot!(boxshape([x[i],y[i],θ[i]]), aspect_ratio=:equal, c=:gray, opacity=.5, legend=false)\n",
    "end"
   ]
  },
  {
   "cell_type": "code",
   "execution_count": 143,
   "id": "11dd2f93",
   "metadata": {},
   "outputs": [
    {
     "name": "stderr",
     "output_type": "stream",
     "text": [
      "┌ Info: Saved animation to \n",
      "│   fn = /home/xianyi/study/16715robotsim/project/src/anim.gif\n",
      "└ @ Plots /home/xianyi/.julia/packages/Plots/AJMX6/src/animation.jl:114\n"
     ]
    },
    {
     "data": {
      "text/html": [
       "<img src=\"data:image/gif;base64,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\" />"
      ],
      "text/plain": [
       "Plots.AnimatedGif(\"/home/xianyi/study/16715robotsim/project/src/anim.gif\")"
      ]
     },
     "execution_count": 143,
     "metadata": {},
     "output_type": "execute_result"
    }
   ],
   "source": [
    "gif(anim, \"anim.gif\", fps = Int(floor(n/tspan[2])))"
   ]
  },
  {
   "cell_type": "code",
   "execution_count": null,
   "id": "191f5bd4",
   "metadata": {},
   "outputs": [],
   "source": []
  }
 ],
 "metadata": {
  "kernelspec": {
   "display_name": "Julia 1.6.2",
   "language": "julia",
   "name": "julia-1.6"
  },
  "language_info": {
   "file_extension": ".jl",
   "mimetype": "application/julia",
   "name": "julia",
   "version": "1.6.2"
  }
 },
 "nbformat": 4,
 "nbformat_minor": 5
}
