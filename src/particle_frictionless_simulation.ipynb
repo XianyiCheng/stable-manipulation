{
 "cells": [
  {
   "cell_type": "code",
   "execution_count": 1,
   "id": "a5d889d7",
   "metadata": {},
   "outputs": [
    {
     "name": "stderr",
     "output_type": "stream",
     "text": [
      "\u001b[32m\u001b[1m  Activating\u001b[22m\u001b[39m environment at `~/study/16715robotsim/project/Project.toml`\n"
     ]
    }
   ],
   "source": [
    "import Pkg; Pkg.activate(joinpath(@__DIR__,\"..\")); Pkg.instantiate()"
   ]
  },
  {
   "cell_type": "code",
   "execution_count": 2,
   "id": "0eefe5e9",
   "metadata": {},
   "outputs": [],
   "source": [
    "using LinearAlgebra\n",
    "using ForwardDiff\n",
    "using OrdinaryDiffEq\n",
    "using Test\n",
    "using Plots"
   ]
  },
  {
   "cell_type": "code",
   "execution_count": 60,
   "id": "087a650c",
   "metadata": {},
   "outputs": [
    {
     "data": {
      "text/plain": [
       "1-element Vector{Bool}:\n",
       " 0"
      ]
     },
     "execution_count": 60,
     "metadata": {},
     "output_type": "execute_result"
    }
   ],
   "source": [
    "const g = 9.8\n",
    "const M = [1 0; 0 1]\n",
    "\n",
    "# set of contact modes\n",
    "modes = [false; true]\n",
    "\n",
    "q0 = [0;0.5]\n",
    "dq0 = [0;0]\n",
    "x0 = [q0;dq0]\n",
    "initial_mode = [false]\n"
   ]
  },
  {
   "cell_type": "code",
   "execution_count": 61,
   "id": "cdad32a0",
   "metadata": {},
   "outputs": [
    {
     "data": {
      "text/plain": [
       "compute_dA (generic function with 1 method)"
      ]
     },
     "execution_count": 61,
     "metadata": {},
     "output_type": "execute_result"
    }
   ],
   "source": [
    "# constraints/contacts\n",
    "function compute_a(q)\n",
    "    a = q[2]\n",
    "    return [a]\n",
    "end\n",
    "\n",
    "# constraints jacobian\n",
    "function compute_A(q)\n",
    "    A = [0 1]\n",
    "    return A\n",
    "end\n",
    "\n",
    "function compute_dA(q, dq)\n",
    "    dA = [0 0]\n",
    "    return dA\n",
    "end"
   ]
  },
  {
   "cell_type": "code",
   "execution_count": 62,
   "id": "df5e1d94",
   "metadata": {},
   "outputs": [
    {
     "name": "stdout",
     "output_type": "stream",
     "text": [
      "[0.5]\n",
      "[0 1]\n",
      "[0 0]\n"
     ]
    }
   ],
   "source": [
    "println(compute_a(q0))\n",
    "println(compute_A(q0))\n",
    "println(compute_dA(q0, dq0))"
   ]
  },
  {
   "cell_type": "code",
   "execution_count": 79,
   "id": "0a1c7d3e",
   "metadata": {},
   "outputs": [
    {
     "data": {
      "text/plain": [
       "2×2 Matrix{Float64}:\n",
       " 1.0  0.0\n",
       " 0.0  1.0"
      ]
     },
     "execution_count": 79,
     "metadata": {},
     "output_type": "execute_result"
    }
   ],
   "source": [
    "A = compute_A(q0)\n",
    "A = A[initial_mode,:]\n",
    "[M A'; A zeros(size(A,1),size(A',2))]"
   ]
  },
  {
   "cell_type": "code",
   "execution_count": 120,
   "id": "7c975417",
   "metadata": {},
   "outputs": [
    {
     "data": {
      "text/plain": [
       "solveEOM (generic function with 1 method)"
      ]
     },
     "execution_count": 120,
     "metadata": {},
     "output_type": "execute_result"
    }
   ],
   "source": [
    "function solveEOM(x, contactMode)\n",
    "    # contactMode: bool vector, indicates which constraints are active\n",
    "    q = x[1:2]\n",
    "    dq = x[3:4]\n",
    "    \n",
    "    #Compute A and dA at the current state, only select rows for the current contact mode\n",
    "    A = compute_A(q)\n",
    "    dA = compute_dA(q, dq)\n",
    "    A = A[contactMode,:]\n",
    "    dA = dA[contactMode,:]\n",
    "    \n",
    "    c = size(A,1)\n",
    "    \n",
    "    # compute EOM matrices\n",
    "    N = [0; g]\n",
    "    C = [0 0; 0 0]\n",
    "    Y = [0;0]\n",
    "    \n",
    "    #\n",
    "    blockMat = [M A'; A zeros(size(A,1),size(A',2))] \n",
    "\n",
    "    b = [Y-N-C*dq; -dA*dq]\n",
    "    \n",
    "    z = blockMat\\b\n",
    "    \n",
    "    ddq = z[1:2]\n",
    "    if (c>=1)\n",
    "        λ = z[3:end]\n",
    "    else\n",
    "        λ = []\n",
    "    end\n",
    "    \n",
    "    return ddq, λ\n",
    "end"
   ]
  },
  {
   "cell_type": "code",
   "execution_count": 121,
   "id": "47365985",
   "metadata": {},
   "outputs": [
    {
     "name": "stdout",
     "output_type": "stream",
     "text": [
      "([0.0, 0.0], [-9.8])\n"
     ]
    }
   ],
   "source": [
    "#println(solveEOM([0;0.5;0;0],[false]))\n",
    "#println(solveEOM([0;0;0;0], [true]))\n",
    "println(solveEOM([0;0.1;0;1], [true]))"
   ]
  },
  {
   "cell_type": "code",
   "execution_count": 122,
   "id": "727aec09",
   "metadata": {},
   "outputs": [
    {
     "data": {
      "text/plain": [
       "computeResetMap (generic function with 1 method)"
      ]
     },
     "execution_count": 122,
     "metadata": {},
     "output_type": "execute_result"
    }
   ],
   "source": [
    "function computeResetMap(x, contactMode)\n",
    "    q = x[1:2]\n",
    "    dq = x[3:4]\n",
    "    \n",
    "    A = compute_A(q)\n",
    "    A = A[contactMode,:]\n",
    "    \n",
    "    c = size(A, 1)\n",
    "    \n",
    "    blockMat = [M A'; A zeros(size(A,1),size(A',2))] \n",
    "    \n",
    "    z = blockMat\\[M*dq; zeros(c)]\n",
    "    \n",
    "    dq_p = z[1:2]\n",
    "    p_hat = z[3:end]\n",
    "    return dq_p, p_hat\n",
    "end"
   ]
  },
  {
   "cell_type": "code",
   "execution_count": 123,
   "id": "1ccfad4a",
   "metadata": {},
   "outputs": [
    {
     "name": "stdout",
     "output_type": "stream",
     "text": [
      "([-1.0, 0.0], [-1.0])\n"
     ]
    }
   ],
   "source": [
    "println(computeResetMap([0;0;-1;-1], [true]))"
   ]
  },
  {
   "cell_type": "code",
   "execution_count": 124,
   "id": "127f349a",
   "metadata": {},
   "outputs": [
    {
     "data": {
      "text/plain": [
       "compute_FA (generic function with 1 method)"
      ]
     },
     "execution_count": 124,
     "metadata": {},
     "output_type": "execute_result"
    }
   ],
   "source": [
    "function compute_FA(x)\n",
    "    q = x[1:2]\n",
    "    dq = x[3:4]\n",
    "    \n",
    "    a = compute_a(q)\n",
    "    \n",
    "    active_a = abs.(a) .< 1e-6\n",
    "    inactive_a = abs.(a) .> 1e-6\n",
    "    \n",
    "    all_m = active_a #all-constraints-active mode\n",
    "    contactMode = all_m\n",
    "    possibleModes = zeros(Bool, 0, size(modes,2))\n",
    "    \n",
    "    for k = 1:size(modes,1)\n",
    "        m = modes[k, :]\n",
    "        if length(findall(z->z==true, m[inactive_a])) == 0\n",
    "            possibleModes = [possibleModes; m]\n",
    "        end\n",
    "    end\n",
    "    \n",
    "    ddq_union, λ_union = solveEOM(x, all_m)\n",
    "    \n",
    "    active_idx = findall(z->z==true,all_m)\n",
    "    all_m_active = all_m[active_idx]\n",
    "    \n",
    "    for kk = 1:size(possibleModes, 1)\n",
    "        m = possibleModes[kk,:]\n",
    "        ddq, λ = solveEOM(x, m)\n",
    "        \n",
    "        m_active = m[active_idx]\n",
    "        \n",
    "        if all(-λ.>=0) && all(-λ_union[m_active.!=all_m_active].<=0)\n",
    "            contactMode = m\n",
    "            break;\n",
    "        end\n",
    "    end\n",
    "    \n",
    "    return contactMode\n",
    "end"
   ]
  },
  {
   "cell_type": "code",
   "execution_count": 126,
   "id": "54fbaea8",
   "metadata": {},
   "outputs": [
    {
     "name": "stdout",
     "output_type": "stream",
     "text": [
      "λ_union Any[]\n",
      "m_active Bool[]\n",
      "Bool[0]\n"
     ]
    }
   ],
   "source": [
    "println(compute_FA([0;0.1;0;2]))"
   ]
  },
  {
   "cell_type": "code",
   "execution_count": 129,
   "id": "48e9c41c",
   "metadata": {},
   "outputs": [
    {
     "data": {
      "text/plain": [
       "compute_IV (generic function with 1 method)"
      ]
     },
     "execution_count": 129,
     "metadata": {},
     "output_type": "execute_result"
    }
   ],
   "source": [
    "function compute_IV(x)\n",
    "    \n",
    "    q = x[1:2]\n",
    "    dq = x[3:4]\n",
    "    \n",
    "    a = compute_a(q)\n",
    "    \n",
    "    active_a = abs.(a) .< 1e-6\n",
    "    inactive_a = abs.(a) .> 1e-6\n",
    "    \n",
    "    all_m = active_a #all-constraints-active mode\n",
    "    contactMode = all_m\n",
    "    possibleModes = zeros(Bool, 0, size(modes,2))\n",
    "    \n",
    "    for k = 1:size(modes,1)\n",
    "        m = modes[k, :]\n",
    "        if length(findall(z->z==true, m[inactive_a])) == 0\n",
    "            possibleModes = [possibleModes; m]\n",
    "        end\n",
    "    end\n",
    "    \n",
    "    dq_p_union, p_hat_union = computeResetMap(x, all_m)\n",
    "    \n",
    "    active_idx = findall(z->z==true,all_m)\n",
    "    all_m_active = all_m[active_idx]\n",
    "    \n",
    "    for kk = 1:size(possibleModes, 1)\n",
    "        m = possibleModes[kk,:]\n",
    "        m_active = m[active_idx]\n",
    "        dq_p, p_hat = computeResetMap(x, m)\n",
    "        \n",
    "        if all(-p_hat.>=0) && all(-p_hat_union[m_active.!=all_m_active].<=0)\n",
    "            contactMode = m\n",
    "            break;\n",
    "        end\n",
    "    end\n",
    "    \n",
    "    return contactMode\n",
    "end"
   ]
  },
  {
   "cell_type": "code",
   "execution_count": 136,
   "id": "966c8ac3",
   "metadata": {},
   "outputs": [
    {
     "name": "stdout",
     "output_type": "stream",
     "text": [
      "Bool[0]\n",
      "Bool[1]\n",
      "Bool[0]\n"
     ]
    }
   ],
   "source": [
    "println(compute_IV([0;1;0;-1]))\n",
    "println(compute_IV([0;0;-1;-1]))\n",
    "println(compute_IV([0;1;-1;1]))"
   ]
  },
  {
   "cell_type": "code",
   "execution_count": 139,
   "id": "94260951",
   "metadata": {},
   "outputs": [
    {
     "data": {
      "text/plain": [
       "guard_conditions (generic function with 1 method)"
      ]
     },
     "execution_count": 139,
     "metadata": {},
     "output_type": "execute_result"
    }
   ],
   "source": [
    "function guard_conditions(x, contactMode)\n",
    "    q = x[1:2]\n",
    "    dq = x[3:4]\n",
    "    \n",
    "    a = compute_a(q)\n",
    "    a[contactMode .== true] .= 0.0\n",
    "    \n",
    "    λ_all = zeros(length(a))\n",
    "    \n",
    "    ddq, λ = solveEOM(x, contactMode)\n",
    "    \n",
    "    λ_all[contactMode .== true] = λ\n",
    "    \n",
    "    c = [a; λ]\n",
    "    \n",
    "    dir = [-ones(Int,length(a)); ones(Int,length(λ_all))]\n",
    "    \n",
    "    return c, dir\n",
    "end"
   ]
  },
  {
   "cell_type": "code",
   "execution_count": 145,
   "id": "8fdf0dd8",
   "metadata": {},
   "outputs": [
    {
     "data": {
      "text/plain": [
       "([0.0, -9.8], [-1, 1])"
      ]
     },
     "execution_count": 145,
     "metadata": {},
     "output_type": "execute_result"
    }
   ],
   "source": [
    "guard_conditions([0;0;0;1],[true])"
   ]
  },
  {
   "cell_type": "code",
   "execution_count": 146,
   "id": "4a3267d3",
   "metadata": {},
   "outputs": [
    {
     "data": {
      "text/plain": [
       "dynamics! (generic function with 1 method)"
      ]
     },
     "execution_count": 146,
     "metadata": {},
     "output_type": "execute_result"
    }
   ],
   "source": [
    "function dynamics!(dx, x, m, t)\n",
    "    # m: vector n, contact mode\n",
    "    q = x[1:2]\n",
    "    dq = x[3:4]\n",
    "    ddq, λ = solveEOM(x, m)\n",
    "    dx .= [dq; ddq]\n",
    "end"
   ]
  },
  {
   "cell_type": "code",
   "execution_count": 149,
   "id": "a4bb2b72",
   "metadata": {},
   "outputs": [
    {
     "data": {
      "text/plain": [
       "affect_neg! (generic function with 1 method)"
      ]
     },
     "execution_count": 149,
     "metadata": {},
     "output_type": "execute_result"
    }
   ],
   "source": [
    "function conditions(out, x, t, integrator)\n",
    "    contactMode = integrator.p\n",
    "    c, dir = guard_conditions(x, contactMode)\n",
    "    out .= c\n",
    "end\n",
    "\n",
    "function affect!(integrator, idx)\n",
    "    contactMode = integrator.p\n",
    "    x = integrator.u\n",
    "    c, dir = guard_conditions(x, contactMode)\n",
    "    \n",
    "    # only consider upcrossing forces and constraints values(FA comp)\n",
    "    # forces\n",
    "    if dir[idx] > 0\n",
    "        new_contactMode = compute_FA(x)\n",
    "        integrator.p .= new_contactMode\n",
    "    end\n",
    "    # constraints\n",
    "#     if dir[idx] < 0\n",
    "#         new_contactMode = contactMode\n",
    "#         new_contactMode[idx] = false\n",
    "#     end\n",
    "end\n",
    "\n",
    "function affect_neg!(integrator, idx)\n",
    "    contactMode = integrator.p\n",
    "    x = integrator.u\n",
    "    c, dir = guard_conditions(x, contactMode)\n",
    "    \n",
    "    # only consider down crossing constraint value(IV comp)\n",
    "    if dir[idx] < 0\n",
    "        new_contactMode = compute_IV(x)\n",
    "        dq_p, p_hat = computeResetMap(x, new_contactMode)\n",
    "        integrator.u .= [x[1:2]; dq_p]\n",
    "        integrator.p .= new_contactMode\n",
    "    end\n",
    "end"
   ]
  },
  {
   "cell_type": "code",
   "execution_count": 186,
   "id": "50a79091",
   "metadata": {},
   "outputs": [
    {
     "data": {
      "text/plain": [
       "retcode: Success\n",
       "Interpolation: specialized 4th order \"free\" interpolation\n",
       "t: 31-element Vector{Float64}:\n",
       " 0.0\n",
       " 0.00028970819746309184\n",
       " 0.0008030164482933246\n",
       " 0.001646948717520041\n",
       " 0.0029453776738481213\n",
       " 0.004842317891971796\n",
       " 0.007564400135632293\n",
       " 0.011384145609739355\n",
       " 0.016637352584220097\n",
       " 0.0237369587973726\n",
       " 0.03315040314485658\n",
       " 0.04531861956829398\n",
       " 0.060890186418935725\n",
       " ⋮\n",
       " 0.22448979591836749\n",
       " 0.2750717979211704\n",
       " 0.3796622900986997\n",
       " 0.5245401883132145\n",
       " 0.7286999060612243\n",
       " 1.011889738524467\n",
       " 1.4005008493805144\n",
       " 1.928973091284801\n",
       " 2.642484213558063\n",
       " 3.600414853501061\n",
       " 4.880969973533411\n",
       " 5.0\n",
       "u: 31-element Vector{Vector{Float64}}:\n",
       " [0.0, 0.0, 0.5, 1.1]\n",
       " [0.0001448540987315459, 0.00031826775609498226, 0.5, 1.0971608596648619]\n",
       " [0.0004015082241466622, 0.000880158399583132, 0.5, 1.0921304388067257]\n",
       " [0.0008234743587600203, 0.0017983526328891543, 0.5, 1.0838599025683038]\n",
       " [0.0014726888369240602, 0.003197406717989078, 0.5, 1.0711352987962885]\n",
       " [0.0024211589459858978, 0.005211654272591115, 0.5, 1.0525452846586765]\n",
       " [0.003782200067816146, 0.008040461417076946, 0.5, 1.0258688786708037]\n",
       " [0.005692072804869676, 0.011887526191520923, 0.5, 0.9884353730245545]\n",
       " [0.008318676292110047, 0.016944760487684993, 0.5, 0.9369539446746432]\n",
       " [0.011868479398686299, 0.02334978293366385, 0.5, 0.8673778037857487]\n",
       " [0.016575201572428287, 0.0310805922388763, 0.5, 0.7751260491804057]\n",
       " [0.022659309784146986, 0.03978697285520216, 0.5, 0.6558775282307192]\n",
       " [0.03044509320946786, 0.048811892530378855, 0.5, 0.5032761730944301]\n",
       " ⋮\n",
       " [0.11224489795918371, 2.2158075300797948e-18, 0.5, 0.0]\n",
       " [0.13753589896058516, 2.2158075300797948e-18, 0.5, 0.0]\n",
       " [0.18983114504934978, 2.2158075300797948e-18, 0.5, 0.0]\n",
       " [0.2622700941566071, 2.2158075300797948e-18, 0.5, 0.0]\n",
       " [0.36434995303061196, 2.2158075300797948e-18, 0.5, 0.0]\n",
       " [0.5059448692622333, 2.2158075300797948e-18, 0.5, 0.0]\n",
       " [0.700250424690257, 2.2158075300797948e-18, 0.5, 0.0]\n",
       " [0.9644865456424002, 2.2158075300797948e-18, 0.5, 0.0]\n",
       " [1.321242106779031, 2.2158075300797948e-18, 0.5, 0.0]\n",
       " [1.80020742675053, 2.2158075300797948e-18, 0.5, 0.0]\n",
       " [2.4404849867667044, 2.2158075300797948e-18, 0.5, 0.0]\n",
       " [2.499999999999999, 2.2158075300797948e-18, 0.5, 0.0]"
      ]
     },
     "execution_count": 186,
     "metadata": {},
     "output_type": "execute_result"
    }
   ],
   "source": [
    "tspan = (0.0, 5.0)\n",
    "callback_length = 2\n",
    "\n",
    "x0 = [0;0;0.5;1.1]\n",
    "initial_mode = [false]\n",
    "prob = ODEProblem(dynamics!, x0, tspan, initial_mode)\n",
    "cb = VectorContinuousCallback(conditions, affect!, affect_neg!, callback_length)\n",
    "sol = solve(prob, Tsit5(); callback = cb, abstol=1e-15,reltol=1e-15)"
   ]
  },
  {
   "cell_type": "code",
   "execution_count": 189,
   "id": "0c589a26",
   "metadata": {},
   "outputs": [
    {
     "name": "stderr",
     "output_type": "stream",
     "text": [
      "┌ Info: Saved animation to \n",
      "│   fn = /home/xianyi/study/16715robotsim/project/src/anim.gif\n",
      "└ @ Plots /home/xianyi/.julia/packages/Plots/AJMX6/src/animation.jl:114\n"
     ]
    },
    {
     "data": {
      "text/html": [
       "<img src=\"data:image/gif;base64,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\" />"
      ],
      "text/plain": [
       "Plots.AnimatedGif(\"/home/xianyi/study/16715robotsim/project/src/anim.gif\")"
      ]
     },
     "execution_count": 189,
     "metadata": {},
     "output_type": "execute_result"
    }
   ],
   "source": [
    "# animation \n",
    "n = length(sol.t)\n",
    "x = zeros(n)\n",
    "y = zeros(n)\n",
    "for k = 1:n\n",
    "    x[k] = sol.u[k][1]\n",
    "    y[k] = sol.u[k][2]\n",
    "end\n",
    "    \n",
    "plot([-10,5],[0,0], lw = 2, c=:orange, xlims=(-0.2,0.5), ylims=(-0.5,0.5))\n",
    "anim = @animate for i ∈ 1:n\n",
    "    \n",
    "    scatter!([x[i]], [y[i]],\n",
    "         m=:circle, c=:blue,\n",
    "         markersize=2, legend = false)\n",
    "    \n",
    "end\n",
    "gif(anim, \"anim.gif\", fps = 1/(tspan[2]/n))"
   ]
  },
  {
   "cell_type": "markdown",
   "id": "861016c7",
   "metadata": {},
   "source": [
    "Todo \n",
    "- set some values and test each function\n",
    "\n",
    "\n",
    "\n",
    "\n",
    "\n",
    "\n",
    "\n",
    "\n",
    "\n",
    "\n",
    "\n",
    "\n",
    "\n",
    "\n",
    "\n",
    "\n",
    "\n",
    "\n",
    "\n",
    "\n",
    "\n"
   ]
  }
 ],
 "metadata": {
  "kernelspec": {
   "display_name": "Julia 1.6.2",
   "language": "julia",
   "name": "julia-1.6"
  },
  "language_info": {
   "file_extension": ".jl",
   "mimetype": "application/julia",
   "name": "julia",
   "version": "1.6.2"
  }
 },
 "nbformat": 4,
 "nbformat_minor": 5
}
